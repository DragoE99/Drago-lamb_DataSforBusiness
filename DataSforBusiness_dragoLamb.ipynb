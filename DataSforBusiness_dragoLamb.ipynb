{
 "cells": [
  {
   "cell_type": "markdown",
   "id": "63779eaf",
   "metadata": {},
   "source": [
    "# Data science for budiness project\n",
    "This project is made by \n",
    "- Drago Emanuele\n",
    "- Lambrughi Achille\n",
    "\n",
    "The aim of this project is to retrive, clean, analyze and develop a machine learning model starting from some given dataset.\n",
    "\n",
    "The dataset considered are available at the following link:\n",
    "- https://www.dati.lombardia.it/Attivit-Produttive/Rapporti-di-lavoro-attivati/qbau-cyuc\n",
    "\n",
    "- https://www.dati.lombardia.it/Attivit-Produttive/Rapporti-di-lavoro-cessati/nwz3-p6vm\n",
    "\n",
    "- https://www.dati.lombardia.it/Attivit-Produttive/Rapporti-di-lavoro-prorogati/chng-cman\n",
    "\n",
    "- https://www.dati.lombardia.it/Attivit-Produttive/Rapporti-di-lavoro-trasformati/8dwx-jjag"
   ]
  },
  {
   "cell_type": "code",
   "execution_count": 1,
   "id": "57130c7a",
   "metadata": {},
   "outputs": [],
   "source": [
    "import numpy as np\n",
    "import pandas as pd\n",
    "import matplotlib as mpl, matplotlib.pyplot as plt\n",
    "from pathlib import PurePath"
   ]
  },
  {
   "cell_type": "code",
   "execution_count": 2,
   "id": "5bf6a9a4",
   "metadata": {},
   "outputs": [
    {
     "name": "stdout",
     "output_type": "stream",
     "text": [
      "<class 'pandas.core.frame.DataFrame'>\n",
      "RangeIndex: 9579794 entries, 0 to 9579793\n",
      "Data columns (total 9 columns):\n",
      " #   Column                     Dtype         \n",
      "---  ------                     -----         \n",
      " 0   DATA                       datetime64[ns]\n",
      " 1   GENERE                     object        \n",
      " 2   ETA                        int64         \n",
      " 3   SETTOREECONOMICODETTAGLIO  object        \n",
      " 4   TITOLOSTUDIO               object        \n",
      " 5   CONTRATTO                  object        \n",
      " 6   MODALITALAVORO             object        \n",
      " 7   PROVINCIAIMPRESA           object        \n",
      " 8   ITALIANO                   object        \n",
      "dtypes: datetime64[ns](1), int64(1), object(7)\n",
      "memory usage: 657.8+ MB\n",
      "<class 'pandas.core.frame.DataFrame'>\n",
      "RangeIndex: 3741394 entries, 0 to 3741393\n",
      "Data columns (total 9 columns):\n",
      " #   Column                     Dtype \n",
      "---  ------                     ----- \n",
      " 0   DATA                       object\n",
      " 1   GENERE                     object\n",
      " 2   ETA                        int64 \n",
      " 3   SETTOREECONOMICODETTAGLIO  object\n",
      " 4   TITOLOSTUDIO               object\n",
      " 5   CONTRATTO                  object\n",
      " 6   MODALITALAVORO             object\n",
      " 7   PROVINCIAIMPRESA           object\n",
      " 8   ITALIANO                   object\n",
      "dtypes: int64(1), object(8)\n",
      "memory usage: 256.9+ MB\n",
      "<class 'pandas.core.frame.DataFrame'>\n",
      "RangeIndex: 3413617 entries, 0 to 3413616\n",
      "Data columns (total 9 columns):\n",
      " #   Column                     Dtype         \n",
      "---  ------                     -----         \n",
      " 0   DATA                       datetime64[ns]\n",
      " 1   GENERE                     object        \n",
      " 2   ETA                        int64         \n",
      " 3   SETTOREECONOMICODETTAGLIO  object        \n",
      " 4   TITOLOSTUDIO               object        \n",
      " 5   CONTRATTO                  object        \n",
      " 6   MODALITALAVORO             object        \n",
      " 7   PROVINCIAIMPRESA           object        \n",
      " 8   ITALIANO                   object        \n",
      "dtypes: datetime64[ns](1), int64(1), object(7)\n",
      "memory usage: 234.4+ MB\n",
      "<class 'pandas.core.frame.DataFrame'>\n",
      "RangeIndex: 1975342 entries, 0 to 1975341\n",
      "Data columns (total 9 columns):\n",
      " #   Column                     Dtype         \n",
      "---  ------                     -----         \n",
      " 0   DATA                       datetime64[ns]\n",
      " 1   GENERE                     object        \n",
      " 2   ETA                        int64         \n",
      " 3   SETTOREECONOMICODETTAGLIO  object        \n",
      " 4   TITOLOSTUDIO               object        \n",
      " 5   CONTRATTO                  object        \n",
      " 6   MODALITALAVORO             object        \n",
      " 7   PROVINCIAIMPRESA           object        \n",
      " 8   ITALIANO                   object        \n",
      "dtypes: datetime64[ns](1), int64(1), object(7)\n",
      "memory usage: 135.6+ MB\n",
      "[None, None, None, None]\n"
     ]
    }
   ],
   "source": [
    "rap_lavoro_attivati = pd.read_csv(PurePath('dataset', 'Rapporti_di_lavoro_attivati.csv'),parse_dates=['DATA'])\n",
    "rap_lavoro_cessati = pd.read_csv(PurePath('dataset', 'Rapporti_di_lavoro_cessati.csv'),parse_dates=['DATA'])\n",
    "rap_lavoro_prorogati = pd.read_csv(PurePath('dataset', 'Rapporti_di_lavoro_prorogati.csv'),parse_dates=['DATA'])\n",
    "rap_lavoro_trasformati = pd.read_csv(PurePath('dataset', 'Rapporti_di_lavoro_trasformati.csv'),parse_dates=['DATA'])\n",
    "print([rap_lavoro_attivati.info(), rap_lavoro_cessati.info(),rap_lavoro_prorogati.info(),rap_lavoro_trasformati.info()])"
   ]
  },
  {
   "cell_type": "code",
   "execution_count": 3,
   "id": "8427bb8b",
   "metadata": {},
   "outputs": [
    {
     "data": {
      "text/plain": [
       "{'NON DEFINITO',\n",
       " 'TEMPO PARZIALE MISTO',\n",
       " 'TEMPO PARZIALE ORIZZONTALE',\n",
       " 'TEMPO PARZIALE VERTICALE',\n",
       " 'TEMPO PIENO',\n",
       " nan}"
      ]
     },
     "execution_count": 3,
     "metadata": {},
     "output_type": "execute_result"
    }
   ],
   "source": [
    "def series_to_set(column, source_df):\n",
    "    SET = set()\n",
    "    for elem in source_df[column]:\n",
    "        SET.add(elem)\n",
    "    return SET\n",
    "\n",
    "test_dataset = series_to_set('MODALITALAVORO', rap_lavoro_attivati)\n",
    "test_dataset"
   ]
  },
  {
   "cell_type": "markdown",
   "id": "467754b4",
   "metadata": {},
   "source": [
    "# Dataset analysis\n",
    "In this section will be analyzed the content of the datasets. The first group of datasets contain work relations started\\ended\\changed\\extended. Calling the `info()` method is possible to see that all dataset share the same columns that are:\n",
    "- DATA: date of the contract\n",
    "- GENERE: sex of teh person\n",
    "- ETA: age of the person\n",
    "- SETTOREECONOMICODETTAGLIO: category of work\n",
    "- TITOLOSTUDIO: level of education of the person\n",
    "- CONTRATTO: type of contract\n",
    "- MODALITALAVORO: work mode\n",
    "- PROVINCIAIMPRESA: province of the place of work?\n",
    "- ITALIANO: nationality of the person\n",
    "\n",
    "From this first look at the data is possible to see that the dataset `Rapporti_di_lavoro_attivati` is bigger than the other one and this can itroduce some sort of bias in specific type of analysis"
   ]
  },
  {
   "cell_type": "markdown",
   "id": "ad777886",
   "metadata": {},
   "source": [
    "### Changing data type\n",
    "Almost all columns of the dataset are type object, in the following part we will convert every column in an appropriate type.\n",
    "\n",
    "Starting from the column `DATA` that has been converted whilie importing the data from the csv a part for `Rapporti_di_lavoro_cessati.csv` that has not been converted and so it will be converted now.\n",
    "Then all the other column except for `ETA` will be converted to strings"
   ]
  },
  {
   "cell_type": "code",
   "execution_count": 4,
   "id": "35689fda",
   "metadata": {},
   "outputs": [],
   "source": [
    "rap_lavoro_cessati['DATA'] = pd.to_datetime(rap_lavoro_cessati['DATA'], errors='coerce')\n",
    "rap_lavoro_attivati[['GENERE','SETTOREECONOMICODETTAGLIO','TITOLOSTUDIO','CONTRATTO', 'MODALITALAVORO','PROVINCIAIMPRESA','ITALIANO']]=rap_lavoro_attivati[['GENERE','SETTOREECONOMICODETTAGLIO','TITOLOSTUDIO','CONTRATTO', 'MODALITALAVORO','PROVINCIAIMPRESA','ITALIANO']].astype('string')\n",
    "rap_lavoro_cessati[['GENERE','SETTOREECONOMICODETTAGLIO','TITOLOSTUDIO','CONTRATTO', 'MODALITALAVORO','PROVINCIAIMPRESA','ITALIANO']]=rap_lavoro_cessati[['GENERE','SETTOREECONOMICODETTAGLIO','TITOLOSTUDIO','CONTRATTO', 'MODALITALAVORO','PROVINCIAIMPRESA','ITALIANO']].astype('string')\n",
    "rap_lavoro_trasformati[['GENERE','SETTOREECONOMICODETTAGLIO','TITOLOSTUDIO','CONTRATTO', 'MODALITALAVORO','PROVINCIAIMPRESA','ITALIANO']]=rap_lavoro_trasformati[['GENERE','SETTOREECONOMICODETTAGLIO','TITOLOSTUDIO','CONTRATTO', 'MODALITALAVORO','PROVINCIAIMPRESA','ITALIANO']].astype('string')\n",
    "rap_lavoro_prorogati[['GENERE','SETTOREECONOMICODETTAGLIO','TITOLOSTUDIO','CONTRATTO', 'MODALITALAVORO','PROVINCIAIMPRESA','ITALIANO']]=rap_lavoro_prorogati[['GENERE','SETTOREECONOMICODETTAGLIO','TITOLOSTUDIO','CONTRATTO', 'MODALITALAVORO','PROVINCIAIMPRESA','ITALIANO']].astype('string')"
   ]
  },
  {
   "cell_type": "markdown",
   "id": "b274a6e8",
   "metadata": {},
   "source": [
    "as is possible to see now all the column have a specific data type"
   ]
  },
  {
   "cell_type": "code",
   "execution_count": 5,
   "id": "5a2881a0",
   "metadata": {},
   "outputs": [
    {
     "name": "stdout",
     "output_type": "stream",
     "text": [
      "<class 'pandas.core.frame.DataFrame'>\n",
      "RangeIndex: 9579794 entries, 0 to 9579793\n",
      "Data columns (total 9 columns):\n",
      " #   Column                     Dtype         \n",
      "---  ------                     -----         \n",
      " 0   DATA                       datetime64[ns]\n",
      " 1   GENERE                     string        \n",
      " 2   ETA                        int64         \n",
      " 3   SETTOREECONOMICODETTAGLIO  string        \n",
      " 4   TITOLOSTUDIO               string        \n",
      " 5   CONTRATTO                  string        \n",
      " 6   MODALITALAVORO             string        \n",
      " 7   PROVINCIAIMPRESA           string        \n",
      " 8   ITALIANO                   string        \n",
      "dtypes: datetime64[ns](1), int64(1), string(7)\n",
      "memory usage: 657.8 MB\n"
     ]
    }
   ],
   "source": [
    "rap_lavoro_attivati.info()"
   ]
  },
  {
   "cell_type": "markdown",
   "id": "92c18e84",
   "metadata": {},
   "source": [
    "### Searching wrong and null data\n",
    "Now we will look inside the data checking null or possibly wrong value, after those data will be corrected or deleted.\n",
    "First off we will find out how many null value there are in each column"
   ]
  },
  {
   "cell_type": "code",
   "execution_count": 6,
   "id": "a121c0a9",
   "metadata": {},
   "outputs": [
    {
     "name": "stdout",
     "output_type": "stream",
     "text": [
      "[DATA                              0\n",
      "GENERE                            0\n",
      "ETA                               0\n",
      "SETTOREECONOMICODETTAGLIO      2888\n",
      "TITOLOSTUDIO                    580\n",
      "CONTRATTO                         0\n",
      "MODALITALAVORO               440779\n",
      "PROVINCIAIMPRESA                  0\n",
      "ITALIANO                          0\n",
      "dtype: int64, DATA                            1\n",
      "GENERE                          0\n",
      "ETA                             0\n",
      "SETTOREECONOMICODETTAGLIO    1019\n",
      "TITOLOSTUDIO                  440\n",
      "CONTRATTO                       0\n",
      "MODALITALAVORO                  0\n",
      "PROVINCIAIMPRESA                0\n",
      "ITALIANO                        0\n",
      "dtype: int64, DATA                            0\n",
      "GENERE                          0\n",
      "ETA                             0\n",
      "SETTOREECONOMICODETTAGLIO    2291\n",
      "TITOLOSTUDIO                  160\n",
      "CONTRATTO                       0\n",
      "MODALITALAVORO                  0\n",
      "PROVINCIAIMPRESA                0\n",
      "ITALIANO                        0\n",
      "dtype: int64, DATA                           0\n",
      "GENERE                         0\n",
      "ETA                            0\n",
      "SETTOREECONOMICODETTAGLIO    777\n",
      "TITOLOSTUDIO                 160\n",
      "CONTRATTO                      0\n",
      "MODALITALAVORO                 0\n",
      "PROVINCIAIMPRESA               0\n",
      "ITALIANO                       0\n",
      "dtype: int64]\n"
     ]
    }
   ],
   "source": [
    "print([rap_lavoro_attivati.isnull().sum(),rap_lavoro_cessati.isnull().sum(),rap_lavoro_prorogati.isnull().sum(),rap_lavoro_trasformati.isnull().sum()])"
   ]
  },
  {
   "cell_type": "markdown",
   "id": "a83ebd6a",
   "metadata": {},
   "source": [
    "From this first look is possible to see that a big part of value is missing from the column `MODALITALAVORO` of the dataset `Rapporti_di_lavoro_attivati` these value needs to be replaced while the other could be simply deleted because they represent a small part of the dataset.\n",
    "\n",
    "But before proceding now will be checked the actual value of some columnn to see if there are some non plausible data.\n",
    "Starting from the column `DATA`"
   ]
  },
  {
   "cell_type": "code",
   "execution_count": 7,
   "id": "f68a6b25",
   "metadata": {},
   "outputs": [
    {
     "data": {
      "text/plain": [
       "count                          9579794\n",
       "mean     2015-08-22 08:39:17.195402496\n",
       "min                1973-02-01 00:00:00\n",
       "25%                2012-06-07 00:00:00\n",
       "50%                2015-10-08 00:00:00\n",
       "75%                2018-09-07 00:00:00\n",
       "max                2201-06-09 00:00:00\n",
       "Name: DATA, dtype: object"
      ]
     },
     "execution_count": 7,
     "metadata": {},
     "output_type": "execute_result"
    }
   ],
   "source": [
    "rap_lavoro_attivati['DATA'].describe(datetime_is_numeric=True)"
   ]
  },
  {
   "cell_type": "code",
   "execution_count": 8,
   "id": "3a7b113b",
   "metadata": {},
   "outputs": [],
   "source": [
    "rap_lavoro_attivati = rap_lavoro_attivati[rap_lavoro_attivati['DATA'] < np.datetime64('2022-02-20')]"
   ]
  },
  {
   "cell_type": "code",
   "execution_count": 9,
   "id": "61904765",
   "metadata": {},
   "outputs": [
    {
     "data": {
      "text/plain": [
       "count                          9579793\n",
       "mean     2015-08-22 08:29:05.161381888\n",
       "min                1973-02-01 00:00:00\n",
       "25%                2012-06-07 00:00:00\n",
       "50%                2015-10-08 00:00:00\n",
       "75%                2018-09-07 00:00:00\n",
       "max                2021-10-06 00:00:00\n",
       "Name: DATA, dtype: object"
      ]
     },
     "execution_count": 9,
     "metadata": {},
     "output_type": "execute_result"
    }
   ],
   "source": [
    "rap_lavoro_attivati['DATA'].describe(datetime_is_numeric=True)"
   ]
  },
  {
   "cell_type": "code",
   "execution_count": 10,
   "id": "65366447",
   "metadata": {},
   "outputs": [
    {
     "data": {
      "text/plain": [
       "<bound method NDFrame._add_numeric_operations.<locals>.max of 0         2020-09-05\n",
       "1         2019-12-07\n",
       "2         2013-05-06\n",
       "3         2010-12-03\n",
       "4         2021-06-04\n",
       "             ...    \n",
       "9579789   2020-01-03\n",
       "9579790   2010-06-09\n",
       "9579791   2021-06-11\n",
       "9579792   2010-02-02\n",
       "9579793   2012-05-07\n",
       "Name: DATA, Length: 9579793, dtype: datetime64[ns]>"
      ]
     },
     "execution_count": 10,
     "metadata": {},
     "output_type": "execute_result"
    }
   ],
   "source": [
    "rap_lavoro_attivati['DATA'].max"
   ]
  },
  {
   "cell_type": "code",
   "execution_count": 11,
   "id": "d783c720",
   "metadata": {},
   "outputs": [
    {
     "data": {
      "text/plain": [
       "1225"
      ]
     },
     "execution_count": 11,
     "metadata": {},
     "output_type": "execute_result"
    }
   ],
   "source": [
    "settore_economico = series_to_set('SETTOREECONOMICODETTAGLIO', rap_lavoro_attivati)\n",
    "len(settore_economico)"
   ]
  },
  {
   "cell_type": "markdown",
   "id": "438adf09",
   "metadata": {},
   "source": [
    "Since the `SETTOREECONOMICODETTAGLIO` column has `1125` different values belonging to it, it cannot be easily exploited to analyze data (e.g. dividing them into categories). Furthermore, there are `2888` null values in this column that can make the analysis of this feature even tougher. Considering this two facts, we can derive that dropping the whole column is more convenient than keeping it, since it introduce noise. "
   ]
  },
  {
   "cell_type": "code",
   "execution_count": 12,
   "id": "35c26d14",
   "metadata": {},
   "outputs": [
    {
     "data": {
      "text/html": [
       "<div>\n",
       "<style scoped>\n",
       "    .dataframe tbody tr th:only-of-type {\n",
       "        vertical-align: middle;\n",
       "    }\n",
       "\n",
       "    .dataframe tbody tr th {\n",
       "        vertical-align: top;\n",
       "    }\n",
       "\n",
       "    .dataframe thead th {\n",
       "        text-align: right;\n",
       "    }\n",
       "</style>\n",
       "<table border=\"1\" class=\"dataframe\">\n",
       "  <thead>\n",
       "    <tr style=\"text-align: right;\">\n",
       "      <th></th>\n",
       "      <th>DATA</th>\n",
       "      <th>GENERE</th>\n",
       "      <th>ETA</th>\n",
       "      <th>SETTOREECONOMICODETTAGLIO</th>\n",
       "      <th>TITOLOSTUDIO</th>\n",
       "      <th>CONTRATTO</th>\n",
       "      <th>MODALITALAVORO</th>\n",
       "      <th>PROVINCIAIMPRESA</th>\n",
       "      <th>ITALIANO</th>\n",
       "    </tr>\n",
       "  </thead>\n",
       "  <tbody>\n",
       "    <tr>\n",
       "      <th>0</th>\n",
       "      <td>2020-09-05</td>\n",
       "      <td>F</td>\n",
       "      <td>60</td>\n",
       "      <td>Attività di famiglie e convivenze come datori ...</td>\n",
       "      <td>NESSUN TITOLO DI STUDIO</td>\n",
       "      <td>LAVORO DOMESTICO</td>\n",
       "      <td>TEMPO PIENO</td>\n",
       "      <td>BERGAMO</td>\n",
       "      <td>UCRAINA</td>\n",
       "    </tr>\n",
       "    <tr>\n",
       "      <th>1</th>\n",
       "      <td>2019-12-07</td>\n",
       "      <td>M</td>\n",
       "      <td>43</td>\n",
       "      <td>Gestioni di funicolari, ski-lift e seggiovie s...</td>\n",
       "      <td>LICENZA MEDIA</td>\n",
       "      <td>LAVORO A TEMPO DETERMINATO</td>\n",
       "      <td>TEMPO PIENO</td>\n",
       "      <td>BERGAMO</td>\n",
       "      <td>ITALIA</td>\n",
       "    </tr>\n",
       "    <tr>\n",
       "      <th>2</th>\n",
       "      <td>2013-05-06</td>\n",
       "      <td>F</td>\n",
       "      <td>20</td>\n",
       "      <td>Fabbricazione di altre apparecchiature elettri...</td>\n",
       "      <td>LICENZA MEDIA</td>\n",
       "      <td>APPRENDISTATO PROFESSIONALIZZANTE O CONTRATTO ...</td>\n",
       "      <td>TEMPO PIENO</td>\n",
       "      <td>BERGAMO</td>\n",
       "      <td>ITALIA</td>\n",
       "    </tr>\n",
       "    <tr>\n",
       "      <th>3</th>\n",
       "      <td>2010-12-03</td>\n",
       "      <td>F</td>\n",
       "      <td>28</td>\n",
       "      <td>Alberghi</td>\n",
       "      <td>DIPLOMA DI ISTRUZIONE SECONDARIA SUPERIORE  CH...</td>\n",
       "      <td>LAVORO INTERMITTENTE A TEMPO DETERMINATO</td>\n",
       "      <td>NON DEFINITO</td>\n",
       "      <td>BERGAMO</td>\n",
       "      <td>ITALIA</td>\n",
       "    </tr>\n",
       "    <tr>\n",
       "      <th>4</th>\n",
       "      <td>2021-06-04</td>\n",
       "      <td>F</td>\n",
       "      <td>49</td>\n",
       "      <td>Rifugi di montagna</td>\n",
       "      <td>LICENZA MEDIA</td>\n",
       "      <td>LAVORO INTERMITTENTE</td>\n",
       "      <td>NON DEFINITO</td>\n",
       "      <td>BERGAMO</td>\n",
       "      <td>ITALIA</td>\n",
       "    </tr>\n",
       "  </tbody>\n",
       "</table>\n",
       "</div>"
      ],
      "text/plain": [
       "        DATA GENERE  ETA                          SETTOREECONOMICODETTAGLIO  \\\n",
       "0 2020-09-05      F   60  Attività di famiglie e convivenze come datori ...   \n",
       "1 2019-12-07      M   43  Gestioni di funicolari, ski-lift e seggiovie s...   \n",
       "2 2013-05-06      F   20  Fabbricazione di altre apparecchiature elettri...   \n",
       "3 2010-12-03      F   28                                           Alberghi   \n",
       "4 2021-06-04      F   49                                 Rifugi di montagna   \n",
       "\n",
       "                                        TITOLOSTUDIO  \\\n",
       "0                            NESSUN TITOLO DI STUDIO   \n",
       "1                                      LICENZA MEDIA   \n",
       "2                                      LICENZA MEDIA   \n",
       "3  DIPLOMA DI ISTRUZIONE SECONDARIA SUPERIORE  CH...   \n",
       "4                                      LICENZA MEDIA   \n",
       "\n",
       "                                           CONTRATTO MODALITALAVORO  \\\n",
       "0                                   LAVORO DOMESTICO    TEMPO PIENO   \n",
       "1                         LAVORO A TEMPO DETERMINATO    TEMPO PIENO   \n",
       "2  APPRENDISTATO PROFESSIONALIZZANTE O CONTRATTO ...    TEMPO PIENO   \n",
       "3           LAVORO INTERMITTENTE A TEMPO DETERMINATO   NON DEFINITO   \n",
       "4                               LAVORO INTERMITTENTE   NON DEFINITO   \n",
       "\n",
       "  PROVINCIAIMPRESA ITALIANO  \n",
       "0          BERGAMO  UCRAINA  \n",
       "1          BERGAMO   ITALIA  \n",
       "2          BERGAMO   ITALIA  \n",
       "3          BERGAMO   ITALIA  \n",
       "4          BERGAMO   ITALIA  "
      ]
     },
     "execution_count": 12,
     "metadata": {},
     "output_type": "execute_result"
    }
   ],
   "source": [
    "rap_lavoro_attivati.head()"
   ]
  },
  {
   "cell_type": "markdown",
   "id": "52d1fa2f",
   "metadata": {},
   "source": [
    "In the `rap_lavoro_attivati` there are a lot of null values for the column `MODALITALAVORO`, removing the rows would reduce the set of data we are analysing. Hence, we'd rather prefer to fill those null values with a suitable values. "
   ]
  },
  {
   "cell_type": "code",
   "execution_count": 13,
   "id": "87a63312",
   "metadata": {},
   "outputs": [
    {
     "data": {
      "text/plain": [
       "{<NA>,\n",
       " 'NON DEFINITO',\n",
       " 'TEMPO PARZIALE MISTO',\n",
       " 'TEMPO PARZIALE ORIZZONTALE',\n",
       " 'TEMPO PARZIALE VERTICALE',\n",
       " 'TEMPO PIENO'}"
      ]
     },
     "execution_count": 13,
     "metadata": {},
     "output_type": "execute_result"
    }
   ],
   "source": [
    "mod_lavoro = series_to_set('MODALITALAVORO', rap_lavoro_attivati)\n",
    "mod_lavoro"
   ]
  },
  {
   "cell_type": "markdown",
   "id": "03d32ffc",
   "metadata": {},
   "source": [
    "The value `NON DEFINITO` can be used to fill the na, since that won't introduce much bias, differently from the other available values. "
   ]
  },
  {
   "cell_type": "code",
   "execution_count": 14,
   "id": "9e6fb2ba",
   "metadata": {},
   "outputs": [
    {
     "data": {
      "text/plain": [
       "DATA                0\n",
       "GENERE              0\n",
       "ETA                 0\n",
       "TITOLOSTUDIO        0\n",
       "CONTRATTO           0\n",
       "MODALITALAVORO      0\n",
       "PROVINCIAIMPRESA    0\n",
       "ITALIANO            0\n",
       "dtype: int64"
      ]
     },
     "execution_count": 14,
     "metadata": {},
     "output_type": "execute_result"
    }
   ],
   "source": [
    "def clean(df):\n",
    "    df.drop('SETTOREECONOMICODETTAGLIO', axis = 1, inplace = True)\n",
    "    df['MODALITALAVORO'] = df['MODALITALAVORO'].fillna('NON DEFINITO')\n",
    "    df.dropna(axis = 0, inplace = True)\n",
    "    \n",
    "\n",
    "clean(rap_lavoro_attivati)\n",
    "rap_lavoro_attivati.isnull().sum()"
   ]
  },
  {
   "cell_type": "markdown",
   "id": "5776970d",
   "metadata": {},
   "source": [
    "A similar analysis can be made with the other three Dataframes `rap_lavoro_cessati`, `rap_lavoro_prorogati` and `rap_lavoro_trasformati`"
   ]
  },
  {
   "cell_type": "code",
   "execution_count": 15,
   "id": "dcb0f4ed",
   "metadata": {},
   "outputs": [],
   "source": [
    "clean(rap_lavoro_cessati)\n",
    "clean(rap_lavoro_prorogati)\n",
    "clean(rap_lavoro_trasformati)"
   ]
  },
  {
   "cell_type": "markdown",
   "id": "b2536b2d",
   "metadata": {},
   "source": [
    "#### Working on column `DATA`\n",
    "In this section we will analyze in more detail the column `DATA` and adjust the data accordingly.\n",
    "The first step is to group the column by year and count how many contract are activated per year"
   ]
  },
  {
   "cell_type": "code",
   "execution_count": 16,
   "id": "6dec156b",
   "metadata": {},
   "outputs": [
    {
     "name": "stdout",
     "output_type": "stream",
     "text": [
      "DATA\n",
      "1973-12-31         1\n",
      "1974-12-31         1\n",
      "1975-12-31         0\n",
      "1976-12-31         1\n",
      "1977-12-31         0\n",
      "1978-12-31         2\n",
      "1979-12-31         1\n",
      "1980-12-31         1\n",
      "1981-12-31         1\n",
      "1982-12-31         1\n",
      "1983-12-31         0\n",
      "1984-12-31         0\n",
      "1985-12-31         0\n",
      "1986-12-31         0\n",
      "1987-12-31         0\n",
      "1988-12-31         1\n",
      "1989-12-31         0\n",
      "1990-12-31         0\n",
      "1991-12-31         0\n",
      "1992-12-31         0\n",
      "1993-12-31         0\n",
      "1994-12-31         0\n",
      "1995-12-31         0\n",
      "1996-12-31         1\n",
      "1997-12-31         2\n",
      "1998-12-31         0\n",
      "1999-12-31         1\n",
      "2000-12-31         0\n",
      "2001-12-31        38\n",
      "2002-12-31         0\n",
      "2003-12-31         2\n",
      "2004-12-31         2\n",
      "2005-12-31         1\n",
      "2006-12-31         3\n",
      "2007-12-31         6\n",
      "2008-12-31      1590\n",
      "2009-12-31    397351\n",
      "2010-12-31    792751\n",
      "2011-12-31    858670\n",
      "2012-12-31    763733\n",
      "2013-12-31    673152\n",
      "2014-12-31    689300\n",
      "2015-12-31    757895\n",
      "2016-12-31    761881\n",
      "2017-12-31    847079\n",
      "2018-12-31    899082\n",
      "2019-12-31    874079\n",
      "2020-12-31    640133\n",
      "2021-12-31    622451\n",
      "Freq: A-DEC, Name: DATA, dtype: int64\n"
     ]
    }
   ],
   "source": [
    "print(rap_lavoro_attivati.groupby(pd.Grouper(key='DATA', freq='Y'))['DATA'].count())"
   ]
  },
  {
   "cell_type": "markdown",
   "id": "197ea8d6",
   "metadata": {},
   "source": [
    "as is possible to see meany of the value have date between 2009 and 2022, so to have a more significant set of data we will remove all the row with date previous to 2009"
   ]
  },
  {
   "cell_type": "code",
   "execution_count": 17,
   "id": "63eb301e",
   "metadata": {},
   "outputs": [],
   "source": [
    "rap_lavoro_attivati = rap_lavoro_attivati[(rap_lavoro_attivati[\"DATA\"] >= '2009')]\n",
    "attivatiTemp = rap_lavoro_attivati[(rap_lavoro_attivati[\"DATA\"] >= '2009')]"
   ]
  },
  {
   "cell_type": "code",
   "execution_count": 18,
   "id": "99ef8b4a",
   "metadata": {},
   "outputs": [
    {
     "name": "stdout",
     "output_type": "stream",
     "text": [
      "DATA\n",
      "2009-12-31    397351\n",
      "2010-12-31    792751\n",
      "2011-12-31    858670\n",
      "2012-12-31    763733\n",
      "2013-12-31    673152\n",
      "2014-12-31    689300\n",
      "2015-12-31    757895\n",
      "2016-12-31    761881\n",
      "2017-12-31    847079\n",
      "2018-12-31    899082\n",
      "2019-12-31    874079\n",
      "2020-12-31    640133\n",
      "2021-12-31    622451\n",
      "Freq: A-DEC, Name: DATA, dtype: int64\n"
     ]
    }
   ],
   "source": [
    "print(attivatiTemp.groupby(pd.Grouper(key='DATA', freq='Y'))['DATA'].count())"
   ]
  },
  {
   "cell_type": "markdown",
   "id": "a5b9d260",
   "metadata": {},
   "source": [
    "With this we can see how many contract have been activated in the last few years in the Lombardy region. But before that we apply the same changes to the other datast and after that we can compare the result"
   ]
  },
  {
   "cell_type": "code",
   "execution_count": 19,
   "id": "ae4372a7",
   "metadata": {},
   "outputs": [],
   "source": [
    "rap_lavoro_cessati = rap_lavoro_cessati[(rap_lavoro_cessati[\"DATA\"] >= '2009')]\n",
    "rap_lavoro_trasformati = rap_lavoro_trasformati[(rap_lavoro_trasformati[\"DATA\"] >= '2009')]\n",
    "rap_lavoro_prorogati = rap_lavoro_prorogati[(rap_lavoro_prorogati[\"DATA\"] >= '2009')]\n",
    "cessatiTemp = rap_lavoro_cessati[(rap_lavoro_cessati[\"DATA\"] >= '2009')]\n",
    "trasformatiTemp = rap_lavoro_trasformati[(rap_lavoro_trasformati[\"DATA\"] >= '2009')]\n",
    "prorogatiTemp = rap_lavoro_prorogati[(rap_lavoro_prorogati[\"DATA\"] >= '2009')]"
   ]
  },
  {
   "cell_type": "code",
   "execution_count": 20,
   "id": "9bc76df7",
   "metadata": {},
   "outputs": [
    {
     "data": {
      "image/png": "[encoded data removed]",
      "text/plain": [
       "<Figure size 432x288 with 1 Axes>"
      ]
     },
     "metadata": {
      "needs_background": "light"
     },
     "output_type": "display_data"
    }
   ],
   "source": [
    "attivatiTemp.groupby(pd.Grouper(key='DATA', freq='Y'))['DATA'].count().plot(label=\"attivati\")\n",
    "cessatiTemp.groupby(pd.Grouper(key='DATA', freq='Y'))['DATA'].count().plot(label=\"cessati\")\n",
    "prorogatiTemp.groupby(pd.Grouper(key='DATA', freq='Y'))['DATA'].count().plot(label=\"prorogati\")\n",
    "trasformatiTemp.groupby(pd.Grouper(key='DATA', freq='Y'))['DATA'].count().plot(label=\"trasformati\")\n",
    "plt.legend()\n",
    "plt.show()"
   ]
  },
  {
   "cell_type": "markdown",
   "id": "224f3489",
   "metadata": {},
   "source": [
    "is possible to see that *attivati* and *cessati*  have a simila behavior but in a different scale while *trasformati* and *prorogati* differs from the previous but have some similarity between them."
   ]
  },
  {
   "cell_type": "code",
   "execution_count": 21,
   "id": "a8ae6432",
   "metadata": {},
   "outputs": [
    {
     "data": {
      "image/png": "[encoded data removed]",
      "text/plain": [
       "<Figure size 1200x2400 with 4 Axes>"
      ]
     },
     "metadata": {},
     "output_type": "display_data"
    }
   ],
   "source": [
    "m_to_f_rationA = rap_lavoro_attivati.GENERE.value_counts()\n",
    "m_to_f_rationC = rap_lavoro_cessati.GENERE.value_counts()\n",
    "m_to_f_rationT = rap_lavoro_trasformati.GENERE.value_counts()\n",
    "m_to_f_rationP = rap_lavoro_prorogati.GENERE.value_counts()\n",
    "\n",
    "xaxisA = m_to_f_rationA.index\n",
    "valueA = m_to_f_rationA.values\n",
    "\n",
    "xaxisC = m_to_f_rationC.index\n",
    "valueC = m_to_f_rationC.values\n",
    "\n",
    "xaxisT = m_to_f_rationT.index\n",
    "valueT = m_to_f_rationT.values\n",
    "\n",
    "xaxisP = m_to_f_rationP.index\n",
    "valueP = m_to_f_rationP.values\n",
    "\n",
    "\n",
    "fig1, axis = plt.subplots(4, constrained_layout=True)\n",
    "fig1.dpi = 200\n",
    "fig1.set_figheight(12)\n",
    "\n",
    "#Attivati male to female Graph\n",
    "axis[0].pie(valueA, labels=xaxisA, autopct='%1.1f%%', startangle=90)\n",
    "axis[0].axis('equal')  # Equal aspect ratio ensures that pie is drawn as a circle.\n",
    "\n",
    "#Cessati graph\n",
    "axis[1].pie(valueC, labels=xaxisC, autopct='%1.1f%%', startangle=90)\n",
    "axis[1].axis('equal')  # Equal aspect ratio ensures that pie is drawn as a circle.\n",
    "\n",
    "#Trasformati graph\n",
    "axis[2].pie(valueT, labels=xaxisT, autopct='%1.1f%%', startangle=90)\n",
    "axis[2].axis('equal')  # Equal aspect ratio ensures that pie is drawn as a circle.\n",
    "\n",
    "#Proprogati graph\n",
    "axis[3].pie(valueP, labels=xaxisP, autopct='%1.1f%%', startangle=90)\n",
    "axis[3].axis('equal')  # Equal aspect ratio ensures that pie is drawn as a circle.\n",
    "plt.show()"
   ]
  },
  {
   "cell_type": "markdown",
   "id": "b59945ac",
   "metadata": {},
   "source": [
    "from these graphs we can say that probably there are more male than female in the popoulation"
   ]
  },
  {
   "cell_type": "markdown",
   "id": "96bcfec9",
   "metadata": {},
   "source": [
    "## Introducing another dataset\n",
    "This dataset contain the level of education for age referred to the region lombardy from the year 2018 to 2020.The educational level  are coded in teh following way:\n",
    "- NED = nessun titolo di studio\n",
    "- IL =  analfabeti\n",
    "- LBNA = analfabeti privi di titolo di studio\n",
    "- PSE = licenza di scuola elementare\n",
    "- LSE = licenza media o avviamento professionale (conseguito non oltre l'anno 1965)/ Diploma di istruzione secondaria di I grado\n",
    "- USE_IF = Diploma di istruzione secondaria di II grado o di qualifica professionale (corso di 3-4 anni) compresi IFTS\n",
    "- BL = Diploma tecnico superiore ITS o titolo di studio terziario di primo livello\n",
    "- ML_RDD = titolo di studio terziario di secondo livello e dottorato di ricerca\n",
    "- ML = Titolo di studio terziario di secondo livello\n",
    "- RDD = Dottorato di ricerca/diploma accademico di formazione alla ricerca\n",
    "- ALL = totale"
   ]
  },
  {
   "cell_type": "code",
   "execution_count": 92,
   "id": "e329278f",
   "metadata": {
    "scrolled": true
   },
   "outputs": [
    {
     "data": {
      "text/html": [
       "<div>\n",
       "<style scoped>\n",
       "    .dataframe tbody tr th:only-of-type {\n",
       "        vertical-align: middle;\n",
       "    }\n",
       "\n",
       "    .dataframe tbody tr th {\n",
       "        vertical-align: top;\n",
       "    }\n",
       "\n",
       "    .dataframe thead th {\n",
       "        text-align: right;\n",
       "    }\n",
       "</style>\n",
       "<table border=\"1\" class=\"dataframe\">\n",
       "  <thead>\n",
       "    <tr style=\"text-align: right;\">\n",
       "      <th></th>\n",
       "      <th>DATAFLOW</th>\n",
       "      <th>FREQ</th>\n",
       "      <th>REF_AREA</th>\n",
       "      <th>INDICATOR</th>\n",
       "      <th>GENDER</th>\n",
       "      <th>AGE_NOCLASS</th>\n",
       "      <th>EDU_ATTAIN</th>\n",
       "      <th>TIME_PERIOD</th>\n",
       "      <th>OBS_VALUE</th>\n",
       "      <th>OBS_STATUS</th>\n",
       "      <th>NOTE_DS</th>\n",
       "      <th>NOTE_REF_AREA</th>\n",
       "      <th>NOTE_INDICATOR</th>\n",
       "      <th>NOTE_GENDER</th>\n",
       "      <th>NOTE_AGE_NOCLASS</th>\n",
       "      <th>NOTE_CITIZENSHIP</th>\n",
       "      <th>NOTE_EDU_ATTAIN</th>\n",
       "      <th>NOTE_CUR_ACT_STAT</th>\n",
       "      <th>NOTE_LOC_DEST</th>\n",
       "      <th>NOTE_REAS_COMMUTING</th>\n",
       "    </tr>\n",
       "  </thead>\n",
       "  <tbody>\n",
       "    <tr>\n",
       "      <th>0</th>\n",
       "      <td>IT1:DF_DCSS_ISTR_LAV_PEN_2_REG_91_ITC4(1.0)</td>\n",
       "      <td>A</td>\n",
       "      <td>012001</td>\n",
       "      <td>RESPOP_AV</td>\n",
       "      <td>F</td>\n",
       "      <td>Y_GE65</td>\n",
       "      <td>ALL</td>\n",
       "      <td>2018</td>\n",
       "      <td>54</td>\n",
       "      <td>NaN</td>\n",
       "      <td>NaN</td>\n",
       "      <td>NaN</td>\n",
       "      <td>NaN</td>\n",
       "      <td>NaN</td>\n",
       "      <td>NaN</td>\n",
       "      <td>NaN</td>\n",
       "      <td>ALL_N1</td>\n",
       "      <td>99_N1</td>\n",
       "      <td>NaN</td>\n",
       "      <td>NaN</td>\n",
       "    </tr>\n",
       "    <tr>\n",
       "      <th>1</th>\n",
       "      <td>IT1:DF_DCSS_ISTR_LAV_PEN_2_REG_91_ITC4(1.0)</td>\n",
       "      <td>A</td>\n",
       "      <td>012001</td>\n",
       "      <td>RESPOP_AV</td>\n",
       "      <td>F</td>\n",
       "      <td>Y_GE65</td>\n",
       "      <td>ALL</td>\n",
       "      <td>2019</td>\n",
       "      <td>59</td>\n",
       "      <td>NaN</td>\n",
       "      <td>NaN</td>\n",
       "      <td>NaN</td>\n",
       "      <td>NaN</td>\n",
       "      <td>NaN</td>\n",
       "      <td>NaN</td>\n",
       "      <td>NaN</td>\n",
       "      <td>ALL_N1</td>\n",
       "      <td>99_N1</td>\n",
       "      <td>NaN</td>\n",
       "      <td>NaN</td>\n",
       "    </tr>\n",
       "    <tr>\n",
       "      <th>2</th>\n",
       "      <td>IT1:DF_DCSS_ISTR_LAV_PEN_2_REG_91_ITC4(1.0)</td>\n",
       "      <td>A</td>\n",
       "      <td>012001</td>\n",
       "      <td>RESPOP_AV</td>\n",
       "      <td>F</td>\n",
       "      <td>Y_GE65</td>\n",
       "      <td>ALL</td>\n",
       "      <td>2020</td>\n",
       "      <td>63</td>\n",
       "      <td>NaN</td>\n",
       "      <td>NaN</td>\n",
       "      <td>NaN</td>\n",
       "      <td>NaN</td>\n",
       "      <td>NaN</td>\n",
       "      <td>NaN</td>\n",
       "      <td>NaN</td>\n",
       "      <td>ALL_N1</td>\n",
       "      <td>99_N1</td>\n",
       "      <td>NaN</td>\n",
       "      <td>NaN</td>\n",
       "    </tr>\n",
       "    <tr>\n",
       "      <th>3</th>\n",
       "      <td>IT1:DF_DCSS_ISTR_LAV_PEN_2_REG_91_ITC4(1.0)</td>\n",
       "      <td>A</td>\n",
       "      <td>012001</td>\n",
       "      <td>RESPOP_AV</td>\n",
       "      <td>F</td>\n",
       "      <td>Y_GE65</td>\n",
       "      <td>BL</td>\n",
       "      <td>2018</td>\n",
       "      <td>3</td>\n",
       "      <td>NaN</td>\n",
       "      <td>NaN</td>\n",
       "      <td>NaN</td>\n",
       "      <td>NaN</td>\n",
       "      <td>NaN</td>\n",
       "      <td>NaN</td>\n",
       "      <td>NaN</td>\n",
       "      <td>BL_N1</td>\n",
       "      <td>99_N1</td>\n",
       "      <td>NaN</td>\n",
       "      <td>NaN</td>\n",
       "    </tr>\n",
       "    <tr>\n",
       "      <th>4</th>\n",
       "      <td>IT1:DF_DCSS_ISTR_LAV_PEN_2_REG_91_ITC4(1.0)</td>\n",
       "      <td>A</td>\n",
       "      <td>012001</td>\n",
       "      <td>RESPOP_AV</td>\n",
       "      <td>F</td>\n",
       "      <td>Y_GE65</td>\n",
       "      <td>BL</td>\n",
       "      <td>2019</td>\n",
       "      <td>3</td>\n",
       "      <td>NaN</td>\n",
       "      <td>NaN</td>\n",
       "      <td>NaN</td>\n",
       "      <td>NaN</td>\n",
       "      <td>NaN</td>\n",
       "      <td>NaN</td>\n",
       "      <td>NaN</td>\n",
       "      <td>BL_N1</td>\n",
       "      <td>99_N1</td>\n",
       "      <td>NaN</td>\n",
       "      <td>NaN</td>\n",
       "    </tr>\n",
       "  </tbody>\n",
       "</table>\n",
       "</div>"
      ],
      "text/plain": [
       "                                      DATAFLOW FREQ REF_AREA  INDICATOR  \\\n",
       "0  IT1:DF_DCSS_ISTR_LAV_PEN_2_REG_91_ITC4(1.0)    A   012001  RESPOP_AV   \n",
       "1  IT1:DF_DCSS_ISTR_LAV_PEN_2_REG_91_ITC4(1.0)    A   012001  RESPOP_AV   \n",
       "2  IT1:DF_DCSS_ISTR_LAV_PEN_2_REG_91_ITC4(1.0)    A   012001  RESPOP_AV   \n",
       "3  IT1:DF_DCSS_ISTR_LAV_PEN_2_REG_91_ITC4(1.0)    A   012001  RESPOP_AV   \n",
       "4  IT1:DF_DCSS_ISTR_LAV_PEN_2_REG_91_ITC4(1.0)    A   012001  RESPOP_AV   \n",
       "\n",
       "  GENDER AGE_NOCLASS EDU_ATTAIN  TIME_PERIOD  OBS_VALUE  OBS_STATUS  NOTE_DS  \\\n",
       "0      F      Y_GE65        ALL         2018         54         NaN      NaN   \n",
       "1      F      Y_GE65        ALL         2019         59         NaN      NaN   \n",
       "2      F      Y_GE65        ALL         2020         63         NaN      NaN   \n",
       "3      F      Y_GE65         BL         2018          3         NaN      NaN   \n",
       "4      F      Y_GE65         BL         2019          3         NaN      NaN   \n",
       "\n",
       "  NOTE_REF_AREA  NOTE_INDICATOR  NOTE_GENDER  NOTE_AGE_NOCLASS  \\\n",
       "0           NaN             NaN          NaN               NaN   \n",
       "1           NaN             NaN          NaN               NaN   \n",
       "2           NaN             NaN          NaN               NaN   \n",
       "3           NaN             NaN          NaN               NaN   \n",
       "4           NaN             NaN          NaN               NaN   \n",
       "\n",
       "   NOTE_CITIZENSHIP NOTE_EDU_ATTAIN NOTE_CUR_ACT_STAT  NOTE_LOC_DEST  \\\n",
       "0               NaN          ALL_N1             99_N1            NaN   \n",
       "1               NaN          ALL_N1             99_N1            NaN   \n",
       "2               NaN          ALL_N1             99_N1            NaN   \n",
       "3               NaN           BL_N1             99_N1            NaN   \n",
       "4               NaN           BL_N1             99_N1            NaN   \n",
       "\n",
       "   NOTE_REAS_COMMUTING  \n",
       "0                  NaN  \n",
       "1                  NaN  \n",
       "2                  NaN  \n",
       "3                  NaN  \n",
       "4                  NaN  "
      ]
     },
     "execution_count": 92,
     "metadata": {},
     "output_type": "execute_result"
    }
   ],
   "source": [
    "grado_istruzione_age  = pd.read_csv(PurePath('dataset', 'Grado_istruzione_per_età_Lombardia_IT1,DF_DCSS_ISTR_LAV_PEN_2_REG.csv'),low_memory=False)\n",
    "grado_istruzione_age.head()"
   ]
  },
  {
   "cell_type": "markdown",
   "id": "f8dff658",
   "metadata": {},
   "source": [
    "there are some column with null value that can be deleted"
   ]
  },
  {
   "cell_type": "code",
   "execution_count": 93,
   "id": "d5e8a51d",
   "metadata": {},
   "outputs": [],
   "source": [
    "grado_istruzione_age = grado_istruzione_age[['REF_AREA', 'GENDER', 'AGE_NOCLASS', 'EDU_ATTAIN', 'TIME_PERIOD', 'OBS_VALUE']]"
   ]
  },
  {
   "cell_type": "code",
   "execution_count": 94,
   "id": "a9706c76",
   "metadata": {},
   "outputs": [
    {
     "data": {
      "text/plain": [
       "Y_GE9     145979\n",
       "Y25-49     92357\n",
       "Y50-64     91652\n",
       "Y_GE65     90061\n",
       "Y9-24      88907\n",
       "Name: AGE_NOCLASS, dtype: int64"
      ]
     },
     "execution_count": 94,
     "metadata": {},
     "output_type": "execute_result"
    }
   ],
   "source": [
    "grado_istruzione_age ['AGE_NOCLASS'].value_counts()"
   ]
  },
  {
   "cell_type": "markdown",
   "id": "357767bc",
   "metadata": {},
   "source": [
    "those value represet age range in specific:\n",
    "- Y_GE9: all people with age greater than 9, in this case all the people in the dataset\n",
    "- Y25-49: people with an age between 25 and 49\n",
    "- Y50-64: people with an age between 50 and 64\n",
    "- Y_GE65: people with more than 65 years\n",
    "- Y9-24: people with an age between 9 and 24\n",
    "\n",
    "In the following part we will add a column with the saem age range of the dataset *Grado_istruzione_per_età_Lombardia*"
   ]
  },
  {
   "cell_type": "code",
   "execution_count": 95,
   "id": "cc3e1235",
   "metadata": {},
   "outputs": [
    {
     "data": {
      "text/html": [
       "<div>\n",
       "<style scoped>\n",
       "    .dataframe tbody tr th:only-of-type {\n",
       "        vertical-align: middle;\n",
       "    }\n",
       "\n",
       "    .dataframe tbody tr th {\n",
       "        vertical-align: top;\n",
       "    }\n",
       "\n",
       "    .dataframe thead th {\n",
       "        text-align: right;\n",
       "    }\n",
       "</style>\n",
       "<table border=\"1\" class=\"dataframe\">\n",
       "  <thead>\n",
       "    <tr style=\"text-align: right;\">\n",
       "      <th></th>\n",
       "      <th>DATA</th>\n",
       "      <th>GENERE</th>\n",
       "      <th>ETA</th>\n",
       "      <th>TITOLOSTUDIO</th>\n",
       "      <th>CONTRATTO</th>\n",
       "      <th>MODALITALAVORO</th>\n",
       "      <th>PROVINCIAIMPRESA</th>\n",
       "      <th>ITALIANO</th>\n",
       "      <th>agerange</th>\n",
       "    </tr>\n",
       "  </thead>\n",
       "  <tbody>\n",
       "    <tr>\n",
       "      <th>0</th>\n",
       "      <td>2020-09-05</td>\n",
       "      <td>F</td>\n",
       "      <td>60</td>\n",
       "      <td>NESSUN TITOLO DI STUDIO</td>\n",
       "      <td>LAVORO DOMESTICO</td>\n",
       "      <td>TEMPO PIENO</td>\n",
       "      <td>BERGAMO</td>\n",
       "      <td>UCRAINA</td>\n",
       "      <td>Y50-64</td>\n",
       "    </tr>\n",
       "    <tr>\n",
       "      <th>1</th>\n",
       "      <td>2019-12-07</td>\n",
       "      <td>M</td>\n",
       "      <td>43</td>\n",
       "      <td>LICENZA MEDIA</td>\n",
       "      <td>LAVORO A TEMPO DETERMINATO</td>\n",
       "      <td>TEMPO PIENO</td>\n",
       "      <td>BERGAMO</td>\n",
       "      <td>ITALIA</td>\n",
       "      <td>Y25-49</td>\n",
       "    </tr>\n",
       "    <tr>\n",
       "      <th>2</th>\n",
       "      <td>2013-05-06</td>\n",
       "      <td>F</td>\n",
       "      <td>20</td>\n",
       "      <td>LICENZA MEDIA</td>\n",
       "      <td>APPRENDISTATO PROFESSIONALIZZANTE O CONTRATTO ...</td>\n",
       "      <td>TEMPO PIENO</td>\n",
       "      <td>BERGAMO</td>\n",
       "      <td>ITALIA</td>\n",
       "      <td>Y9-24</td>\n",
       "    </tr>\n",
       "    <tr>\n",
       "      <th>3</th>\n",
       "      <td>2010-12-03</td>\n",
       "      <td>F</td>\n",
       "      <td>28</td>\n",
       "      <td>DIPLOMA DI ISTRUZIONE SECONDARIA SUPERIORE</td>\n",
       "      <td>LAVORO INTERMITTENTE A TEMPO DETERMINATO</td>\n",
       "      <td>NON DEFINITO</td>\n",
       "      <td>BERGAMO</td>\n",
       "      <td>ITALIA</td>\n",
       "      <td>Y25-49</td>\n",
       "    </tr>\n",
       "    <tr>\n",
       "      <th>4</th>\n",
       "      <td>2021-06-04</td>\n",
       "      <td>F</td>\n",
       "      <td>49</td>\n",
       "      <td>LICENZA MEDIA</td>\n",
       "      <td>LAVORO INTERMITTENTE</td>\n",
       "      <td>NON DEFINITO</td>\n",
       "      <td>BERGAMO</td>\n",
       "      <td>ITALIA</td>\n",
       "      <td>Y25-49</td>\n",
       "    </tr>\n",
       "    <tr>\n",
       "      <th>...</th>\n",
       "      <td>...</td>\n",
       "      <td>...</td>\n",
       "      <td>...</td>\n",
       "      <td>...</td>\n",
       "      <td>...</td>\n",
       "      <td>...</td>\n",
       "      <td>...</td>\n",
       "      <td>...</td>\n",
       "      <td>...</td>\n",
       "    </tr>\n",
       "    <tr>\n",
       "      <th>9579789</th>\n",
       "      <td>2020-01-03</td>\n",
       "      <td>M</td>\n",
       "      <td>52</td>\n",
       "      <td>LICENZA MEDIA</td>\n",
       "      <td>LAVORO A TEMPO DETERMINATO</td>\n",
       "      <td>TEMPO PIENO</td>\n",
       "      <td>BERGAMO</td>\n",
       "      <td>ITALIA</td>\n",
       "      <td>Y50-64</td>\n",
       "    </tr>\n",
       "    <tr>\n",
       "      <th>9579790</th>\n",
       "      <td>2010-06-09</td>\n",
       "      <td>M</td>\n",
       "      <td>61</td>\n",
       "      <td>NESSUN TITOLO DI STUDIO</td>\n",
       "      <td>LAVORO A TEMPO INDETERMINATO</td>\n",
       "      <td>TEMPO PIENO</td>\n",
       "      <td>BERGAMO</td>\n",
       "      <td>ALBANIA</td>\n",
       "      <td>Y50-64</td>\n",
       "    </tr>\n",
       "    <tr>\n",
       "      <th>9579791</th>\n",
       "      <td>2021-06-11</td>\n",
       "      <td>M</td>\n",
       "      <td>37</td>\n",
       "      <td>NESSUN TITOLO DI STUDIO</td>\n",
       "      <td>LAVORO A TEMPO DETERMINATO</td>\n",
       "      <td>TEMPO PIENO</td>\n",
       "      <td>BERGAMO</td>\n",
       "      <td>SENEGAL</td>\n",
       "      <td>Y25-49</td>\n",
       "    </tr>\n",
       "    <tr>\n",
       "      <th>9579792</th>\n",
       "      <td>2010-02-02</td>\n",
       "      <td>M</td>\n",
       "      <td>35</td>\n",
       "      <td>LICENZA MEDIA</td>\n",
       "      <td>LAVORO INTERINALE (O A SCOPO DI SOMMINISTRAZIO...</td>\n",
       "      <td>TEMPO PIENO</td>\n",
       "      <td>BERGAMO</td>\n",
       "      <td>SENEGAL</td>\n",
       "      <td>Y25-49</td>\n",
       "    </tr>\n",
       "    <tr>\n",
       "      <th>9579793</th>\n",
       "      <td>2012-05-07</td>\n",
       "      <td>F</td>\n",
       "      <td>39</td>\n",
       "      <td>LICENZA MEDIA</td>\n",
       "      <td>LAVORO INTERINALE (O A SCOPO DI SOMMINISTRAZIO...</td>\n",
       "      <td>NON DEFINITO</td>\n",
       "      <td>BERGAMO</td>\n",
       "      <td>ITALIA</td>\n",
       "      <td>Y25-49</td>\n",
       "    </tr>\n",
       "  </tbody>\n",
       "</table>\n",
       "<p>9577557 rows × 9 columns</p>\n",
       "</div>"
      ],
      "text/plain": [
       "              DATA GENERE  ETA                                TITOLOSTUDIO  \\\n",
       "0       2020-09-05      F   60                     NESSUN TITOLO DI STUDIO   \n",
       "1       2019-12-07      M   43                               LICENZA MEDIA   \n",
       "2       2013-05-06      F   20                               LICENZA MEDIA   \n",
       "3       2010-12-03      F   28  DIPLOMA DI ISTRUZIONE SECONDARIA SUPERIORE   \n",
       "4       2021-06-04      F   49                               LICENZA MEDIA   \n",
       "...            ...    ...  ...                                         ...   \n",
       "9579789 2020-01-03      M   52                               LICENZA MEDIA   \n",
       "9579790 2010-06-09      M   61                     NESSUN TITOLO DI STUDIO   \n",
       "9579791 2021-06-11      M   37                     NESSUN TITOLO DI STUDIO   \n",
       "9579792 2010-02-02      M   35                               LICENZA MEDIA   \n",
       "9579793 2012-05-07      F   39                               LICENZA MEDIA   \n",
       "\n",
       "                                                 CONTRATTO MODALITALAVORO  \\\n",
       "0                                         LAVORO DOMESTICO    TEMPO PIENO   \n",
       "1                               LAVORO A TEMPO DETERMINATO    TEMPO PIENO   \n",
       "2        APPRENDISTATO PROFESSIONALIZZANTE O CONTRATTO ...    TEMPO PIENO   \n",
       "3                 LAVORO INTERMITTENTE A TEMPO DETERMINATO   NON DEFINITO   \n",
       "4                                     LAVORO INTERMITTENTE   NON DEFINITO   \n",
       "...                                                    ...            ...   \n",
       "9579789                         LAVORO A TEMPO DETERMINATO    TEMPO PIENO   \n",
       "9579790                       LAVORO A TEMPO INDETERMINATO    TEMPO PIENO   \n",
       "9579791                         LAVORO A TEMPO DETERMINATO    TEMPO PIENO   \n",
       "9579792  LAVORO INTERINALE (O A SCOPO DI SOMMINISTRAZIO...    TEMPO PIENO   \n",
       "9579793  LAVORO INTERINALE (O A SCOPO DI SOMMINISTRAZIO...   NON DEFINITO   \n",
       "\n",
       "        PROVINCIAIMPRESA ITALIANO agerange  \n",
       "0                BERGAMO  UCRAINA   Y50-64  \n",
       "1                BERGAMO   ITALIA   Y25-49  \n",
       "2                BERGAMO   ITALIA    Y9-24  \n",
       "3                BERGAMO   ITALIA   Y25-49  \n",
       "4                BERGAMO   ITALIA   Y25-49  \n",
       "...                  ...      ...      ...  \n",
       "9579789          BERGAMO   ITALIA   Y50-64  \n",
       "9579790          BERGAMO  ALBANIA   Y50-64  \n",
       "9579791          BERGAMO  SENEGAL   Y25-49  \n",
       "9579792          BERGAMO  SENEGAL   Y25-49  \n",
       "9579793          BERGAMO   ITALIA   Y25-49  \n",
       "\n",
       "[9577557 rows x 9 columns]"
      ]
     },
     "execution_count": 95,
     "metadata": {},
     "output_type": "execute_result"
    }
   ],
   "source": [
    "bins = [0,25, 50, 65, 200]\n",
    "labels = ['Y9-24', 'Y25-49', 'Y50-64','Y_GE65' ]\n",
    "rap_lavoro_attivati['agerange'] = pd.cut(rap_lavoro_attivati['ETA'], bins, labels = labels,include_lowest = True)\n",
    "rap_lavoro_attivati"
   ]
  },
  {
   "cell_type": "markdown",
   "id": "9e774de1",
   "metadata": {},
   "source": [
    "because in the dataset *rapporti di lavoro* the minimum age is 16 while in *Grado_istruzione_per_età_Lombardia* is 9 we will delete all the illiterate and the people with only elementary school license with the age between 9 and 24  from the dataset, we have choose to do so because the majority of people in that age range with only elementary school license are the one under 16 year"
   ]
  },
  {
   "cell_type": "code",
   "execution_count": 96,
   "id": "26693eeb",
   "metadata": {},
   "outputs": [
    {
     "data": {
      "text/html": [
       "<div>\n",
       "<style scoped>\n",
       "    .dataframe tbody tr th:only-of-type {\n",
       "        vertical-align: middle;\n",
       "    }\n",
       "\n",
       "    .dataframe tbody tr th {\n",
       "        vertical-align: top;\n",
       "    }\n",
       "\n",
       "    .dataframe thead th {\n",
       "        text-align: right;\n",
       "    }\n",
       "</style>\n",
       "<table border=\"1\" class=\"dataframe\">\n",
       "  <thead>\n",
       "    <tr style=\"text-align: right;\">\n",
       "      <th></th>\n",
       "      <th>REF_AREA</th>\n",
       "      <th>GENDER</th>\n",
       "      <th>AGE_NOCLASS</th>\n",
       "      <th>EDU_ATTAIN</th>\n",
       "      <th>TIME_PERIOD</th>\n",
       "      <th>OBS_VALUE</th>\n",
       "    </tr>\n",
       "  </thead>\n",
       "  <tbody>\n",
       "    <tr>\n",
       "      <th>0</th>\n",
       "      <td>012001</td>\n",
       "      <td>F</td>\n",
       "      <td>Y_GE65</td>\n",
       "      <td>ALL</td>\n",
       "      <td>2018</td>\n",
       "      <td>54</td>\n",
       "    </tr>\n",
       "    <tr>\n",
       "      <th>1</th>\n",
       "      <td>012001</td>\n",
       "      <td>F</td>\n",
       "      <td>Y_GE65</td>\n",
       "      <td>ALL</td>\n",
       "      <td>2019</td>\n",
       "      <td>59</td>\n",
       "    </tr>\n",
       "    <tr>\n",
       "      <th>2</th>\n",
       "      <td>012001</td>\n",
       "      <td>F</td>\n",
       "      <td>Y_GE65</td>\n",
       "      <td>ALL</td>\n",
       "      <td>2020</td>\n",
       "      <td>63</td>\n",
       "    </tr>\n",
       "    <tr>\n",
       "      <th>3</th>\n",
       "      <td>012001</td>\n",
       "      <td>F</td>\n",
       "      <td>Y_GE65</td>\n",
       "      <td>BL</td>\n",
       "      <td>2018</td>\n",
       "      <td>3</td>\n",
       "    </tr>\n",
       "    <tr>\n",
       "      <th>4</th>\n",
       "      <td>012001</td>\n",
       "      <td>F</td>\n",
       "      <td>Y_GE65</td>\n",
       "      <td>BL</td>\n",
       "      <td>2019</td>\n",
       "      <td>3</td>\n",
       "    </tr>\n",
       "    <tr>\n",
       "      <th>...</th>\n",
       "      <td>...</td>\n",
       "      <td>...</td>\n",
       "      <td>...</td>\n",
       "      <td>...</td>\n",
       "      <td>...</td>\n",
       "      <td>...</td>\n",
       "    </tr>\n",
       "    <tr>\n",
       "      <th>508951</th>\n",
       "      <td>ITC4B</td>\n",
       "      <td>T</td>\n",
       "      <td>Y9-24</td>\n",
       "      <td>PSE</td>\n",
       "      <td>2019</td>\n",
       "      <td>12282</td>\n",
       "    </tr>\n",
       "    <tr>\n",
       "      <th>508952</th>\n",
       "      <td>ITC4B</td>\n",
       "      <td>T</td>\n",
       "      <td>Y9-24</td>\n",
       "      <td>PSE</td>\n",
       "      <td>2020</td>\n",
       "      <td>12409</td>\n",
       "    </tr>\n",
       "    <tr>\n",
       "      <th>508953</th>\n",
       "      <td>ITC4B</td>\n",
       "      <td>T</td>\n",
       "      <td>Y9-24</td>\n",
       "      <td>USE_IF</td>\n",
       "      <td>2018</td>\n",
       "      <td>16491</td>\n",
       "    </tr>\n",
       "    <tr>\n",
       "      <th>508954</th>\n",
       "      <td>ITC4B</td>\n",
       "      <td>T</td>\n",
       "      <td>Y9-24</td>\n",
       "      <td>USE_IF</td>\n",
       "      <td>2019</td>\n",
       "      <td>16647</td>\n",
       "    </tr>\n",
       "    <tr>\n",
       "      <th>508955</th>\n",
       "      <td>ITC4B</td>\n",
       "      <td>T</td>\n",
       "      <td>Y9-24</td>\n",
       "      <td>USE_IF</td>\n",
       "      <td>2020</td>\n",
       "      <td>16637</td>\n",
       "    </tr>\n",
       "  </tbody>\n",
       "</table>\n",
       "<p>483510 rows × 6 columns</p>\n",
       "</div>"
      ],
      "text/plain": [
       "       REF_AREA GENDER AGE_NOCLASS EDU_ATTAIN  TIME_PERIOD  OBS_VALUE\n",
       "0        012001      F      Y_GE65        ALL         2018         54\n",
       "1        012001      F      Y_GE65        ALL         2019         59\n",
       "2        012001      F      Y_GE65        ALL         2020         63\n",
       "3        012001      F      Y_GE65         BL         2018          3\n",
       "4        012001      F      Y_GE65         BL         2019          3\n",
       "...         ...    ...         ...        ...          ...        ...\n",
       "508951    ITC4B      T       Y9-24        PSE         2019      12282\n",
       "508952    ITC4B      T       Y9-24        PSE         2020      12409\n",
       "508953    ITC4B      T       Y9-24     USE_IF         2018      16491\n",
       "508954    ITC4B      T       Y9-24     USE_IF         2019      16647\n",
       "508955    ITC4B      T       Y9-24     USE_IF         2020      16637\n",
       "\n",
       "[483510 rows x 6 columns]"
      ]
     },
     "execution_count": 96,
     "metadata": {},
     "output_type": "execute_result"
    }
   ],
   "source": [
    "grado_istruzione_age = grado_istruzione_age [~((grado_istruzione_age ['EDU_ATTAIN']== 'IL')|(grado_istruzione_age ['EDU_ATTAIN']== 'LBNA')|((grado_istruzione_age ['EDU_ATTAIN']== 'PSE')&(grado_istruzione_age ['AGE_NOCLASS']== 'Y9_24')))]\n",
    "grado_istruzione_age"
   ]
  },
  {
   "cell_type": "code",
   "execution_count": 97,
   "id": "9ca39be8",
   "metadata": {},
   "outputs": [
    {
     "name": "stdout",
     "output_type": "stream",
     "text": [
      "0                       NESSUN TITOLO DI STUDIO\n",
      "1                                 LICENZA MEDIA\n",
      "2                                 LICENZA MEDIA\n",
      "3    DIPLOMA DI ISTRUZIONE SECONDARIA SUPERIORE\n",
      "4                                 LICENZA MEDIA\n",
      "Name: TITOLOSTUDIO, dtype: object\n"
     ]
    },
    {
     "data": {
      "text/plain": [
       "0    ALL\n",
       "1    ALL\n",
       "2    ALL\n",
       "3     BL\n",
       "4     BL\n",
       "Name: EDU_ATTAIN, dtype: object"
      ]
     },
     "execution_count": 97,
     "metadata": {},
     "output_type": "execute_result"
    }
   ],
   "source": [
    "print(rap_lavoro_attivati['TITOLOSTUDIO'].head())\n",
    "grado_istruzione_age['EDU_ATTAIN'].head()"
   ]
  },
  {
   "cell_type": "markdown",
   "id": "16c7b3a4",
   "metadata": {},
   "source": [
    "The series `TITOLO_STUDIO` and `EDU_ATTAIN` don't match easily, but we can map the values of `EDU_ATTAIN` into `TITOLO_STUDIO`."
   ]
  },
  {
   "cell_type": "code",
   "execution_count": 98,
   "id": "eb0c19e2",
   "metadata": {
    "scrolled": true
   },
   "outputs": [
    {
     "name": "stdout",
     "output_type": "stream",
     "text": [
      "{'DIPLOMA DI ISTRUZIONE SECONDARIA SUPERIORE', 'LICENZA MEDIA', 'LICENZA ELEMENTARE', 'TITOLO DI DOTTORE DI RICERCA', 'LAUREA TRIENNALE', 'LAUREA MAGISTRALE', 'NESSUN TITOLO DI STUDIO'}\n",
      "{'BL', 'ALL', 'ML_RDD', 'RDD', 'PSE', 'USE_IF', 'NED', 'ML', 'LSE'}\n"
     ]
    }
   ],
   "source": [
    "print(series_to_set('TITOLOSTUDIO', rap_lavoro_attivati))\n",
    "print(series_to_set('EDU_ATTAIN', grado_istruzione_age))"
   ]
  },
  {
   "cell_type": "code",
   "execution_count": 99,
   "id": "71222e80",
   "metadata": {},
   "outputs": [],
   "source": [
    "edu_map = {\n",
    "    'IL': 'NESSUN TITOLO DI STUDIO',\n",
    "    'NED': 'NESSUN TITOLO DI STUDIO',\n",
    "    'LBNA': 'NESSUN TITOLO DI STUDIO',\n",
    "    'PSE': 'LICENZA ELEMENTARE',\n",
    "    'LSE': 'LICENZA MEDIA',\n",
    "    'USE_IF': 'DIPLOMA DI ISTRUZIONE SECONDARIA SUPERIORE',\n",
    "    \"TITOLO DI ISTRUZIONE SECONDARIA SUPERIORE (SCOLASTICA ED EXTRA-SCOLASTICA) CHE NON PERMETTE L'ACCESSO ALL'UNIVERSITÀ ()\": 'DIPLOMA DI ISTRUZIONE SECONDARIA SUPERIORE',\n",
    "    \"DIPLOMA DI ISTRUZIONE SECONDARIA SUPERIORE  CHE PERMETTE L'ACCESSO ALL'UNIVERSITA\": 'DIPLOMA DI ISTRUZIONE SECONDARIA SUPERIORE',\n",
    "    'BL': 'LAUREA TRIENNALE',\n",
    "    'ML': 'LAUREA MAGISTRALE',\n",
    "    'RDD': 'TITOLO DI DOTTORE DI RICERCA',\n",
    "    'ML_RDD': 'TITOLO DI DOTTORE DI RICERCA',\n",
    "    'DIPLOMA TERZIARIO EXTRA-UNIVERSITARIO': 'LAUREA TRIENNALE',\n",
    "    'MASTER UNIVERSITARIO DI PRIMO LIVELLO': 'LAUREA MAGISTRALE',\n",
    "    'LAUREA - Vecchio o nuovo ordinamento': 'LAUREA MAGISTRALE',\n",
    "    'DIPLOMA DI SPECIALIZZAZIONE': 'DIPLOMA DI ISTRUZIONE SECONDARIA SUPERIORE',\n",
    "    'DIPLOMA UNIVERSITARIO': 'LAUREA TRIENNALE',\n",
    "    'TITOLO DI STUDIO POST-LAUREA': 'LAUREA MAGISTRALE'    \n",
    "}\n"
   ]
  },
  {
   "cell_type": "code",
   "execution_count": 100,
   "id": "8a10bcd9",
   "metadata": {},
   "outputs": [
    {
     "data": {
      "text/plain": [
       "0                                                ALL\n",
       "1                                                ALL\n",
       "2                                                ALL\n",
       "3                                   LAUREA TRIENNALE\n",
       "4                                   LAUREA TRIENNALE\n",
       "                             ...                    \n",
       "508951                            LICENZA ELEMENTARE\n",
       "508952                            LICENZA ELEMENTARE\n",
       "508953    DIPLOMA DI ISTRUZIONE SECONDARIA SUPERIORE\n",
       "508954    DIPLOMA DI ISTRUZIONE SECONDARIA SUPERIORE\n",
       "508955    DIPLOMA DI ISTRUZIONE SECONDARIA SUPERIORE\n",
       "Name: EDU_ATTAIN, Length: 483510, dtype: object"
      ]
     },
     "execution_count": 100,
     "metadata": {},
     "output_type": "execute_result"
    }
   ],
   "source": [
    "def mapping(series): \n",
    "    series = series.apply(lambda x: edu_map.get(x) if edu_map.get(x) != None else x)\n",
    "    return series\n",
    "\n",
    "rap_lavoro_attivati['TITOLOSTUDIO'] = mapping(rap_lavoro_attivati['TITOLOSTUDIO'])\n",
    "\n",
    "grado_istruzione_age['EDU_ATTAIN'] = mapping(grado_istruzione_age['EDU_ATTAIN'])\n",
    "\n",
    "grado_istruzione_age['EDU_ATTAIN']\n"
   ]
  },
  {
   "cell_type": "code",
   "execution_count": 101,
   "id": "b8a92f6c",
   "metadata": {},
   "outputs": [
    {
     "data": {
      "text/plain": [
       "0                             NESSUN TITOLO DI STUDIO\n",
       "1                                       LICENZA MEDIA\n",
       "2                                       LICENZA MEDIA\n",
       "3          DIPLOMA DI ISTRUZIONE SECONDARIA SUPERIORE\n",
       "4                                       LICENZA MEDIA\n",
       "                              ...                    \n",
       "9579789                                 LICENZA MEDIA\n",
       "9579790                       NESSUN TITOLO DI STUDIO\n",
       "9579791                       NESSUN TITOLO DI STUDIO\n",
       "9579792                                 LICENZA MEDIA\n",
       "9579793                                 LICENZA MEDIA\n",
       "Name: TITOLOSTUDIO, Length: 9577557, dtype: object"
      ]
     },
     "execution_count": 101,
     "metadata": {},
     "output_type": "execute_result"
    }
   ],
   "source": [
    "rap_lavoro_attivati['TITOLOSTUDIO']"
   ]
  },
  {
   "cell_type": "code",
   "execution_count": 115,
   "id": "6e36d009",
   "metadata": {},
   "outputs": [
    {
     "data": {
      "text/html": [
       "<div>\n",
       "<style scoped>\n",
       "    .dataframe tbody tr th:only-of-type {\n",
       "        vertical-align: middle;\n",
       "    }\n",
       "\n",
       "    .dataframe tbody tr th {\n",
       "        vertical-align: top;\n",
       "    }\n",
       "\n",
       "    .dataframe thead th {\n",
       "        text-align: right;\n",
       "    }\n",
       "</style>\n",
       "<table border=\"1\" class=\"dataframe\">\n",
       "  <thead>\n",
       "    <tr style=\"text-align: right;\">\n",
       "      <th></th>\n",
       "      <th>Denominazione in italiano</th>\n",
       "      <th>Denominazione Regione</th>\n",
       "      <th>Provincia</th>\n",
       "      <th>Codice NUTS3 2021</th>\n",
       "      <th>Codice NUTS2 2021 (3)</th>\n",
       "    </tr>\n",
       "    <tr>\n",
       "      <th>Codice Comune formato alfanumerico</th>\n",
       "      <th></th>\n",
       "      <th></th>\n",
       "      <th></th>\n",
       "      <th></th>\n",
       "      <th></th>\n",
       "    </tr>\n",
       "  </thead>\n",
       "  <tbody>\n",
       "    <tr>\n",
       "      <th>12001</th>\n",
       "      <td>Agra</td>\n",
       "      <td>Lombardia</td>\n",
       "      <td>Varese</td>\n",
       "      <td>ITC41</td>\n",
       "      <td>ITC4</td>\n",
       "    </tr>\n",
       "    <tr>\n",
       "      <th>12002</th>\n",
       "      <td>Albizzate</td>\n",
       "      <td>Lombardia</td>\n",
       "      <td>Varese</td>\n",
       "      <td>ITC41</td>\n",
       "      <td>ITC4</td>\n",
       "    </tr>\n",
       "    <tr>\n",
       "      <th>12003</th>\n",
       "      <td>Angera</td>\n",
       "      <td>Lombardia</td>\n",
       "      <td>Varese</td>\n",
       "      <td>ITC41</td>\n",
       "      <td>ITC4</td>\n",
       "    </tr>\n",
       "    <tr>\n",
       "      <th>12004</th>\n",
       "      <td>Arcisate</td>\n",
       "      <td>Lombardia</td>\n",
       "      <td>Varese</td>\n",
       "      <td>ITC41</td>\n",
       "      <td>ITC4</td>\n",
       "    </tr>\n",
       "    <tr>\n",
       "      <th>12005</th>\n",
       "      <td>Arsago Seprio</td>\n",
       "      <td>Lombardia</td>\n",
       "      <td>Varese</td>\n",
       "      <td>ITC41</td>\n",
       "      <td>ITC4</td>\n",
       "    </tr>\n",
       "  </tbody>\n",
       "</table>\n",
       "</div>"
      ],
      "text/plain": [
       "                                   Denominazione in italiano  \\\n",
       "Codice Comune formato alfanumerico                             \n",
       "12001                                                   Agra   \n",
       "12002                                              Albizzate   \n",
       "12003                                                 Angera   \n",
       "12004                                               Arcisate   \n",
       "12005                                          Arsago Seprio   \n",
       "\n",
       "                                   Denominazione Regione Provincia  \\\n",
       "Codice Comune formato alfanumerico                                   \n",
       "12001                                          Lombardia    Varese   \n",
       "12002                                          Lombardia    Varese   \n",
       "12003                                          Lombardia    Varese   \n",
       "12004                                          Lombardia    Varese   \n",
       "12005                                          Lombardia    Varese   \n",
       "\n",
       "                                   Codice NUTS3 2021 Codice NUTS2 2021 (3)   \n",
       "Codice Comune formato alfanumerico                                           \n",
       "12001                                          ITC41                   ITC4  \n",
       "12002                                          ITC41                   ITC4  \n",
       "12003                                          ITC41                   ITC4  \n",
       "12004                                          ITC41                   ITC4  \n",
       "12005                                          ITC41                   ITC4  "
      ]
     },
     "execution_count": 115,
     "metadata": {},
     "output_type": "execute_result"
    }
   ],
   "source": [
    "city_codes = pd.read_excel(PurePath('dataset', 'Elenco-comuni-italiani.xls'))\n",
    "city_codes = city_codes[['Codice Comune formato alfanumerico', \n",
    "                        'Denominazione in italiano',\n",
    "                        'Denominazione Regione',\n",
    "                        'Provincia',\n",
    "                        'Codice NUTS3 2021',\n",
    "                        'Codice NUTS2 2021 (3) '\n",
    "                        ]]\n",
    "city_codes = city_codes[city_codes['Denominazione Regione'] == 'Lombardia']\n",
    "city_codes = city_codes.set_index('Codice Comune formato alfanumerico')\n",
    "city_codes.head()"
   ]
  },
  {
   "cell_type": "code",
   "execution_count": 127,
   "id": "d1374916",
   "metadata": {},
   "outputs": [
    {
     "data": {
      "text/html": [
       "<div>\n",
       "<style scoped>\n",
       "    .dataframe tbody tr th:only-of-type {\n",
       "        vertical-align: middle;\n",
       "    }\n",
       "\n",
       "    .dataframe tbody tr th {\n",
       "        vertical-align: top;\n",
       "    }\n",
       "\n",
       "    .dataframe thead th {\n",
       "        text-align: right;\n",
       "    }\n",
       "</style>\n",
       "<table border=\"1\" class=\"dataframe\">\n",
       "  <thead>\n",
       "    <tr style=\"text-align: right;\">\n",
       "      <th></th>\n",
       "      <th>REF_AREA</th>\n",
       "      <th>GENDER</th>\n",
       "      <th>AGE_NOCLASS</th>\n",
       "      <th>EDU_ATTAIN</th>\n",
       "      <th>TIME_PERIOD</th>\n",
       "      <th>OBS_VALUE</th>\n",
       "    </tr>\n",
       "  </thead>\n",
       "  <tbody>\n",
       "    <tr>\n",
       "      <th>0</th>\n",
       "      <td>Varese</td>\n",
       "      <td>F</td>\n",
       "      <td>Y_GE65</td>\n",
       "      <td>ALL</td>\n",
       "      <td>2018</td>\n",
       "      <td>54</td>\n",
       "    </tr>\n",
       "    <tr>\n",
       "      <th>1</th>\n",
       "      <td>Varese</td>\n",
       "      <td>F</td>\n",
       "      <td>Y_GE65</td>\n",
       "      <td>ALL</td>\n",
       "      <td>2019</td>\n",
       "      <td>59</td>\n",
       "    </tr>\n",
       "    <tr>\n",
       "      <th>2</th>\n",
       "      <td>Varese</td>\n",
       "      <td>F</td>\n",
       "      <td>Y_GE65</td>\n",
       "      <td>ALL</td>\n",
       "      <td>2020</td>\n",
       "      <td>63</td>\n",
       "    </tr>\n",
       "    <tr>\n",
       "      <th>3</th>\n",
       "      <td>Varese</td>\n",
       "      <td>F</td>\n",
       "      <td>Y_GE65</td>\n",
       "      <td>LAUREA TRIENNALE</td>\n",
       "      <td>2018</td>\n",
       "      <td>3</td>\n",
       "    </tr>\n",
       "    <tr>\n",
       "      <th>4</th>\n",
       "      <td>Varese</td>\n",
       "      <td>F</td>\n",
       "      <td>Y_GE65</td>\n",
       "      <td>LAUREA TRIENNALE</td>\n",
       "      <td>2019</td>\n",
       "      <td>3</td>\n",
       "    </tr>\n",
       "    <tr>\n",
       "      <th>...</th>\n",
       "      <td>...</td>\n",
       "      <td>...</td>\n",
       "      <td>...</td>\n",
       "      <td>...</td>\n",
       "      <td>...</td>\n",
       "      <td>...</td>\n",
       "    </tr>\n",
       "    <tr>\n",
       "      <th>508951</th>\n",
       "      <td>Mantova</td>\n",
       "      <td>T</td>\n",
       "      <td>Y9-24</td>\n",
       "      <td>LICENZA ELEMENTARE</td>\n",
       "      <td>2019</td>\n",
       "      <td>12282</td>\n",
       "    </tr>\n",
       "    <tr>\n",
       "      <th>508952</th>\n",
       "      <td>Mantova</td>\n",
       "      <td>T</td>\n",
       "      <td>Y9-24</td>\n",
       "      <td>LICENZA ELEMENTARE</td>\n",
       "      <td>2020</td>\n",
       "      <td>12409</td>\n",
       "    </tr>\n",
       "    <tr>\n",
       "      <th>508953</th>\n",
       "      <td>Mantova</td>\n",
       "      <td>T</td>\n",
       "      <td>Y9-24</td>\n",
       "      <td>DIPLOMA DI ISTRUZIONE SECONDARIA SUPERIORE</td>\n",
       "      <td>2018</td>\n",
       "      <td>16491</td>\n",
       "    </tr>\n",
       "    <tr>\n",
       "      <th>508954</th>\n",
       "      <td>Mantova</td>\n",
       "      <td>T</td>\n",
       "      <td>Y9-24</td>\n",
       "      <td>DIPLOMA DI ISTRUZIONE SECONDARIA SUPERIORE</td>\n",
       "      <td>2019</td>\n",
       "      <td>16647</td>\n",
       "    </tr>\n",
       "    <tr>\n",
       "      <th>508955</th>\n",
       "      <td>Mantova</td>\n",
       "      <td>T</td>\n",
       "      <td>Y9-24</td>\n",
       "      <td>DIPLOMA DI ISTRUZIONE SECONDARIA SUPERIORE</td>\n",
       "      <td>2020</td>\n",
       "      <td>16637</td>\n",
       "    </tr>\n",
       "  </tbody>\n",
       "</table>\n",
       "<p>483510 rows × 6 columns</p>\n",
       "</div>"
      ],
      "text/plain": [
       "       REF_AREA GENDER AGE_NOCLASS  \\\n",
       "0        Varese      F      Y_GE65   \n",
       "1        Varese      F      Y_GE65   \n",
       "2        Varese      F      Y_GE65   \n",
       "3        Varese      F      Y_GE65   \n",
       "4        Varese      F      Y_GE65   \n",
       "...         ...    ...         ...   \n",
       "508951  Mantova      T       Y9-24   \n",
       "508952  Mantova      T       Y9-24   \n",
       "508953  Mantova      T       Y9-24   \n",
       "508954  Mantova      T       Y9-24   \n",
       "508955  Mantova      T       Y9-24   \n",
       "\n",
       "                                        EDU_ATTAIN  TIME_PERIOD  OBS_VALUE  \n",
       "0                                              ALL         2018         54  \n",
       "1                                              ALL         2019         59  \n",
       "2                                              ALL         2020         63  \n",
       "3                                 LAUREA TRIENNALE         2018          3  \n",
       "4                                 LAUREA TRIENNALE         2019          3  \n",
       "...                                            ...          ...        ...  \n",
       "508951                          LICENZA ELEMENTARE         2019      12282  \n",
       "508952                          LICENZA ELEMENTARE         2020      12409  \n",
       "508953  DIPLOMA DI ISTRUZIONE SECONDARIA SUPERIORE         2018      16491  \n",
       "508954  DIPLOMA DI ISTRUZIONE SECONDARIA SUPERIORE         2019      16647  \n",
       "508955  DIPLOMA DI ISTRUZIONE SECONDARIA SUPERIORE         2020      16637  \n",
       "\n",
       "[483510 rows x 6 columns]"
      ]
     },
     "execution_count": 127,
     "metadata": {},
     "output_type": "execute_result"
    }
   ],
   "source": [
    "def get_provincia_by_code(code):\n",
    "    try:\n",
    "        return city_codes.loc[int(code)]['Provincia']\n",
    "    except:\n",
    "        try:\n",
    "            return city_codes[city_codes['Codice NUTS3 2021'] == code]['Provincia'].iloc[0]\n",
    "        except:\n",
    "            if code == 'ITC4': \n",
    "                return 'Lombardia'\n",
    "            else:\n",
    "                try:\n",
    "                    if int(code) in range(12000, 12999):\n",
    "                        return 'Varese'\n",
    "                    elif int(code) in range(13000, 13999):\n",
    "                        return 'Como'\n",
    "                    elif int(code) in range(15000, 15999):\n",
    "                        return 'Milano'\n",
    "                    elif int(code) in range(18000, 18999):\n",
    "                        return 'Pavia'\n",
    "                    elif int(code) in range(19000, 19999):\n",
    "                        return 'Cremona'\n",
    "                    elif int(code) in range(20000, 20999):\n",
    "                        return 'Mantova'\n",
    "                    elif int(code) in range(97000, 97999):\n",
    "                        return 'Lecco'\n",
    "                except:\n",
    "                    return code\n",
    "                    \n",
    "\n",
    "grado_istruzione_age['REF_AREA'] = grado_istruzione_age['REF_AREA'].apply(lambda x: get_provincia_by_code(x)) \n",
    "grado_istruzione_age"
   ]
  },
  {
   "cell_type": "code",
   "execution_count": 128,
   "id": "95bda0ce",
   "metadata": {},
   "outputs": [
    {
     "data": {
      "text/plain": [
       "{'Bergamo',\n",
       " 'Brescia',\n",
       " 'Como',\n",
       " 'Cremona',\n",
       " 'IT108',\n",
       " 'ITC45',\n",
       " 'Lecco',\n",
       " 'Lodi',\n",
       " 'Lombardia',\n",
       " 'Mantova',\n",
       " 'Milano',\n",
       " 'Monza e della Brianza',\n",
       " 'Pavia',\n",
       " 'Sondrio',\n",
       " 'Varese'}"
      ]
     },
     "execution_count": 128,
     "metadata": {},
     "output_type": "execute_result"
    }
   ],
   "source": [
    "series_to_set('REF_AREA', grado_istruzione_age)"
   ]
  },
  {
   "cell_type": "code",
   "execution_count": null,
   "id": "c7c8d301",
   "metadata": {},
   "outputs": [],
   "source": []
  }
 ],
 "metadata": {
  "kernelspec": {
   "display_name": "Python 3 (ipykernel)",
   "language": "python",
   "name": "python3"
  },
  "language_info": {
   "codemirror_mode": {
    "name": "ipython",
    "version": 3
   },
   "file_extension": ".py",
   "mimetype": "text/x-python",
   "name": "python",
   "nbconvert_exporter": "python",
   "pygments_lexer": "ipython3",
   "version": "3.10.4"
  }
 },
 "nbformat": 4,
 "nbformat_minor": 5
}
