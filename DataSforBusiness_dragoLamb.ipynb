{
 "cells": [
  {
   "cell_type": "markdown",
   "id": "63779eaf",
   "metadata": {},
   "source": [
    "# Data science for budiness project\n",
    "\n",
    "dataset link\n",
    "https://www.dati.lombardia.it/Attivit-Produttive/Rapporti-di-lavoro-attivati/qbau-cyuc\n",
    "\n",
    "https://www.dati.lombardia.it/Attivit-Produttive/Rapporti-di-lavoro-cessati/nwz3-p6vm\n",
    "\n",
    "https://www.dati.lombardia.it/Attivit-Produttive/Rapporti-di-lavoro-prorogati/chng-cman\n",
    "\n",
    "https://www.dati.lombardia.it/Attivit-Produttive/Rapporti-di-lavoro-trasformati/8dwx-jjag\n",
    "\n",
    "https://esploradati.censimentopopolazione.istat.it"
   ]
  },
  {
   "cell_type": "markdown",
   "id": "b0b4717c",
   "metadata": {},
   "source": [
    "possibili analisi dati dataset rapporti di lavoro:\n",
    "1. confronti  maschi e femmine\n",
    "2. divisione per fasce di età provincia e/o nazionalità in generale i valori dell colonne\n",
    "3. ananlisi per anno o per mese\n",
    "4. tipo di contratto in base all'età / titolo di studio / settore economico\n",
    "\n",
    "### obbiettivo generale\n",
    "rapporto tra nuovi contratti e contratti cessati per fascia di età e anno \n",
    "confrontando i vari anni per capire se i contratti sono aumentati o diminuiti (una roba del genere)\n",
    "\n",
    "contratti per provincia: quanit contratti vengono attivati/cessati/prorogati trasformati perprovincia\n",
    "\n",
    "### sequenza di cose da fare\n",
    "1. importare dataset\n",
    "2. pulire dataset e mostrare come e quali sono \n",
    "2. estrarre i valori possibili di varie colonne\n",
    "3. analisi?\n"
   ]
  },
  {
   "cell_type": "code",
   "execution_count": 1,
   "id": "57130c7a",
   "metadata": {},
   "outputs": [],
   "source": [
    "import numpy as np\n",
    "import pandas as pd"
   ]
  },
  {
   "cell_type": "code",
   "execution_count": 2,
   "id": "5bf6a9a4",
   "metadata": {},
   "outputs": [
    {
     "data": {
      "text/html": [
       "<div>\n",
       "<style scoped>\n",
       "    .dataframe tbody tr th:only-of-type {\n",
       "        vertical-align: middle;\n",
       "    }\n",
       "\n",
       "    .dataframe tbody tr th {\n",
       "        vertical-align: top;\n",
       "    }\n",
       "\n",
       "    .dataframe thead th {\n",
       "        text-align: right;\n",
       "    }\n",
       "</style>\n",
       "<table border=\"1\" class=\"dataframe\">\n",
       "  <thead>\n",
       "    <tr style=\"text-align: right;\">\n",
       "      <th></th>\n",
       "      <th>DATA</th>\n",
       "      <th>GENERE</th>\n",
       "      <th>ETA</th>\n",
       "      <th>SETTOREECONOMICODETTAGLIO</th>\n",
       "      <th>TITOLOSTUDIO</th>\n",
       "      <th>CONTRATTO</th>\n",
       "      <th>MODALITALAVORO</th>\n",
       "      <th>PROVINCIAIMPRESA</th>\n",
       "      <th>ITALIANO</th>\n",
       "    </tr>\n",
       "  </thead>\n",
       "  <tbody>\n",
       "    <tr>\n",
       "      <th>0</th>\n",
       "      <td>09/05/2020</td>\n",
       "      <td>F</td>\n",
       "      <td>60</td>\n",
       "      <td>Attività di famiglie e convivenze come datori ...</td>\n",
       "      <td>NESSUN TITOLO DI STUDIO</td>\n",
       "      <td>LAVORO DOMESTICO</td>\n",
       "      <td>TEMPO PIENO</td>\n",
       "      <td>BERGAMO</td>\n",
       "      <td>UCRAINA</td>\n",
       "    </tr>\n",
       "    <tr>\n",
       "      <th>1</th>\n",
       "      <td>12/07/2019</td>\n",
       "      <td>M</td>\n",
       "      <td>43</td>\n",
       "      <td>Gestioni di funicolari, ski-lift e seggiovie s...</td>\n",
       "      <td>LICENZA MEDIA</td>\n",
       "      <td>LAVORO A TEMPO DETERMINATO</td>\n",
       "      <td>TEMPO PIENO</td>\n",
       "      <td>BERGAMO</td>\n",
       "      <td>ITALIA</td>\n",
       "    </tr>\n",
       "    <tr>\n",
       "      <th>2</th>\n",
       "      <td>05/06/2013</td>\n",
       "      <td>F</td>\n",
       "      <td>20</td>\n",
       "      <td>Fabbricazione di altre apparecchiature elettri...</td>\n",
       "      <td>LICENZA MEDIA</td>\n",
       "      <td>APPRENDISTATO PROFESSIONALIZZANTE O CONTRATTO ...</td>\n",
       "      <td>TEMPO PIENO</td>\n",
       "      <td>BERGAMO</td>\n",
       "      <td>ITALIA</td>\n",
       "    </tr>\n",
       "    <tr>\n",
       "      <th>3</th>\n",
       "      <td>12/03/2010</td>\n",
       "      <td>F</td>\n",
       "      <td>28</td>\n",
       "      <td>Alberghi</td>\n",
       "      <td>DIPLOMA DI ISTRUZIONE SECONDARIA SUPERIORE  CH...</td>\n",
       "      <td>LAVORO INTERMITTENTE A TEMPO DETERMINATO</td>\n",
       "      <td>NON DEFINITO</td>\n",
       "      <td>BERGAMO</td>\n",
       "      <td>ITALIA</td>\n",
       "    </tr>\n",
       "    <tr>\n",
       "      <th>4</th>\n",
       "      <td>06/04/2021</td>\n",
       "      <td>F</td>\n",
       "      <td>49</td>\n",
       "      <td>Rifugi di montagna</td>\n",
       "      <td>LICENZA MEDIA</td>\n",
       "      <td>LAVORO INTERMITTENTE</td>\n",
       "      <td>NON DEFINITO</td>\n",
       "      <td>BERGAMO</td>\n",
       "      <td>ITALIA</td>\n",
       "    </tr>\n",
       "    <tr>\n",
       "      <th>...</th>\n",
       "      <td>...</td>\n",
       "      <td>...</td>\n",
       "      <td>...</td>\n",
       "      <td>...</td>\n",
       "      <td>...</td>\n",
       "      <td>...</td>\n",
       "      <td>...</td>\n",
       "      <td>...</td>\n",
       "      <td>...</td>\n",
       "    </tr>\n",
       "    <tr>\n",
       "      <th>9579789</th>\n",
       "      <td>01/03/2020</td>\n",
       "      <td>M</td>\n",
       "      <td>52</td>\n",
       "      <td>Lavori di meccanica generale</td>\n",
       "      <td>LICENZA MEDIA</td>\n",
       "      <td>LAVORO A TEMPO DETERMINATO</td>\n",
       "      <td>TEMPO PIENO</td>\n",
       "      <td>BERGAMO</td>\n",
       "      <td>ITALIA</td>\n",
       "    </tr>\n",
       "    <tr>\n",
       "      <th>9579790</th>\n",
       "      <td>06/09/2010</td>\n",
       "      <td>M</td>\n",
       "      <td>61</td>\n",
       "      <td>Lavori di meccanica generale</td>\n",
       "      <td>NESSUN TITOLO DI STUDIO</td>\n",
       "      <td>LAVORO A TEMPO INDETERMINATO</td>\n",
       "      <td>TEMPO PIENO</td>\n",
       "      <td>BERGAMO</td>\n",
       "      <td>ALBANIA</td>\n",
       "    </tr>\n",
       "    <tr>\n",
       "      <th>9579791</th>\n",
       "      <td>06/11/2021</td>\n",
       "      <td>M</td>\n",
       "      <td>37</td>\n",
       "      <td>Fabbricazione di parti ed accessori per bicicl...</td>\n",
       "      <td>NESSUN TITOLO DI STUDIO</td>\n",
       "      <td>LAVORO A TEMPO DETERMINATO</td>\n",
       "      <td>TEMPO PIENO</td>\n",
       "      <td>BERGAMO</td>\n",
       "      <td>SENEGAL</td>\n",
       "    </tr>\n",
       "    <tr>\n",
       "      <th>9579792</th>\n",
       "      <td>02/02/2010</td>\n",
       "      <td>M</td>\n",
       "      <td>35</td>\n",
       "      <td>Fabbricazione di parti ed accessori per bicicl...</td>\n",
       "      <td>LICENZA MEDIA</td>\n",
       "      <td>LAVORO INTERINALE (O A SCOPO DI SOMMINISTRAZIO...</td>\n",
       "      <td>TEMPO PIENO</td>\n",
       "      <td>BERGAMO</td>\n",
       "      <td>SENEGAL</td>\n",
       "    </tr>\n",
       "    <tr>\n",
       "      <th>9579793</th>\n",
       "      <td>05/07/2012</td>\n",
       "      <td>F</td>\n",
       "      <td>39</td>\n",
       "      <td>Commercio all'ingrosso di abbigliamento e acce...</td>\n",
       "      <td>LICENZA MEDIA</td>\n",
       "      <td>LAVORO INTERINALE (O A SCOPO DI SOMMINISTRAZIO...</td>\n",
       "      <td>NaN</td>\n",
       "      <td>BERGAMO</td>\n",
       "      <td>ITALIA</td>\n",
       "    </tr>\n",
       "  </tbody>\n",
       "</table>\n",
       "<p>9579794 rows × 9 columns</p>\n",
       "</div>"
      ],
      "text/plain": [
       "               DATA GENERE  ETA  \\\n",
       "0        09/05/2020      F   60   \n",
       "1        12/07/2019      M   43   \n",
       "2        05/06/2013      F   20   \n",
       "3        12/03/2010      F   28   \n",
       "4        06/04/2021      F   49   \n",
       "...             ...    ...  ...   \n",
       "9579789  01/03/2020      M   52   \n",
       "9579790  06/09/2010      M   61   \n",
       "9579791  06/11/2021      M   37   \n",
       "9579792  02/02/2010      M   35   \n",
       "9579793  05/07/2012      F   39   \n",
       "\n",
       "                                 SETTOREECONOMICODETTAGLIO  \\\n",
       "0        Attività di famiglie e convivenze come datori ...   \n",
       "1        Gestioni di funicolari, ski-lift e seggiovie s...   \n",
       "2        Fabbricazione di altre apparecchiature elettri...   \n",
       "3                                                 Alberghi   \n",
       "4                                       Rifugi di montagna   \n",
       "...                                                    ...   \n",
       "9579789                       Lavori di meccanica generale   \n",
       "9579790                       Lavori di meccanica generale   \n",
       "9579791  Fabbricazione di parti ed accessori per bicicl...   \n",
       "9579792  Fabbricazione di parti ed accessori per bicicl...   \n",
       "9579793  Commercio all'ingrosso di abbigliamento e acce...   \n",
       "\n",
       "                                              TITOLOSTUDIO  \\\n",
       "0                                  NESSUN TITOLO DI STUDIO   \n",
       "1                                            LICENZA MEDIA   \n",
       "2                                            LICENZA MEDIA   \n",
       "3        DIPLOMA DI ISTRUZIONE SECONDARIA SUPERIORE  CH...   \n",
       "4                                            LICENZA MEDIA   \n",
       "...                                                    ...   \n",
       "9579789                                      LICENZA MEDIA   \n",
       "9579790                            NESSUN TITOLO DI STUDIO   \n",
       "9579791                            NESSUN TITOLO DI STUDIO   \n",
       "9579792                                      LICENZA MEDIA   \n",
       "9579793                                      LICENZA MEDIA   \n",
       "\n",
       "                                                 CONTRATTO MODALITALAVORO  \\\n",
       "0                                         LAVORO DOMESTICO    TEMPO PIENO   \n",
       "1                               LAVORO A TEMPO DETERMINATO    TEMPO PIENO   \n",
       "2        APPRENDISTATO PROFESSIONALIZZANTE O CONTRATTO ...    TEMPO PIENO   \n",
       "3                 LAVORO INTERMITTENTE A TEMPO DETERMINATO   NON DEFINITO   \n",
       "4                                     LAVORO INTERMITTENTE   NON DEFINITO   \n",
       "...                                                    ...            ...   \n",
       "9579789                         LAVORO A TEMPO DETERMINATO    TEMPO PIENO   \n",
       "9579790                       LAVORO A TEMPO INDETERMINATO    TEMPO PIENO   \n",
       "9579791                         LAVORO A TEMPO DETERMINATO    TEMPO PIENO   \n",
       "9579792  LAVORO INTERINALE (O A SCOPO DI SOMMINISTRAZIO...    TEMPO PIENO   \n",
       "9579793  LAVORO INTERINALE (O A SCOPO DI SOMMINISTRAZIO...            NaN   \n",
       "\n",
       "        PROVINCIAIMPRESA ITALIANO  \n",
       "0                BERGAMO  UCRAINA  \n",
       "1                BERGAMO   ITALIA  \n",
       "2                BERGAMO   ITALIA  \n",
       "3                BERGAMO   ITALIA  \n",
       "4                BERGAMO   ITALIA  \n",
       "...                  ...      ...  \n",
       "9579789          BERGAMO   ITALIA  \n",
       "9579790          BERGAMO  ALBANIA  \n",
       "9579791          BERGAMO  SENEGAL  \n",
       "9579792          BERGAMO  SENEGAL  \n",
       "9579793          BERGAMO   ITALIA  \n",
       "\n",
       "[9579794 rows x 9 columns]"
      ]
     },
     "execution_count": 2,
     "metadata": {},
     "output_type": "execute_result"
    }
   ],
   "source": [
    "rap_lavoro_attivati = pd.read_csv(r'dataset\\Rapporti_di_lavoro_attivati.csv')\n",
    "rap_lavoro_cessati = pd.read_csv(r'dataset\\Rapporti_di_lavoro_cessati.csv')\n",
    "rap_lavoro_prorogati = pd.read_csv(r'dataset\\Rapporti_di_lavoro_prorogati.csv')\n",
    "rap_lavoro_trasformati = pd.read_csv(r'dataset\\Rapporti_di_lavoro_trasformati.csv')\n",
    "rap_lavoro_attivati"
   ]
  },
  {
   "cell_type": "code",
   "execution_count": 3,
   "id": "16d30798",
   "metadata": {},
   "outputs": [
    {
     "name": "stdout",
     "output_type": "stream",
     "text": [
      "<class 'pandas.core.frame.DataFrame'>\n",
      "RangeIndex: 9579794 entries, 0 to 9579793\n",
      "Data columns (total 9 columns):\n",
      " #   Column                     Dtype \n",
      "---  ------                     ----- \n",
      " 0   DATA                       object\n",
      " 1   GENERE                     object\n",
      " 2   ETA                        int64 \n",
      " 3   SETTOREECONOMICODETTAGLIO  object\n",
      " 4   TITOLOSTUDIO               object\n",
      " 5   CONTRATTO                  object\n",
      " 6   MODALITALAVORO             object\n",
      " 7   PROVINCIAIMPRESA           object\n",
      " 8   ITALIANO                   object\n",
      "dtypes: int64(1), object(8)\n",
      "memory usage: 657.8+ MB\n",
      "<class 'pandas.core.frame.DataFrame'>\n",
      "RangeIndex: 3741394 entries, 0 to 3741393\n",
      "Data columns (total 9 columns):\n",
      " #   Column                     Dtype \n",
      "---  ------                     ----- \n",
      " 0   DATA                       object\n",
      " 1   GENERE                     object\n",
      " 2   ETA                        int64 \n",
      " 3   SETTOREECONOMICODETTAGLIO  object\n",
      " 4   TITOLOSTUDIO               object\n",
      " 5   CONTRATTO                  object\n",
      " 6   MODALITALAVORO             object\n",
      " 7   PROVINCIAIMPRESA           object\n",
      " 8   ITALIANO                   object\n",
      "dtypes: int64(1), object(8)\n",
      "memory usage: 256.9+ MB\n",
      "<class 'pandas.core.frame.DataFrame'>\n",
      "RangeIndex: 3413617 entries, 0 to 3413616\n",
      "Data columns (total 9 columns):\n",
      " #   Column                     Dtype \n",
      "---  ------                     ----- \n",
      " 0   DATA                       object\n",
      " 1   GENERE                     object\n",
      " 2   ETA                        int64 \n",
      " 3   SETTOREECONOMICODETTAGLIO  object\n",
      " 4   TITOLOSTUDIO               object\n",
      " 5   CONTRATTO                  object\n",
      " 6   MODALITALAVORO             object\n",
      " 7   PROVINCIAIMPRESA           object\n",
      " 8   ITALIANO                   object\n",
      "dtypes: int64(1), object(8)\n",
      "memory usage: 234.4+ MB\n",
      "<class 'pandas.core.frame.DataFrame'>\n",
      "RangeIndex: 1975342 entries, 0 to 1975341\n",
      "Data columns (total 9 columns):\n",
      " #   Column                     Dtype \n",
      "---  ------                     ----- \n",
      " 0   DATA                       object\n",
      " 1   GENERE                     object\n",
      " 2   ETA                        int64 \n",
      " 3   SETTOREECONOMICODETTAGLIO  object\n",
      " 4   TITOLOSTUDIO               object\n",
      " 5   CONTRATTO                  object\n",
      " 6   MODALITALAVORO             object\n",
      " 7   PROVINCIAIMPRESA           object\n",
      " 8   ITALIANO                   object\n",
      "dtypes: int64(1), object(8)\n",
      "memory usage: 135.6+ MB\n",
      "[None, None, None, None]\n"
     ]
    }
   ],
   "source": [
    "print([rap_lavoro_attivati.info(), rap_lavoro_cessati.info(),rap_lavoro_prorogati.info(),rap_lavoro_trasformati.info()])"
   ]
  },
  {
   "cell_type": "code",
   "execution_count": 4,
   "id": "4b451297",
   "metadata": {},
   "outputs": [
    {
     "data": {
      "text/plain": [
       "Index(['DATA', 'GENERE', 'ETA', 'SETTOREECONOMICODETTAGLIO', 'TITOLOSTUDIO',\n",
       "       'CONTRATTO', 'MODALITALAVORO', 'PROVINCIAIMPRESA', 'ITALIANO'],\n",
       "      dtype='object')"
      ]
     },
     "execution_count": 4,
     "metadata": {},
     "output_type": "execute_result"
    }
   ],
   "source": [
    "rap_lavoro_cessati.columns"
   ]
  },
  {
   "cell_type": "code",
   "execution_count": 5,
   "id": "3d6facac",
   "metadata": {},
   "outputs": [
    {
     "data": {
      "text/plain": [
       "Index(['DATA', 'GENERE', 'ETA', 'SETTOREECONOMICODETTAGLIO', 'TITOLOSTUDIO',\n",
       "       'CONTRATTO', 'MODALITALAVORO', 'PROVINCIAIMPRESA', 'ITALIANO'],\n",
       "      dtype='object')"
      ]
     },
     "execution_count": 5,
     "metadata": {},
     "output_type": "execute_result"
    }
   ],
   "source": [
    "rap_lavoro_prorogati.columns\n"
   ]
  },
  {
   "cell_type": "code",
   "execution_count": 6,
   "id": "d9b6bd34",
   "metadata": {},
   "outputs": [
    {
     "data": {
      "text/plain": [
       "Index(['DATA', 'GENERE', 'ETA', 'SETTOREECONOMICODETTAGLIO', 'TITOLOSTUDIO',\n",
       "       'CONTRATTO', 'MODALITALAVORO', 'PROVINCIAIMPRESA', 'ITALIANO'],\n",
       "      dtype='object')"
      ]
     },
     "execution_count": 6,
     "metadata": {},
     "output_type": "execute_result"
    }
   ],
   "source": [
    "rap_lavoro_trasformati.columns"
   ]
  },
  {
   "cell_type": "code",
   "execution_count": 7,
   "id": "8427bb8b",
   "metadata": {},
   "outputs": [
    {
     "data": {
      "text/plain": [
       "{'BERGAMO',\n",
       " 'BRESCIA',\n",
       " 'COMO',\n",
       " 'CREMONA',\n",
       " 'LECCO',\n",
       " 'LODI',\n",
       " 'MANTOVA',\n",
       " 'MILANO',\n",
       " 'MONZA E BRIANZA',\n",
       " 'PAVIA',\n",
       " 'SONDRIO',\n",
       " 'VARESE'}"
      ]
     },
     "execution_count": 7,
     "metadata": {},
     "output_type": "execute_result"
    }
   ],
   "source": [
    "\n",
    "def series_to_set(column, source_df):\n",
    "    SET = set()\n",
    "    for elem in source_df[column]:\n",
    "        SET.add(elem)\n",
    "    return SET\n",
    "\n",
    "test_dataset = series_to_set('PROVINCIAIMPRESA', rap_lavoro_attivati)\n",
    "test_dataset"
   ]
  },
  {
   "cell_type": "code",
   "execution_count": 8,
   "id": "49237ef7",
   "metadata": {
    "scrolled": true
   },
   "outputs": [
    {
     "name": "stdout",
     "output_type": "stream",
     "text": [
      "<class 'pandas.core.frame.DataFrame'>\n",
      "RangeIndex: 12 entries, 0 to 11\n",
      "Data columns (total 1 columns):\n",
      " #   Column  Non-Null Count  Dtype \n",
      "---  ------  --------------  ----- \n",
      " 0   0       12 non-null     object\n",
      "dtypes: object(1)\n",
      "memory usage: 224.0+ bytes\n"
     ]
    }
   ],
   "source": [
    "pd.DataFrame(test_dataset).info()"
   ]
  },
  {
   "cell_type": "markdown",
   "id": "b0c0cc7f",
   "metadata": {},
   "source": [
    "### \n"
   ]
  },
  {
   "cell_type": "markdown",
   "id": "acd1a54f",
   "metadata": {},
   "source": [
    "altri dataset\n",
    "\n",
    "dt1 = pd.read_csv(r'dataset\\censimenti\\Area_geografica_e_paesi_di_cittadinanza_Lombardia_IT1,DF_DCSS_POP.csv')\n",
    "dt2 = pd.read_csv(r'dataset\\censimenti\\Cittadinanza_Lombardia_IT1,DF_DCSS_POP_DEMCITMIG_REG_23_ITC4,1_0.csv')\n",
    "dt3 = pd.read_csv(r'dataset\\censimenti\\Condizione_professionale_per_cittadinanza_Lombardia_IT1,DF_DCSS.csv')\n",
    "dt4 = pd.read_csv(r'dataset\\censimenti\\Grado_istruzione_per_cittadinanza_Lombardia_IT1,DF_DCSS_ISTR_LAV.csv')\n",
    "dt6 = pd.read_csv(r'dataset\\censimenti\\Indicatori_demografici_Lombardia_IT1,DF_DCSS_POP_DEMCITMIG_REG_25.csv')\n",
    "dt7 = pd.read_csv(r'dataset\\censimenti\\Numero_di_famiglie_e_popolazione_residente_in_famiglia_Lombardia.csv')\n",
    "dt8 = pd.read_csv(r'dataset\\censimenti\\Numero_medio_di_componenti_per_famiglia_Lombardia_IT1,DF_DCSS_FAM.csv')\n",
    "dt9 = pd.read_csv(r'dataset\\censimenti\\Popolazione_residente_per_sesso_ed_età_Lombardia_IT1,DF_DCSS_POP.csv')\n",
    "dt10 = pd.read_csv(r'dataset\\censimenti\\Principali_paesi_di_cittadinanza_comuni_con_più_di_20_000_ab_Lombardia.csv')\n",
    "dt11 = pd.read_csv(r'dataset\\censimenti\\Spostamenti_per_studio_o_lavoro_Lombardia_IT1,DF_DCSS_ISTR_LAV_PEN.csv')\n",
    "\n",
    "piu' importanti:\n",
    "\n",
    "dt5 = pd.read_csv(r'dataset\\censimenti\\Grado_istruzione_per_età_Lombardia_IT1,DF_DCSS_ISTR_LAV_PEN_2_REG.csv')\n",
    "condPro = pd.read_csv(r'dataset\\Condizione_professionale_per_età_Lombardia.csv')\n",
    "\n",
    "questi due e' possibile fare qualche analisi in aggiuntiva considerando l'eta' come campo comune ai dataset relativi ai Raporti Di Lavoro"
   ]
  },
  {
   "cell_type": "markdown",
   "id": "467754b4",
   "metadata": {},
   "source": [
    "# Dataset analysis\n",
    "In this section will be analyzed the content of the datasets. The first group of datasets contain work relations started\\ended\\changed\\extended. Calling the *info()* method is possible to see that all dataset share the same columns that are:\n",
    "- DATA: date of the contract\n",
    "- GENERE: sex of teh person\n",
    "- ETA: age of the person\n",
    "- SETTOREECONOMICODETTAGLIO: category of work\n",
    "- TITOLOSTUDIO: level of education of the person\n",
    "- CONTRATTO: type of contract\n",
    "- MODALITALAVORO: work mode\n",
    "- PROVINCIAIMPRESA: province of the place of work?\n",
    "- ITALIANO: nationality of the person\n",
    "\n",
    "From this first look at the data is possible to see that the dataset *Rapporti_di_lavoro_attivati* is bigger than the other one and this can itroduce some sort of bias in specific type of analysis"
   ]
  },
  {
   "cell_type": "code",
   "execution_count": null,
   "id": "bc2a2623",
   "metadata": {},
   "outputs": [],
   "source": []
  },
  {
   "cell_type": "code",
   "execution_count": null,
   "id": "35689fda",
   "metadata": {},
   "outputs": [],
   "source": []
  },
  {
   "cell_type": "code",
   "execution_count": null,
   "id": "555272c6",
   "metadata": {},
   "outputs": [],
   "source": []
  },
  {
   "cell_type": "code",
   "execution_count": null,
   "id": "5a2881a0",
   "metadata": {},
   "outputs": [],
   "source": []
  },
  {
   "cell_type": "code",
   "execution_count": null,
   "id": "e4a37ce8",
   "metadata": {},
   "outputs": [],
   "source": []
  },
  {
   "cell_type": "code",
   "execution_count": null,
   "id": "a121c0a9",
   "metadata": {},
   "outputs": [],
   "source": []
  },
  {
   "cell_type": "code",
   "execution_count": null,
   "id": "84e52795",
   "metadata": {},
   "outputs": [],
   "source": []
  },
  {
   "cell_type": "code",
   "execution_count": null,
   "id": "f68a6b25",
   "metadata": {},
   "outputs": [],
   "source": []
  },
  {
   "cell_type": "code",
   "execution_count": null,
   "id": "3a7b113b",
   "metadata": {},
   "outputs": [],
   "source": []
  },
  {
   "cell_type": "code",
   "execution_count": null,
   "id": "4d16d4ef",
   "metadata": {},
   "outputs": [],
   "source": []
  }
 ],
 "metadata": {
  "kernelspec": {
   "display_name": "Python 3",
   "language": "python",
   "name": "python3"
  },
  "language_info": {
   "codemirror_mode": {
    "name": "ipython",
    "version": 3
   },
   "file_extension": ".py",
   "mimetype": "text/x-python",
   "name": "python",
   "nbconvert_exporter": "python",
   "pygments_lexer": "ipython3",
   "version": "3.8.10"
  }
 },
 "nbformat": 4,
 "nbformat_minor": 5
}
