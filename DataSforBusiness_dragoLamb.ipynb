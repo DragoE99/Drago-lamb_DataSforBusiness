{
 "cells": [
  {
   "cell_type": "markdown",
   "id": "63779eaf",
   "metadata": {},
   "source": [
    "# Data science for business project\n",
    "This project is made by \n",
    "- Drago Emanuele\n",
    "- Lambrughi Achille\n",
    "\n",
    "The aim of this project is to retrive, clean, analyze and develop a machine learning model starting from some given dataset.\n",
    "\n",
    "The dataset considered are available at the following link:\n",
    "- https://www.dati.lombardia.it/Attivit-Produttive/Rapporti-di-lavoro-attivati/qbau-cyuc\n"
   ]
  },
  {
   "cell_type": "code",
   "execution_count": 1,
   "id": "57130c7a",
   "metadata": {},
   "outputs": [],
   "source": [
    "import numpy as np\n",
    "import pandas as pd\n",
    "import matplotlib as mpl, matplotlib.pyplot as plt\n",
    "from pathlib import PurePath\n",
    "from datetime import datetime, timedelta"
   ]
  },
  {
   "cell_type": "code",
   "execution_count": null,
   "id": "5bf6a9a4",
   "metadata": {},
   "outputs": [],
   "source": [
    "rap_lavoro_attivati = pd.read_csv(PurePath('dataset', 'Rapporti_di_lavoro_attivati.csv'),parse_dates=['DATA'])\n",
    "print([rap_lavoro_attivati.info()])"
   ]
  },
  {
   "cell_type": "code",
   "execution_count": null,
   "id": "8427bb8b",
   "metadata": {},
   "outputs": [],
   "source": [
    "def series_to_set(column, source_df):\n",
    "    SET = set()\n",
    "    for elem in source_df[column]:\n",
    "        SET.add(elem)\n",
    "    return SET\n",
    "\n",
    "test_dataset = series_to_set('MODALITALAVORO', rap_lavoro_attivati)\n",
    "test_dataset"
   ]
  },
  {
   "cell_type": "markdown",
   "id": "467754b4",
   "metadata": {},
   "source": [
    "# Dataset analysis\n",
    "In this section will be analyzed the content of the datasets. The first group of datasets contain work relations started\\ended\\changed\\extended. Calling the `info()` method is possible to see that all dataset share the same columns that are:\n",
    "- DATA: date of the contract\n",
    "- GENERE: sex of teh person\n",
    "- ETA: age of the person\n",
    "- SETTOREECONOMICODETTAGLIO: category of work\n",
    "- TITOLOSTUDIO: level of education of the person\n",
    "- CONTRATTO: type of contract\n",
    "- MODALITALAVORO: work mode\n",
    "- PROVINCIAIMPRESA: province of the place of work?\n",
    "- ITALIANO: nationality of the person\n",
    "\n",
    "From this first look at the data is possible to see that the dataset `Rapporti_di_lavoro_attivati` is bigger than the other one and this can itroduce some sort of bias in specific type of analysis"
   ]
  },
  {
   "cell_type": "markdown",
   "id": "ad777886",
   "metadata": {},
   "source": [
    "### Changing data type\n",
    "Almost all columns of the dataset are type object, in the following part we will convert every column in an appropriate type.\n",
    "\n",
    "Starting from the column `DATA` that has been converted whilie importing the data from the csv a part for `Rapporti_di_lavoro_cessati.csv` that has not been converted and so it will be converted now.\n",
    "Then all the other column except for `ETA` will be converted to strings"
   ]
  },
  {
   "cell_type": "code",
   "execution_count": null,
   "id": "35689fda",
   "metadata": {},
   "outputs": [],
   "source": [
    "rap_lavoro_attivati[['GENERE','SETTOREECONOMICODETTAGLIO','TITOLOSTUDIO','CONTRATTO', 'MODALITALAVORO','PROVINCIAIMPRESA','ITALIANO']]=rap_lavoro_attivati[['GENERE','SETTOREECONOMICODETTAGLIO','TITOLOSTUDIO','CONTRATTO', 'MODALITALAVORO','PROVINCIAIMPRESA','ITALIANO']].astype('string')"
   ]
  },
  {
   "cell_type": "markdown",
   "id": "b274a6e8",
   "metadata": {},
   "source": [
    "as is possible to see now all the column have a specific data type"
   ]
  },
  {
   "cell_type": "code",
   "execution_count": null,
   "id": "5a2881a0",
   "metadata": {},
   "outputs": [],
   "source": [
    "rap_lavoro_attivati.info()"
   ]
  },
  {
   "cell_type": "markdown",
   "id": "92c18e84",
   "metadata": {},
   "source": [
    "### Searching wrong and null data\n",
    "Now we will look inside the data checking null or possibly wrong value, after those data will be corrected or deleted.\n",
    "First off we will find out how many null value there are in each column"
   ]
  },
  {
   "cell_type": "code",
   "execution_count": null,
   "id": "a121c0a9",
   "metadata": {},
   "outputs": [],
   "source": [
    "print([rap_lavoro_attivati.isnull().sum()])"
   ]
  },
  {
   "cell_type": "markdown",
   "id": "a83ebd6a",
   "metadata": {},
   "source": [
    "From this first look is possible to see that a big part of value is missing from the column `MODALITALAVORO` of the dataset `Rapporti_di_lavoro_attivati` these value needs to be replaced while the other could be simply deleted because they represent a small part of the dataset.\n",
    "\n",
    "But before proceding now will be checked the actual value of some columnn to see if there are some non plausible data.\n",
    "Starting from the column `DATA`"
   ]
  },
  {
   "cell_type": "code",
   "execution_count": null,
   "id": "f68a6b25",
   "metadata": {},
   "outputs": [],
   "source": [
    "rap_lavoro_attivati['DATA'].describe(datetime_is_numeric=True)"
   ]
  },
  {
   "cell_type": "code",
   "execution_count": null,
   "id": "3a7b113b",
   "metadata": {},
   "outputs": [],
   "source": [
    "rap_lavoro_attivati = rap_lavoro_attivati[rap_lavoro_attivati['DATA'] < np.datetime64('2022-02-20')]"
   ]
  },
  {
   "cell_type": "code",
   "execution_count": null,
   "id": "61904765",
   "metadata": {},
   "outputs": [],
   "source": [
    "rap_lavoro_attivati['DATA'].describe(datetime_is_numeric=True)"
   ]
  },
  {
   "cell_type": "code",
   "execution_count": null,
   "id": "65366447",
   "metadata": {},
   "outputs": [],
   "source": [
    "rap_lavoro_attivati['DATA'].max"
   ]
  },
  {
   "cell_type": "code",
   "execution_count": null,
   "id": "a086ef0f",
   "metadata": {},
   "outputs": [],
   "source": [
    "rap_lavoro_attivati = rap_lavoro_attivati[(rap_lavoro_attivati.DATA > '2017') & (rap_lavoro_attivati.DATA < '2020')]"
   ]
  },
  {
   "cell_type": "code",
   "execution_count": null,
   "id": "e8ea2365",
   "metadata": {},
   "outputs": [],
   "source": [
    "rap_lavoro_attivati.head()"
   ]
  },
  {
   "cell_type": "code",
   "execution_count": null,
   "id": "31a307a5",
   "metadata": {},
   "outputs": [],
   "source": [
    "rap_lavoro_attivati.info()"
   ]
  },
  {
   "cell_type": "code",
   "execution_count": null,
   "id": "d783c720",
   "metadata": {},
   "outputs": [],
   "source": [
    "settore_economico = series_to_set('SETTOREECONOMICODETTAGLIO', rap_lavoro_attivati)\n",
    "len(settore_economico)"
   ]
  },
  {
   "cell_type": "markdown",
   "id": "438adf09",
   "metadata": {},
   "source": [
    "Since the `SETTOREECONOMICODETTAGLIO` column has `1125` different values belonging to it, it cannot be easily exploited to analyze data (e.g. dividing them into categories). Furthermore, there are `2888` null values in this column that can make the analysis of this feature even tougher. Considering this two facts, we can derive that dropping the whole column is more convenient than keeping it, since it introduce noise. "
   ]
  },
  {
   "cell_type": "markdown",
   "id": "52d1fa2f",
   "metadata": {},
   "source": [
    "In the `rap_lavoro_attivati` there are a lot of null values for the column `MODALITALAVORO`, removing the rows would reduce the set of data we are analysing. Hence, we'd rather prefer to fill those null values with a suitable values. "
   ]
  },
  {
   "cell_type": "code",
   "execution_count": null,
   "id": "87a63312",
   "metadata": {},
   "outputs": [],
   "source": [
    "mod_lavoro = series_to_set('MODALITALAVORO', rap_lavoro_attivati)\n",
    "mod_lavoro"
   ]
  },
  {
   "cell_type": "code",
   "execution_count": null,
   "id": "2b75d62d",
   "metadata": {},
   "outputs": [],
   "source": [
    "settori_eco = rap_lavoro_attivati['SETTOREECONOMICODETTAGLIO'].fillna('')\n",
    "sett_occur = dict()\n",
    "settori_eco = list(settori_eco)\n",
    "settori = set(settori_eco)\n",
    "for settore in settori:\n",
    "    sett_occur[settore] = settori_eco.count(settore)"
   ]
  },
  {
   "cell_type": "code",
   "execution_count": null,
   "id": "3ee33f58",
   "metadata": {},
   "outputs": [],
   "source": [
    "common = {k: v for k, v in reversed(sorted(sett_occur.items(), key=lambda item: item[1]))}\n",
    "common = list(common)[:50]"
   ]
  },
  {
   "cell_type": "code",
   "execution_count": null,
   "id": "6be6383a",
   "metadata": {},
   "outputs": [],
   "source": [
    "common[:5]"
   ]
  },
  {
   "cell_type": "code",
   "execution_count": null,
   "id": "011e14a9",
   "metadata": {},
   "outputs": [],
   "source": [
    "rap_lavoro_attivati = rap_lavoro_attivati[\n",
    "    rap_lavoro_attivati.SETTOREECONOMICODETTAGLIO.isin(common)]\n",
    "rap_lavoro_attivati"
   ]
  },
  {
   "cell_type": "code",
   "execution_count": null,
   "id": "8c23f4ad",
   "metadata": {},
   "outputs": [],
   "source": [
    "bins = np.arange(14, 68, 3).tolist()\n",
    "bins"
   ]
  },
  {
   "cell_type": "code",
   "execution_count": null,
   "id": "8194ae2c",
   "metadata": {},
   "outputs": [],
   "source": [
    "rap_lavoro_attivati['agerange'] = pd.cut(rap_lavoro_attivati['ETA'], bins)\n",
    "rap_lavoro_attivati"
   ]
  },
  {
   "cell_type": "markdown",
   "id": "03d32ffc",
   "metadata": {},
   "source": [
    "The value `NON DEFINITO` can be used to fill the na, since that won't introduce much bias, differently from the other available values. "
   ]
  },
  {
   "cell_type": "code",
   "execution_count": null,
   "id": "9e6fb2ba",
   "metadata": {},
   "outputs": [],
   "source": [
    "def clean(df):\n",
    "    df['MODALITALAVORO'] = df['MODALITALAVORO'].fillna('NON DEFINITO')\n",
    "    df.dropna(axis = 0, inplace = True)\n",
    "    \n",
    "\n",
    "clean(rap_lavoro_attivati)\n",
    "rap_lavoro_attivati.isnull().sum()"
   ]
  },
  {
   "cell_type": "markdown",
   "id": "b2536b2d",
   "metadata": {},
   "source": [
    "#### Working on column `DATA`\n",
    "In this section we will analyze in more detail the column `DATA` and adjust the data accordingly.\n",
    "The first step is to group the column by year and count how many contract are activated per year"
   ]
  },
  {
   "cell_type": "code",
   "execution_count": null,
   "id": "6dec156b",
   "metadata": {},
   "outputs": [],
   "source": [
    "print(rap_lavoro_attivati.groupby(pd.Grouper(key='DATA', freq='Y'))['DATA'].count())"
   ]
  },
  {
   "cell_type": "markdown",
   "id": "197ea8d6",
   "metadata": {},
   "source": [
    "as is possible to see meany of the value have date between 2009 and 2022, so to have a more significant set of data we will remove all the row with date previous to 2009"
   ]
  },
  {
   "cell_type": "code",
   "execution_count": null,
   "id": "63eb301e",
   "metadata": {},
   "outputs": [],
   "source": [
    "rap_lavoro_attivati = rap_lavoro_attivati[(rap_lavoro_attivati[\"DATA\"] >= '2009')]\n",
    "attivatiTemp = rap_lavoro_attivati[(rap_lavoro_attivati[\"DATA\"] >= '2009')]"
   ]
  },
  {
   "cell_type": "code",
   "execution_count": null,
   "id": "99ef8b4a",
   "metadata": {},
   "outputs": [],
   "source": [
    "print(attivatiTemp.groupby(pd.Grouper(key='DATA', freq='Y'))['DATA'].count())"
   ]
  },
  {
   "cell_type": "markdown",
   "id": "a5b9d260",
   "metadata": {},
   "source": [
    "With this we can see how many contract have been activated in the last few years in the Lombardy region. But before that we apply the same changes to the other datast and after that we can compare the result"
   ]
  },
  {
   "cell_type": "code",
   "execution_count": null,
   "id": "9bc76df7",
   "metadata": {},
   "outputs": [],
   "source": [
    "attivatiTemp.groupby(pd.Grouper(key='DATA', freq='Y'))['DATA'].count().plot(label=\"attivati\")\n",
    "plt.legend()\n",
    "plt.show()"
   ]
  },
  {
   "cell_type": "markdown",
   "id": "224f3489",
   "metadata": {},
   "source": [
    "is possible to see that *attivati* and *cessati*  have a simila behavior but in a different scale while *trasformati* and *prorogati* differs from the previous but have some similarity between them."
   ]
  },
  {
   "cell_type": "code",
   "execution_count": null,
   "id": "a8ae6432",
   "metadata": {},
   "outputs": [],
   "source": [
    "m_to_f_rationA = rap_lavoro_attivati.GENERE.value_counts()\n",
    "\n",
    "xaxisA = m_to_f_rationA.index\n",
    "valueA = m_to_f_rationA.values\n",
    "\n",
    "fig1, axis = plt.subplots(1)\n",
    "fig1.dpi = 200\n",
    "\n",
    "#Attivati male to female Graph\n",
    "axis.pie(valueA, labels=xaxisA, autopct='%1.1f%%', startangle=90)\n",
    "axis.axis('equal')  # Equal aspect ratio ensures that pie is drawn as a circle.\n"
   ]
  },
  {
   "cell_type": "markdown",
   "id": "b59945ac",
   "metadata": {},
   "source": [
    "from these graphs we can say that probably there are more male than female in the popoulation"
   ]
  },
  {
   "cell_type": "markdown",
   "id": "96bcfec9",
   "metadata": {},
   "source": [
    "## Introducing another dataset\n",
    "This dataset contain the level of education for age referred to the region lombardy from the year 2018 to 2020.The educational level  are coded in teh following way:\n",
    "- NED = nessun titolo di studio\n",
    "- IL =  analfabeti\n",
    "- LBNA = analfabeti privi di titolo di studio\n",
    "- PSE = licenza di scuola elementare\n",
    "- LSE = licenza media o avviamento professionale (conseguito non oltre l'anno 1965)/ Diploma di istruzione secondaria di I grado\n",
    "- USE_IF = Diploma di istruzione secondaria di II grado o di qualifica professionale (corso di 3-4 anni) compresi IFTS\n",
    "- BL = Diploma tecnico superiore ITS o titolo di studio terziario di primo livello\n",
    "- ML_RDD = titolo di studio terziario di secondo livello e dottorato di ricerca\n",
    "- ML = Titolo di studio terziario di secondo livello\n",
    "- RDD = Dottorato di ricerca/diploma accademico di formazione alla ricerca\n",
    "- ALL = totale"
   ]
  },
  {
   "cell_type": "code",
   "execution_count": null,
   "id": "e329278f",
   "metadata": {
    "scrolled": true
   },
   "outputs": [],
   "source": [
    "grado_istruzione_age  = pd.read_csv(PurePath('dataset', 'Grado_istruzione_per_età_Lombardia_IT1,DF_DCSS_ISTR_LAV_PEN_2_REG.csv'),low_memory=False)\n",
    "grado_istruzione_age.head()"
   ]
  },
  {
   "cell_type": "markdown",
   "id": "04619744",
   "metadata": {},
   "source": [
    "there are some column with null value that can be deleted"
   ]
  },
  {
   "cell_type": "code",
   "execution_count": null,
   "id": "ee685ec1",
   "metadata": {},
   "outputs": [],
   "source": [
    "grado_istruzione_age = grado_istruzione_age[['REF_AREA', 'GENDER', 'AGE_NOCLASS', 'EDU_ATTAIN', 'TIME_PERIOD', 'OBS_VALUE']]"
   ]
  },
  {
   "cell_type": "code",
   "execution_count": null,
   "id": "f920616d",
   "metadata": {},
   "outputs": [],
   "source": [
    "grado_istruzione_age ['AGE_NOCLASS'].value_counts()"
   ]
  },
  {
   "cell_type": "markdown",
   "id": "ae02915b",
   "metadata": {},
   "source": [
    "those value represet age range in specific:\n",
    "- Y_GE9: all people with age greater than 9, in this case all the people in the dataset\n",
    "- Y25-49: people with an age between 25 and 49\n",
    "- Y50-64: people with an age between 50 and 64\n",
    "- Y_GE65: people with more than 65 years\n",
    "- Y9-24: people with an age between 9 and 24\n",
    "\n",
    "In the following part we will add a column with the saem age range of the dataset *Grado_istruzione_per_età_Lombardia*"
   ]
  },
  {
   "cell_type": "code",
   "execution_count": null,
   "id": "593d0d32",
   "metadata": {},
   "outputs": [],
   "source": [
    "bins = [0,25, 50, 65, 200]\n",
    "labels = ['Y9-24', 'Y25-49', 'Y50-64','Y_GE65' ]\n",
    "rap_lavoro_attivati['agerange'] = pd.cut(rap_lavoro_attivati['ETA'], bins, labels = labels,include_lowest = True)\n",
    "rap_lavoro_attivati"
   ]
  },
  {
   "cell_type": "markdown",
   "id": "d3615cb0",
   "metadata": {},
   "source": [
    "because in the dataset *rapporti di lavoro* the minimum age is 16 while in *Grado_istruzione_per_età_Lombardia* is 9 we will delete all the illiterate and the people with only elementary school license with the age between 9 and 24  from the dataset, we have choose to do so because the majority of people in that age range with only elementary school license are the one under 16 year"
   ]
  },
  {
   "cell_type": "code",
   "execution_count": null,
   "id": "4be7ed41",
   "metadata": {},
   "outputs": [],
   "source": [
    "grado_istruzione_age = grado_istruzione_age [~((grado_istruzione_age ['EDU_ATTAIN']== 'IL')|(grado_istruzione_age ['EDU_ATTAIN']== 'LBNA')|((grado_istruzione_age ['EDU_ATTAIN']== 'PSE')&(grado_istruzione_age ['AGE_NOCLASS']== 'Y9_24')))]\n",
    "grado_istruzione_age"
   ]
  },
  {
   "cell_type": "code",
   "execution_count": null,
   "id": "78a53744",
   "metadata": {},
   "outputs": [],
   "source": [
    "print(rap_lavoro_attivati['TITOLOSTUDIO'].head())\n",
    "grado_istruzione_age['EDU_ATTAIN'].head()"
   ]
  },
  {
   "cell_type": "markdown",
   "id": "3043c984",
   "metadata": {},
   "source": [
    "The series `TITOLO_STUDIO` and `EDU_ATTAIN` don't match easily, but we can map the values of `EDU_ATTAIN` into `TITOLO_STUDIO`."
   ]
  },
  {
   "cell_type": "code",
   "execution_count": null,
   "id": "8891fa3e",
   "metadata": {
    "scrolled": true
   },
   "outputs": [],
   "source": [
    "print(series_to_set('TITOLOSTUDIO', rap_lavoro_attivati))\n",
    "print(series_to_set('EDU_ATTAIN', grado_istruzione_age))"
   ]
  },
  {
   "cell_type": "code",
   "execution_count": null,
   "id": "c32a5e9a",
   "metadata": {},
   "outputs": [],
   "source": [
    "grado_istruzione_age.loc[(grado_istruzione_age.EDU_ATTAIN.isin(['ML_RDD'])) & ~(grado_istruzione_age.AGE_NOCLASS == 'Y_GE9')]"
   ]
  },
  {
   "cell_type": "code",
   "execution_count": null,
   "id": "b1ecab84",
   "metadata": {},
   "outputs": [],
   "source": [
    "grado_istruzione_age = grado_istruzione_age[grado_istruzione_age['TIME_PERIOD'] != 2020]\n",
    "grado_istruzione_age = grado_istruzione_age[~grado_istruzione_age.EDU_ATTAIN.isin(['ALL', 'ML', 'RDD'])]\n",
    "grado_istruzione_age = grado_istruzione_age[grado_istruzione_age.AGE_NOCLASS != 'Y_GE9']\n",
    "grado_istruzione_age = grado_istruzione_age[grado_istruzione_age.GENDER != 'T']\n",
    "grado_istruzione_age.head()"
   ]
  },
  {
   "cell_type": "code",
   "execution_count": null,
   "id": "71222e80",
   "metadata": {},
   "outputs": [],
   "source": [
    "edu_map = {\n",
    "    'IL': 'NESSUN TITOLO DI STUDIO',\n",
    "    'NED': 'NESSUN TITOLO DI STUDIO',\n",
    "    'LBNA': 'NESSUN TITOLO DI STUDIO',\n",
    "    'PSE': 'LICENZA ELEMENTARE',\n",
    "    'LSE': 'LICENZA MEDIA',\n",
    "    'USE_IF': 'DIPLOMA DI ISTRUZIONE SECONDARIA SUPERIORE',\n",
    "    \"TITOLO DI ISTRUZIONE SECONDARIA SUPERIORE (SCOLASTICA ED EXTRA-SCOLASTICA) CHE NON PERMETTE L'ACCESSO ALL'UNIVERSITÀ ()\": 'DIPLOMA DI ISTRUZIONE SECONDARIA SUPERIORE',\n",
    "    \"DIPLOMA DI ISTRUZIONE SECONDARIA SUPERIORE  CHE PERMETTE L'ACCESSO ALL'UNIVERSITA\": 'DIPLOMA DI ISTRUZIONE SECONDARIA SUPERIORE',\n",
    "    'BL': 'LAUREA',\n",
    "    'ML_RDD': 'TITOLO DI STUDIO TERZIARIO DI SECONDO LIVELLO O DOTTORATO',\n",
    "    'DIPLOMA TERZIARIO EXTRA-UNIVERSITARIO': 'TITOLO DI STUDIO TERZIARIO DI SECONDO LIVELLO O DOTTORATO',\n",
    "    'MASTER UNIVERSITARIO DI PRIMO LIVELLO': 'TITOLO DI STUDIO TERZIARIO DI SECONDO LIVELLO O DOTTORATO',\n",
    "    'LAUREA - Vecchio o nuovo ordinamento': 'LAUREA',\n",
    "    'DIPLOMA DI SPECIALIZZAZIONE': 'TITOLO DI STUDIO TERZIARIO DI SECONDO LIVELLO O DOTTORATO',\n",
    "    'DIPLOMA UNIVERSITARIO': 'LAUREA'   \n",
    "}\n"
   ]
  },
  {
   "cell_type": "code",
   "execution_count": null,
   "id": "8a10bcd9",
   "metadata": {},
   "outputs": [],
   "source": [
    "def mapping(series): \n",
    "    series = series.apply(lambda x: edu_map.get(x) if edu_map.get(x) != None else x)\n",
    "    return series\n",
    "\n",
    "rap_lavoro_attivati['TITOLOSTUDIO'] = mapping(rap_lavoro_attivati['TITOLOSTUDIO'])\n",
    "\n",
    "grado_istruzione_age['EDU_ATTAIN'] = mapping(grado_istruzione_age['EDU_ATTAIN'])\n",
    "\n",
    "grado_istruzione_age['EDU_ATTAIN']\n"
   ]
  },
  {
   "cell_type": "code",
   "execution_count": null,
   "id": "b8a92f6c",
   "metadata": {},
   "outputs": [],
   "source": [
    "rap_lavoro_attivati['TITOLOSTUDIO']"
   ]
  },
  {
   "cell_type": "markdown",
   "id": "c3dfd7e9",
   "metadata": {},
   "source": [
    "In the next section we'll see a graph comparing the number of contract activated and the tota number of population in 2018"
   ]
  },
  {
   "cell_type": "code",
   "execution_count": null,
   "id": "e93063e5",
   "metadata": {},
   "outputs": [],
   "source": [
    "import datetime as dt\n",
    "\n",
    "activate2018 = rap_lavoro_attivati[rap_lavoro_attivati['DATA'].dt.year == 2018]\n",
    "istr2018 = grado_istruzione_age[(grado_istruzione_age['TIME_PERIOD']== 2018)]\n",
    "total = istr2018.groupby(['AGE_NOCLASS']).sum()\n",
    "\n",
    "\n",
    "testAge = activate2018['agerange'].value_counts()\n",
    "\n",
    "labels = testAge.index\n",
    "newContract = np.log(testAge.values)\n",
    "totalPopulation = np.log(total['OBS_VALUE'].values)\n",
    "\n",
    "x = np.arange(len(labels))  # the label locations\n",
    "width = 0.35  # the width of the bars\n",
    "\n",
    "fig, ax = plt.subplots()\n",
    "rects1 = ax.bar(x - width/2, newContract, width, label='New Contract')\n",
    "rects2 = ax.bar(x + width/2, totalPopulation, width, label='Total Population')\n",
    "\n",
    "# Add some text for labels, title and custom x-axis tick labels, etc.\n",
    "ax.set_ylabel('log number')\n",
    "ax.set_title('number by attivati vs total number')\n",
    "ax.set_xticks(x)\n",
    "ax.set_xticklabels(labels=labels,rotation=45,\n",
    "    horizontalalignment='right');\n",
    "ax.legend()\n",
    "\n",
    "\n",
    "\n",
    "fig.tight_layout()\n",
    "\n",
    "plt.show()"
   ]
  },
  {
   "cell_type": "code",
   "execution_count": null,
   "id": "2ebe4d16",
   "metadata": {},
   "outputs": [],
   "source": [
    "city_codes = pd.read_excel(PurePath('dataset', 'Elenco-comuni-italiani.xls'))\n",
    "city_codes = city_codes[['Codice Comune formato alfanumerico', \n",
    "                        'Denominazione in italiano',\n",
    "                        'Denominazione Regione',\n",
    "                        'Provincia',\n",
    "                        'Codice NUTS3 2021',\n",
    "                        'Codice NUTS2 2021 (3) '\n",
    "                        ]]\n",
    "city_codes = city_codes[city_codes['Denominazione Regione'] == 'Lombardia']\n",
    "city_codes = city_codes.set_index('Codice Comune formato alfanumerico')\n",
    "city_codes.loc[1] = ['','','Milano','ITC45','']   #The code in the dataset does not match with the code of Milano, \n",
    "                                                  #manually added\n",
    "city_codes.head()"
   ]
  },
  {
   "cell_type": "code",
   "execution_count": null,
   "id": "09098ee6",
   "metadata": {
    "scrolled": true
   },
   "outputs": [],
   "source": [
    "def get_provincia_by_code(code):\n",
    "    return city_codes[city_codes['Codice NUTS3 2021'] == code]['Provincia'].iloc[0]\n",
    "                    "
   ]
  },
  {
   "cell_type": "code",
   "execution_count": null,
   "id": "e0a559cf",
   "metadata": {},
   "outputs": [],
   "source": [
    "grado_istruzione_age = grado_istruzione_age[grado_istruzione_age.REF_AREA.isin(city_codes['Codice NUTS3 2021'])]"
   ]
  },
  {
   "cell_type": "code",
   "execution_count": null,
   "id": "bfc82299",
   "metadata": {},
   "outputs": [],
   "source": [
    "grado_istruzione_age['REF_AREA'] = grado_istruzione_age['REF_AREA'].apply(lambda x: get_provincia_by_code(x)) \n",
    "grado_istruzione_age"
   ]
  },
  {
   "cell_type": "code",
   "execution_count": null,
   "id": "79f4d559",
   "metadata": {},
   "outputs": [],
   "source": [
    "grado_istruzione_age[grado_istruzione_age.REF_AREA == 'Milano'].groupby(['REF_AREA', 'TIME_PERIOD', 'GENDER', 'EDU_ATTAIN', 'AGE_NOCLASS']).sum().head(60)"
   ]
  },
  {
   "cell_type": "code",
   "execution_count": null,
   "id": "0a10d783",
   "metadata": {},
   "outputs": [],
   "source": [
    "series_to_set('REF_AREA', grado_istruzione_age)"
   ]
  }
 ],
 "metadata": {
  "kernelspec": {
   "display_name": "Python 3 (ipykernel)",
   "language": "python",
   "name": "python3"
  },
  "language_info": {
   "codemirror_mode": {
    "name": "ipython",
    "version": 3
   },
   "file_extension": ".py",
   "mimetype": "text/x-python",
   "name": "python",
   "nbconvert_exporter": "python",
   "pygments_lexer": "ipython3",
   "version": "3.10.4"
  }
 },
 "nbformat": 4,
 "nbformat_minor": 5
}
