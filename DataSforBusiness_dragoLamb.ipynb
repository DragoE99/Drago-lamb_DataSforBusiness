{
 "cells": [
  {
   "cell_type": "markdown",
   "id": "da7b2d39",
   "metadata": {},
   "source": [
    "# Data science for business project\n",
    "This project is developed by \n",
    "- Drago Emanuele\n",
    "- Lambrughi Achille"
   ]
  },
  {
   "cell_type": "markdown",
   "id": "11829e63",
   "metadata": {},
   "source": [
    "# Index\n",
    "\n",
    "\n",
    "- [Introduction](#Introduction)<a href='#Introduction'></a><br>\n",
    "- [Resources](#res)<a href='res'></a><br>\n",
    "- [Configuration](#config)<a href='config'></a><br>\n",
    "- [Library](#lib)<a href='lib'></a><br>\n",
    "- [Function defined](#my_fun)<a href='my_fun'></a><br>\n",
    "\n",
    "[**Dataset analysis**](#cap1)<a href='cap1'></a><br>\n",
    "- [Dataset Import](#dt_import)<a href='dt_import'></a><br>\n",
    "- [Outlier detection](#dec_outlier)<a href='dec_outlier'></a><br>\n",
    "    - [DATA column](#data_cl)<a href='data_cl'></a><br>\n",
    "    - [SETTOREECONOMICODETTAGLIO column](#set_ec_cl)<a href='linear_regression'></a><br>\n",
    "    - [MODALITALAVORO column](#mod_work_cl)<a href='mod_work_cl'></a><br>\n",
    "    \n",
    "[**Building machine learning models**](#ml_model)<a href='ml_model'></a><br>\n",
    "- [Feature encoding](#feature_encoding)<a href='feature_encoding'></a><br>\n",
    "    - [Direct Encoding](#simp_encoding)<a href='simp_encoding'></a><br>\n",
    "    - [Our Encoding](#elab_encoding)<a href='elab_encoding'></a><br>\n",
    "- [Models Traning](#models_trainig)<a href='models_trainig'></a><br>\n"
   ]
  },
  {
   "cell_type": "markdown",
   "id": "477bab42",
   "metadata": {},
   "source": [
    "<a id='Introduction'></a>\n",
    "## Introduction\n",
    "The aim of this project is to illustrates various fases of a data science project. In the first fase we will import and analyze a dataset, then based on the analysis result we clean up the data removing outlier and null value.\n",
    "Once the data is ready we will buid a machine learning model able to respond to some question regarding the data."
   ]
  },
  {
   "cell_type": "markdown",
   "id": "6859c94f",
   "metadata": {},
   "source": [
    "<a id='res'></a>\n",
    "## Resources\n",
    "The datasets considered are available at the following link:\n",
    "- https://www.dati.lombardia.it/Attivit-Produttive/Rapporti-di-lavoro-attivati/qbau-cyuc\n",
    "- https://esploradati.censimentopopolazione.istat.it/databrowser/#/it/censtest/ITC4\n",
    "\n",
    "other resources:\n",
    "https://www.google.it/url?sa=t&rct=j&q=&esrc=s&source=web&cd=&ved=2ahUKEwiamPWll5T4AhUSG-wKHYxBBooQFnoECAcQAQ&url=https%3A%2F%2Fwww.istat.it%2Fstorage%2Fcodici-unita-amministrative%2FElenco-comuni-italiani.xls&usg=AOvVaw1grUzCb-YznlY1XTyzCUJE\n",
    "\n",
    "in this file the column *Denominazione dell'Unità territoriale sovracomunale \n",
    "(valida a fini statistici)* has been renamed in *Provincia*\n",
    "\n"
   ]
  },
  {
   "cell_type": "markdown",
   "id": "e9cfe044",
   "metadata": {},
   "source": [
    "<a id='config'></a>\n",
    "### Configuration\n",
    "For this project will be used the module xgboost so for a correct compiling of the code is necessary to install it."
   ]
  },
  {
   "cell_type": "markdown",
   "id": "e00eab7d",
   "metadata": {},
   "source": [
    "<a id='lib'></a>\n",
    "### Library used\n",
    "The following cell contain the main library used for the project, some library are imported right after used"
   ]
  },
  {
   "cell_type": "code",
   "execution_count": 1,
   "id": "6c90a1fd",
   "metadata": {},
   "outputs": [],
   "source": [
    "import numpy as np\n",
    "import pandas as pd\n",
    "import matplotlib as mpl, matplotlib.pyplot as plt\n",
    "from pathlib import PurePath\n",
    "from datetime import datetime, timedelta"
   ]
  },
  {
   "cell_type": "markdown",
   "id": "26bcf874",
   "metadata": {},
   "source": [
    "<a id='my_fun'></a>\n",
    "### Definig some function\n",
    "Before proceding with the dataset we define the following function:\n",
    "- `series_to_set`: this function take as input a column and a dataframe and returs a set containing the column value\n",
    "- `mapping`: this function takes as input a series and a mapping dictionary,returns the series mapped to the dictionary"
   ]
  },
  {
   "cell_type": "code",
   "execution_count": 2,
   "id": "54a7a9a6",
   "metadata": {},
   "outputs": [],
   "source": [
    "def series_to_set(column, source_df):\n",
    "    SET = set()\n",
    "    for elem in source_df[column]:\n",
    "        SET.add(elem)\n",
    "    return SET\n",
    "\n",
    "def mapping(series, mapp): \n",
    "    series = series.apply(lambda x: mapp.get(x) if mapp.get(x) != None else x)\n",
    "    return series"
   ]
  },
  {
   "cell_type": "markdown",
   "id": "d6d65ae3",
   "metadata": {},
   "source": [
    "<a id='cap1'></a>\n",
    "# Dataset analysis\n",
    "In this section will be analyzed the content of the dataset. The choosen datase contain the new work contract activated in Lombardy. The dataset contains the following column:\n",
    "- DATA: date of the contract\n",
    "- GENERE: sex of the person\n",
    "- ETA: age of the person\n",
    "- SETTOREECONOMICODETTAGLIO: category of work\n",
    "- TITOLOSTUDIO: level of education of the person\n",
    "- CONTRATTO: type of contract\n",
    "- MODALITALAVORO: work mode\n",
    "- PROVINCIAIMPRESA: province of the place of work\n",
    "- ITALIANO: nationality of the person\n"
   ]
  },
  {
   "cell_type": "markdown",
   "id": "95a101a3",
   "metadata": {},
   "source": [
    "<a id='dt_import'></a>\n",
    "### Dataset import\n",
    " Here we import the dataset, parse the field `DATA` to datetime and take a first look at the column and their type."
   ]
  },
  {
   "cell_type": "code",
   "execution_count": 3,
   "id": "5bf6a9a4",
   "metadata": {
    "scrolled": true
   },
   "outputs": [],
   "source": [
    "rap_lavoro_attivati = pd.read_csv(PurePath('dataset', 'Rapporti_di_lavoro_attivati.csv'),parse_dates=['DATA'])"
   ]
  },
  {
   "cell_type": "code",
   "execution_count": 4,
   "id": "791c90f0",
   "metadata": {},
   "outputs": [
    {
     "name": "stdout",
     "output_type": "stream",
     "text": [
      "<class 'pandas.core.frame.DataFrame'>\n",
      "RangeIndex: 9579794 entries, 0 to 9579793\n",
      "Data columns (total 9 columns):\n",
      " #   Column                     Dtype         \n",
      "---  ------                     -----         \n",
      " 0   DATA                       datetime64[ns]\n",
      " 1   GENERE                     object        \n",
      " 2   ETA                        int64         \n",
      " 3   SETTOREECONOMICODETTAGLIO  object        \n",
      " 4   TITOLOSTUDIO               object        \n",
      " 5   CONTRATTO                  object        \n",
      " 6   MODALITALAVORO             object        \n",
      " 7   PROVINCIAIMPRESA           object        \n",
      " 8   ITALIANO                   object        \n",
      "dtypes: datetime64[ns](1), int64(1), object(7)\n",
      "memory usage: 657.8+ MB\n",
      "[None]\n"
     ]
    },
    {
     "data": {
      "text/html": [
       "<div>\n",
       "<style scoped>\n",
       "    .dataframe tbody tr th:only-of-type {\n",
       "        vertical-align: middle;\n",
       "    }\n",
       "\n",
       "    .dataframe tbody tr th {\n",
       "        vertical-align: top;\n",
       "    }\n",
       "\n",
       "    .dataframe thead th {\n",
       "        text-align: right;\n",
       "    }\n",
       "</style>\n",
       "<table border=\"1\" class=\"dataframe\">\n",
       "  <thead>\n",
       "    <tr style=\"text-align: right;\">\n",
       "      <th></th>\n",
       "      <th>DATA</th>\n",
       "      <th>GENERE</th>\n",
       "      <th>ETA</th>\n",
       "      <th>SETTOREECONOMICODETTAGLIO</th>\n",
       "      <th>TITOLOSTUDIO</th>\n",
       "      <th>CONTRATTO</th>\n",
       "      <th>MODALITALAVORO</th>\n",
       "      <th>PROVINCIAIMPRESA</th>\n",
       "      <th>ITALIANO</th>\n",
       "    </tr>\n",
       "  </thead>\n",
       "  <tbody>\n",
       "    <tr>\n",
       "      <th>0</th>\n",
       "      <td>2020-09-05</td>\n",
       "      <td>F</td>\n",
       "      <td>60</td>\n",
       "      <td>Attività di famiglie e convivenze come datori ...</td>\n",
       "      <td>NESSUN TITOLO DI STUDIO</td>\n",
       "      <td>LAVORO DOMESTICO</td>\n",
       "      <td>TEMPO PIENO</td>\n",
       "      <td>BERGAMO</td>\n",
       "      <td>UCRAINA</td>\n",
       "    </tr>\n",
       "    <tr>\n",
       "      <th>1</th>\n",
       "      <td>2019-12-07</td>\n",
       "      <td>M</td>\n",
       "      <td>43</td>\n",
       "      <td>Gestioni di funicolari, ski-lift e seggiovie s...</td>\n",
       "      <td>LICENZA MEDIA</td>\n",
       "      <td>LAVORO A TEMPO DETERMINATO</td>\n",
       "      <td>TEMPO PIENO</td>\n",
       "      <td>BERGAMO</td>\n",
       "      <td>ITALIA</td>\n",
       "    </tr>\n",
       "    <tr>\n",
       "      <th>2</th>\n",
       "      <td>2013-05-06</td>\n",
       "      <td>F</td>\n",
       "      <td>20</td>\n",
       "      <td>Fabbricazione di altre apparecchiature elettri...</td>\n",
       "      <td>LICENZA MEDIA</td>\n",
       "      <td>APPRENDISTATO PROFESSIONALIZZANTE O CONTRATTO ...</td>\n",
       "      <td>TEMPO PIENO</td>\n",
       "      <td>BERGAMO</td>\n",
       "      <td>ITALIA</td>\n",
       "    </tr>\n",
       "    <tr>\n",
       "      <th>3</th>\n",
       "      <td>2010-12-03</td>\n",
       "      <td>F</td>\n",
       "      <td>28</td>\n",
       "      <td>Alberghi</td>\n",
       "      <td>DIPLOMA DI ISTRUZIONE SECONDARIA SUPERIORE  CH...</td>\n",
       "      <td>LAVORO INTERMITTENTE A TEMPO DETERMINATO</td>\n",
       "      <td>NON DEFINITO</td>\n",
       "      <td>BERGAMO</td>\n",
       "      <td>ITALIA</td>\n",
       "    </tr>\n",
       "    <tr>\n",
       "      <th>4</th>\n",
       "      <td>2021-06-04</td>\n",
       "      <td>F</td>\n",
       "      <td>49</td>\n",
       "      <td>Rifugi di montagna</td>\n",
       "      <td>LICENZA MEDIA</td>\n",
       "      <td>LAVORO INTERMITTENTE</td>\n",
       "      <td>NON DEFINITO</td>\n",
       "      <td>BERGAMO</td>\n",
       "      <td>ITALIA</td>\n",
       "    </tr>\n",
       "    <tr>\n",
       "      <th>5</th>\n",
       "      <td>2021-06-08</td>\n",
       "      <td>M</td>\n",
       "      <td>16</td>\n",
       "      <td>Costruzione di strade, autostrade e piste aero...</td>\n",
       "      <td>LICENZA MEDIA</td>\n",
       "      <td>LAVORO A TEMPO DETERMINATO</td>\n",
       "      <td>TEMPO PIENO</td>\n",
       "      <td>BERGAMO</td>\n",
       "      <td>ITALIA</td>\n",
       "    </tr>\n",
       "    <tr>\n",
       "      <th>6</th>\n",
       "      <td>2018-04-03</td>\n",
       "      <td>F</td>\n",
       "      <td>56</td>\n",
       "      <td>Confezioni di abbigliamento sportivo o di altr...</td>\n",
       "      <td>LICENZA MEDIA</td>\n",
       "      <td>LAVORO A TEMPO DETERMINATO</td>\n",
       "      <td>TEMPO PARZIALE ORIZZONTALE</td>\n",
       "      <td>BERGAMO</td>\n",
       "      <td>ITALIA</td>\n",
       "    </tr>\n",
       "    <tr>\n",
       "      <th>7</th>\n",
       "      <td>2011-06-10</td>\n",
       "      <td>M</td>\n",
       "      <td>20</td>\n",
       "      <td>Demolizione</td>\n",
       "      <td>LICENZA MEDIA</td>\n",
       "      <td>APPRENDISTATO PROFESSIONALIZZANTE</td>\n",
       "      <td>TEMPO PIENO</td>\n",
       "      <td>BERGAMO</td>\n",
       "      <td>ITALIA</td>\n",
       "    </tr>\n",
       "    <tr>\n",
       "      <th>8</th>\n",
       "      <td>2013-03-07</td>\n",
       "      <td>M</td>\n",
       "      <td>49</td>\n",
       "      <td>Demolizione</td>\n",
       "      <td>LICENZA MEDIA</td>\n",
       "      <td>LAVORO A TEMPO INDETERMINATO</td>\n",
       "      <td>TEMPO PIENO</td>\n",
       "      <td>BERGAMO</td>\n",
       "      <td>ITALIA</td>\n",
       "    </tr>\n",
       "    <tr>\n",
       "      <th>9</th>\n",
       "      <td>2014-03-06</td>\n",
       "      <td>M</td>\n",
       "      <td>29</td>\n",
       "      <td>Ristorazione con somministrazione</td>\n",
       "      <td>NESSUN TITOLO DI STUDIO</td>\n",
       "      <td>LAVORO A TEMPO INDETERMINATO</td>\n",
       "      <td>TEMPO PARZIALE ORIZZONTALE</td>\n",
       "      <td>BERGAMO</td>\n",
       "      <td>ERITREA</td>\n",
       "    </tr>\n",
       "  </tbody>\n",
       "</table>\n",
       "</div>"
      ],
      "text/plain": [
       "        DATA GENERE  ETA                          SETTOREECONOMICODETTAGLIO  \\\n",
       "0 2020-09-05      F   60  Attività di famiglie e convivenze come datori ...   \n",
       "1 2019-12-07      M   43  Gestioni di funicolari, ski-lift e seggiovie s...   \n",
       "2 2013-05-06      F   20  Fabbricazione di altre apparecchiature elettri...   \n",
       "3 2010-12-03      F   28                                           Alberghi   \n",
       "4 2021-06-04      F   49                                 Rifugi di montagna   \n",
       "5 2021-06-08      M   16  Costruzione di strade, autostrade e piste aero...   \n",
       "6 2018-04-03      F   56  Confezioni di abbigliamento sportivo o di altr...   \n",
       "7 2011-06-10      M   20                                        Demolizione   \n",
       "8 2013-03-07      M   49                                        Demolizione   \n",
       "9 2014-03-06      M   29                  Ristorazione con somministrazione   \n",
       "\n",
       "                                        TITOLOSTUDIO  \\\n",
       "0                            NESSUN TITOLO DI STUDIO   \n",
       "1                                      LICENZA MEDIA   \n",
       "2                                      LICENZA MEDIA   \n",
       "3  DIPLOMA DI ISTRUZIONE SECONDARIA SUPERIORE  CH...   \n",
       "4                                      LICENZA MEDIA   \n",
       "5                                      LICENZA MEDIA   \n",
       "6                                      LICENZA MEDIA   \n",
       "7                                      LICENZA MEDIA   \n",
       "8                                      LICENZA MEDIA   \n",
       "9                            NESSUN TITOLO DI STUDIO   \n",
       "\n",
       "                                           CONTRATTO  \\\n",
       "0                                   LAVORO DOMESTICO   \n",
       "1                         LAVORO A TEMPO DETERMINATO   \n",
       "2  APPRENDISTATO PROFESSIONALIZZANTE O CONTRATTO ...   \n",
       "3           LAVORO INTERMITTENTE A TEMPO DETERMINATO   \n",
       "4                               LAVORO INTERMITTENTE   \n",
       "5                         LAVORO A TEMPO DETERMINATO   \n",
       "6                         LAVORO A TEMPO DETERMINATO   \n",
       "7                  APPRENDISTATO PROFESSIONALIZZANTE   \n",
       "8                       LAVORO A TEMPO INDETERMINATO   \n",
       "9                       LAVORO A TEMPO INDETERMINATO   \n",
       "\n",
       "               MODALITALAVORO PROVINCIAIMPRESA ITALIANO  \n",
       "0                 TEMPO PIENO          BERGAMO  UCRAINA  \n",
       "1                 TEMPO PIENO          BERGAMO   ITALIA  \n",
       "2                 TEMPO PIENO          BERGAMO   ITALIA  \n",
       "3                NON DEFINITO          BERGAMO   ITALIA  \n",
       "4                NON DEFINITO          BERGAMO   ITALIA  \n",
       "5                 TEMPO PIENO          BERGAMO   ITALIA  \n",
       "6  TEMPO PARZIALE ORIZZONTALE          BERGAMO   ITALIA  \n",
       "7                 TEMPO PIENO          BERGAMO   ITALIA  \n",
       "8                 TEMPO PIENO          BERGAMO   ITALIA  \n",
       "9  TEMPO PARZIALE ORIZZONTALE          BERGAMO  ERITREA  "
      ]
     },
     "execution_count": 4,
     "metadata": {},
     "output_type": "execute_result"
    }
   ],
   "source": [
    "print([rap_lavoro_attivati.info()])\n",
    "rap_lavoro_attivati.head(10)"
   ]
  },
  {
   "cell_type": "markdown",
   "id": "ad777886",
   "metadata": {},
   "source": [
    "### Changing data type\n",
    "As we can see almost all columns of the dataset have type object and contains strings, this  means that the machine learning model will be fed with catagorical data or a numerical rapresentation of it. Before proceding with the analysis we change the type from object to string."
   ]
  },
  {
   "cell_type": "code",
   "execution_count": 5,
   "id": "35689fda",
   "metadata": {},
   "outputs": [],
   "source": [
    "rap_lavoro_attivati[['GENERE','SETTOREECONOMICODETTAGLIO','TITOLOSTUDIO','CONTRATTO', 'MODALITALAVORO','PROVINCIAIMPRESA','ITALIANO']]=rap_lavoro_attivati[['GENERE','SETTOREECONOMICODETTAGLIO','TITOLOSTUDIO','CONTRATTO', 'MODALITALAVORO','PROVINCIAIMPRESA','ITALIANO']].astype('string')"
   ]
  },
  {
   "cell_type": "markdown",
   "id": "92c18e84",
   "metadata": {},
   "source": [
    "### Searching wrong and null data\n",
    "Now we will look inside the data checking null or possibly wrong value, after those data will be corrected or deleted.\n",
    "First off we will find out how many null value there are in each column"
   ]
  },
  {
   "cell_type": "code",
   "execution_count": 6,
   "id": "a121c0a9",
   "metadata": {},
   "outputs": [
    {
     "name": "stdout",
     "output_type": "stream",
     "text": [
      "[DATA                              0\n",
      "GENERE                            0\n",
      "ETA                               0\n",
      "SETTOREECONOMICODETTAGLIO      2888\n",
      "TITOLOSTUDIO                    580\n",
      "CONTRATTO                         0\n",
      "MODALITALAVORO               440779\n",
      "PROVINCIAIMPRESA                  0\n",
      "ITALIANO                          0\n",
      "dtype: int64]\n"
     ]
    }
   ],
   "source": [
    "print([rap_lavoro_attivati.isnull().sum()])"
   ]
  },
  {
   "cell_type": "markdown",
   "id": "a83ebd6a",
   "metadata": {},
   "source": [
    "From this first look is possible to see that a big part of value is missing from the column `MODALITALAVORO` of the dataset `Rapporti_di_lavoro_attivati` these value needs to be replaced while the other could be simply deleted because they represent a small part of the dataset.\n",
    "\n",
    "But before proceding now will be checked the actual value of some columnn to see if there are some non plausible data.\n",
    "Starting from the column `DATA`"
   ]
  },
  {
   "cell_type": "markdown",
   "id": "d9ed4085",
   "metadata": {},
   "source": [
    "<a id='dec_outlier'></a>\n",
    "## Identifying outliers"
   ]
  },
  {
   "cell_type": "markdown",
   "id": "f717fcaa",
   "metadata": {},
   "source": [
    "<a id='data_cl'></a>\n",
    "### column DATA"
   ]
  },
  {
   "cell_type": "markdown",
   "id": "73f79d29",
   "metadata": {},
   "source": [
    "# Print some graph (like box plot)\n",
    "\n",
    "se possibile far vedere che ci sono pochi valori prima del 2008 così da poter eliminare direttamente i valori prima del 2008 e dopo il 2022"
   ]
  },
  {
   "cell_type": "code",
   "execution_count": 7,
   "id": "f68a6b25",
   "metadata": {
    "scrolled": true
   },
   "outputs": [
    {
     "data": {
      "text/plain": [
       "count                          9579794\n",
       "mean     2015-08-22 08:39:17.195402496\n",
       "min                1973-02-01 00:00:00\n",
       "25%                2012-06-07 00:00:00\n",
       "50%                2015-10-08 00:00:00\n",
       "75%                2018-09-07 00:00:00\n",
       "max                2201-06-09 00:00:00\n",
       "Name: DATA, dtype: object"
      ]
     },
     "execution_count": 7,
     "metadata": {},
     "output_type": "execute_result"
    }
   ],
   "source": [
    "rap_lavoro_attivati['DATA'].describe(datetime_is_numeric=True)"
   ]
  },
  {
   "cell_type": "markdown",
   "id": "c9637d28",
   "metadata": {},
   "source": [
    "from this we can see that there is at least one date impossible so we restrain the data to only feasible one"
   ]
  },
  {
   "cell_type": "code",
   "execution_count": 8,
   "id": "df6eb50b",
   "metadata": {
    "scrolled": false
   },
   "outputs": [
    {
     "data": {
      "text/plain": [
       "DATA\n",
       "1973-12-31         1\n",
       "1974-12-31         1\n",
       "1975-12-31         0\n",
       "1976-12-31         1\n",
       "1977-12-31         0\n",
       "1978-12-31         2\n",
       "1979-12-31         1\n",
       "1980-12-31         1\n",
       "1981-12-31         1\n",
       "1982-12-31         1\n",
       "1983-12-31         0\n",
       "1984-12-31         0\n",
       "1985-12-31         0\n",
       "1986-12-31         0\n",
       "1987-12-31         0\n",
       "1988-12-31         1\n",
       "1989-12-31         0\n",
       "1990-12-31         0\n",
       "1991-12-31         0\n",
       "1992-12-31         0\n",
       "1993-12-31         0\n",
       "1994-12-31         0\n",
       "1995-12-31         0\n",
       "1996-12-31         1\n",
       "1997-12-31         2\n",
       "1998-12-31         0\n",
       "1999-12-31         1\n",
       "2000-12-31         0\n",
       "2001-12-31        38\n",
       "2002-12-31         0\n",
       "2003-12-31         2\n",
       "2004-12-31         2\n",
       "2005-12-31         1\n",
       "2006-12-31         3\n",
       "2007-12-31         6\n",
       "2008-12-31      1590\n",
       "2009-12-31    397507\n",
       "2010-12-31    793129\n",
       "2011-12-31    858716\n",
       "2012-12-31    763733\n",
       "2013-12-31    673152\n",
       "2014-12-31    689300\n",
       "2015-12-31    757895\n",
       "2016-12-31    761881\n",
       "2017-12-31    847079\n",
       "2018-12-31    899082\n",
       "2019-12-31    874079\n",
       "2020-12-31    640133\n",
       "2021-12-31    622451\n",
       "Freq: A-DEC, Name: DATA, dtype: int64"
      ]
     },
     "execution_count": 8,
     "metadata": {},
     "output_type": "execute_result"
    }
   ],
   "source": [
    "rap_lavoro_attivati = rap_lavoro_attivati[rap_lavoro_attivati['DATA'] < np.datetime64('2022-02-20')]\n",
    "rap_lavoro_attivati.groupby(pd.Grouper(key='DATA', freq='Y'))['DATA'].count()"
   ]
  },
  {
   "cell_type": "code",
   "execution_count": 9,
   "id": "61904765",
   "metadata": {},
   "outputs": [
    {
     "data": {
      "text/plain": [
       "count                          9579793\n",
       "mean     2015-08-22 08:29:05.161381888\n",
       "min                1973-02-01 00:00:00\n",
       "25%                2012-06-07 00:00:00\n",
       "50%                2015-10-08 00:00:00\n",
       "75%                2018-09-07 00:00:00\n",
       "max                2021-10-06 00:00:00\n",
       "Name: DATA, dtype: object"
      ]
     },
     "execution_count": 9,
     "metadata": {},
     "output_type": "execute_result"
    }
   ],
   "source": [
    "rap_lavoro_attivati['DATA'].describe(datetime_is_numeric=True)"
   ]
  },
  {
   "cell_type": "code",
   "execution_count": 10,
   "id": "65366447",
   "metadata": {},
   "outputs": [
    {
     "data": {
      "text/plain": [
       "<bound method NDFrame._add_numeric_operations.<locals>.max of 0         2020-09-05\n",
       "1         2019-12-07\n",
       "2         2013-05-06\n",
       "3         2010-12-03\n",
       "4         2021-06-04\n",
       "             ...    \n",
       "9579789   2020-01-03\n",
       "9579790   2010-06-09\n",
       "9579791   2021-06-11\n",
       "9579792   2010-02-02\n",
       "9579793   2012-05-07\n",
       "Name: DATA, Length: 9579793, dtype: datetime64[ns]>"
      ]
     },
     "execution_count": 10,
     "metadata": {},
     "output_type": "execute_result"
    }
   ],
   "source": [
    "rap_lavoro_attivati['DATA'].max"
   ]
  },
  {
   "cell_type": "code",
   "execution_count": 11,
   "id": "e8ea2365",
   "metadata": {},
   "outputs": [
    {
     "data": {
      "text/html": [
       "<div>\n",
       "<style scoped>\n",
       "    .dataframe tbody tr th:only-of-type {\n",
       "        vertical-align: middle;\n",
       "    }\n",
       "\n",
       "    .dataframe tbody tr th {\n",
       "        vertical-align: top;\n",
       "    }\n",
       "\n",
       "    .dataframe thead th {\n",
       "        text-align: right;\n",
       "    }\n",
       "</style>\n",
       "<table border=\"1\" class=\"dataframe\">\n",
       "  <thead>\n",
       "    <tr style=\"text-align: right;\">\n",
       "      <th></th>\n",
       "      <th>DATA</th>\n",
       "      <th>GENERE</th>\n",
       "      <th>ETA</th>\n",
       "      <th>SETTOREECONOMICODETTAGLIO</th>\n",
       "      <th>TITOLOSTUDIO</th>\n",
       "      <th>CONTRATTO</th>\n",
       "      <th>MODALITALAVORO</th>\n",
       "      <th>PROVINCIAIMPRESA</th>\n",
       "      <th>ITALIANO</th>\n",
       "    </tr>\n",
       "  </thead>\n",
       "  <tbody>\n",
       "    <tr>\n",
       "      <th>0</th>\n",
       "      <td>2020-09-05</td>\n",
       "      <td>F</td>\n",
       "      <td>60</td>\n",
       "      <td>Attività di famiglie e convivenze come datori ...</td>\n",
       "      <td>NESSUN TITOLO DI STUDIO</td>\n",
       "      <td>LAVORO DOMESTICO</td>\n",
       "      <td>TEMPO PIENO</td>\n",
       "      <td>BERGAMO</td>\n",
       "      <td>UCRAINA</td>\n",
       "    </tr>\n",
       "    <tr>\n",
       "      <th>1</th>\n",
       "      <td>2019-12-07</td>\n",
       "      <td>M</td>\n",
       "      <td>43</td>\n",
       "      <td>Gestioni di funicolari, ski-lift e seggiovie s...</td>\n",
       "      <td>LICENZA MEDIA</td>\n",
       "      <td>LAVORO A TEMPO DETERMINATO</td>\n",
       "      <td>TEMPO PIENO</td>\n",
       "      <td>BERGAMO</td>\n",
       "      <td>ITALIA</td>\n",
       "    </tr>\n",
       "    <tr>\n",
       "      <th>2</th>\n",
       "      <td>2013-05-06</td>\n",
       "      <td>F</td>\n",
       "      <td>20</td>\n",
       "      <td>Fabbricazione di altre apparecchiature elettri...</td>\n",
       "      <td>LICENZA MEDIA</td>\n",
       "      <td>APPRENDISTATO PROFESSIONALIZZANTE O CONTRATTO ...</td>\n",
       "      <td>TEMPO PIENO</td>\n",
       "      <td>BERGAMO</td>\n",
       "      <td>ITALIA</td>\n",
       "    </tr>\n",
       "    <tr>\n",
       "      <th>3</th>\n",
       "      <td>2010-12-03</td>\n",
       "      <td>F</td>\n",
       "      <td>28</td>\n",
       "      <td>Alberghi</td>\n",
       "      <td>DIPLOMA DI ISTRUZIONE SECONDARIA SUPERIORE  CH...</td>\n",
       "      <td>LAVORO INTERMITTENTE A TEMPO DETERMINATO</td>\n",
       "      <td>NON DEFINITO</td>\n",
       "      <td>BERGAMO</td>\n",
       "      <td>ITALIA</td>\n",
       "    </tr>\n",
       "    <tr>\n",
       "      <th>4</th>\n",
       "      <td>2021-06-04</td>\n",
       "      <td>F</td>\n",
       "      <td>49</td>\n",
       "      <td>Rifugi di montagna</td>\n",
       "      <td>LICENZA MEDIA</td>\n",
       "      <td>LAVORO INTERMITTENTE</td>\n",
       "      <td>NON DEFINITO</td>\n",
       "      <td>BERGAMO</td>\n",
       "      <td>ITALIA</td>\n",
       "    </tr>\n",
       "  </tbody>\n",
       "</table>\n",
       "</div>"
      ],
      "text/plain": [
       "        DATA GENERE  ETA                          SETTOREECONOMICODETTAGLIO  \\\n",
       "0 2020-09-05      F   60  Attività di famiglie e convivenze come datori ...   \n",
       "1 2019-12-07      M   43  Gestioni di funicolari, ski-lift e seggiovie s...   \n",
       "2 2013-05-06      F   20  Fabbricazione di altre apparecchiature elettri...   \n",
       "3 2010-12-03      F   28                                           Alberghi   \n",
       "4 2021-06-04      F   49                                 Rifugi di montagna   \n",
       "\n",
       "                                        TITOLOSTUDIO  \\\n",
       "0                            NESSUN TITOLO DI STUDIO   \n",
       "1                                      LICENZA MEDIA   \n",
       "2                                      LICENZA MEDIA   \n",
       "3  DIPLOMA DI ISTRUZIONE SECONDARIA SUPERIORE  CH...   \n",
       "4                                      LICENZA MEDIA   \n",
       "\n",
       "                                           CONTRATTO MODALITALAVORO  \\\n",
       "0                                   LAVORO DOMESTICO    TEMPO PIENO   \n",
       "1                         LAVORO A TEMPO DETERMINATO    TEMPO PIENO   \n",
       "2  APPRENDISTATO PROFESSIONALIZZANTE O CONTRATTO ...    TEMPO PIENO   \n",
       "3           LAVORO INTERMITTENTE A TEMPO DETERMINATO   NON DEFINITO   \n",
       "4                               LAVORO INTERMITTENTE   NON DEFINITO   \n",
       "\n",
       "  PROVINCIAIMPRESA ITALIANO  \n",
       "0          BERGAMO  UCRAINA  \n",
       "1          BERGAMO   ITALIA  \n",
       "2          BERGAMO   ITALIA  \n",
       "3          BERGAMO   ITALIA  \n",
       "4          BERGAMO   ITALIA  "
      ]
     },
     "execution_count": 11,
     "metadata": {},
     "output_type": "execute_result"
    }
   ],
   "source": [
    "rap_lavoro_attivati.head()"
   ]
  },
  {
   "cell_type": "markdown",
   "id": "afc71f80",
   "metadata": {},
   "source": [
    "<a id='set_ec_cl'></a>\n",
    "### column SETTOREECONOMICODETTAGLIO"
   ]
  },
  {
   "cell_type": "code",
   "execution_count": 12,
   "id": "d783c720",
   "metadata": {
    "scrolled": true
   },
   "outputs": [
    {
     "data": {
      "text/plain": [
       "1225"
      ]
     },
     "execution_count": 12,
     "metadata": {},
     "output_type": "execute_result"
    }
   ],
   "source": [
    "settore_economico = series_to_set('SETTOREECONOMICODETTAGLIO', rap_lavoro_attivati)\n",
    "len(settore_economico)"
   ]
  },
  {
   "cell_type": "markdown",
   "id": "d1479d81",
   "metadata": {},
   "source": [
    "# Grafico outlier e occorrenze per valore\n",
    "far vedere nel grafico che la maggior parte dei valori appartengono alle prime categorie e quindi si terranno solo quelle"
   ]
  },
  {
   "cell_type": "markdown",
   "id": "438adf09",
   "metadata": {},
   "source": [
    "Since the `SETTOREECONOMICODETTAGLIO` column has more than a thousand unique values belonging to it, it cannot be easily exploited to analyze data (e.g. dividing them into categories). Furthermore, the majority of the value belongs to some feature, considering these facts we will keep 50 of the most common category."
   ]
  },
  {
   "cell_type": "code",
   "execution_count": 13,
   "id": "2b75d62d",
   "metadata": {},
   "outputs": [],
   "source": [
    "settori_eco = rap_lavoro_attivati['SETTOREECONOMICODETTAGLIO'].fillna('')\n",
    "sett_occur = dict()\n",
    "settori_eco = list(settori_eco)\n",
    "settori = set(settori_eco)\n",
    "for settore in settori:\n",
    "    sett_occur[settore] = settori_eco.count(settore)"
   ]
  },
  {
   "cell_type": "code",
   "execution_count": 14,
   "id": "9cc09e13",
   "metadata": {},
   "outputs": [
    {
     "name": "stdout",
     "output_type": "stream",
     "text": [
      "9576905\n",
      "[DATA                              0\n",
      "GENERE                            0\n",
      "ETA                               0\n",
      "SETTOREECONOMICODETTAGLIO      2888\n",
      "TITOLOSTUDIO                    580\n",
      "CONTRATTO                         0\n",
      "MODALITALAVORO               440779\n",
      "PROVINCIAIMPRESA                  0\n",
      "ITALIANO                          0\n",
      "dtype: int64]\n"
     ]
    }
   ],
   "source": [
    "print(rap_lavoro_attivati['SETTOREECONOMICODETTAGLIO'].value_counts().sum())\n",
    "print([rap_lavoro_attivati.isnull().sum()])"
   ]
  },
  {
   "cell_type": "code",
   "execution_count": 15,
   "id": "3ee33f58",
   "metadata": {},
   "outputs": [],
   "source": [
    "common = {k: v for k, v in reversed(sorted(sett_occur.items(), key=lambda item: item[1]))}\n",
    "common = list(common)[:50]"
   ]
  },
  {
   "cell_type": "code",
   "execution_count": 16,
   "id": "6be6383a",
   "metadata": {},
   "outputs": [
    {
     "data": {
      "text/plain": [
       "['Alberghi',\n",
       " 'Ristorazione con somministrazione',\n",
       " 'Attività di produzione cinematografica, di video e di programmi televisivi',\n",
       " 'Attività di famiglie e convivenze come datori di lavoro per personale domestico',\n",
       " 'Altri servizi di supporto alle imprese nca']"
      ]
     },
     "execution_count": 16,
     "metadata": {},
     "output_type": "execute_result"
    }
   ],
   "source": [
    "common[:5]"
   ]
  },
  {
   "cell_type": "code",
   "execution_count": 17,
   "id": "011e14a9",
   "metadata": {},
   "outputs": [
    {
     "data": {
      "text/html": [
       "<div>\n",
       "<style scoped>\n",
       "    .dataframe tbody tr th:only-of-type {\n",
       "        vertical-align: middle;\n",
       "    }\n",
       "\n",
       "    .dataframe tbody tr th {\n",
       "        vertical-align: top;\n",
       "    }\n",
       "\n",
       "    .dataframe thead th {\n",
       "        text-align: right;\n",
       "    }\n",
       "</style>\n",
       "<table border=\"1\" class=\"dataframe\">\n",
       "  <thead>\n",
       "    <tr style=\"text-align: right;\">\n",
       "      <th></th>\n",
       "      <th>DATA</th>\n",
       "      <th>GENERE</th>\n",
       "      <th>ETA</th>\n",
       "      <th>SETTOREECONOMICODETTAGLIO</th>\n",
       "      <th>TITOLOSTUDIO</th>\n",
       "      <th>CONTRATTO</th>\n",
       "      <th>MODALITALAVORO</th>\n",
       "      <th>PROVINCIAIMPRESA</th>\n",
       "      <th>ITALIANO</th>\n",
       "    </tr>\n",
       "  </thead>\n",
       "  <tbody>\n",
       "    <tr>\n",
       "      <th>0</th>\n",
       "      <td>2020-09-05</td>\n",
       "      <td>F</td>\n",
       "      <td>60</td>\n",
       "      <td>Attività di famiglie e convivenze come datori ...</td>\n",
       "      <td>NESSUN TITOLO DI STUDIO</td>\n",
       "      <td>LAVORO DOMESTICO</td>\n",
       "      <td>TEMPO PIENO</td>\n",
       "      <td>BERGAMO</td>\n",
       "      <td>UCRAINA</td>\n",
       "    </tr>\n",
       "    <tr>\n",
       "      <th>3</th>\n",
       "      <td>2010-12-03</td>\n",
       "      <td>F</td>\n",
       "      <td>28</td>\n",
       "      <td>Alberghi</td>\n",
       "      <td>DIPLOMA DI ISTRUZIONE SECONDARIA SUPERIORE  CH...</td>\n",
       "      <td>LAVORO INTERMITTENTE A TEMPO DETERMINATO</td>\n",
       "      <td>NON DEFINITO</td>\n",
       "      <td>BERGAMO</td>\n",
       "      <td>ITALIA</td>\n",
       "    </tr>\n",
       "    <tr>\n",
       "      <th>9</th>\n",
       "      <td>2014-03-06</td>\n",
       "      <td>M</td>\n",
       "      <td>29</td>\n",
       "      <td>Ristorazione con somministrazione</td>\n",
       "      <td>NESSUN TITOLO DI STUDIO</td>\n",
       "      <td>LAVORO A TEMPO INDETERMINATO</td>\n",
       "      <td>TEMPO PARZIALE ORIZZONTALE</td>\n",
       "      <td>BERGAMO</td>\n",
       "      <td>ERITREA</td>\n",
       "    </tr>\n",
       "    <tr>\n",
       "      <th>10</th>\n",
       "      <td>2021-07-01</td>\n",
       "      <td>M</td>\n",
       "      <td>19</td>\n",
       "      <td>Ristorazione con somministrazione</td>\n",
       "      <td>LICENZA MEDIA</td>\n",
       "      <td>LAVORO INTERMITTENTE</td>\n",
       "      <td>NON DEFINITO</td>\n",
       "      <td>BERGAMO</td>\n",
       "      <td>ITALIA</td>\n",
       "    </tr>\n",
       "    <tr>\n",
       "      <th>11</th>\n",
       "      <td>2016-12-07</td>\n",
       "      <td>F</td>\n",
       "      <td>21</td>\n",
       "      <td>Ristorazione con somministrazione</td>\n",
       "      <td>DIPLOMA DI ISTRUZIONE SECONDARIA SUPERIORE  CH...</td>\n",
       "      <td>LAVORO INTERMITTENTE</td>\n",
       "      <td>NON DEFINITO</td>\n",
       "      <td>BERGAMO</td>\n",
       "      <td>ITALIA</td>\n",
       "    </tr>\n",
       "    <tr>\n",
       "      <th>...</th>\n",
       "      <td>...</td>\n",
       "      <td>...</td>\n",
       "      <td>...</td>\n",
       "      <td>...</td>\n",
       "      <td>...</td>\n",
       "      <td>...</td>\n",
       "      <td>...</td>\n",
       "      <td>...</td>\n",
       "      <td>...</td>\n",
       "    </tr>\n",
       "    <tr>\n",
       "      <th>9579785</th>\n",
       "      <td>2011-09-07</td>\n",
       "      <td>M</td>\n",
       "      <td>54</td>\n",
       "      <td>Trasporto di merci su strada</td>\n",
       "      <td>NESSUN TITOLO DI STUDIO</td>\n",
       "      <td>LAVORO A TEMPO DETERMINATO</td>\n",
       "      <td>TEMPO PIENO</td>\n",
       "      <td>BRESCIA</td>\n",
       "      <td>ITALIA</td>\n",
       "    </tr>\n",
       "    <tr>\n",
       "      <th>9579787</th>\n",
       "      <td>2016-07-08</td>\n",
       "      <td>M</td>\n",
       "      <td>30</td>\n",
       "      <td>Lavori di meccanica generale</td>\n",
       "      <td>NESSUN TITOLO DI STUDIO</td>\n",
       "      <td>LAVORO A TEMPO DETERMINATO</td>\n",
       "      <td>TEMPO PARZIALE ORIZZONTALE</td>\n",
       "      <td>BERGAMO</td>\n",
       "      <td>ROMANIA</td>\n",
       "    </tr>\n",
       "    <tr>\n",
       "      <th>9579788</th>\n",
       "      <td>2019-07-08</td>\n",
       "      <td>M</td>\n",
       "      <td>40</td>\n",
       "      <td>Lavori di meccanica generale</td>\n",
       "      <td>LICENZA MEDIA</td>\n",
       "      <td>LAVORO A TEMPO DETERMINATO</td>\n",
       "      <td>TEMPO PIENO</td>\n",
       "      <td>BERGAMO</td>\n",
       "      <td>ALGERIA</td>\n",
       "    </tr>\n",
       "    <tr>\n",
       "      <th>9579789</th>\n",
       "      <td>2020-01-03</td>\n",
       "      <td>M</td>\n",
       "      <td>52</td>\n",
       "      <td>Lavori di meccanica generale</td>\n",
       "      <td>LICENZA MEDIA</td>\n",
       "      <td>LAVORO A TEMPO DETERMINATO</td>\n",
       "      <td>TEMPO PIENO</td>\n",
       "      <td>BERGAMO</td>\n",
       "      <td>ITALIA</td>\n",
       "    </tr>\n",
       "    <tr>\n",
       "      <th>9579790</th>\n",
       "      <td>2010-06-09</td>\n",
       "      <td>M</td>\n",
       "      <td>61</td>\n",
       "      <td>Lavori di meccanica generale</td>\n",
       "      <td>NESSUN TITOLO DI STUDIO</td>\n",
       "      <td>LAVORO A TEMPO INDETERMINATO</td>\n",
       "      <td>TEMPO PIENO</td>\n",
       "      <td>BERGAMO</td>\n",
       "      <td>ALBANIA</td>\n",
       "    </tr>\n",
       "  </tbody>\n",
       "</table>\n",
       "<p>5630325 rows × 9 columns</p>\n",
       "</div>"
      ],
      "text/plain": [
       "              DATA GENERE  ETA  \\\n",
       "0       2020-09-05      F   60   \n",
       "3       2010-12-03      F   28   \n",
       "9       2014-03-06      M   29   \n",
       "10      2021-07-01      M   19   \n",
       "11      2016-12-07      F   21   \n",
       "...            ...    ...  ...   \n",
       "9579785 2011-09-07      M   54   \n",
       "9579787 2016-07-08      M   30   \n",
       "9579788 2019-07-08      M   40   \n",
       "9579789 2020-01-03      M   52   \n",
       "9579790 2010-06-09      M   61   \n",
       "\n",
       "                                 SETTOREECONOMICODETTAGLIO  \\\n",
       "0        Attività di famiglie e convivenze come datori ...   \n",
       "3                                                 Alberghi   \n",
       "9                        Ristorazione con somministrazione   \n",
       "10                       Ristorazione con somministrazione   \n",
       "11                       Ristorazione con somministrazione   \n",
       "...                                                    ...   \n",
       "9579785                       Trasporto di merci su strada   \n",
       "9579787                       Lavori di meccanica generale   \n",
       "9579788                       Lavori di meccanica generale   \n",
       "9579789                       Lavori di meccanica generale   \n",
       "9579790                       Lavori di meccanica generale   \n",
       "\n",
       "                                              TITOLOSTUDIO  \\\n",
       "0                                  NESSUN TITOLO DI STUDIO   \n",
       "3        DIPLOMA DI ISTRUZIONE SECONDARIA SUPERIORE  CH...   \n",
       "9                                  NESSUN TITOLO DI STUDIO   \n",
       "10                                           LICENZA MEDIA   \n",
       "11       DIPLOMA DI ISTRUZIONE SECONDARIA SUPERIORE  CH...   \n",
       "...                                                    ...   \n",
       "9579785                            NESSUN TITOLO DI STUDIO   \n",
       "9579787                            NESSUN TITOLO DI STUDIO   \n",
       "9579788                                      LICENZA MEDIA   \n",
       "9579789                                      LICENZA MEDIA   \n",
       "9579790                            NESSUN TITOLO DI STUDIO   \n",
       "\n",
       "                                        CONTRATTO              MODALITALAVORO  \\\n",
       "0                                LAVORO DOMESTICO                 TEMPO PIENO   \n",
       "3        LAVORO INTERMITTENTE A TEMPO DETERMINATO                NON DEFINITO   \n",
       "9                    LAVORO A TEMPO INDETERMINATO  TEMPO PARZIALE ORIZZONTALE   \n",
       "10                           LAVORO INTERMITTENTE                NON DEFINITO   \n",
       "11                           LAVORO INTERMITTENTE                NON DEFINITO   \n",
       "...                                           ...                         ...   \n",
       "9579785                LAVORO A TEMPO DETERMINATO                 TEMPO PIENO   \n",
       "9579787                LAVORO A TEMPO DETERMINATO  TEMPO PARZIALE ORIZZONTALE   \n",
       "9579788                LAVORO A TEMPO DETERMINATO                 TEMPO PIENO   \n",
       "9579789                LAVORO A TEMPO DETERMINATO                 TEMPO PIENO   \n",
       "9579790              LAVORO A TEMPO INDETERMINATO                 TEMPO PIENO   \n",
       "\n",
       "        PROVINCIAIMPRESA ITALIANO  \n",
       "0                BERGAMO  UCRAINA  \n",
       "3                BERGAMO   ITALIA  \n",
       "9                BERGAMO  ERITREA  \n",
       "10               BERGAMO   ITALIA  \n",
       "11               BERGAMO   ITALIA  \n",
       "...                  ...      ...  \n",
       "9579785          BRESCIA   ITALIA  \n",
       "9579787          BERGAMO  ROMANIA  \n",
       "9579788          BERGAMO  ALGERIA  \n",
       "9579789          BERGAMO   ITALIA  \n",
       "9579790          BERGAMO  ALBANIA  \n",
       "\n",
       "[5630325 rows x 9 columns]"
      ]
     },
     "execution_count": 17,
     "metadata": {},
     "output_type": "execute_result"
    }
   ],
   "source": [
    "rap_lavoro_attivati = rap_lavoro_attivati[\n",
    "    rap_lavoro_attivati.SETTOREECONOMICODETTAGLIO.isin(common)]\n",
    "rap_lavoro_attivati"
   ]
  },
  {
   "cell_type": "markdown",
   "id": "7b4f4b45",
   "metadata": {},
   "source": [
    "<a id='mod_work_cl'></a>\n",
    "### Column MODALITALAVORO"
   ]
  },
  {
   "cell_type": "markdown",
   "id": "03d32ffc",
   "metadata": {},
   "source": [
    "In the `rap_lavoro_attivati` there are a lot of null values for the column `MODALITALAVORO`, removing the rows would reduce the set of data we are analysing. Hence, we'd rather prefer to fill those null values with a suitable values. \n",
    "\n",
    "The value `NON DEFINITO` can be used to fill the na, since that won't introduce much bias, differently from the other available values. "
   ]
  },
  {
   "cell_type": "code",
   "execution_count": 18,
   "id": "9e6fb2ba",
   "metadata": {},
   "outputs": [
    {
     "data": {
      "text/plain": [
       "DATA                         0\n",
       "GENERE                       0\n",
       "ETA                          0\n",
       "SETTOREECONOMICODETTAGLIO    0\n",
       "TITOLOSTUDIO                 0\n",
       "CONTRATTO                    0\n",
       "MODALITALAVORO               0\n",
       "PROVINCIAIMPRESA             0\n",
       "ITALIANO                     0\n",
       "dtype: int64"
      ]
     },
     "execution_count": 18,
     "metadata": {},
     "output_type": "execute_result"
    }
   ],
   "source": [
    "def clean(df):\n",
    "    df['MODALITALAVORO'] = df['MODALITALAVORO'].fillna('NON DEFINITO')\n",
    "    df.dropna(axis = 0, inplace = True)\n",
    "    \n",
    "\n",
    "clean(rap_lavoro_attivati)\n",
    "rap_lavoro_attivati.isnull().sum()"
   ]
  },
  {
   "cell_type": "markdown",
   "id": "b2536b2d",
   "metadata": {},
   "source": [
    "\n",
    "## Working on column `DATA`\n",
    "In this section we will analyze in more detail the column `DATA` and adjust the data accordingly.\n",
    "The first step is to group the column by year and count how many contract are activated per year"
   ]
  },
  {
   "cell_type": "code",
   "execution_count": 19,
   "id": "6dec156b",
   "metadata": {},
   "outputs": [
    {
     "name": "stdout",
     "output_type": "stream",
     "text": [
      "DATA\n",
      "2017-12-31    497667\n",
      "2018-12-31    528994\n",
      "2019-12-31    522929\n",
      "Freq: A-DEC, Name: DATA, dtype: int64\n"
     ]
    }
   ],
   "source": [
    "rap_lavoro_attivati = rap_lavoro_attivati[(rap_lavoro_attivati.DATA > '2017') & (rap_lavoro_attivati.DATA < '2020')]\n",
    "print(rap_lavoro_attivati.groupby(pd.Grouper(key='DATA', freq='Y'))['DATA'].count())"
   ]
  },
  {
   "cell_type": "markdown",
   "id": "197ea8d6",
   "metadata": {},
   "source": [
    "as is possible to see meany of the value have date between 2009 and 2022, so to have a more significant set of data we will remove all the row with date previous to 2009"
   ]
  },
  {
   "cell_type": "code",
   "execution_count": 20,
   "id": "63eb301e",
   "metadata": {},
   "outputs": [],
   "source": [
    "rap_lavoro_attivati = rap_lavoro_attivati[(rap_lavoro_attivati[\"DATA\"] >= '2009')]\n",
    "attivatiTemp = rap_lavoro_attivati[(rap_lavoro_attivati[\"DATA\"] >= '2009')]"
   ]
  },
  {
   "cell_type": "code",
   "execution_count": 21,
   "id": "99ef8b4a",
   "metadata": {},
   "outputs": [
    {
     "name": "stdout",
     "output_type": "stream",
     "text": [
      "DATA\n",
      "2017-12-31    497667\n",
      "2018-12-31    528994\n",
      "2019-12-31    522929\n",
      "Freq: A-DEC, Name: DATA, dtype: int64\n"
     ]
    }
   ],
   "source": [
    "print(attivatiTemp.groupby(pd.Grouper(key='DATA', freq='Y'))['DATA'].count())"
   ]
  },
  {
   "cell_type": "markdown",
   "id": "a5b9d260",
   "metadata": {},
   "source": [
    "With this we can see how many contract have been activated in the last few years in the Lombardy region."
   ]
  },
  {
   "cell_type": "code",
   "execution_count": 22,
   "id": "1f28038e",
   "metadata": {},
   "outputs": [
    {
     "data": {
      "image/png": "[encoded data removed]",
      "text/plain": [
       "<Figure size 432x288 with 1 Axes>"
      ]
     },
     "metadata": {
      "needs_background": "light"
     },
     "output_type": "display_data"
    }
   ],
   "source": [
    "attivatiTemp.groupby(pd.Grouper(key='DATA', freq='Y'))['DATA'].count().plot(label=\"attivati\", kind='bar')\n",
    "\n",
    "plt.legend()\n",
    "plt.show()"
   ]
  },
  {
   "cell_type": "markdown",
   "id": "224f3489",
   "metadata": {},
   "source": [
    "the next graph show the percentrage difference between male and female "
   ]
  },
  {
   "cell_type": "code",
   "execution_count": 23,
   "id": "a8ae6432",
   "metadata": {},
   "outputs": [
    {
     "data": {
      "text/plain": [
       "(-1.1061784864936208,\n",
       " 1.1120167122536955,\n",
       " -1.1087968718810168,\n",
       " 1.1004188986610008)"
      ]
     },
     "execution_count": 23,
     "metadata": {},
     "output_type": "execute_result"
    },
    {
     "data": {
      "image/png": "[encoded data removed]",
      "text/plain": [
       "<Figure size 600x400 with 1 Axes>"
      ]
     },
     "metadata": {},
     "output_type": "display_data"
    }
   ],
   "source": [
    "m_to_f_rationA = rap_lavoro_attivati.GENERE.value_counts()\n",
    "\n",
    "xaxisA = m_to_f_rationA.index\n",
    "valueA = m_to_f_rationA.values\n",
    "\n",
    "fig1, axis = plt.subplots(1)\n",
    "fig1.dpi = 100\n",
    "\n",
    "#Attivati male to female Graph\n",
    "axis.pie(valueA, labels=xaxisA, autopct='%1.1f%%', startangle=90)\n",
    "axis.axis('equal')  # Equal aspect ratio ensures that pie is drawn as a circle.\n"
   ]
  },
  {
   "cell_type": "markdown",
   "id": "b59945ac",
   "metadata": {},
   "source": [
    "from these graphs we can say that probably there are more male than female in the popoulation"
   ]
  },
  {
   "cell_type": "markdown",
   "id": "50396697",
   "metadata": {},
   "source": [
    "### Dividing by age group\n",
    "For a better reading of teh data we create a new column for the age group"
   ]
  },
  {
   "cell_type": "code",
   "execution_count": 24,
   "id": "7c16e240",
   "metadata": {},
   "outputs": [
    {
     "data": {
      "text/plain": [
       "[14, 17, 20, 23, 26, 29, 32, 35, 38, 41, 44, 47, 50, 53, 56, 59, 62, 65]"
      ]
     },
     "execution_count": 24,
     "metadata": {},
     "output_type": "execute_result"
    }
   ],
   "source": [
    "bins = np.arange(14, 68, 3).tolist()\n",
    "bins"
   ]
  },
  {
   "cell_type": "code",
   "execution_count": 25,
   "id": "53d85a65",
   "metadata": {},
   "outputs": [
    {
     "data": {
      "text/html": [
       "<div>\n",
       "<style scoped>\n",
       "    .dataframe tbody tr th:only-of-type {\n",
       "        vertical-align: middle;\n",
       "    }\n",
       "\n",
       "    .dataframe tbody tr th {\n",
       "        vertical-align: top;\n",
       "    }\n",
       "\n",
       "    .dataframe thead th {\n",
       "        text-align: right;\n",
       "    }\n",
       "</style>\n",
       "<table border=\"1\" class=\"dataframe\">\n",
       "  <thead>\n",
       "    <tr style=\"text-align: right;\">\n",
       "      <th></th>\n",
       "      <th>DATA</th>\n",
       "      <th>GENERE</th>\n",
       "      <th>ETA</th>\n",
       "      <th>SETTOREECONOMICODETTAGLIO</th>\n",
       "      <th>TITOLOSTUDIO</th>\n",
       "      <th>CONTRATTO</th>\n",
       "      <th>MODALITALAVORO</th>\n",
       "      <th>PROVINCIAIMPRESA</th>\n",
       "      <th>ITALIANO</th>\n",
       "      <th>agerange</th>\n",
       "    </tr>\n",
       "  </thead>\n",
       "  <tbody>\n",
       "    <tr>\n",
       "      <th>12</th>\n",
       "      <td>2019-09-05</td>\n",
       "      <td>F</td>\n",
       "      <td>34</td>\n",
       "      <td>Istruzione di grado preparatorio: scuole dell'...</td>\n",
       "      <td>LAUREA - Vecchio o nuovo ordinamento</td>\n",
       "      <td>LAVORO A TEMPO INDETERMINATO</td>\n",
       "      <td>TEMPO PARZIALE ORIZZONTALE</td>\n",
       "      <td>BERGAMO</td>\n",
       "      <td>ITALIA</td>\n",
       "      <td>(32, 35]</td>\n",
       "    </tr>\n",
       "    <tr>\n",
       "      <th>26</th>\n",
       "      <td>2017-12-06</td>\n",
       "      <td>F</td>\n",
       "      <td>26</td>\n",
       "      <td>Bar e altri esercizi simili senza cucina</td>\n",
       "      <td>NESSUN TITOLO DI STUDIO</td>\n",
       "      <td>LAVORO INTERMITTENTE</td>\n",
       "      <td>NON DEFINITO</td>\n",
       "      <td>BERGAMO</td>\n",
       "      <td>ITALIA</td>\n",
       "      <td>(23, 26]</td>\n",
       "    </tr>\n",
       "    <tr>\n",
       "      <th>28</th>\n",
       "      <td>2019-08-04</td>\n",
       "      <td>F</td>\n",
       "      <td>45</td>\n",
       "      <td>Attività di famiglie e convivenze come datori ...</td>\n",
       "      <td>NESSUN TITOLO DI STUDIO</td>\n",
       "      <td>LAVORO DOMESTICO</td>\n",
       "      <td>TEMPO PIENO</td>\n",
       "      <td>BERGAMO</td>\n",
       "      <td>ITALIA</td>\n",
       "      <td>(44, 47]</td>\n",
       "    </tr>\n",
       "    <tr>\n",
       "      <th>42</th>\n",
       "      <td>2018-10-12</td>\n",
       "      <td>F</td>\n",
       "      <td>24</td>\n",
       "      <td>Ristorazione con somministrazione</td>\n",
       "      <td>DIPLOMA DI ISTRUZIONE SECONDARIA SUPERIORE  CH...</td>\n",
       "      <td>LAVORO INTERMITTENTE</td>\n",
       "      <td>NON DEFINITO</td>\n",
       "      <td>BERGAMO</td>\n",
       "      <td>ITALIA</td>\n",
       "      <td>(23, 26]</td>\n",
       "    </tr>\n",
       "    <tr>\n",
       "      <th>51</th>\n",
       "      <td>2019-09-09</td>\n",
       "      <td>M</td>\n",
       "      <td>47</td>\n",
       "      <td>Fabbricazione di strutture metalliche e parti ...</td>\n",
       "      <td>NESSUN TITOLO DI STUDIO</td>\n",
       "      <td>LAVORO A TEMPO INDETERMINATO</td>\n",
       "      <td>TEMPO PIENO</td>\n",
       "      <td>LECCO</td>\n",
       "      <td>ITALIA</td>\n",
       "      <td>(44, 47]</td>\n",
       "    </tr>\n",
       "    <tr>\n",
       "      <th>...</th>\n",
       "      <td>...</td>\n",
       "      <td>...</td>\n",
       "      <td>...</td>\n",
       "      <td>...</td>\n",
       "      <td>...</td>\n",
       "      <td>...</td>\n",
       "      <td>...</td>\n",
       "      <td>...</td>\n",
       "      <td>...</td>\n",
       "      <td>...</td>\n",
       "    </tr>\n",
       "    <tr>\n",
       "      <th>9579764</th>\n",
       "      <td>2018-03-01</td>\n",
       "      <td>F</td>\n",
       "      <td>41</td>\n",
       "      <td>Bar e altri esercizi simili senza cucina</td>\n",
       "      <td>TITOLO DI ISTRUZIONE SECONDARIA SUPERIORE (SCO...</td>\n",
       "      <td>LAVORO A TEMPO INDETERMINATO</td>\n",
       "      <td>TEMPO PARZIALE ORIZZONTALE</td>\n",
       "      <td>MONZA E BRIANZA</td>\n",
       "      <td>ITALIA</td>\n",
       "      <td>(38, 41]</td>\n",
       "    </tr>\n",
       "    <tr>\n",
       "      <th>9579766</th>\n",
       "      <td>2017-03-02</td>\n",
       "      <td>M</td>\n",
       "      <td>45</td>\n",
       "      <td>Costruzione di edifici residenziali e non resi...</td>\n",
       "      <td>NESSUN TITOLO DI STUDIO</td>\n",
       "      <td>LAVORO A TEMPO DETERMINATO</td>\n",
       "      <td>TEMPO PIENO</td>\n",
       "      <td>MONZA E BRIANZA</td>\n",
       "      <td>EGITTO</td>\n",
       "      <td>(44, 47]</td>\n",
       "    </tr>\n",
       "    <tr>\n",
       "      <th>9579773</th>\n",
       "      <td>2017-01-05</td>\n",
       "      <td>M</td>\n",
       "      <td>53</td>\n",
       "      <td>Fabbricazione di altri articoli metallici e mi...</td>\n",
       "      <td>NESSUN TITOLO DI STUDIO</td>\n",
       "      <td>LAVORO A TEMPO DETERMINATO</td>\n",
       "      <td>TEMPO PIENO</td>\n",
       "      <td>MONZA E BRIANZA</td>\n",
       "      <td>ITALIA</td>\n",
       "      <td>(50, 53]</td>\n",
       "    </tr>\n",
       "    <tr>\n",
       "      <th>9579777</th>\n",
       "      <td>2018-04-05</td>\n",
       "      <td>F</td>\n",
       "      <td>35</td>\n",
       "      <td>Mense</td>\n",
       "      <td>LICENZA MEDIA</td>\n",
       "      <td>LAVORO A TEMPO DETERMINATO</td>\n",
       "      <td>TEMPO PARZIALE ORIZZONTALE</td>\n",
       "      <td>MONZA E BRIANZA</td>\n",
       "      <td>ITALIA</td>\n",
       "      <td>(32, 35]</td>\n",
       "    </tr>\n",
       "    <tr>\n",
       "      <th>9579788</th>\n",
       "      <td>2019-07-08</td>\n",
       "      <td>M</td>\n",
       "      <td>40</td>\n",
       "      <td>Lavori di meccanica generale</td>\n",
       "      <td>LICENZA MEDIA</td>\n",
       "      <td>LAVORO A TEMPO DETERMINATO</td>\n",
       "      <td>TEMPO PIENO</td>\n",
       "      <td>BERGAMO</td>\n",
       "      <td>ALGERIA</td>\n",
       "      <td>(38, 41]</td>\n",
       "    </tr>\n",
       "  </tbody>\n",
       "</table>\n",
       "<p>1549590 rows × 10 columns</p>\n",
       "</div>"
      ],
      "text/plain": [
       "              DATA GENERE  ETA  \\\n",
       "12      2019-09-05      F   34   \n",
       "26      2017-12-06      F   26   \n",
       "28      2019-08-04      F   45   \n",
       "42      2018-10-12      F   24   \n",
       "51      2019-09-09      M   47   \n",
       "...            ...    ...  ...   \n",
       "9579764 2018-03-01      F   41   \n",
       "9579766 2017-03-02      M   45   \n",
       "9579773 2017-01-05      M   53   \n",
       "9579777 2018-04-05      F   35   \n",
       "9579788 2019-07-08      M   40   \n",
       "\n",
       "                                 SETTOREECONOMICODETTAGLIO  \\\n",
       "12       Istruzione di grado preparatorio: scuole dell'...   \n",
       "26                Bar e altri esercizi simili senza cucina   \n",
       "28       Attività di famiglie e convivenze come datori ...   \n",
       "42                       Ristorazione con somministrazione   \n",
       "51       Fabbricazione di strutture metalliche e parti ...   \n",
       "...                                                    ...   \n",
       "9579764           Bar e altri esercizi simili senza cucina   \n",
       "9579766  Costruzione di edifici residenziali e non resi...   \n",
       "9579773  Fabbricazione di altri articoli metallici e mi...   \n",
       "9579777                                              Mense   \n",
       "9579788                       Lavori di meccanica generale   \n",
       "\n",
       "                                              TITOLOSTUDIO  \\\n",
       "12                    LAUREA - Vecchio o nuovo ordinamento   \n",
       "26                                 NESSUN TITOLO DI STUDIO   \n",
       "28                                 NESSUN TITOLO DI STUDIO   \n",
       "42       DIPLOMA DI ISTRUZIONE SECONDARIA SUPERIORE  CH...   \n",
       "51                                 NESSUN TITOLO DI STUDIO   \n",
       "...                                                    ...   \n",
       "9579764  TITOLO DI ISTRUZIONE SECONDARIA SUPERIORE (SCO...   \n",
       "9579766                            NESSUN TITOLO DI STUDIO   \n",
       "9579773                            NESSUN TITOLO DI STUDIO   \n",
       "9579777                                      LICENZA MEDIA   \n",
       "9579788                                      LICENZA MEDIA   \n",
       "\n",
       "                            CONTRATTO              MODALITALAVORO  \\\n",
       "12       LAVORO A TEMPO INDETERMINATO  TEMPO PARZIALE ORIZZONTALE   \n",
       "26               LAVORO INTERMITTENTE                NON DEFINITO   \n",
       "28                   LAVORO DOMESTICO                 TEMPO PIENO   \n",
       "42               LAVORO INTERMITTENTE                NON DEFINITO   \n",
       "51       LAVORO A TEMPO INDETERMINATO                 TEMPO PIENO   \n",
       "...                               ...                         ...   \n",
       "9579764  LAVORO A TEMPO INDETERMINATO  TEMPO PARZIALE ORIZZONTALE   \n",
       "9579766    LAVORO A TEMPO DETERMINATO                 TEMPO PIENO   \n",
       "9579773    LAVORO A TEMPO DETERMINATO                 TEMPO PIENO   \n",
       "9579777    LAVORO A TEMPO DETERMINATO  TEMPO PARZIALE ORIZZONTALE   \n",
       "9579788    LAVORO A TEMPO DETERMINATO                 TEMPO PIENO   \n",
       "\n",
       "        PROVINCIAIMPRESA ITALIANO  agerange  \n",
       "12               BERGAMO   ITALIA  (32, 35]  \n",
       "26               BERGAMO   ITALIA  (23, 26]  \n",
       "28               BERGAMO   ITALIA  (44, 47]  \n",
       "42               BERGAMO   ITALIA  (23, 26]  \n",
       "51                 LECCO   ITALIA  (44, 47]  \n",
       "...                  ...      ...       ...  \n",
       "9579764  MONZA E BRIANZA   ITALIA  (38, 41]  \n",
       "9579766  MONZA E BRIANZA   EGITTO  (44, 47]  \n",
       "9579773  MONZA E BRIANZA   ITALIA  (50, 53]  \n",
       "9579777  MONZA E BRIANZA   ITALIA  (32, 35]  \n",
       "9579788          BERGAMO  ALGERIA  (38, 41]  \n",
       "\n",
       "[1549590 rows x 10 columns]"
      ]
     },
     "execution_count": 25,
     "metadata": {},
     "output_type": "execute_result"
    }
   ],
   "source": [
    "bins = np.arange(14, 68, 3).tolist()\n",
    "rap_lavoro_attivati['agerange'] = pd.cut(rap_lavoro_attivati['ETA'], bins)\n",
    "rap_lavoro_attivati"
   ]
  },
  {
   "cell_type": "code",
   "execution_count": 26,
   "id": "f1de71f5",
   "metadata": {},
   "outputs": [],
   "source": [
    "rap_lavoro_attivati.dropna(axis = 0, inplace = True)"
   ]
  },
  {
   "cell_type": "code",
   "execution_count": 27,
   "id": "27731091",
   "metadata": {},
   "outputs": [
    {
     "data": {
      "image/png": "[encoded data removed]",
      "text/plain": [
       "<Figure size 432x288 with 1 Axes>"
      ]
     },
     "metadata": {
      "needs_background": "light"
     },
     "output_type": "display_data"
    }
   ],
   "source": [
    "testAge = rap_lavoro_attivati.agerange.value_counts()\n",
    "\n",
    "labels = testAge.index\n",
    "newContract = np.log(testAge.values)\n",
    "\n",
    "x = np.arange(len(labels))  # the label locations\n",
    "width = 0.35  # the width of the bars\n",
    "\n",
    "fig, ax = plt.subplots()\n",
    "rects1 = ax.bar(x - width/2, newContract, width, label='New Contract')\n",
    "\n",
    "# Add some text for labels, title and custom x-axis tick labels, etc.\n",
    "ax.set_ylabel('number')\n",
    "ax.set_title('number of contract divided by age group')\n",
    "ax.set_xticks(x)\n",
    "ax.set_xticklabels(labels=labels,rotation=45,\n",
    "    horizontalalignment='right');\n",
    "ax.legend()\n",
    "\n",
    "\n",
    "\n",
    "fig.tight_layout()\n",
    "\n",
    "plt.show()"
   ]
  },
  {
   "cell_type": "markdown",
   "id": "96bcfec9",
   "metadata": {},
   "source": [
    "## Introducing another dataset\n",
    "This dataset contain the level of education for age referred to the region lombardy from the year 2018 to 2020.The educational level  are coded in teh following way:\n",
    "- NED = nessun titolo di studio\n",
    "- IL =  analfabeti\n",
    "- LBNA = analfabeti privi di titolo di studio\n",
    "- PSE = licenza di scuola elementare\n",
    "- LSE = licenza media o avviamento professionale (conseguito non oltre l'anno 1965)/ Diploma di istruzione secondaria di I grado\n",
    "- USE_IF = Diploma di istruzione secondaria di II grado o di qualifica professionale (corso di 3-4 anni) compresi IFTS\n",
    "- BL = Diploma tecnico superiore ITS o titolo di studio terziario di primo livello\n",
    "- ML_RDD = titolo di studio terziario di secondo livello e dottorato di ricerca\n",
    "- ML = Titolo di studio terziario di secondo livello\n",
    "- RDD = Dottorato di ricerca/diploma accademico di formazione alla ricerca\n",
    "- ALL = totale"
   ]
  },
  {
   "cell_type": "code",
   "execution_count": 28,
   "id": "e329278f",
   "metadata": {
    "scrolled": true
   },
   "outputs": [
    {
     "data": {
      "text/html": [
       "<div>\n",
       "<style scoped>\n",
       "    .dataframe tbody tr th:only-of-type {\n",
       "        vertical-align: middle;\n",
       "    }\n",
       "\n",
       "    .dataframe tbody tr th {\n",
       "        vertical-align: top;\n",
       "    }\n",
       "\n",
       "    .dataframe thead th {\n",
       "        text-align: right;\n",
       "    }\n",
       "</style>\n",
       "<table border=\"1\" class=\"dataframe\">\n",
       "  <thead>\n",
       "    <tr style=\"text-align: right;\">\n",
       "      <th></th>\n",
       "      <th>DATAFLOW</th>\n",
       "      <th>FREQ</th>\n",
       "      <th>REF_AREA</th>\n",
       "      <th>INDICATOR</th>\n",
       "      <th>GENDER</th>\n",
       "      <th>AGE_NOCLASS</th>\n",
       "      <th>EDU_ATTAIN</th>\n",
       "      <th>TIME_PERIOD</th>\n",
       "      <th>OBS_VALUE</th>\n",
       "      <th>OBS_STATUS</th>\n",
       "      <th>NOTE_DS</th>\n",
       "      <th>NOTE_REF_AREA</th>\n",
       "      <th>NOTE_INDICATOR</th>\n",
       "      <th>NOTE_GENDER</th>\n",
       "      <th>NOTE_AGE_NOCLASS</th>\n",
       "      <th>NOTE_CITIZENSHIP</th>\n",
       "      <th>NOTE_EDU_ATTAIN</th>\n",
       "      <th>NOTE_CUR_ACT_STAT</th>\n",
       "      <th>NOTE_LOC_DEST</th>\n",
       "      <th>NOTE_REAS_COMMUTING</th>\n",
       "    </tr>\n",
       "  </thead>\n",
       "  <tbody>\n",
       "    <tr>\n",
       "      <th>0</th>\n",
       "      <td>IT1:DF_DCSS_ISTR_LAV_PEN_2_REG_91_ITC4(1.0)</td>\n",
       "      <td>A</td>\n",
       "      <td>012001</td>\n",
       "      <td>RESPOP_AV</td>\n",
       "      <td>F</td>\n",
       "      <td>Y_GE65</td>\n",
       "      <td>ALL</td>\n",
       "      <td>2018</td>\n",
       "      <td>54</td>\n",
       "      <td>NaN</td>\n",
       "      <td>NaN</td>\n",
       "      <td>NaN</td>\n",
       "      <td>NaN</td>\n",
       "      <td>NaN</td>\n",
       "      <td>NaN</td>\n",
       "      <td>NaN</td>\n",
       "      <td>ALL_N1</td>\n",
       "      <td>99_N1</td>\n",
       "      <td>NaN</td>\n",
       "      <td>NaN</td>\n",
       "    </tr>\n",
       "    <tr>\n",
       "      <th>1</th>\n",
       "      <td>IT1:DF_DCSS_ISTR_LAV_PEN_2_REG_91_ITC4(1.0)</td>\n",
       "      <td>A</td>\n",
       "      <td>012001</td>\n",
       "      <td>RESPOP_AV</td>\n",
       "      <td>F</td>\n",
       "      <td>Y_GE65</td>\n",
       "      <td>ALL</td>\n",
       "      <td>2019</td>\n",
       "      <td>59</td>\n",
       "      <td>NaN</td>\n",
       "      <td>NaN</td>\n",
       "      <td>NaN</td>\n",
       "      <td>NaN</td>\n",
       "      <td>NaN</td>\n",
       "      <td>NaN</td>\n",
       "      <td>NaN</td>\n",
       "      <td>ALL_N1</td>\n",
       "      <td>99_N1</td>\n",
       "      <td>NaN</td>\n",
       "      <td>NaN</td>\n",
       "    </tr>\n",
       "    <tr>\n",
       "      <th>2</th>\n",
       "      <td>IT1:DF_DCSS_ISTR_LAV_PEN_2_REG_91_ITC4(1.0)</td>\n",
       "      <td>A</td>\n",
       "      <td>012001</td>\n",
       "      <td>RESPOP_AV</td>\n",
       "      <td>F</td>\n",
       "      <td>Y_GE65</td>\n",
       "      <td>ALL</td>\n",
       "      <td>2020</td>\n",
       "      <td>63</td>\n",
       "      <td>NaN</td>\n",
       "      <td>NaN</td>\n",
       "      <td>NaN</td>\n",
       "      <td>NaN</td>\n",
       "      <td>NaN</td>\n",
       "      <td>NaN</td>\n",
       "      <td>NaN</td>\n",
       "      <td>ALL_N1</td>\n",
       "      <td>99_N1</td>\n",
       "      <td>NaN</td>\n",
       "      <td>NaN</td>\n",
       "    </tr>\n",
       "    <tr>\n",
       "      <th>3</th>\n",
       "      <td>IT1:DF_DCSS_ISTR_LAV_PEN_2_REG_91_ITC4(1.0)</td>\n",
       "      <td>A</td>\n",
       "      <td>012001</td>\n",
       "      <td>RESPOP_AV</td>\n",
       "      <td>F</td>\n",
       "      <td>Y_GE65</td>\n",
       "      <td>BL</td>\n",
       "      <td>2018</td>\n",
       "      <td>3</td>\n",
       "      <td>NaN</td>\n",
       "      <td>NaN</td>\n",
       "      <td>NaN</td>\n",
       "      <td>NaN</td>\n",
       "      <td>NaN</td>\n",
       "      <td>NaN</td>\n",
       "      <td>NaN</td>\n",
       "      <td>BL_N1</td>\n",
       "      <td>99_N1</td>\n",
       "      <td>NaN</td>\n",
       "      <td>NaN</td>\n",
       "    </tr>\n",
       "    <tr>\n",
       "      <th>4</th>\n",
       "      <td>IT1:DF_DCSS_ISTR_LAV_PEN_2_REG_91_ITC4(1.0)</td>\n",
       "      <td>A</td>\n",
       "      <td>012001</td>\n",
       "      <td>RESPOP_AV</td>\n",
       "      <td>F</td>\n",
       "      <td>Y_GE65</td>\n",
       "      <td>BL</td>\n",
       "      <td>2019</td>\n",
       "      <td>3</td>\n",
       "      <td>NaN</td>\n",
       "      <td>NaN</td>\n",
       "      <td>NaN</td>\n",
       "      <td>NaN</td>\n",
       "      <td>NaN</td>\n",
       "      <td>NaN</td>\n",
       "      <td>NaN</td>\n",
       "      <td>BL_N1</td>\n",
       "      <td>99_N1</td>\n",
       "      <td>NaN</td>\n",
       "      <td>NaN</td>\n",
       "    </tr>\n",
       "  </tbody>\n",
       "</table>\n",
       "</div>"
      ],
      "text/plain": [
       "                                      DATAFLOW FREQ REF_AREA  INDICATOR  \\\n",
       "0  IT1:DF_DCSS_ISTR_LAV_PEN_2_REG_91_ITC4(1.0)    A   012001  RESPOP_AV   \n",
       "1  IT1:DF_DCSS_ISTR_LAV_PEN_2_REG_91_ITC4(1.0)    A   012001  RESPOP_AV   \n",
       "2  IT1:DF_DCSS_ISTR_LAV_PEN_2_REG_91_ITC4(1.0)    A   012001  RESPOP_AV   \n",
       "3  IT1:DF_DCSS_ISTR_LAV_PEN_2_REG_91_ITC4(1.0)    A   012001  RESPOP_AV   \n",
       "4  IT1:DF_DCSS_ISTR_LAV_PEN_2_REG_91_ITC4(1.0)    A   012001  RESPOP_AV   \n",
       "\n",
       "  GENDER AGE_NOCLASS EDU_ATTAIN  TIME_PERIOD  OBS_VALUE  OBS_STATUS  NOTE_DS  \\\n",
       "0      F      Y_GE65        ALL         2018         54         NaN      NaN   \n",
       "1      F      Y_GE65        ALL         2019         59         NaN      NaN   \n",
       "2      F      Y_GE65        ALL         2020         63         NaN      NaN   \n",
       "3      F      Y_GE65         BL         2018          3         NaN      NaN   \n",
       "4      F      Y_GE65         BL         2019          3         NaN      NaN   \n",
       "\n",
       "  NOTE_REF_AREA  NOTE_INDICATOR  NOTE_GENDER  NOTE_AGE_NOCLASS  \\\n",
       "0           NaN             NaN          NaN               NaN   \n",
       "1           NaN             NaN          NaN               NaN   \n",
       "2           NaN             NaN          NaN               NaN   \n",
       "3           NaN             NaN          NaN               NaN   \n",
       "4           NaN             NaN          NaN               NaN   \n",
       "\n",
       "   NOTE_CITIZENSHIP NOTE_EDU_ATTAIN NOTE_CUR_ACT_STAT  NOTE_LOC_DEST  \\\n",
       "0               NaN          ALL_N1             99_N1            NaN   \n",
       "1               NaN          ALL_N1             99_N1            NaN   \n",
       "2               NaN          ALL_N1             99_N1            NaN   \n",
       "3               NaN           BL_N1             99_N1            NaN   \n",
       "4               NaN           BL_N1             99_N1            NaN   \n",
       "\n",
       "   NOTE_REAS_COMMUTING  \n",
       "0                  NaN  \n",
       "1                  NaN  \n",
       "2                  NaN  \n",
       "3                  NaN  \n",
       "4                  NaN  "
      ]
     },
     "execution_count": 28,
     "metadata": {},
     "output_type": "execute_result"
    }
   ],
   "source": [
    "grado_istruzione_age  = pd.read_csv(PurePath('dataset', 'Grado_istruzione_per_età_Lombardia_IT1,DF_DCSS_ISTR_LAV_PEN_2_REG.csv'),low_memory=False)\n",
    "grado_istruzione_age.head()"
   ]
  },
  {
   "cell_type": "code",
   "execution_count": 29,
   "id": "85603b4f",
   "metadata": {},
   "outputs": [
    {
     "name": "stdout",
     "output_type": "stream",
     "text": [
      "[DATAFLOW                    0\n",
      "FREQ                        0\n",
      "REF_AREA                    0\n",
      "INDICATOR                   0\n",
      "GENDER                      0\n",
      "AGE_NOCLASS                 0\n",
      "EDU_ATTAIN                  0\n",
      "TIME_PERIOD                 0\n",
      "OBS_VALUE                   0\n",
      "OBS_STATUS             508956\n",
      "NOTE_DS                508956\n",
      "NOTE_REF_AREA          504601\n",
      "NOTE_INDICATOR         508956\n",
      "NOTE_GENDER            508956\n",
      "NOTE_AGE_NOCLASS       508956\n",
      "NOTE_CITIZENSHIP       508956\n",
      "NOTE_EDU_ATTAIN        185896\n",
      "NOTE_CUR_ACT_STAT           0\n",
      "NOTE_LOC_DEST          508956\n",
      "NOTE_REAS_COMMUTING    508956\n",
      "dtype: int64]\n"
     ]
    }
   ],
   "source": [
    "print([grado_istruzione_age.isnull().sum()])"
   ]
  },
  {
   "cell_type": "markdown",
   "id": "04619744",
   "metadata": {},
   "source": [
    "there are some column with null value that can be deleted"
   ]
  },
  {
   "cell_type": "code",
   "execution_count": 30,
   "id": "ee685ec1",
   "metadata": {},
   "outputs": [],
   "source": [
    "grado_istruzione_age = grado_istruzione_age[['REF_AREA', 'GENDER', 'AGE_NOCLASS', 'EDU_ATTAIN', 'TIME_PERIOD', 'OBS_VALUE']]"
   ]
  },
  {
   "cell_type": "code",
   "execution_count": 31,
   "id": "f920616d",
   "metadata": {},
   "outputs": [
    {
     "data": {
      "text/plain": [
       "Y_GE9     145979\n",
       "Y25-49     92357\n",
       "Y50-64     91652\n",
       "Y_GE65     90061\n",
       "Y9-24      88907\n",
       "Name: AGE_NOCLASS, dtype: int64"
      ]
     },
     "execution_count": 31,
     "metadata": {},
     "output_type": "execute_result"
    }
   ],
   "source": [
    "grado_istruzione_age ['AGE_NOCLASS'].value_counts()"
   ]
  },
  {
   "cell_type": "markdown",
   "id": "ae02915b",
   "metadata": {},
   "source": [
    "those value represet age range in specific:\n",
    "- Y_GE9: all people with age greater than 9, in this case all the people in the dataset\n",
    "- Y25-49: people with an age between 25 and 49\n",
    "- Y50-64: people with an age between 50 and 64\n",
    "- Y_GE65: people with more than 65 years\n",
    "- Y9-24: people with an age between 9 and 24\n",
    "\n",
    "In the following part we will add a column with the saem age range of the dataset *Grado_istruzione_per_età_Lombardia*"
   ]
  },
  {
   "cell_type": "code",
   "execution_count": null,
   "id": "593d0d32",
   "metadata": {},
   "outputs": [],
   "source": []
  },
  {
   "cell_type": "markdown",
   "id": "d3615cb0",
   "metadata": {},
   "source": [
    "because in the dataset *rapporti di lavoro* the minimum age is 16 while in *Grado_istruzione_per_età_Lombardia* is 9 we will delete all the illiterate and the people with only elementary school license with the age between 9 and 24  from the dataset, we have choose to do so because the majority of people in that age range with only elementary school license are the one under 16 year"
   ]
  },
  {
   "cell_type": "code",
   "execution_count": 32,
   "id": "4be7ed41",
   "metadata": {},
   "outputs": [
    {
     "data": {
      "text/html": [
       "<div>\n",
       "<style scoped>\n",
       "    .dataframe tbody tr th:only-of-type {\n",
       "        vertical-align: middle;\n",
       "    }\n",
       "\n",
       "    .dataframe tbody tr th {\n",
       "        vertical-align: top;\n",
       "    }\n",
       "\n",
       "    .dataframe thead th {\n",
       "        text-align: right;\n",
       "    }\n",
       "</style>\n",
       "<table border=\"1\" class=\"dataframe\">\n",
       "  <thead>\n",
       "    <tr style=\"text-align: right;\">\n",
       "      <th></th>\n",
       "      <th>REF_AREA</th>\n",
       "      <th>GENDER</th>\n",
       "      <th>AGE_NOCLASS</th>\n",
       "      <th>EDU_ATTAIN</th>\n",
       "      <th>TIME_PERIOD</th>\n",
       "      <th>OBS_VALUE</th>\n",
       "    </tr>\n",
       "  </thead>\n",
       "  <tbody>\n",
       "    <tr>\n",
       "      <th>0</th>\n",
       "      <td>012001</td>\n",
       "      <td>F</td>\n",
       "      <td>Y_GE65</td>\n",
       "      <td>ALL</td>\n",
       "      <td>2018</td>\n",
       "      <td>54</td>\n",
       "    </tr>\n",
       "    <tr>\n",
       "      <th>1</th>\n",
       "      <td>012001</td>\n",
       "      <td>F</td>\n",
       "      <td>Y_GE65</td>\n",
       "      <td>ALL</td>\n",
       "      <td>2019</td>\n",
       "      <td>59</td>\n",
       "    </tr>\n",
       "    <tr>\n",
       "      <th>2</th>\n",
       "      <td>012001</td>\n",
       "      <td>F</td>\n",
       "      <td>Y_GE65</td>\n",
       "      <td>ALL</td>\n",
       "      <td>2020</td>\n",
       "      <td>63</td>\n",
       "    </tr>\n",
       "    <tr>\n",
       "      <th>3</th>\n",
       "      <td>012001</td>\n",
       "      <td>F</td>\n",
       "      <td>Y_GE65</td>\n",
       "      <td>BL</td>\n",
       "      <td>2018</td>\n",
       "      <td>3</td>\n",
       "    </tr>\n",
       "    <tr>\n",
       "      <th>4</th>\n",
       "      <td>012001</td>\n",
       "      <td>F</td>\n",
       "      <td>Y_GE65</td>\n",
       "      <td>BL</td>\n",
       "      <td>2019</td>\n",
       "      <td>3</td>\n",
       "    </tr>\n",
       "    <tr>\n",
       "      <th>...</th>\n",
       "      <td>...</td>\n",
       "      <td>...</td>\n",
       "      <td>...</td>\n",
       "      <td>...</td>\n",
       "      <td>...</td>\n",
       "      <td>...</td>\n",
       "    </tr>\n",
       "    <tr>\n",
       "      <th>508951</th>\n",
       "      <td>ITC4B</td>\n",
       "      <td>T</td>\n",
       "      <td>Y9-24</td>\n",
       "      <td>PSE</td>\n",
       "      <td>2019</td>\n",
       "      <td>12282</td>\n",
       "    </tr>\n",
       "    <tr>\n",
       "      <th>508952</th>\n",
       "      <td>ITC4B</td>\n",
       "      <td>T</td>\n",
       "      <td>Y9-24</td>\n",
       "      <td>PSE</td>\n",
       "      <td>2020</td>\n",
       "      <td>12409</td>\n",
       "    </tr>\n",
       "    <tr>\n",
       "      <th>508953</th>\n",
       "      <td>ITC4B</td>\n",
       "      <td>T</td>\n",
       "      <td>Y9-24</td>\n",
       "      <td>USE_IF</td>\n",
       "      <td>2018</td>\n",
       "      <td>16491</td>\n",
       "    </tr>\n",
       "    <tr>\n",
       "      <th>508954</th>\n",
       "      <td>ITC4B</td>\n",
       "      <td>T</td>\n",
       "      <td>Y9-24</td>\n",
       "      <td>USE_IF</td>\n",
       "      <td>2019</td>\n",
       "      <td>16647</td>\n",
       "    </tr>\n",
       "    <tr>\n",
       "      <th>508955</th>\n",
       "      <td>ITC4B</td>\n",
       "      <td>T</td>\n",
       "      <td>Y9-24</td>\n",
       "      <td>USE_IF</td>\n",
       "      <td>2020</td>\n",
       "      <td>16637</td>\n",
       "    </tr>\n",
       "  </tbody>\n",
       "</table>\n",
       "<p>483510 rows × 6 columns</p>\n",
       "</div>"
      ],
      "text/plain": [
       "       REF_AREA GENDER AGE_NOCLASS EDU_ATTAIN  TIME_PERIOD  OBS_VALUE\n",
       "0        012001      F      Y_GE65        ALL         2018         54\n",
       "1        012001      F      Y_GE65        ALL         2019         59\n",
       "2        012001      F      Y_GE65        ALL         2020         63\n",
       "3        012001      F      Y_GE65         BL         2018          3\n",
       "4        012001      F      Y_GE65         BL         2019          3\n",
       "...         ...    ...         ...        ...          ...        ...\n",
       "508951    ITC4B      T       Y9-24        PSE         2019      12282\n",
       "508952    ITC4B      T       Y9-24        PSE         2020      12409\n",
       "508953    ITC4B      T       Y9-24     USE_IF         2018      16491\n",
       "508954    ITC4B      T       Y9-24     USE_IF         2019      16647\n",
       "508955    ITC4B      T       Y9-24     USE_IF         2020      16637\n",
       "\n",
       "[483510 rows x 6 columns]"
      ]
     },
     "execution_count": 32,
     "metadata": {},
     "output_type": "execute_result"
    }
   ],
   "source": [
    "grado_istruzione_age = grado_istruzione_age [~((grado_istruzione_age ['EDU_ATTAIN']== 'IL')|(grado_istruzione_age ['EDU_ATTAIN']== 'LBNA')|((grado_istruzione_age ['EDU_ATTAIN']== 'PSE')&(grado_istruzione_age ['AGE_NOCLASS']== 'Y9_24')))]\n",
    "grado_istruzione_age"
   ]
  },
  {
   "cell_type": "code",
   "execution_count": 33,
   "id": "78a53744",
   "metadata": {},
   "outputs": [
    {
     "name": "stdout",
     "output_type": "stream",
     "text": [
      "12                 LAUREA - Vecchio o nuovo ordinamento\n",
      "26                              NESSUN TITOLO DI STUDIO\n",
      "28                              NESSUN TITOLO DI STUDIO\n",
      "42    DIPLOMA DI ISTRUZIONE SECONDARIA SUPERIORE  CH...\n",
      "51                              NESSUN TITOLO DI STUDIO\n",
      "Name: TITOLOSTUDIO, dtype: string\n"
     ]
    },
    {
     "data": {
      "text/plain": [
       "0    ALL\n",
       "1    ALL\n",
       "2    ALL\n",
       "3     BL\n",
       "4     BL\n",
       "Name: EDU_ATTAIN, dtype: object"
      ]
     },
     "execution_count": 33,
     "metadata": {},
     "output_type": "execute_result"
    }
   ],
   "source": [
    "print(rap_lavoro_attivati['TITOLOSTUDIO'].head())\n",
    "grado_istruzione_age['EDU_ATTAIN'].head()"
   ]
  },
  {
   "cell_type": "markdown",
   "id": "3043c984",
   "metadata": {},
   "source": [
    "The series `TITOLO_STUDIO` and `EDU_ATTAIN` don't match easily, but we can map the values of `EDU_ATTAIN` into `TITOLO_STUDIO`."
   ]
  },
  {
   "cell_type": "code",
   "execution_count": 34,
   "id": "8891fa3e",
   "metadata": {
    "scrolled": true
   },
   "outputs": [
    {
     "name": "stdout",
     "output_type": "stream",
     "text": [
      "{'NESSUN TITOLO DI STUDIO', 'DIPLOMA UNIVERSITARIO', 'TITOLO DI DOTTORE DI RICERCA', 'DIPLOMA DI SPECIALIZZAZIONE', 'TITOLO DI STUDIO POST-LAUREA', 'LAUREA - Vecchio o nuovo ordinamento', \"TITOLO DI ISTRUZIONE SECONDARIA SUPERIORE (SCOLASTICA ED EXTRA-SCOLASTICA) CHE NON PERMETTE L'ACCESSO ALL'UNIVERSITÀ ()\", 'LICENZA MEDIA', 'DIPLOMA TERZIARIO EXTRA-UNIVERSITARIO', \"DIPLOMA DI ISTRUZIONE SECONDARIA SUPERIORE  CHE PERMETTE L'ACCESSO ALL'UNIVERSITA\", 'LICENZA ELEMENTARE', 'MASTER UNIVERSITARIO DI PRIMO LIVELLO'}\n",
      "{'LSE', 'ML', 'ALL', 'ML_RDD', 'USE_IF', 'BL', 'RDD', 'NED', 'PSE'}\n"
     ]
    }
   ],
   "source": [
    "print(series_to_set('TITOLOSTUDIO', rap_lavoro_attivati))\n",
    "print(series_to_set('EDU_ATTAIN', grado_istruzione_age))"
   ]
  },
  {
   "cell_type": "code",
   "execution_count": 35,
   "id": "c32a5e9a",
   "metadata": {},
   "outputs": [
    {
     "data": {
      "text/html": [
       "<div>\n",
       "<style scoped>\n",
       "    .dataframe tbody tr th:only-of-type {\n",
       "        vertical-align: middle;\n",
       "    }\n",
       "\n",
       "    .dataframe tbody tr th {\n",
       "        vertical-align: top;\n",
       "    }\n",
       "\n",
       "    .dataframe thead th {\n",
       "        text-align: right;\n",
       "    }\n",
       "</style>\n",
       "<table border=\"1\" class=\"dataframe\">\n",
       "  <thead>\n",
       "    <tr style=\"text-align: right;\">\n",
       "      <th></th>\n",
       "      <th>REF_AREA</th>\n",
       "      <th>GENDER</th>\n",
       "      <th>AGE_NOCLASS</th>\n",
       "      <th>EDU_ATTAIN</th>\n",
       "      <th>TIME_PERIOD</th>\n",
       "      <th>OBS_VALUE</th>\n",
       "    </tr>\n",
       "  </thead>\n",
       "  <tbody>\n",
       "    <tr>\n",
       "      <th>9</th>\n",
       "      <td>012001</td>\n",
       "      <td>F</td>\n",
       "      <td>Y_GE65</td>\n",
       "      <td>ML_RDD</td>\n",
       "      <td>2018</td>\n",
       "      <td>4</td>\n",
       "    </tr>\n",
       "    <tr>\n",
       "      <th>10</th>\n",
       "      <td>012001</td>\n",
       "      <td>F</td>\n",
       "      <td>Y_GE65</td>\n",
       "      <td>ML_RDD</td>\n",
       "      <td>2019</td>\n",
       "      <td>4</td>\n",
       "    </tr>\n",
       "    <tr>\n",
       "      <th>11</th>\n",
       "      <td>012001</td>\n",
       "      <td>F</td>\n",
       "      <td>Y_GE65</td>\n",
       "      <td>ML_RDD</td>\n",
       "      <td>2020</td>\n",
       "      <td>3</td>\n",
       "    </tr>\n",
       "    <tr>\n",
       "      <th>58</th>\n",
       "      <td>012001</td>\n",
       "      <td>F</td>\n",
       "      <td>Y25-49</td>\n",
       "      <td>ML_RDD</td>\n",
       "      <td>2018</td>\n",
       "      <td>16</td>\n",
       "    </tr>\n",
       "    <tr>\n",
       "      <th>59</th>\n",
       "      <td>012001</td>\n",
       "      <td>F</td>\n",
       "      <td>Y25-49</td>\n",
       "      <td>ML_RDD</td>\n",
       "      <td>2019</td>\n",
       "      <td>15</td>\n",
       "    </tr>\n",
       "    <tr>\n",
       "      <th>...</th>\n",
       "      <td>...</td>\n",
       "      <td>...</td>\n",
       "      <td>...</td>\n",
       "      <td>...</td>\n",
       "      <td>...</td>\n",
       "      <td>...</td>\n",
       "    </tr>\n",
       "    <tr>\n",
       "      <th>508924</th>\n",
       "      <td>ITC4B</td>\n",
       "      <td>T</td>\n",
       "      <td>Y50-64</td>\n",
       "      <td>ML_RDD</td>\n",
       "      <td>2019</td>\n",
       "      <td>7841</td>\n",
       "    </tr>\n",
       "    <tr>\n",
       "      <th>508925</th>\n",
       "      <td>ITC4B</td>\n",
       "      <td>T</td>\n",
       "      <td>Y50-64</td>\n",
       "      <td>ML_RDD</td>\n",
       "      <td>2020</td>\n",
       "      <td>8141</td>\n",
       "    </tr>\n",
       "    <tr>\n",
       "      <th>508944</th>\n",
       "      <td>ITC4B</td>\n",
       "      <td>T</td>\n",
       "      <td>Y9-24</td>\n",
       "      <td>ML_RDD</td>\n",
       "      <td>2018</td>\n",
       "      <td>302</td>\n",
       "    </tr>\n",
       "    <tr>\n",
       "      <th>508945</th>\n",
       "      <td>ITC4B</td>\n",
       "      <td>T</td>\n",
       "      <td>Y9-24</td>\n",
       "      <td>ML_RDD</td>\n",
       "      <td>2019</td>\n",
       "      <td>186</td>\n",
       "    </tr>\n",
       "    <tr>\n",
       "      <th>508946</th>\n",
       "      <td>ITC4B</td>\n",
       "      <td>T</td>\n",
       "      <td>Y9-24</td>\n",
       "      <td>ML_RDD</td>\n",
       "      <td>2020</td>\n",
       "      <td>242</td>\n",
       "    </tr>\n",
       "  </tbody>\n",
       "</table>\n",
       "<p>48332 rows × 6 columns</p>\n",
       "</div>"
      ],
      "text/plain": [
       "       REF_AREA GENDER AGE_NOCLASS EDU_ATTAIN  TIME_PERIOD  OBS_VALUE\n",
       "9        012001      F      Y_GE65     ML_RDD         2018          4\n",
       "10       012001      F      Y_GE65     ML_RDD         2019          4\n",
       "11       012001      F      Y_GE65     ML_RDD         2020          3\n",
       "58       012001      F      Y25-49     ML_RDD         2018         16\n",
       "59       012001      F      Y25-49     ML_RDD         2019         15\n",
       "...         ...    ...         ...        ...          ...        ...\n",
       "508924    ITC4B      T      Y50-64     ML_RDD         2019       7841\n",
       "508925    ITC4B      T      Y50-64     ML_RDD         2020       8141\n",
       "508944    ITC4B      T       Y9-24     ML_RDD         2018        302\n",
       "508945    ITC4B      T       Y9-24     ML_RDD         2019        186\n",
       "508946    ITC4B      T       Y9-24     ML_RDD         2020        242\n",
       "\n",
       "[48332 rows x 6 columns]"
      ]
     },
     "execution_count": 35,
     "metadata": {},
     "output_type": "execute_result"
    }
   ],
   "source": [
    "grado_istruzione_age.loc[(grado_istruzione_age.EDU_ATTAIN.isin(['ML_RDD'])) & ~(grado_istruzione_age.AGE_NOCLASS == 'Y_GE9')]"
   ]
  },
  {
   "cell_type": "code",
   "execution_count": 36,
   "id": "b1ecab84",
   "metadata": {},
   "outputs": [
    {
     "data": {
      "text/html": [
       "<div>\n",
       "<style scoped>\n",
       "    .dataframe tbody tr th:only-of-type {\n",
       "        vertical-align: middle;\n",
       "    }\n",
       "\n",
       "    .dataframe tbody tr th {\n",
       "        vertical-align: top;\n",
       "    }\n",
       "\n",
       "    .dataframe thead th {\n",
       "        text-align: right;\n",
       "    }\n",
       "</style>\n",
       "<table border=\"1\" class=\"dataframe\">\n",
       "  <thead>\n",
       "    <tr style=\"text-align: right;\">\n",
       "      <th></th>\n",
       "      <th>REF_AREA</th>\n",
       "      <th>GENDER</th>\n",
       "      <th>AGE_NOCLASS</th>\n",
       "      <th>EDU_ATTAIN</th>\n",
       "      <th>TIME_PERIOD</th>\n",
       "      <th>OBS_VALUE</th>\n",
       "    </tr>\n",
       "  </thead>\n",
       "  <tbody>\n",
       "    <tr>\n",
       "      <th>3</th>\n",
       "      <td>012001</td>\n",
       "      <td>F</td>\n",
       "      <td>Y_GE65</td>\n",
       "      <td>BL</td>\n",
       "      <td>2018</td>\n",
       "      <td>3</td>\n",
       "    </tr>\n",
       "    <tr>\n",
       "      <th>4</th>\n",
       "      <td>012001</td>\n",
       "      <td>F</td>\n",
       "      <td>Y_GE65</td>\n",
       "      <td>BL</td>\n",
       "      <td>2019</td>\n",
       "      <td>3</td>\n",
       "    </tr>\n",
       "    <tr>\n",
       "      <th>6</th>\n",
       "      <td>012001</td>\n",
       "      <td>F</td>\n",
       "      <td>Y_GE65</td>\n",
       "      <td>LSE</td>\n",
       "      <td>2018</td>\n",
       "      <td>11</td>\n",
       "    </tr>\n",
       "    <tr>\n",
       "      <th>7</th>\n",
       "      <td>012001</td>\n",
       "      <td>F</td>\n",
       "      <td>Y_GE65</td>\n",
       "      <td>LSE</td>\n",
       "      <td>2019</td>\n",
       "      <td>19</td>\n",
       "    </tr>\n",
       "    <tr>\n",
       "      <th>9</th>\n",
       "      <td>012001</td>\n",
       "      <td>F</td>\n",
       "      <td>Y_GE65</td>\n",
       "      <td>ML_RDD</td>\n",
       "      <td>2018</td>\n",
       "      <td>4</td>\n",
       "    </tr>\n",
       "  </tbody>\n",
       "</table>\n",
       "</div>"
      ],
      "text/plain": [
       "  REF_AREA GENDER AGE_NOCLASS EDU_ATTAIN  TIME_PERIOD  OBS_VALUE\n",
       "3   012001      F      Y_GE65         BL         2018          3\n",
       "4   012001      F      Y_GE65         BL         2019          3\n",
       "6   012001      F      Y_GE65        LSE         2018         11\n",
       "7   012001      F      Y_GE65        LSE         2019         19\n",
       "9   012001      F      Y_GE65     ML_RDD         2018          4"
      ]
     },
     "execution_count": 36,
     "metadata": {},
     "output_type": "execute_result"
    }
   ],
   "source": [
    "grado_istruzione_age = grado_istruzione_age[grado_istruzione_age['TIME_PERIOD'] != 2020]\n",
    "grado_istruzione_age = grado_istruzione_age[~grado_istruzione_age.EDU_ATTAIN.isin(['ALL', 'ML', 'RDD'])]\n",
    "grado_istruzione_age = grado_istruzione_age[grado_istruzione_age.AGE_NOCLASS != 'Y_GE9']\n",
    "grado_istruzione_age = grado_istruzione_age[grado_istruzione_age.GENDER != 'T']\n",
    "grado_istruzione_age.head()"
   ]
  },
  {
   "cell_type": "code",
   "execution_count": 37,
   "id": "71222e80",
   "metadata": {},
   "outputs": [],
   "source": [
    "edu_map = {\n",
    "    'IL': 'NESSUN TITOLO DI STUDIO',\n",
    "    'NED': 'NESSUN TITOLO DI STUDIO',\n",
    "    'LBNA': 'NESSUN TITOLO DI STUDIO',\n",
    "    'PSE': 'LICENZA ELEMENTARE',\n",
    "    'LSE': 'LICENZA MEDIA',\n",
    "    'USE_IF': 'DIPLOMA DI ISTRUZIONE SECONDARIA SUPERIORE',\n",
    "    \"TITOLO DI ISTRUZIONE SECONDARIA SUPERIORE (SCOLASTICA ED EXTRA-SCOLASTICA) CHE NON PERMETTE L'ACCESSO ALL'UNIVERSITÀ ()\": 'DIPLOMA DI ISTRUZIONE SECONDARIA SUPERIORE',\n",
    "    \"DIPLOMA DI ISTRUZIONE SECONDARIA SUPERIORE  CHE PERMETTE L'ACCESSO ALL'UNIVERSITA\": 'DIPLOMA DI ISTRUZIONE SECONDARIA SUPERIORE',\n",
    "    'BL': 'LAUREA',\n",
    "    'ML_RDD': 'TITOLO DI STUDIO TERZIARIO DI SECONDO LIVELLO O DOTTORATO',\n",
    "    'DIPLOMA TERZIARIO EXTRA-UNIVERSITARIO': 'TITOLO DI STUDIO TERZIARIO DI SECONDO LIVELLO O DOTTORATO',\n",
    "    'MASTER UNIVERSITARIO DI PRIMO LIVELLO': 'TITOLO DI STUDIO TERZIARIO DI SECONDO LIVELLO O DOTTORATO',\n",
    "    'LAUREA - Vecchio o nuovo ordinamento': 'LAUREA',\n",
    "    'DIPLOMA DI SPECIALIZZAZIONE': 'TITOLO DI STUDIO TERZIARIO DI SECONDO LIVELLO O DOTTORATO',\n",
    "    'DIPLOMA UNIVERSITARIO': 'LAUREA',\n",
    "    'TITOLO DI STUDIO POST-LAUREA': 'TITOLO DI STUDIO TERZIARIO DI SECONDO LIVELLO O DOTTORATO',\n",
    "    'TITOLO DI DOTTORE DI RICERCA': 'TITOLO DI STUDIO TERZIARIO DI SECONDO LIVELLO O DOTTORATO'\n",
    "}\n"
   ]
  },
  {
   "cell_type": "code",
   "execution_count": 38,
   "id": "8a10bcd9",
   "metadata": {},
   "outputs": [
    {
     "data": {
      "text/plain": [
       "3                                                    LAUREA\n",
       "4                                                    LAUREA\n",
       "6                                             LICENZA MEDIA\n",
       "7                                             LICENZA MEDIA\n",
       "9         TITOLO DI STUDIO TERZIARIO DI SECONDO LIVELLO ...\n",
       "                                ...                        \n",
       "508831                              NESSUN TITOLO DI STUDIO\n",
       "508833                                   LICENZA ELEMENTARE\n",
       "508834                                   LICENZA ELEMENTARE\n",
       "508836           DIPLOMA DI ISTRUZIONE SECONDARIA SUPERIORE\n",
       "508837           DIPLOMA DI ISTRUZIONE SECONDARIA SUPERIORE\n",
       "Name: EDU_ATTAIN, Length: 135309, dtype: object"
      ]
     },
     "execution_count": 38,
     "metadata": {},
     "output_type": "execute_result"
    }
   ],
   "source": [
    "def mapping(series, mapp): \n",
    "    series = series.apply(lambda x: mapp.get(x) if mapp.get(x) != None else x)\n",
    "    return series\n",
    "\n",
    "rap_lavoro_attivati['TITOLOSTUDIO'] = mapping(rap_lavoro_attivati['TITOLOSTUDIO'], edu_map)\n",
    "\n",
    "grado_istruzione_age['EDU_ATTAIN'] = mapping(grado_istruzione_age['EDU_ATTAIN'], edu_map)\n",
    "\n",
    "grado_istruzione_age['EDU_ATTAIN']\n"
   ]
  },
  {
   "cell_type": "code",
   "execution_count": 39,
   "id": "b8a92f6c",
   "metadata": {},
   "outputs": [
    {
     "data": {
      "text/plain": [
       "12                                             LAUREA\n",
       "26                            NESSUN TITOLO DI STUDIO\n",
       "28                            NESSUN TITOLO DI STUDIO\n",
       "42         DIPLOMA DI ISTRUZIONE SECONDARIA SUPERIORE\n",
       "51                            NESSUN TITOLO DI STUDIO\n",
       "                              ...                    \n",
       "9579764    DIPLOMA DI ISTRUZIONE SECONDARIA SUPERIORE\n",
       "9579766                       NESSUN TITOLO DI STUDIO\n",
       "9579773                       NESSUN TITOLO DI STUDIO\n",
       "9579777                                 LICENZA MEDIA\n",
       "9579788                                 LICENZA MEDIA\n",
       "Name: TITOLOSTUDIO, Length: 1534510, dtype: object"
      ]
     },
     "execution_count": 39,
     "metadata": {},
     "output_type": "execute_result"
    }
   ],
   "source": [
    "rap_lavoro_attivati['TITOLOSTUDIO']"
   ]
  },
  {
   "cell_type": "markdown",
   "id": "c3dfd7e9",
   "metadata": {},
   "source": [
    "In the next section we'll see a graph comparing the number of contract activated and the tota number of population in 2018"
   ]
  },
  {
   "cell_type": "code",
   "execution_count": 40,
   "id": "e93063e5",
   "metadata": {},
   "outputs": [
    {
     "name": "stderr",
     "output_type": "stream",
     "text": [
      "<ipython-input-40-db39d691b4f5>:6: SettingWithCopyWarning: \n",
      "A value is trying to be set on a copy of a slice from a DataFrame.\n",
      "Try using .loc[row_indexer,col_indexer] = value instead\n",
      "\n",
      "See the caveats in the documentation: https://pandas.pydata.org/pandas-docs/stable/user_guide/indexing.html#returning-a-view-versus-a-copy\n",
      "  activate2018['agerange'] = pd.cut(activate2018['ETA'], bins, labels = labels,include_lowest = True)\n",
      "<ipython-input-40-db39d691b4f5>:17: RuntimeWarning: divide by zero encountered in log\n",
      "  newContract = np.log(testAge.values)\n"
     ]
    },
    {
     "data": {
      "image/png": "[encoded data removed]",
      "text/plain": [
       "<Figure size 432x288 with 1 Axes>"
      ]
     },
     "metadata": {
      "needs_background": "light"
     },
     "output_type": "display_data"
    }
   ],
   "source": [
    "import datetime as dt\n",
    "\n",
    "activate2018 = rap_lavoro_attivati[rap_lavoro_attivati['DATA'].dt.year == 2018]\n",
    "bins = [0,25, 50, 65, 200]\n",
    "labels = ['Y9-24', 'Y25-49', 'Y50-64','Y_GE65' ]\n",
    "activate2018['agerange'] = pd.cut(activate2018['ETA'], bins, labels = labels,include_lowest = True)\n",
    "\n",
    "\n",
    "\n",
    "istr2018 = grado_istruzione_age[(grado_istruzione_age['TIME_PERIOD']== 2018)]\n",
    "total = istr2018.groupby(['AGE_NOCLASS']).sum()\n",
    "\n",
    "\n",
    "testAge = activate2018['agerange'].value_counts()\n",
    "\n",
    "labels = testAge.index\n",
    "newContract = np.log(testAge.values)\n",
    "totalPopulation = np.log(total['OBS_VALUE'].values)\n",
    "\n",
    "x = np.arange(len(labels))  # the label locations\n",
    "width = 0.35  # the width of the bars\n",
    "\n",
    "fig, ax = plt.subplots()\n",
    "rects1 = ax.bar(x - width/2, newContract, width, label='New Contract')\n",
    "rects2 = ax.bar(x + width/2, totalPopulation, width, label='Total Population')\n",
    "\n",
    "# Add some text for labels, title and custom x-axis tick labels, etc.\n",
    "ax.set_ylabel('log number')\n",
    "ax.set_title('number by attivati vs total number')\n",
    "ax.set_xticks(x)\n",
    "ax.set_xticklabels(labels=labels,rotation=45,\n",
    "    horizontalalignment='right');\n",
    "ax.legend()\n",
    "\n",
    "\n",
    "\n",
    "fig.tight_layout()\n",
    "\n",
    "plt.show()"
   ]
  },
  {
   "cell_type": "code",
   "execution_count": 41,
   "id": "2ebe4d16",
   "metadata": {},
   "outputs": [
    {
     "data": {
      "text/html": [
       "<div>\n",
       "<style scoped>\n",
       "    .dataframe tbody tr th:only-of-type {\n",
       "        vertical-align: middle;\n",
       "    }\n",
       "\n",
       "    .dataframe tbody tr th {\n",
       "        vertical-align: top;\n",
       "    }\n",
       "\n",
       "    .dataframe thead th {\n",
       "        text-align: right;\n",
       "    }\n",
       "</style>\n",
       "<table border=\"1\" class=\"dataframe\">\n",
       "  <thead>\n",
       "    <tr style=\"text-align: right;\">\n",
       "      <th></th>\n",
       "      <th>Denominazione in italiano</th>\n",
       "      <th>Denominazione Regione</th>\n",
       "      <th>Provincia</th>\n",
       "      <th>Codice NUTS3 2021</th>\n",
       "      <th>Codice NUTS2 2021 (3)</th>\n",
       "    </tr>\n",
       "    <tr>\n",
       "      <th>Codice Comune formato alfanumerico</th>\n",
       "      <th></th>\n",
       "      <th></th>\n",
       "      <th></th>\n",
       "      <th></th>\n",
       "      <th></th>\n",
       "    </tr>\n",
       "  </thead>\n",
       "  <tbody>\n",
       "    <tr>\n",
       "      <th>12001</th>\n",
       "      <td>Agra</td>\n",
       "      <td>Lombardia</td>\n",
       "      <td>Varese</td>\n",
       "      <td>ITC41</td>\n",
       "      <td>ITC4</td>\n",
       "    </tr>\n",
       "    <tr>\n",
       "      <th>12002</th>\n",
       "      <td>Albizzate</td>\n",
       "      <td>Lombardia</td>\n",
       "      <td>Varese</td>\n",
       "      <td>ITC41</td>\n",
       "      <td>ITC4</td>\n",
       "    </tr>\n",
       "    <tr>\n",
       "      <th>12003</th>\n",
       "      <td>Angera</td>\n",
       "      <td>Lombardia</td>\n",
       "      <td>Varese</td>\n",
       "      <td>ITC41</td>\n",
       "      <td>ITC4</td>\n",
       "    </tr>\n",
       "    <tr>\n",
       "      <th>12004</th>\n",
       "      <td>Arcisate</td>\n",
       "      <td>Lombardia</td>\n",
       "      <td>Varese</td>\n",
       "      <td>ITC41</td>\n",
       "      <td>ITC4</td>\n",
       "    </tr>\n",
       "    <tr>\n",
       "      <th>12005</th>\n",
       "      <td>Arsago Seprio</td>\n",
       "      <td>Lombardia</td>\n",
       "      <td>Varese</td>\n",
       "      <td>ITC41</td>\n",
       "      <td>ITC4</td>\n",
       "    </tr>\n",
       "  </tbody>\n",
       "</table>\n",
       "</div>"
      ],
      "text/plain": [
       "                                   Denominazione in italiano  \\\n",
       "Codice Comune formato alfanumerico                             \n",
       "12001                                                   Agra   \n",
       "12002                                              Albizzate   \n",
       "12003                                                 Angera   \n",
       "12004                                               Arcisate   \n",
       "12005                                          Arsago Seprio   \n",
       "\n",
       "                                   Denominazione Regione Provincia  \\\n",
       "Codice Comune formato alfanumerico                                   \n",
       "12001                                          Lombardia    Varese   \n",
       "12002                                          Lombardia    Varese   \n",
       "12003                                          Lombardia    Varese   \n",
       "12004                                          Lombardia    Varese   \n",
       "12005                                          Lombardia    Varese   \n",
       "\n",
       "                                   Codice NUTS3 2021 Codice NUTS2 2021 (3)   \n",
       "Codice Comune formato alfanumerico                                           \n",
       "12001                                          ITC41                   ITC4  \n",
       "12002                                          ITC41                   ITC4  \n",
       "12003                                          ITC41                   ITC4  \n",
       "12004                                          ITC41                   ITC4  \n",
       "12005                                          ITC41                   ITC4  "
      ]
     },
     "execution_count": 41,
     "metadata": {},
     "output_type": "execute_result"
    }
   ],
   "source": [
    "city_codes = pd.read_excel(PurePath('dataset', 'Elenco-comuni-italiani.xls'))\n",
    "city_codes = city_codes[['Codice Comune formato alfanumerico', \n",
    "                        'Denominazione in italiano',\n",
    "                        'Denominazione Regione',\n",
    "                        'Provincia',\n",
    "                        'Codice NUTS3 2021',\n",
    "                        'Codice NUTS2 2021 (3) '\n",
    "                        ]]\n",
    "city_codes = city_codes[city_codes['Denominazione Regione'] == 'Lombardia']\n",
    "city_codes = city_codes.set_index('Codice Comune formato alfanumerico')\n",
    "city_codes.loc[1] = ['','','Milano','ITC45','']   #The code in the dataset does not match with the code of Milano, \n",
    "                                                  #manually added\n",
    "city_codes.head()"
   ]
  },
  {
   "cell_type": "code",
   "execution_count": 42,
   "id": "09098ee6",
   "metadata": {
    "scrolled": true
   },
   "outputs": [],
   "source": [
    "def get_provincia_by_code(code):\n",
    "    try:\n",
    "        return city_codes[city_codes['Codice NUTS3 2021'] == code]['Provincia'].iloc[0]\n",
    "    except: \n",
    "        if code == 'IT108':\n",
    "            return 'MONZA E BRIANZA'\n",
    "                    "
   ]
  },
  {
   "cell_type": "code",
   "execution_count": 43,
   "id": "1fca0f7d",
   "metadata": {},
   "outputs": [],
   "source": [
    "area_codes = set(city_codes['Codice NUTS3 2021'])\n",
    "area_codes.add('IT108')\n",
    "grado_istruzione_age = grado_istruzione_age[grado_istruzione_age.REF_AREA.isin(area_codes)]"
   ]
  },
  {
   "cell_type": "code",
   "execution_count": 44,
   "id": "bfc82299",
   "metadata": {},
   "outputs": [
    {
     "data": {
      "text/html": [
       "<div>\n",
       "<style scoped>\n",
       "    .dataframe tbody tr th:only-of-type {\n",
       "        vertical-align: middle;\n",
       "    }\n",
       "\n",
       "    .dataframe tbody tr th {\n",
       "        vertical-align: top;\n",
       "    }\n",
       "\n",
       "    .dataframe thead th {\n",
       "        text-align: right;\n",
       "    }\n",
       "</style>\n",
       "<table border=\"1\" class=\"dataframe\">\n",
       "  <thead>\n",
       "    <tr style=\"text-align: right;\">\n",
       "      <th></th>\n",
       "      <th>REF_AREA</th>\n",
       "      <th>GENDER</th>\n",
       "      <th>AGE_NOCLASS</th>\n",
       "      <th>EDU_ATTAIN</th>\n",
       "      <th>TIME_PERIOD</th>\n",
       "      <th>OBS_VALUE</th>\n",
       "    </tr>\n",
       "  </thead>\n",
       "  <tbody>\n",
       "    <tr>\n",
       "      <th>504396</th>\n",
       "      <td>MONZA E BRIANZA</td>\n",
       "      <td>F</td>\n",
       "      <td>Y_GE65</td>\n",
       "      <td>LAUREA</td>\n",
       "      <td>2018</td>\n",
       "      <td>610</td>\n",
       "    </tr>\n",
       "    <tr>\n",
       "      <th>504397</th>\n",
       "      <td>MONZA E BRIANZA</td>\n",
       "      <td>F</td>\n",
       "      <td>Y_GE65</td>\n",
       "      <td>LAUREA</td>\n",
       "      <td>2019</td>\n",
       "      <td>543</td>\n",
       "    </tr>\n",
       "    <tr>\n",
       "      <th>504399</th>\n",
       "      <td>MONZA E BRIANZA</td>\n",
       "      <td>F</td>\n",
       "      <td>Y_GE65</td>\n",
       "      <td>LICENZA MEDIA</td>\n",
       "      <td>2018</td>\n",
       "      <td>24744</td>\n",
       "    </tr>\n",
       "    <tr>\n",
       "      <th>504400</th>\n",
       "      <td>MONZA E BRIANZA</td>\n",
       "      <td>F</td>\n",
       "      <td>Y_GE65</td>\n",
       "      <td>LICENZA MEDIA</td>\n",
       "      <td>2019</td>\n",
       "      <td>25871</td>\n",
       "    </tr>\n",
       "    <tr>\n",
       "      <th>504402</th>\n",
       "      <td>MONZA E BRIANZA</td>\n",
       "      <td>F</td>\n",
       "      <td>Y_GE65</td>\n",
       "      <td>TITOLO DI STUDIO TERZIARIO DI SECONDO LIVELLO ...</td>\n",
       "      <td>2018</td>\n",
       "      <td>3595</td>\n",
       "    </tr>\n",
       "    <tr>\n",
       "      <th>...</th>\n",
       "      <td>...</td>\n",
       "      <td>...</td>\n",
       "      <td>...</td>\n",
       "      <td>...</td>\n",
       "      <td>...</td>\n",
       "      <td>...</td>\n",
       "    </tr>\n",
       "    <tr>\n",
       "      <th>508831</th>\n",
       "      <td>Mantova</td>\n",
       "      <td>M</td>\n",
       "      <td>Y9-24</td>\n",
       "      <td>NESSUN TITOLO DI STUDIO</td>\n",
       "      <td>2019</td>\n",
       "      <td>4294</td>\n",
       "    </tr>\n",
       "    <tr>\n",
       "      <th>508833</th>\n",
       "      <td>Mantova</td>\n",
       "      <td>M</td>\n",
       "      <td>Y9-24</td>\n",
       "      <td>LICENZA ELEMENTARE</td>\n",
       "      <td>2018</td>\n",
       "      <td>6457</td>\n",
       "    </tr>\n",
       "    <tr>\n",
       "      <th>508834</th>\n",
       "      <td>Mantova</td>\n",
       "      <td>M</td>\n",
       "      <td>Y9-24</td>\n",
       "      <td>LICENZA ELEMENTARE</td>\n",
       "      <td>2019</td>\n",
       "      <td>6478</td>\n",
       "    </tr>\n",
       "    <tr>\n",
       "      <th>508836</th>\n",
       "      <td>Mantova</td>\n",
       "      <td>M</td>\n",
       "      <td>Y9-24</td>\n",
       "      <td>DIPLOMA DI ISTRUZIONE SECONDARIA SUPERIORE</td>\n",
       "      <td>2018</td>\n",
       "      <td>8556</td>\n",
       "    </tr>\n",
       "    <tr>\n",
       "      <th>508837</th>\n",
       "      <td>Mantova</td>\n",
       "      <td>M</td>\n",
       "      <td>Y9-24</td>\n",
       "      <td>DIPLOMA DI ISTRUZIONE SECONDARIA SUPERIORE</td>\n",
       "      <td>2019</td>\n",
       "      <td>8625</td>\n",
       "    </tr>\n",
       "  </tbody>\n",
       "</table>\n",
       "<p>1152 rows × 6 columns</p>\n",
       "</div>"
      ],
      "text/plain": [
       "               REF_AREA GENDER AGE_NOCLASS  \\\n",
       "504396  MONZA E BRIANZA      F      Y_GE65   \n",
       "504397  MONZA E BRIANZA      F      Y_GE65   \n",
       "504399  MONZA E BRIANZA      F      Y_GE65   \n",
       "504400  MONZA E BRIANZA      F      Y_GE65   \n",
       "504402  MONZA E BRIANZA      F      Y_GE65   \n",
       "...                 ...    ...         ...   \n",
       "508831          Mantova      M       Y9-24   \n",
       "508833          Mantova      M       Y9-24   \n",
       "508834          Mantova      M       Y9-24   \n",
       "508836          Mantova      M       Y9-24   \n",
       "508837          Mantova      M       Y9-24   \n",
       "\n",
       "                                               EDU_ATTAIN  TIME_PERIOD  \\\n",
       "504396                                             LAUREA         2018   \n",
       "504397                                             LAUREA         2019   \n",
       "504399                                      LICENZA MEDIA         2018   \n",
       "504400                                      LICENZA MEDIA         2019   \n",
       "504402  TITOLO DI STUDIO TERZIARIO DI SECONDO LIVELLO ...         2018   \n",
       "...                                                   ...          ...   \n",
       "508831                            NESSUN TITOLO DI STUDIO         2019   \n",
       "508833                                 LICENZA ELEMENTARE         2018   \n",
       "508834                                 LICENZA ELEMENTARE         2019   \n",
       "508836         DIPLOMA DI ISTRUZIONE SECONDARIA SUPERIORE         2018   \n",
       "508837         DIPLOMA DI ISTRUZIONE SECONDARIA SUPERIORE         2019   \n",
       "\n",
       "        OBS_VALUE  \n",
       "504396        610  \n",
       "504397        543  \n",
       "504399      24744  \n",
       "504400      25871  \n",
       "504402       3595  \n",
       "...           ...  \n",
       "508831       4294  \n",
       "508833       6457  \n",
       "508834       6478  \n",
       "508836       8556  \n",
       "508837       8625  \n",
       "\n",
       "[1152 rows x 6 columns]"
      ]
     },
     "execution_count": 44,
     "metadata": {},
     "output_type": "execute_result"
    }
   ],
   "source": [
    "grado_istruzione_age['REF_AREA'] = grado_istruzione_age['REF_AREA'].apply(lambda x: get_provincia_by_code(x)) \n",
    "grado_istruzione_age"
   ]
  },
  {
   "cell_type": "code",
   "execution_count": 45,
   "id": "79f4d559",
   "metadata": {},
   "outputs": [
    {
     "data": {
      "text/html": [
       "<div>\n",
       "<style scoped>\n",
       "    .dataframe tbody tr th:only-of-type {\n",
       "        vertical-align: middle;\n",
       "    }\n",
       "\n",
       "    .dataframe tbody tr th {\n",
       "        vertical-align: top;\n",
       "    }\n",
       "\n",
       "    .dataframe thead th {\n",
       "        text-align: right;\n",
       "    }\n",
       "</style>\n",
       "<table border=\"1\" class=\"dataframe\">\n",
       "  <thead>\n",
       "    <tr style=\"text-align: right;\">\n",
       "      <th></th>\n",
       "      <th></th>\n",
       "      <th></th>\n",
       "      <th></th>\n",
       "      <th></th>\n",
       "      <th>OBS_VALUE</th>\n",
       "    </tr>\n",
       "    <tr>\n",
       "      <th>REF_AREA</th>\n",
       "      <th>TIME_PERIOD</th>\n",
       "      <th>GENDER</th>\n",
       "      <th>EDU_ATTAIN</th>\n",
       "      <th>AGE_NOCLASS</th>\n",
       "      <th></th>\n",
       "    </tr>\n",
       "  </thead>\n",
       "  <tbody>\n",
       "    <tr>\n",
       "      <th rowspan=\"5\" valign=\"top\">Milano</th>\n",
       "      <th rowspan=\"5\" valign=\"top\">2018</th>\n",
       "      <th rowspan=\"5\" valign=\"top\">F</th>\n",
       "      <th rowspan=\"4\" valign=\"top\">DIPLOMA DI ISTRUZIONE SECONDARIA SUPERIORE</th>\n",
       "      <th>Y25-49</th>\n",
       "      <td>233709</td>\n",
       "    </tr>\n",
       "    <tr>\n",
       "      <th>Y50-64</th>\n",
       "      <td>168626</td>\n",
       "    </tr>\n",
       "    <tr>\n",
       "      <th>Y9-24</th>\n",
       "      <td>63168</td>\n",
       "    </tr>\n",
       "    <tr>\n",
       "      <th>Y_GE65</th>\n",
       "      <td>104197</td>\n",
       "    </tr>\n",
       "    <tr>\n",
       "      <th>LAUREA</th>\n",
       "      <th>Y25-49</th>\n",
       "      <td>51061</td>\n",
       "    </tr>\n",
       "  </tbody>\n",
       "</table>\n",
       "</div>"
      ],
      "text/plain": [
       "                                                                                    OBS_VALUE\n",
       "REF_AREA TIME_PERIOD GENDER EDU_ATTAIN                                 AGE_NOCLASS           \n",
       "Milano   2018        F      DIPLOMA DI ISTRUZIONE SECONDARIA SUPERIORE Y25-49          233709\n",
       "                                                                       Y50-64          168626\n",
       "                                                                       Y9-24            63168\n",
       "                                                                       Y_GE65          104197\n",
       "                            LAUREA                                     Y25-49           51061"
      ]
     },
     "execution_count": 45,
     "metadata": {},
     "output_type": "execute_result"
    }
   ],
   "source": [
    "grado_istruzione_age[grado_istruzione_age.REF_AREA == 'Milano'].groupby(['REF_AREA', 'TIME_PERIOD', 'GENDER', 'EDU_ATTAIN', 'AGE_NOCLASS']).sum().head()"
   ]
  },
  {
   "cell_type": "code",
   "execution_count": 46,
   "id": "0a10d783",
   "metadata": {
    "scrolled": true
   },
   "outputs": [
    {
     "data": {
      "text/plain": [
       "{'Bergamo',\n",
       " 'Brescia',\n",
       " 'Como',\n",
       " 'Cremona',\n",
       " 'Lecco',\n",
       " 'Lodi',\n",
       " 'MONZA E BRIANZA',\n",
       " 'Mantova',\n",
       " 'Milano',\n",
       " 'Pavia',\n",
       " 'Sondrio',\n",
       " 'Varese'}"
      ]
     },
     "execution_count": 46,
     "metadata": {},
     "output_type": "execute_result"
    }
   ],
   "source": [
    "series_to_set('REF_AREA', grado_istruzione_age)"
   ]
  },
  {
   "cell_type": "code",
   "execution_count": 47,
   "id": "ed2c28d8",
   "metadata": {},
   "outputs": [
    {
     "data": {
      "text/html": [
       "<div>\n",
       "<style scoped>\n",
       "    .dataframe tbody tr th:only-of-type {\n",
       "        vertical-align: middle;\n",
       "    }\n",
       "\n",
       "    .dataframe tbody tr th {\n",
       "        vertical-align: top;\n",
       "    }\n",
       "\n",
       "    .dataframe thead th {\n",
       "        text-align: right;\n",
       "    }\n",
       "</style>\n",
       "<table border=\"1\" class=\"dataframe\">\n",
       "  <thead>\n",
       "    <tr style=\"text-align: right;\">\n",
       "      <th></th>\n",
       "      <th>DATAFLOW</th>\n",
       "      <th>FREQ</th>\n",
       "      <th>REF_AREA</th>\n",
       "      <th>INDICATOR</th>\n",
       "      <th>GENDER</th>\n",
       "      <th>AGE_NOCLASS</th>\n",
       "      <th>CUR_ACT_STAT</th>\n",
       "      <th>TIME_PERIOD</th>\n",
       "      <th>OBS_VALUE</th>\n",
       "      <th>OBS_STATUS</th>\n",
       "      <th>NOTE_DS</th>\n",
       "      <th>NOTE_REF_AREA</th>\n",
       "      <th>NOTE_INDICATOR</th>\n",
       "      <th>NOTE_GENDER</th>\n",
       "      <th>NOTE_AGE_NOCLASS</th>\n",
       "      <th>NOTE_CITIZENSHIP</th>\n",
       "      <th>NOTE_EDU_ATTAIN</th>\n",
       "      <th>NOTE_CUR_ACT_STAT</th>\n",
       "      <th>NOTE_LOC_DEST</th>\n",
       "      <th>NOTE_REAS_COMMUTING</th>\n",
       "    </tr>\n",
       "  </thead>\n",
       "  <tbody>\n",
       "    <tr>\n",
       "      <th>0</th>\n",
       "      <td>IT1:DF_DCSS_ISTR_LAV_PEN_2_REG_93_ITC4(1.0)</td>\n",
       "      <td>A</td>\n",
       "      <td>012001</td>\n",
       "      <td>RESPOP_AV</td>\n",
       "      <td>F</td>\n",
       "      <td>Y_GE15</td>\n",
       "      <td>1</td>\n",
       "      <td>2018</td>\n",
       "      <td>42</td>\n",
       "      <td>NaN</td>\n",
       "      <td>NaN</td>\n",
       "      <td>NaN</td>\n",
       "      <td>NaN</td>\n",
       "      <td>NaN</td>\n",
       "      <td>NaN</td>\n",
       "      <td>NaN</td>\n",
       "      <td>ALL_N1</td>\n",
       "      <td>NaN</td>\n",
       "      <td>NaN</td>\n",
       "      <td>NaN</td>\n",
       "    </tr>\n",
       "    <tr>\n",
       "      <th>1</th>\n",
       "      <td>IT1:DF_DCSS_ISTR_LAV_PEN_2_REG_93_ITC4(1.0)</td>\n",
       "      <td>A</td>\n",
       "      <td>012001</td>\n",
       "      <td>RESPOP_AV</td>\n",
       "      <td>F</td>\n",
       "      <td>Y_GE15</td>\n",
       "      <td>1</td>\n",
       "      <td>2019</td>\n",
       "      <td>37</td>\n",
       "      <td>NaN</td>\n",
       "      <td>NaN</td>\n",
       "      <td>NaN</td>\n",
       "      <td>NaN</td>\n",
       "      <td>NaN</td>\n",
       "      <td>NaN</td>\n",
       "      <td>NaN</td>\n",
       "      <td>ALL_N1</td>\n",
       "      <td>NaN</td>\n",
       "      <td>NaN</td>\n",
       "      <td>NaN</td>\n",
       "    </tr>\n",
       "    <tr>\n",
       "      <th>2</th>\n",
       "      <td>IT1:DF_DCSS_ISTR_LAV_PEN_2_REG_93_ITC4(1.0)</td>\n",
       "      <td>A</td>\n",
       "      <td>012001</td>\n",
       "      <td>RESPOP_AV</td>\n",
       "      <td>F</td>\n",
       "      <td>Y_GE15</td>\n",
       "      <td>12</td>\n",
       "      <td>2018</td>\n",
       "      <td>7</td>\n",
       "      <td>NaN</td>\n",
       "      <td>NaN</td>\n",
       "      <td>NaN</td>\n",
       "      <td>NaN</td>\n",
       "      <td>NaN</td>\n",
       "      <td>NaN</td>\n",
       "      <td>NaN</td>\n",
       "      <td>ALL_N1</td>\n",
       "      <td>NaN</td>\n",
       "      <td>NaN</td>\n",
       "      <td>NaN</td>\n",
       "    </tr>\n",
       "    <tr>\n",
       "      <th>3</th>\n",
       "      <td>IT1:DF_DCSS_ISTR_LAV_PEN_2_REG_93_ITC4(1.0)</td>\n",
       "      <td>A</td>\n",
       "      <td>012001</td>\n",
       "      <td>RESPOP_AV</td>\n",
       "      <td>F</td>\n",
       "      <td>Y_GE15</td>\n",
       "      <td>12</td>\n",
       "      <td>2019</td>\n",
       "      <td>8</td>\n",
       "      <td>NaN</td>\n",
       "      <td>NaN</td>\n",
       "      <td>NaN</td>\n",
       "      <td>NaN</td>\n",
       "      <td>NaN</td>\n",
       "      <td>NaN</td>\n",
       "      <td>NaN</td>\n",
       "      <td>ALL_N1</td>\n",
       "      <td>NaN</td>\n",
       "      <td>NaN</td>\n",
       "      <td>NaN</td>\n",
       "    </tr>\n",
       "    <tr>\n",
       "      <th>4</th>\n",
       "      <td>IT1:DF_DCSS_ISTR_LAV_PEN_2_REG_93_ITC4(1.0)</td>\n",
       "      <td>A</td>\n",
       "      <td>012001</td>\n",
       "      <td>RESPOP_AV</td>\n",
       "      <td>F</td>\n",
       "      <td>Y_GE15</td>\n",
       "      <td>22</td>\n",
       "      <td>2018</td>\n",
       "      <td>49</td>\n",
       "      <td>NaN</td>\n",
       "      <td>NaN</td>\n",
       "      <td>NaN</td>\n",
       "      <td>NaN</td>\n",
       "      <td>NaN</td>\n",
       "      <td>NaN</td>\n",
       "      <td>NaN</td>\n",
       "      <td>ALL_N1</td>\n",
       "      <td>NaN</td>\n",
       "      <td>NaN</td>\n",
       "      <td>NaN</td>\n",
       "    </tr>\n",
       "  </tbody>\n",
       "</table>\n",
       "</div>"
      ],
      "text/plain": [
       "                                      DATAFLOW FREQ REF_AREA  INDICATOR  \\\n",
       "0  IT1:DF_DCSS_ISTR_LAV_PEN_2_REG_93_ITC4(1.0)    A   012001  RESPOP_AV   \n",
       "1  IT1:DF_DCSS_ISTR_LAV_PEN_2_REG_93_ITC4(1.0)    A   012001  RESPOP_AV   \n",
       "2  IT1:DF_DCSS_ISTR_LAV_PEN_2_REG_93_ITC4(1.0)    A   012001  RESPOP_AV   \n",
       "3  IT1:DF_DCSS_ISTR_LAV_PEN_2_REG_93_ITC4(1.0)    A   012001  RESPOP_AV   \n",
       "4  IT1:DF_DCSS_ISTR_LAV_PEN_2_REG_93_ITC4(1.0)    A   012001  RESPOP_AV   \n",
       "\n",
       "  GENDER AGE_NOCLASS  CUR_ACT_STAT  TIME_PERIOD  OBS_VALUE  OBS_STATUS  \\\n",
       "0      F      Y_GE15             1         2018         42         NaN   \n",
       "1      F      Y_GE15             1         2019         37         NaN   \n",
       "2      F      Y_GE15            12         2018          7         NaN   \n",
       "3      F      Y_GE15            12         2019          8         NaN   \n",
       "4      F      Y_GE15            22         2018         49         NaN   \n",
       "\n",
       "   NOTE_DS NOTE_REF_AREA  NOTE_INDICATOR  NOTE_GENDER  NOTE_AGE_NOCLASS  \\\n",
       "0      NaN           NaN             NaN          NaN               NaN   \n",
       "1      NaN           NaN             NaN          NaN               NaN   \n",
       "2      NaN           NaN             NaN          NaN               NaN   \n",
       "3      NaN           NaN             NaN          NaN               NaN   \n",
       "4      NaN           NaN             NaN          NaN               NaN   \n",
       "\n",
       "   NOTE_CITIZENSHIP NOTE_EDU_ATTAIN NOTE_CUR_ACT_STAT  NOTE_LOC_DEST  \\\n",
       "0               NaN          ALL_N1               NaN            NaN   \n",
       "1               NaN          ALL_N1               NaN            NaN   \n",
       "2               NaN          ALL_N1               NaN            NaN   \n",
       "3               NaN          ALL_N1               NaN            NaN   \n",
       "4               NaN          ALL_N1               NaN            NaN   \n",
       "\n",
       "   NOTE_REAS_COMMUTING  \n",
       "0                  NaN  \n",
       "1                  NaN  \n",
       "2                  NaN  \n",
       "3                  NaN  \n",
       "4                  NaN  "
      ]
     },
     "execution_count": 47,
     "metadata": {},
     "output_type": "execute_result"
    }
   ],
   "source": [
    "condizione_professionale_age = pd.read_csv(PurePath('dataset', 'Condizione professionale per età - Lombardia.csv'),low_memory=False)\n",
    "condizione_professionale_age.head()"
   ]
  },
  {
   "cell_type": "code",
   "execution_count": 48,
   "id": "fa73b691",
   "metadata": {},
   "outputs": [
    {
     "data": {
      "text/html": [
       "<div>\n",
       "<style scoped>\n",
       "    .dataframe tbody tr th:only-of-type {\n",
       "        vertical-align: middle;\n",
       "    }\n",
       "\n",
       "    .dataframe tbody tr th {\n",
       "        vertical-align: top;\n",
       "    }\n",
       "\n",
       "    .dataframe thead th {\n",
       "        text-align: right;\n",
       "    }\n",
       "</style>\n",
       "<table border=\"1\" class=\"dataframe\">\n",
       "  <thead>\n",
       "    <tr style=\"text-align: right;\">\n",
       "      <th></th>\n",
       "      <th>REF_AREA</th>\n",
       "      <th>GENDER</th>\n",
       "      <th>AGE_NOCLASS</th>\n",
       "      <th>CUR_ACT_STAT</th>\n",
       "      <th>TIME_PERIOD</th>\n",
       "      <th>OBS_VALUE</th>\n",
       "    </tr>\n",
       "  </thead>\n",
       "  <tbody>\n",
       "    <tr>\n",
       "      <th>0</th>\n",
       "      <td>012001</td>\n",
       "      <td>F</td>\n",
       "      <td>Y_GE15</td>\n",
       "      <td>1</td>\n",
       "      <td>2018</td>\n",
       "      <td>42</td>\n",
       "    </tr>\n",
       "    <tr>\n",
       "      <th>1</th>\n",
       "      <td>012001</td>\n",
       "      <td>F</td>\n",
       "      <td>Y_GE15</td>\n",
       "      <td>1</td>\n",
       "      <td>2019</td>\n",
       "      <td>37</td>\n",
       "    </tr>\n",
       "    <tr>\n",
       "      <th>2</th>\n",
       "      <td>012001</td>\n",
       "      <td>F</td>\n",
       "      <td>Y_GE15</td>\n",
       "      <td>12</td>\n",
       "      <td>2018</td>\n",
       "      <td>7</td>\n",
       "    </tr>\n",
       "    <tr>\n",
       "      <th>3</th>\n",
       "      <td>012001</td>\n",
       "      <td>F</td>\n",
       "      <td>Y_GE15</td>\n",
       "      <td>12</td>\n",
       "      <td>2019</td>\n",
       "      <td>8</td>\n",
       "    </tr>\n",
       "    <tr>\n",
       "      <th>4</th>\n",
       "      <td>012001</td>\n",
       "      <td>F</td>\n",
       "      <td>Y_GE15</td>\n",
       "      <td>22</td>\n",
       "      <td>2018</td>\n",
       "      <td>49</td>\n",
       "    </tr>\n",
       "  </tbody>\n",
       "</table>\n",
       "</div>"
      ],
      "text/plain": [
       "  REF_AREA GENDER AGE_NOCLASS  CUR_ACT_STAT  TIME_PERIOD  OBS_VALUE\n",
       "0   012001      F      Y_GE15             1         2018         42\n",
       "1   012001      F      Y_GE15             1         2019         37\n",
       "2   012001      F      Y_GE15            12         2018          7\n",
       "3   012001      F      Y_GE15            12         2019          8\n",
       "4   012001      F      Y_GE15            22         2018         49"
      ]
     },
     "execution_count": 48,
     "metadata": {},
     "output_type": "execute_result"
    }
   ],
   "source": [
    "condizione_professionale_age = condizione_professionale_age[['REF_AREA', 'GENDER', 'AGE_NOCLASS', 'CUR_ACT_STAT', 'TIME_PERIOD', 'OBS_VALUE']]\n",
    "condizione_professionale_age.head()"
   ]
  },
  {
   "cell_type": "code",
   "execution_count": 49,
   "id": "7ece9f46",
   "metadata": {},
   "outputs": [
    {
     "data": {
      "text/html": [
       "<div>\n",
       "<style scoped>\n",
       "    .dataframe tbody tr th:only-of-type {\n",
       "        vertical-align: middle;\n",
       "    }\n",
       "\n",
       "    .dataframe tbody tr th {\n",
       "        vertical-align: top;\n",
       "    }\n",
       "\n",
       "    .dataframe thead th {\n",
       "        text-align: right;\n",
       "    }\n",
       "</style>\n",
       "<table border=\"1\" class=\"dataframe\">\n",
       "  <thead>\n",
       "    <tr style=\"text-align: right;\">\n",
       "      <th></th>\n",
       "      <th>REF_AREA</th>\n",
       "      <th>GENDER</th>\n",
       "      <th>AGE_NOCLASS</th>\n",
       "      <th>CUR_ACT_STAT</th>\n",
       "      <th>TIME_PERIOD</th>\n",
       "      <th>OBS_VALUE</th>\n",
       "    </tr>\n",
       "  </thead>\n",
       "  <tbody>\n",
       "    <tr>\n",
       "      <th>388442</th>\n",
       "      <td>MONZA E BRIANZA</td>\n",
       "      <td>F</td>\n",
       "      <td>Y_GE15</td>\n",
       "      <td>1</td>\n",
       "      <td>2018</td>\n",
       "      <td>167236</td>\n",
       "    </tr>\n",
       "    <tr>\n",
       "      <th>388443</th>\n",
       "      <td>MONZA E BRIANZA</td>\n",
       "      <td>F</td>\n",
       "      <td>Y_GE15</td>\n",
       "      <td>1</td>\n",
       "      <td>2019</td>\n",
       "      <td>170506</td>\n",
       "    </tr>\n",
       "    <tr>\n",
       "      <th>388444</th>\n",
       "      <td>MONZA E BRIANZA</td>\n",
       "      <td>F</td>\n",
       "      <td>Y_GE15</td>\n",
       "      <td>12</td>\n",
       "      <td>2018</td>\n",
       "      <td>20274</td>\n",
       "    </tr>\n",
       "    <tr>\n",
       "      <th>388445</th>\n",
       "      <td>MONZA E BRIANZA</td>\n",
       "      <td>F</td>\n",
       "      <td>Y_GE15</td>\n",
       "      <td>12</td>\n",
       "      <td>2019</td>\n",
       "      <td>20119</td>\n",
       "    </tr>\n",
       "    <tr>\n",
       "      <th>388446</th>\n",
       "      <td>MONZA E BRIANZA</td>\n",
       "      <td>F</td>\n",
       "      <td>Y_GE15</td>\n",
       "      <td>22</td>\n",
       "      <td>2018</td>\n",
       "      <td>187510</td>\n",
       "    </tr>\n",
       "  </tbody>\n",
       "</table>\n",
       "</div>"
      ],
      "text/plain": [
       "               REF_AREA GENDER AGE_NOCLASS  CUR_ACT_STAT  TIME_PERIOD  \\\n",
       "388442  MONZA E BRIANZA      F      Y_GE15             1         2018   \n",
       "388443  MONZA E BRIANZA      F      Y_GE15             1         2019   \n",
       "388444  MONZA E BRIANZA      F      Y_GE15            12         2018   \n",
       "388445  MONZA E BRIANZA      F      Y_GE15            12         2019   \n",
       "388446  MONZA E BRIANZA      F      Y_GE15            22         2018   \n",
       "\n",
       "        OBS_VALUE  \n",
       "388442     167236  \n",
       "388443     170506  \n",
       "388444      20274  \n",
       "388445      20119  \n",
       "388446     187510  "
      ]
     },
     "execution_count": 49,
     "metadata": {},
     "output_type": "execute_result"
    }
   ],
   "source": [
    "condizione_professionale_age = condizione_professionale_age[condizione_professionale_age.REF_AREA.isin(area_codes)]\n",
    "\n",
    "condizione_professionale_age.loc[:, 'REF_AREA'] = condizione_professionale_age['REF_AREA'].apply(lambda x: get_provincia_by_code(x)) \n",
    "condizione_professionale_age.head()"
   ]
  },
  {
   "cell_type": "markdown",
   "id": "5a1fbde3",
   "metadata": {},
   "source": [
    "Regarding the meaning of the values in `CUR_ACT_STAT`:\n",
    "- $22$: labor force;\n",
    " - $1$ : employed;\n",
    " - $12$: unemployed;\n",
    "- $23$: non-labor force.\n",
    "\n",
    "Thus, for our analysis, we can keep the labor force only. "
   ]
  },
  {
   "cell_type": "code",
   "execution_count": 50,
   "id": "3586eeb8",
   "metadata": {},
   "outputs": [
    {
     "data": {
      "text/html": [
       "<div>\n",
       "<style scoped>\n",
       "    .dataframe tbody tr th:only-of-type {\n",
       "        vertical-align: middle;\n",
       "    }\n",
       "\n",
       "    .dataframe tbody tr th {\n",
       "        vertical-align: top;\n",
       "    }\n",
       "\n",
       "    .dataframe thead th {\n",
       "        text-align: right;\n",
       "    }\n",
       "</style>\n",
       "<table border=\"1\" class=\"dataframe\">\n",
       "  <thead>\n",
       "    <tr style=\"text-align: right;\">\n",
       "      <th></th>\n",
       "      <th>REF_AREA</th>\n",
       "      <th>GENDER</th>\n",
       "      <th>AGE_NOCLASS</th>\n",
       "      <th>CUR_ACT_STAT</th>\n",
       "      <th>TIME_PERIOD</th>\n",
       "      <th>OBS_VALUE</th>\n",
       "    </tr>\n",
       "  </thead>\n",
       "  <tbody>\n",
       "    <tr>\n",
       "      <th>388446</th>\n",
       "      <td>MONZA E BRIANZA</td>\n",
       "      <td>F</td>\n",
       "      <td>Y_GE15</td>\n",
       "      <td>22</td>\n",
       "      <td>2018</td>\n",
       "      <td>187510</td>\n",
       "    </tr>\n",
       "    <tr>\n",
       "      <th>388447</th>\n",
       "      <td>MONZA E BRIANZA</td>\n",
       "      <td>F</td>\n",
       "      <td>Y_GE15</td>\n",
       "      <td>22</td>\n",
       "      <td>2019</td>\n",
       "      <td>190625</td>\n",
       "    </tr>\n",
       "    <tr>\n",
       "      <th>388464</th>\n",
       "      <td>MONZA E BRIANZA</td>\n",
       "      <td>F</td>\n",
       "      <td>Y_GE65</td>\n",
       "      <td>22</td>\n",
       "      <td>2018</td>\n",
       "      <td>3750</td>\n",
       "    </tr>\n",
       "    <tr>\n",
       "      <th>388465</th>\n",
       "      <td>MONZA E BRIANZA</td>\n",
       "      <td>F</td>\n",
       "      <td>Y_GE65</td>\n",
       "      <td>22</td>\n",
       "      <td>2019</td>\n",
       "      <td>4229</td>\n",
       "    </tr>\n",
       "    <tr>\n",
       "      <th>388482</th>\n",
       "      <td>MONZA E BRIANZA</td>\n",
       "      <td>F</td>\n",
       "      <td>Y15-24</td>\n",
       "      <td>22</td>\n",
       "      <td>2018</td>\n",
       "      <td>10108</td>\n",
       "    </tr>\n",
       "  </tbody>\n",
       "</table>\n",
       "</div>"
      ],
      "text/plain": [
       "               REF_AREA GENDER AGE_NOCLASS  CUR_ACT_STAT  TIME_PERIOD  \\\n",
       "388446  MONZA E BRIANZA      F      Y_GE15            22         2018   \n",
       "388447  MONZA E BRIANZA      F      Y_GE15            22         2019   \n",
       "388464  MONZA E BRIANZA      F      Y_GE65            22         2018   \n",
       "388465  MONZA E BRIANZA      F      Y_GE65            22         2019   \n",
       "388482  MONZA E BRIANZA      F      Y15-24            22         2018   \n",
       "\n",
       "        OBS_VALUE  \n",
       "388446     187510  \n",
       "388447     190625  \n",
       "388464       3750  \n",
       "388465       4229  \n",
       "388482      10108  "
      ]
     },
     "execution_count": 50,
     "metadata": {},
     "output_type": "execute_result"
    }
   ],
   "source": [
    "condizione_professionale_age = condizione_professionale_age[condizione_professionale_age['CUR_ACT_STAT'] == 22]\n",
    "condizione_professionale_age.head()"
   ]
  },
  {
   "cell_type": "markdown",
   "id": "80495682",
   "metadata": {},
   "source": [
    "For now, we can consider only the overall number and not the age range."
   ]
  },
  {
   "cell_type": "code",
   "execution_count": 51,
   "id": "567334c3",
   "metadata": {},
   "outputs": [
    {
     "data": {
      "text/html": [
       "<div>\n",
       "<style scoped>\n",
       "    .dataframe tbody tr th:only-of-type {\n",
       "        vertical-align: middle;\n",
       "    }\n",
       "\n",
       "    .dataframe tbody tr th {\n",
       "        vertical-align: top;\n",
       "    }\n",
       "\n",
       "    .dataframe thead th {\n",
       "        text-align: right;\n",
       "    }\n",
       "</style>\n",
       "<table border=\"1\" class=\"dataframe\">\n",
       "  <thead>\n",
       "    <tr style=\"text-align: right;\">\n",
       "      <th></th>\n",
       "      <th>REF_AREA</th>\n",
       "      <th>GENDER</th>\n",
       "      <th>AGE_NOCLASS</th>\n",
       "      <th>CUR_ACT_STAT</th>\n",
       "      <th>TIME_PERIOD</th>\n",
       "      <th>OBS_VALUE</th>\n",
       "    </tr>\n",
       "  </thead>\n",
       "  <tbody>\n",
       "    <tr>\n",
       "      <th>388446</th>\n",
       "      <td>MONZA E BRIANZA</td>\n",
       "      <td>F</td>\n",
       "      <td>Y_GE15</td>\n",
       "      <td>22</td>\n",
       "      <td>2018</td>\n",
       "      <td>187510</td>\n",
       "    </tr>\n",
       "    <tr>\n",
       "      <th>388447</th>\n",
       "      <td>MONZA E BRIANZA</td>\n",
       "      <td>F</td>\n",
       "      <td>Y_GE15</td>\n",
       "      <td>22</td>\n",
       "      <td>2019</td>\n",
       "      <td>190625</td>\n",
       "    </tr>\n",
       "    <tr>\n",
       "      <th>388538</th>\n",
       "      <td>MONZA E BRIANZA</td>\n",
       "      <td>M</td>\n",
       "      <td>Y_GE15</td>\n",
       "      <td>22</td>\n",
       "      <td>2018</td>\n",
       "      <td>234355</td>\n",
       "    </tr>\n",
       "    <tr>\n",
       "      <th>388539</th>\n",
       "      <td>MONZA E BRIANZA</td>\n",
       "      <td>M</td>\n",
       "      <td>Y_GE15</td>\n",
       "      <td>22</td>\n",
       "      <td>2019</td>\n",
       "      <td>235901</td>\n",
       "    </tr>\n",
       "    <tr>\n",
       "      <th>388629</th>\n",
       "      <td>MONZA E BRIANZA</td>\n",
       "      <td>T</td>\n",
       "      <td>Y_GE15</td>\n",
       "      <td>22</td>\n",
       "      <td>2018</td>\n",
       "      <td>421865</td>\n",
       "    </tr>\n",
       "  </tbody>\n",
       "</table>\n",
       "</div>"
      ],
      "text/plain": [
       "               REF_AREA GENDER AGE_NOCLASS  CUR_ACT_STAT  TIME_PERIOD  \\\n",
       "388446  MONZA E BRIANZA      F      Y_GE15            22         2018   \n",
       "388447  MONZA E BRIANZA      F      Y_GE15            22         2019   \n",
       "388538  MONZA E BRIANZA      M      Y_GE15            22         2018   \n",
       "388539  MONZA E BRIANZA      M      Y_GE15            22         2019   \n",
       "388629  MONZA E BRIANZA      T      Y_GE15            22         2018   \n",
       "\n",
       "        OBS_VALUE  \n",
       "388446     187510  \n",
       "388447     190625  \n",
       "388538     234355  \n",
       "388539     235901  \n",
       "388629     421865  "
      ]
     },
     "execution_count": 51,
     "metadata": {},
     "output_type": "execute_result"
    }
   ],
   "source": [
    "condizione_professionale_age = condizione_professionale_age[condizione_professionale_age['AGE_NOCLASS'] == 'Y_GE15']\n",
    "condizione_professionale_age.head()"
   ]
  },
  {
   "cell_type": "markdown",
   "id": "5869e25f",
   "metadata": {},
   "source": [
    "The same holds for the `GENDER`, we can consider the total number of people that could potentially work."
   ]
  },
  {
   "cell_type": "code",
   "execution_count": 52,
   "id": "4218218f",
   "metadata": {},
   "outputs": [
    {
     "data": {
      "text/html": [
       "<div>\n",
       "<style scoped>\n",
       "    .dataframe tbody tr th:only-of-type {\n",
       "        vertical-align: middle;\n",
       "    }\n",
       "\n",
       "    .dataframe tbody tr th {\n",
       "        vertical-align: top;\n",
       "    }\n",
       "\n",
       "    .dataframe thead th {\n",
       "        text-align: right;\n",
       "    }\n",
       "</style>\n",
       "<table border=\"1\" class=\"dataframe\">\n",
       "  <thead>\n",
       "    <tr style=\"text-align: right;\">\n",
       "      <th></th>\n",
       "      <th>REF_AREA</th>\n",
       "      <th>GENDER</th>\n",
       "      <th>AGE_NOCLASS</th>\n",
       "      <th>CUR_ACT_STAT</th>\n",
       "      <th>TIME_PERIOD</th>\n",
       "      <th>OBS_VALUE</th>\n",
       "    </tr>\n",
       "  </thead>\n",
       "  <tbody>\n",
       "    <tr>\n",
       "      <th>388629</th>\n",
       "      <td>MONZA E BRIANZA</td>\n",
       "      <td>T</td>\n",
       "      <td>Y_GE15</td>\n",
       "      <td>22</td>\n",
       "      <td>2018</td>\n",
       "      <td>421865</td>\n",
       "    </tr>\n",
       "    <tr>\n",
       "      <th>388630</th>\n",
       "      <td>MONZA E BRIANZA</td>\n",
       "      <td>T</td>\n",
       "      <td>Y_GE15</td>\n",
       "      <td>22</td>\n",
       "      <td>2019</td>\n",
       "      <td>426526</td>\n",
       "    </tr>\n",
       "    <tr>\n",
       "      <th>389181</th>\n",
       "      <td>Varese</td>\n",
       "      <td>T</td>\n",
       "      <td>Y_GE15</td>\n",
       "      <td>22</td>\n",
       "      <td>2018</td>\n",
       "      <td>411189</td>\n",
       "    </tr>\n",
       "    <tr>\n",
       "      <th>389182</th>\n",
       "      <td>Varese</td>\n",
       "      <td>T</td>\n",
       "      <td>Y_GE15</td>\n",
       "      <td>22</td>\n",
       "      <td>2019</td>\n",
       "      <td>411106</td>\n",
       "    </tr>\n",
       "    <tr>\n",
       "      <th>389457</th>\n",
       "      <td>Como</td>\n",
       "      <td>T</td>\n",
       "      <td>Y_GE15</td>\n",
       "      <td>22</td>\n",
       "      <td>2018</td>\n",
       "      <td>277484</td>\n",
       "    </tr>\n",
       "  </tbody>\n",
       "</table>\n",
       "</div>"
      ],
      "text/plain": [
       "               REF_AREA GENDER AGE_NOCLASS  CUR_ACT_STAT  TIME_PERIOD  \\\n",
       "388629  MONZA E BRIANZA      T      Y_GE15            22         2018   \n",
       "388630  MONZA E BRIANZA      T      Y_GE15            22         2019   \n",
       "389181           Varese      T      Y_GE15            22         2018   \n",
       "389182           Varese      T      Y_GE15            22         2019   \n",
       "389457             Como      T      Y_GE15            22         2018   \n",
       "\n",
       "        OBS_VALUE  \n",
       "388629     421865  \n",
       "388630     426526  \n",
       "389181     411189  \n",
       "389182     411106  \n",
       "389457     277484  "
      ]
     },
     "execution_count": 52,
     "metadata": {},
     "output_type": "execute_result"
    }
   ],
   "source": [
    "condizione_professionale_age = condizione_professionale_age[condizione_professionale_age['GENDER'] == 'T']\n",
    "condizione_professionale_age.head()"
   ]
  },
  {
   "cell_type": "code",
   "execution_count": 53,
   "id": "64cb99ac",
   "metadata": {},
   "outputs": [
    {
     "data": {
      "text/plain": [
       "{'Bergamo',\n",
       " 'Brescia',\n",
       " 'Como',\n",
       " 'Cremona',\n",
       " 'Lecco',\n",
       " 'Lodi',\n",
       " 'MONZA E BRIANZA',\n",
       " 'Mantova',\n",
       " 'Milano',\n",
       " 'Pavia',\n",
       " 'Sondrio',\n",
       " 'Varese'}"
      ]
     },
     "execution_count": 53,
     "metadata": {},
     "output_type": "execute_result"
    }
   ],
   "source": [
    "set(condizione_professionale_age['REF_AREA'])"
   ]
  },
  {
   "cell_type": "code",
   "execution_count": 54,
   "id": "a04b9ef0",
   "metadata": {},
   "outputs": [
    {
     "data": {
      "text/plain": [
       "{'BERGAMO',\n",
       " 'BRESCIA',\n",
       " 'COMO',\n",
       " 'CREMONA',\n",
       " 'LECCO',\n",
       " 'LODI',\n",
       " 'MANTOVA',\n",
       " 'MILANO',\n",
       " 'MONZA E BRIANZA',\n",
       " 'PAVIA',\n",
       " 'SONDRIO',\n",
       " 'VARESE'}"
      ]
     },
     "execution_count": 54,
     "metadata": {},
     "output_type": "execute_result"
    }
   ],
   "source": [
    "set(rap_lavoro_attivati['PROVINCIAIMPRESA'])"
   ]
  },
  {
   "cell_type": "markdown",
   "id": "247b2f01",
   "metadata": {},
   "source": [
    "<a id='ml_model'></a>\n",
    "# Building a machine learning model\n",
    "In this section we will see three different machine learning algorithm and decide which is the best for our goal.\n",
    "Before creating the traing and test set we must encode the data before feeding it to the algorithm, to do this we will use two approach: the first approach is a simple encoding so for every distinct value of a feature will be assigned a number, the second approach try to assign to each different value of a feature a numeric value with some meaning when possible."
   ]
  },
  {
   "cell_type": "code",
   "execution_count": 55,
   "id": "c913ac45",
   "metadata": {},
   "outputs": [],
   "source": [
    "import matplotlib as mtl\n",
    "import matplotlib.pyplot as plt\n",
    "import matplotlib.figure as fig\n",
    "from sklearn.metrics import confusion_matrix, accuracy_score, classification_report\n",
    "from sklearn.neural_network import MLPClassifier\n",
    "from sklearn.model_selection import train_test_split\n",
    "from sklearn.metrics import accuracy_score"
   ]
  },
  {
   "cell_type": "markdown",
   "id": "b14b88e3",
   "metadata": {},
   "source": [
    "<a id='feature_encoding'></a>\n",
    "## Feature encoding"
   ]
  },
  {
   "cell_type": "markdown",
   "id": "31e206f5",
   "metadata": {},
   "source": [
    "The first step is to create a new dataset in which we will apply all the needed changes. Here we will add new columns for every encoding we perform, so in the end this dataset will contain the original value plus the encoded one, this choice has been made to recognize the original value from its encoding."
   ]
  },
  {
   "cell_type": "code",
   "execution_count": 56,
   "id": "461ec9b3",
   "metadata": {},
   "outputs": [],
   "source": [
    "model_dt= rap_lavoro_attivati[['GENERE', 'ETA', 'agerange', 'TITOLOSTUDIO', 'CONTRATTO', 'MODALITALAVORO','PROVINCIAIMPRESA','SETTOREECONOMICODETTAGLIO']].copy(deep=True)"
   ]
  },
  {
   "cell_type": "markdown",
   "id": "2dc4f02a",
   "metadata": {},
   "source": [
    "<a id='simp_encoding'></a>\n",
    "### Simple encoding\n",
    "In this case we simply assign a numeric value to each unique value. We convert all field to float except `CONTRATTO` that i converted to int and its values start from zero, this is done to avoid using deprecated method."
   ]
  },
  {
   "cell_type": "code",
   "execution_count": 57,
   "id": "3d647003",
   "metadata": {},
   "outputs": [],
   "source": [
    "model_dt['RANKGENERE'] = model_dt['GENERE'].rank(method='dense', ascending=False).astype('float')\n",
    "model_dt['RANKTITOLOSTUDIO'] = model_dt['TITOLOSTUDIO'].rank(method='dense', ascending=False).astype('float')\n",
    "model_dt['RANKMODALITALAVORO'] = model_dt['MODALITALAVORO'].rank(method='dense', ascending=False).astype('float')\n",
    "model_dt['RANKPROVINCIAIMPRESA'] = model_dt['PROVINCIAIMPRESA'].rank(method='dense', ascending=False).astype('float')\n",
    "model_dt['RANKagerange'] = model_dt['agerange'].rank(method='dense', ascending=False).astype('float')\n",
    "model_dt['RANKSETTOREECONOMICODETTAGLIO'] = model_dt['SETTOREECONOMICODETTAGLIO'].rank(method='dense', ascending=False).astype('float')\n",
    "model_dt['RANKCONTRATTO'] = model_dt['CONTRATTO'].rank(method='dense', ascending=False).astype('int')\n",
    "model_dt['RANKCONTRATTO'] = model_dt['RANKCONTRATTO'].sub(1)"
   ]
  },
  {
   "cell_type": "markdown",
   "id": "8d82ded0",
   "metadata": {},
   "source": [
    "<a id='elab_encoding'></a>\n",
    "### Elaborate encoding\n",
    " For this encoding we will assign to the field `RANKPROVINCIAIMPRESA` the number of people that live in that area, for the field `RANKTITOLOSTUDIO` the minimum age necessary to acquire that title and for the fields `RANKSETTOREECONOMICODETTAGLIO` and `RANKMODALITALAVORO` we will substitute a value with its occurences."
   ]
  },
  {
   "cell_type": "markdown",
   "id": "3f361301",
   "metadata": {},
   "source": [
    "#### Province column"
   ]
  },
  {
   "cell_type": "markdown",
   "id": "14635104",
   "metadata": {},
   "source": [
    "For obtainig the number of people we will use the dataset `Grado_istruzione_per_età_Lombardia`, from this dataset we will extrapolate the population for every lombary province during 2019, create a map and apply it to `model_dt`."
   ]
  },
  {
   "cell_type": "code",
   "execution_count": 58,
   "id": "5a751759",
   "metadata": {},
   "outputs": [],
   "source": [
    "to_zip = grado_istruzione_age[grado_istruzione_age['TIME_PERIOD'] == 2019].groupby(['REF_AREA']).sum().copy()\n",
    "to_zip['prov']= to_zip.index\n",
    "zipped = zip(to_zip['prov'].str.upper(), to_zip['OBS_VALUE'])\n",
    "province_map = dict(zipped)\n",
    "model_dt['MyENPROVINCIAIMPRESA'] = mapping(model_dt['PROVINCIAIMPRESA'], province_map)"
   ]
  },
  {
   "cell_type": "markdown",
   "id": "e49a71e7",
   "metadata": {},
   "source": [
    "#### Study title column\n",
    "Here we manually create a dictionary that assign to a study title its minimum age, then apply it to the dataset"
   ]
  },
  {
   "cell_type": "code",
   "execution_count": 59,
   "id": "5fc0b804",
   "metadata": {},
   "outputs": [],
   "source": [
    "rank_edu_map = {\n",
    "    'NESSUN TITOLO DI STUDIO':0,\n",
    "    'LICENZA ELEMENTARE':11,\n",
    "    'LICENZA MEDIA':14,\n",
    "    'DIPLOMA DI ISTRUZIONE SECONDARIA SUPERIORE':19,\n",
    "    'LAUREA':22,\n",
    "    'TITOLO DI STUDIO TERZIARIO DI SECONDO LIVELLO O DOTTORATO':24    \n",
    "}\n"
   ]
  },
  {
   "cell_type": "code",
   "execution_count": 60,
   "id": "54e62953",
   "metadata": {},
   "outputs": [],
   "source": [
    "model_dt['MyENTITOLOSTUDIO'] = mapping(model_dt['TITOLOSTUDIO'], rank_edu_map)"
   ]
  },
  {
   "cell_type": "markdown",
   "id": "43c274fc",
   "metadata": {},
   "source": [
    "####  Economic sector and work modality columns\n",
    "For these two columns we simply count the ocurrence and substittue them to the correct value"
   ]
  },
  {
   "cell_type": "code",
   "execution_count": 61,
   "id": "bc7dea4f",
   "metadata": {},
   "outputs": [],
   "source": [
    "model_dt['MyENMODALITALAVORO'] = mapping(model_dt['MODALITALAVORO'], dict(model_dt['MODALITALAVORO'].value_counts()))\n",
    "model_dt['MyENSETTOREECONOMICODETTAGLIO'] =  mapping(model_dt['SETTOREECONOMICODETTAGLIO'], dict(model_dt['SETTOREECONOMICODETTAGLIO'].value_counts()))"
   ]
  },
  {
   "cell_type": "markdown",
   "id": "48e003e7",
   "metadata": {},
   "source": [
    "The remaining columns will use the previous encoding because age group and gender do not need to preserve information."
   ]
  },
  {
   "cell_type": "markdown",
   "id": "4097f87c",
   "metadata": {},
   "source": [
    "<a id='models_trainig'></a>\n",
    "# Trainig the models\n",
    "In this section we divide our data into trainig and testig data through the apposite funcion and take a first look at the model performances.This work will be repeted for the two different encoding."
   ]
  },
  {
   "cell_type": "code",
   "execution_count": 62,
   "id": "85edaf09",
   "metadata": {},
   "outputs": [],
   "source": [
    "X = model_dt[['RANKGENERE', 'RANKTITOLOSTUDIO', 'RANKagerange', 'RANKPROVINCIAIMPRESA','RANKSETTOREECONOMICODETTAGLIO', 'RANKMODALITALAVORO']]\n",
    "y = model_dt['RANKCONTRATTO']\n",
    "X_train, X_test, y_train, y_test = train_test_split(X, y, random_state=100)"
   ]
  },
  {
   "cell_type": "markdown",
   "id": "da99f5b3",
   "metadata": {},
   "source": [
    "## Simple encoding"
   ]
  },
  {
   "cell_type": "markdown",
   "id": "f5d8fea6",
   "metadata": {},
   "source": [
    "### Multi layer perceptron"
   ]
  },
  {
   "cell_type": "code",
   "execution_count": 63,
   "id": "b58f7112",
   "metadata": {},
   "outputs": [
    {
     "name": "stderr",
     "output_type": "stream",
     "text": [
      "C:\\Users\\emanu\\anaconda3\\lib\\site-packages\\sklearn\\neural_network\\_multilayer_perceptron.py:614: ConvergenceWarning: Stochastic Optimizer: Maximum iterations (5) reached and the optimization hasn't converged yet.\n",
      "  warnings.warn(\n",
      "C:\\Users\\emanu\\anaconda3\\lib\\site-packages\\sklearn\\metrics\\_classification.py:1248: UndefinedMetricWarning: Precision and F-score are ill-defined and being set to 0.0 in labels with no predicted samples. Use `zero_division` parameter to control this behavior.\n",
      "  _warn_prf(average, modifier, msg_start, len(result))\n"
     ]
    },
    {
     "name": "stdout",
     "output_type": "stream",
     "text": [
      "Accuracy:\n",
      "0.7675195762561648\n"
     ]
    },
    {
     "name": "stderr",
     "output_type": "stream",
     "text": [
      "C:\\Users\\emanu\\anaconda3\\lib\\site-packages\\sklearn\\metrics\\_classification.py:1248: UndefinedMetricWarning: Precision and F-score are ill-defined and being set to 0.0 in labels with no predicted samples. Use `zero_division` parameter to control this behavior.\n",
      "  _warn_prf(average, modifier, msg_start, len(result))\n",
      "C:\\Users\\emanu\\anaconda3\\lib\\site-packages\\sklearn\\metrics\\_classification.py:1248: UndefinedMetricWarning: Precision and F-score are ill-defined and being set to 0.0 in labels with no predicted samples. Use `zero_division` parameter to control this behavior.\n",
      "  _warn_prf(average, modifier, msg_start, len(result))\n"
     ]
    }
   ],
   "source": [
    "mlpModel = MLPClassifier(random_state=1, max_iter=5, hidden_layer_sizes=(24,24))\n",
    "mlpModel = mlpModel.fit(X_train, y_train)\n",
    "\n",
    "#prediction and probability\n",
    "mlp_pred = mlpModel.predict(X_test)\n",
    "mlp_proba = mlpModel.predict_proba(X_test)\n",
    "\n",
    "#Report metrix\n",
    "reportMLP = classification_report(y_test, mlp_pred,output_dict= True)\n",
    "accMlp = accuracy_score(y_test, mlp_pred)\n",
    "print('Accuracy:')\n",
    "print(accMlp)"
   ]
  },
  {
   "cell_type": "markdown",
   "id": "48ffa21a",
   "metadata": {},
   "source": [
    "### Random forest"
   ]
  },
  {
   "cell_type": "code",
   "execution_count": 64,
   "id": "c419fa8b",
   "metadata": {},
   "outputs": [
    {
     "name": "stdout",
     "output_type": "stream",
     "text": [
      "Scoring...\n",
      "Score:  77.512\n"
     ]
    }
   ],
   "source": [
    "from sklearn.ensemble import RandomForestClassifier\n",
    "\n",
    "model = RandomForestClassifier(n_estimators=24, max_depth=6, random_state=0)\n",
    "model.fit(X_train, y_train)\n",
    "    \n",
    "print(\"Scoring...\")\n",
    "\n",
    "score = model.score(X_test, y_test)\n",
    "\n",
    "print(\"Score: \", round(score*100, 3))"
   ]
  },
  {
   "cell_type": "markdown",
   "id": "f7b3d3e4",
   "metadata": {},
   "source": [
    "### XGboost"
   ]
  },
  {
   "cell_type": "code",
   "execution_count": 65,
   "id": "173a0d64",
   "metadata": {},
   "outputs": [],
   "source": [
    "import xgboost as xgb\n",
    "\n",
    "xg_reg = xgb.XGBClassifier(learning_rate = 0.3,\n",
    "                max_depth =3, alpha = 2, n_estimators = 24, eval_metric='mlogloss',use_label_encoder =False)\n",
    "#Fit the model\n",
    "xg_reg.fit(X_train,y_train)\n",
    "#xg_reg.save_model(\"categorical-model.json\")\n",
    "\n",
    "#Make predictions\n",
    "preds = xg_reg.predict(X_test)"
   ]
  },
  {
   "cell_type": "code",
   "execution_count": 66,
   "id": "29fe7737",
   "metadata": {},
   "outputs": [
    {
     "data": {
      "text/plain": [
       "0.7836341455785292"
      ]
     },
     "execution_count": 66,
     "metadata": {},
     "output_type": "execute_result"
    }
   ],
   "source": [
    "accuracy_score(y_test, preds)"
   ]
  },
  {
   "cell_type": "markdown",
   "id": "b80ab546",
   "metadata": {},
   "source": [
    "## Elaborate encoding"
   ]
  },
  {
   "cell_type": "code",
   "execution_count": 68,
   "id": "18fbc027",
   "metadata": {},
   "outputs": [],
   "source": [
    "X = model_dt[['RANKGENERE', 'MyENTITOLOSTUDIO', 'RANKagerange', 'MyENPROVINCIAIMPRESA','MyENSETTOREECONOMICODETTAGLIO', 'MyENMODALITALAVORO']]\n",
    "y = model_dt['RANKCONTRATTO']\n",
    "X_train, X_test, y_train, y_test = train_test_split(X, y, random_state=100)"
   ]
  },
  {
   "cell_type": "code",
   "execution_count": 69,
   "id": "6934bdc1",
   "metadata": {},
   "outputs": [
    {
     "name": "stderr",
     "output_type": "stream",
     "text": [
      "C:\\Users\\emanu\\anaconda3\\lib\\site-packages\\sklearn\\neural_network\\_multilayer_perceptron.py:614: ConvergenceWarning: Stochastic Optimizer: Maximum iterations (5) reached and the optimization hasn't converged yet.\n",
      "  warnings.warn(\n",
      "C:\\Users\\emanu\\anaconda3\\lib\\site-packages\\sklearn\\metrics\\_classification.py:1248: UndefinedMetricWarning: Precision and F-score are ill-defined and being set to 0.0 in labels with no predicted samples. Use `zero_division` parameter to control this behavior.\n",
      "  _warn_prf(average, modifier, msg_start, len(result))\n",
      "C:\\Users\\emanu\\anaconda3\\lib\\site-packages\\sklearn\\metrics\\_classification.py:1248: UndefinedMetricWarning: Precision and F-score are ill-defined and being set to 0.0 in labels with no predicted samples. Use `zero_division` parameter to control this behavior.\n",
      "  _warn_prf(average, modifier, msg_start, len(result))\n"
     ]
    },
    {
     "name": "stdout",
     "output_type": "stream",
     "text": [
      "Accuracy:\n",
      "0.648836894074468\n"
     ]
    },
    {
     "name": "stderr",
     "output_type": "stream",
     "text": [
      "C:\\Users\\emanu\\anaconda3\\lib\\site-packages\\sklearn\\metrics\\_classification.py:1248: UndefinedMetricWarning: Precision and F-score are ill-defined and being set to 0.0 in labels with no predicted samples. Use `zero_division` parameter to control this behavior.\n",
      "  _warn_prf(average, modifier, msg_start, len(result))\n"
     ]
    }
   ],
   "source": [
    "mlpModel = MLPClassifier(random_state=1, max_iter=5, hidden_layer_sizes=(24,24))\n",
    "mlpModel = mlpModel.fit(X_train, y_train)\n",
    "\n",
    "#prediction and probability\n",
    "mlp_pred = mlpModel.predict(X_test)\n",
    "mlp_proba = mlpModel.predict_proba(X_test)\n",
    "\n",
    "#Report metrix\n",
    "reportMLP = classification_report(y_test, mlp_pred,output_dict= True)\n",
    "accMlp = accuracy_score(y_test, mlp_pred)\n",
    "print('Accuracy:')\n",
    "print(accMlp)"
   ]
  },
  {
   "cell_type": "code",
   "execution_count": 70,
   "id": "dd8687cc",
   "metadata": {},
   "outputs": [
    {
     "name": "stdout",
     "output_type": "stream",
     "text": [
      "Scoring...\n",
      "Score:  77.819\n"
     ]
    }
   ],
   "source": [
    "from sklearn.ensemble import RandomForestClassifier\n",
    "\n",
    "model = RandomForestClassifier(n_estimators=24, max_depth=6, random_state=0)\n",
    "model.fit(X_train, y_train)\n",
    "    \n",
    "print(\"Scoring...\")\n",
    "\n",
    "# TODO: score your model on your test set\n",
    "\n",
    "score = model.score(X_test, y_test)\n",
    "\n",
    "print(\"Score: \", round(score*100, 3))"
   ]
  },
  {
   "cell_type": "code",
   "execution_count": 71,
   "id": "6995b7dd",
   "metadata": {},
   "outputs": [],
   "source": [
    "import xgboost as xgb\n",
    "xg_reg = xgb.XGBClassifier(learning_rate = 0.3,\n",
    "                max_depth =3, alpha = 2, n_estimators = 24, eval_metric='mlogloss',use_label_encoder =False)\n",
    "#Fit the model\n",
    "xg_reg.fit(X_train,y_train)\n",
    "#xg_reg.save_model(\"categorical-model.json\")\n",
    "\n",
    "#Make predictions\n",
    "preds = xg_reg.predict(X_test)\n"
   ]
  },
  {
   "cell_type": "code",
   "execution_count": 72,
   "id": "f5c50ecd",
   "metadata": {},
   "outputs": [
    {
     "data": {
      "text/plain": [
       "0.7898693526019999"
      ]
     },
     "execution_count": 72,
     "metadata": {},
     "output_type": "execute_result"
    }
   ],
   "source": [
    "from sklearn.metrics import accuracy_score\n",
    "accuracy_score(y_test, preds)"
   ]
  },
  {
   "cell_type": "code",
   "execution_count": null,
   "id": "350d5e89",
   "metadata": {},
   "outputs": [],
   "source": []
  }
 ],
 "metadata": {
  "kernelspec": {
   "display_name": "Python 3",
   "language": "python",
   "name": "python3"
  },
  "language_info": {
   "codemirror_mode": {
    "name": "ipython",
    "version": 3
   },
   "file_extension": ".py",
   "mimetype": "text/x-python",
   "name": "python",
   "nbconvert_exporter": "python",
   "pygments_lexer": "ipython3",
   "version": "3.8.10"
  }
 },
 "nbformat": 4,
 "nbformat_minor": 5
}
