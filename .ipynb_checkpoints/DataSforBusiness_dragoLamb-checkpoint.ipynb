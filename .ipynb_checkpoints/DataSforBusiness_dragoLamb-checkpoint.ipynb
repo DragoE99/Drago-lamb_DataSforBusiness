{
 "cells": [
  {
   "cell_type": "markdown",
   "id": "da7b2d39",
   "metadata": {},
   "source": [
    "# Data science for business project\n",
    "This project is developed by \n",
    "- Drago Emanuele\n",
    "- Lambrughi Achille"
   ]
  },
  {
   "cell_type": "markdown",
   "id": "11829e63",
   "metadata": {},
   "source": [
    "# Index\n",
    "\n",
    "\n",
    "- [Introduction](#Introduction)<a href='#Introduction'></a><br>\n",
    "- [Resources](#res)<a href='res'></a><br>\n",
    "- [Configuration](#config)<a href='config'></a><br>\n",
    "- [Library](#lib)<a href='lib'></a><br>\n",
    "- [Function defined](#my_fun)<a href='my_fun'></a><br>\n",
    "\n",
    "[**Dataset analysis**](#cap1)<a href='cap1'></a><br>\n",
    "- [Dataset Import](#dt_import)<a href='dt_import'></a><br>\n",
    "- [Outlier detection](#dec_outlier)<a href='dec_outlier'></a><br>\n",
    "    - [DATA column](#data_cl)<a href='data_cl'></a><br>\n",
    "    - [SETTOREECONOMICODETTAGLIO column](#set_ec_cl)<a href='linear_regression'></a><br>\n",
    "    - [MODALITALAVORO column](#mod_work_cl)<a href='mod_work_cl'></a><br>\n",
    "    \n",
    "[**Building machine learning models**](#ml_model)<a href='ml_model'></a><br>\n",
    "- [Feature encoding](#feature_encoding)<a href='feature_encoding'></a><br>\n",
    "    - [Direct Encoding](#simp_encoding)<a href='simp_encoding'></a><br>\n",
    "    - [Our Encoding](#elab_encoding)<a href='elab_encoding'></a><br>\n",
    "- [Models Traning](#models_trainig)<a href='models_trainig'></a><br>\n",
    "- [Models Evaluation](#model_evaluation)<a href='model_evaluation'></a><br>\n",
    "- [Possible application](#model_usage)<a href='model_usage'></a><br>\n",
    "[**Conclusion**](#conclusion)<a href='conclusion'></a><br>\n",
    "\n"
   ]
  },
  {
   "cell_type": "markdown",
   "id": "477bab42",
   "metadata": {},
   "source": [
    "<a id='Introduction'></a>\n",
    "## Introduction\n",
    "The aim of this project is to illustrates various phases of a data science project. In the first phase we will import and analyze a dataset, then based on the analysis result we clean up the data removing outlier and null values.\n",
    "Once the data is ready we will build a machine learning model able to respond to some question regarding the data."
   ]
  },
  {
   "cell_type": "markdown",
   "id": "6859c94f",
   "metadata": {},
   "source": [
    "<a id='res'></a>\n",
    "## Resources\n",
    "The datasets considered are available at the following link:\n",
    "- https://www.dati.lombardia.it/Attivit-Produttive/Rapporti-di-lavoro-attivati/qbau-cyuc\n",
    "- https://esploradati.censimentopopolazione.istat.it/databrowser/#/it/censtest/ITC4\n",
    "\n",
    "other resources:\n",
    "- https://www.google.it/url?sa=t&rct=j&q=&esrc=s&source=web&cd=&ved=2ahUKEwiamPWll5T4AhUSG-wKHYxBBooQFnoECAcQAQ&url=https%3A%2F%2Fwww.istat.it%2Fstorage%2Fcodici-unita-amministrative%2FElenco-comuni-italiani.xls&usg=AOvVaw1grUzCb-YznlY1XTyzCUJE\n",
    "\n",
    " in this file the column *Denominazione dell'Unità territoriale sovracomunale \n",
    " (valida a fini statistici)* has been renamed in *Provincia*\n",
    "\n",
    "\n",
    "- The file CodiceAteco.xlsx that contain the italian classification of economical activities\n",
    "\n",
    "For execution all the files need to be put in a folder called 'dataset' in the root folder of the project"
   ]
  },
  {
   "cell_type": "markdown",
   "id": "37a8f5e4",
   "metadata": {},
   "source": [
    "# Objective\n",
    "Since the main dataset we have chosen it's a feature rich dataset representing all the new started working contracts, our goal is to predict the type of contract a person could be most probably hired"
   ]
  },
  {
   "cell_type": "markdown",
   "id": "e9cfe044",
   "metadata": {},
   "source": [
    "<a id='config'></a>\n",
    "### Configuration\n",
    "For this project will be used the module xgboost so for a correct compilation of the code is necessary to install it."
   ]
  },
  {
   "cell_type": "markdown",
   "id": "e00eab7d",
   "metadata": {},
   "source": [
    "<a id='lib'></a>\n",
    "### Used libraries\n",
    "The following cell contains the main libraries used for the project, some libraries are imported right before being used"
   ]
  },
  {
   "cell_type": "code",
   "execution_count": null,
   "id": "6c90a1fd",
   "metadata": {},
   "outputs": [],
   "source": [
    "import numpy as np\n",
    "import pandas as pd\n",
    "import matplotlib as mpl, matplotlib.pyplot as plt\n",
    "from pathlib import PurePath\n",
    "from datetime import datetime, timedelta\n",
    "import seaborn as sns\n",
    "mpl.rcParams['figure.dpi'] = 150"
   ]
  },
  {
   "cell_type": "markdown",
   "id": "26bcf874",
   "metadata": {},
   "source": [
    "<a id='my_fun'></a>\n",
    "### Defining some functions\n",
    "Before proceding with the dataset we define the following functions:\n",
    "- `series_to_set`: this function takes as input a column and a dataframe and returns a set containing the column values;\n",
    "- `mapping`: this function takes as input a `Series` and a mapping dictionary, returns the series mapped to the dictionary;"
   ]
  },
  {
   "cell_type": "code",
   "execution_count": null,
   "id": "54a7a9a6",
   "metadata": {},
   "outputs": [],
   "source": [
    "def series_to_set(column, source_df):\n",
    "    SET = set()\n",
    "    for elem in source_df[column]:\n",
    "        SET.add(elem)\n",
    "    return SET\n",
    "\n",
    "def mapping(series, mapp): \n",
    "    series = series.apply(lambda x: mapp.get(x) if mapp.get(x) != None else x)\n",
    "    return series"
   ]
  },
  {
   "cell_type": "markdown",
   "id": "d6d65ae3",
   "metadata": {},
   "source": [
    "<a id='cap1'></a>\n",
    "# Dataset analysis\n",
    "In this section will be analyzed the content of the dataset. The chosen dataset contains the new work contracts activated in Lombardy. The dataset contains the following columns:\n",
    "- DATA: date of the contract\n",
    "- GENERE: gender of the person\n",
    "- ETA: age of the person\n",
    "- SETTOREECONOMICODETTAGLIO: category of work\n",
    "- TITOLOSTUDIO: level of education of the person\n",
    "- CONTRATTO: type of contract\n",
    "- MODALITALAVORO: work mode\n",
    "- PROVINCIAIMPRESA: province of the place of work\n",
    "- ITALIANO: nationality of the person\n"
   ]
  },
  {
   "cell_type": "markdown",
   "id": "95a101a3",
   "metadata": {},
   "source": [
    "<a id='dt_import'></a>\n",
    "### Dataset import\n",
    " Here we import the dataset, parse the field `DATA` to datetime and take a first look at the column and their type."
   ]
  },
  {
   "cell_type": "code",
   "execution_count": null,
   "id": "5bf6a9a4",
   "metadata": {
    "scrolled": true
   },
   "outputs": [],
   "source": [
    "source_df = pd.read_csv(PurePath('dataset', 'Rapporti_di_lavoro_attivati.csv'),parse_dates=['DATA'])"
   ]
  },
  {
   "cell_type": "code",
   "execution_count": null,
   "id": "1c751ead",
   "metadata": {},
   "outputs": [],
   "source": [
    "rap_lavoro_attivati = source_df.copy()"
   ]
  },
  {
   "cell_type": "code",
   "execution_count": null,
   "id": "791c90f0",
   "metadata": {},
   "outputs": [],
   "source": [
    "print([rap_lavoro_attivati.info()])\n",
    "rap_lavoro_attivati.head(10)"
   ]
  },
  {
   "cell_type": "markdown",
   "id": "ad777886",
   "metadata": {},
   "source": [
    "### Changing data type\n",
    "As we can see almost all columns of the dataset have type object and contains strings. This  means that the machine learning model will be fed with categorical data or a numerical representation of it. Before proceding with the analysis we change the type from object to string.\n",
    "\n",
    "Since categorical data are difficult to use for training a machine learning model, we already know that those values should be replaced with numericals. So, during the analysis, we will try to understand which values are more suitable for this task."
   ]
  },
  {
   "cell_type": "code",
   "execution_count": null,
   "id": "35689fda",
   "metadata": {},
   "outputs": [],
   "source": [
    "rap_lavoro_attivati[['GENERE','SETTOREECONOMICODETTAGLIO','TITOLOSTUDIO','CONTRATTO', 'MODALITALAVORO','PROVINCIAIMPRESA','ITALIANO']]=rap_lavoro_attivati[['GENERE','SETTOREECONOMICODETTAGLIO','TITOLOSTUDIO','CONTRATTO', 'MODALITALAVORO','PROVINCIAIMPRESA','ITALIANO']].astype('string')"
   ]
  },
  {
   "cell_type": "markdown",
   "id": "92c18e84",
   "metadata": {},
   "source": [
    "### Searching wrong and null data\n",
    "Now we will look inside the data checking null or possibly wrong value, then those data will be corrected or deleted.\n",
    "First off we will find out how many null values there are in each column"
   ]
  },
  {
   "cell_type": "code",
   "execution_count": null,
   "id": "a121c0a9",
   "metadata": {},
   "outputs": [],
   "source": [
    "print([rap_lavoro_attivati.isnull().sum()])"
   ]
  },
  {
   "cell_type": "markdown",
   "id": "a83ebd6a",
   "metadata": {},
   "source": [
    "From this first look it is possible to see that a big part of values is missing from the column `MODALITALAVORO`, these values needs to be replaced while the others could be simply deleted because they represent a small part of the dataset.\n",
    "\n",
    "But before proceding now will be checked the actual value of some columns to see if there are some non plausible data.\n",
    "Starting from the column `DATA`"
   ]
  },
  {
   "cell_type": "markdown",
   "id": "d9ed4085",
   "metadata": {},
   "source": [
    "<a id='dec_outlier'></a>\n",
    "## Identifying outliers"
   ]
  },
  {
   "cell_type": "markdown",
   "id": "f717fcaa",
   "metadata": {},
   "source": [
    "<a id='data_cl'></a>\n",
    "### column DATA\n",
    "\n",
    "At first, we extract the year from the date, so that the column `DATA` becomes easier to analyze"
   ]
  },
  {
   "cell_type": "code",
   "execution_count": null,
   "id": "d66a94ee",
   "metadata": {},
   "outputs": [],
   "source": [
    "rap_lavoro_attivati['DATA'] = rap_lavoro_attivati['DATA'].apply(lambda x: x.year)"
   ]
  },
  {
   "cell_type": "code",
   "execution_count": null,
   "id": "c8b7e81d",
   "metadata": {},
   "outputs": [],
   "source": [
    "rap_lavoro_attivati = rap_lavoro_attivati[rap_lavoro_attivati['DATA'] < 2022]"
   ]
  },
  {
   "cell_type": "code",
   "execution_count": null,
   "id": "5b51f7ff",
   "metadata": {
    "scrolled": true
   },
   "outputs": [],
   "source": [
    "fig, ax = plt.subplots()\n",
    "ax.boxplot(rap_lavoro_attivati['DATA'])\n",
    "plt.show()"
   ]
  },
  {
   "cell_type": "markdown",
   "id": "7ceef16c",
   "metadata": {},
   "source": [
    "We can see from the above boxplot that we have many outliers in the years before 2000, so we should at least restrict the dataset to the last 20 years. Moreover, we will combine this dataset with other datasets that have values only for years 2018 and 2019. But this is not a problem since those two years represent a quite recent job situation (differently from the early 2000s), while we don't analyze data from 2020 onwards because they are altered by the consequences of the COVID-19 pandemic."
   ]
  },
  {
   "cell_type": "code",
   "execution_count": null,
   "id": "e00c9779",
   "metadata": {},
   "outputs": [],
   "source": [
    "rap_lavoro_attivati['DATA'].head()"
   ]
  },
  {
   "cell_type": "markdown",
   "id": "b2536b2d",
   "metadata": {},
   "source": [
    "\n",
    "## Working on column `DATA`\n",
    "In this section we will analyze in more detail the column `DATA` and adjust the data accordingly.\n",
    "The first step is to group the column by year and count how many contracts are activated per year"
   ]
  },
  {
   "cell_type": "code",
   "execution_count": null,
   "id": "6dec156b",
   "metadata": {},
   "outputs": [],
   "source": [
    "rap_lavoro_attivati = rap_lavoro_attivati[(rap_lavoro_attivati.DATA >= 2018) & (rap_lavoro_attivati.DATA < 2020)]\n",
    "print(rap_lavoro_attivati.groupby(['DATA'])['GENERE'].count())"
   ]
  },
  {
   "cell_type": "markdown",
   "id": "a5b9d260",
   "metadata": {},
   "source": [
    "With this we can see how many contracts have been activated in the last few years in Lombardy."
   ]
  },
  {
   "cell_type": "code",
   "execution_count": null,
   "id": "1f28038e",
   "metadata": {},
   "outputs": [],
   "source": [
    "rap_lavoro_attivati.groupby(pd.Grouper(key='DATA'))['DATA'].count().plot(label=\"attivati\", kind='bar')\n",
    "\n",
    "plt.legend()\n",
    "plt.show()"
   ]
  },
  {
   "cell_type": "markdown",
   "id": "224f3489",
   "metadata": {},
   "source": [
    "As we can see there isn't so much difference between the two years. The next graph shows the difference in the number of contracts between male and female "
   ]
  },
  {
   "cell_type": "code",
   "execution_count": null,
   "id": "a8ae6432",
   "metadata": {},
   "outputs": [],
   "source": [
    "m_to_f_rationA = rap_lavoro_attivati.GENERE.value_counts()\n",
    "\n",
    "xaxisA = m_to_f_rationA.index\n",
    "valueA = m_to_f_rationA.values\n",
    "\n",
    "fig1, axis = plt.subplots(1)\n",
    "fig1.dpi = 100\n",
    "\n",
    "#Attivati male to female Graph\n",
    "axis.pie(valueA, labels=xaxisA, autopct='%1.1f%%', startangle=90)\n",
    "axis.axis('equal')  # Equal aspect ratio ensures that pie is drawn as a circle.\n"
   ]
  },
  {
   "cell_type": "markdown",
   "id": "b59945ac",
   "metadata": {},
   "source": [
    "From these graphs we can say that probably there are more male than female in the popoulation, but this information should be verified plotting data from a dataset that involves the whole population, not only the newly hired."
   ]
  },
  {
   "cell_type": "code",
   "execution_count": null,
   "id": "e8ea2365",
   "metadata": {
    "scrolled": false
   },
   "outputs": [],
   "source": [
    "rap_lavoro_attivati.head()"
   ]
  },
  {
   "cell_type": "markdown",
   "id": "40ed0a00",
   "metadata": {},
   "source": [
    "The next plot represents the number of contracts `== LAVORO A TEMPO INDETERMINATO` in relation to the working time: full-time or part-time (and its variations)"
   ]
  },
  {
   "cell_type": "code",
   "execution_count": null,
   "id": "9ec2e8b2",
   "metadata": {},
   "outputs": [],
   "source": [
    "df = rap_lavoro_attivati[['CONTRATTO', 'MODALITALAVORO']]\n",
    "df = df[df['CONTRATTO'] == 'LAVORO A TEMPO INDETERMINATO']\n",
    "df = df.groupby(['MODALITALAVORO']).count()\n",
    "df.plot(kind='bar')"
   ]
  },
  {
   "cell_type": "markdown",
   "id": "fbf624e8",
   "metadata": {},
   "source": [
    "The result shows that the working hours and the contract type are highly correlated, hence the feature `MODALITALAVORO` must be exploited for our model.\n",
    "\n",
    "Next, we will see if there is a correlation amongst province and contracts. "
   ]
  },
  {
   "cell_type": "code",
   "execution_count": null,
   "id": "420fdf7b",
   "metadata": {},
   "outputs": [],
   "source": [
    "df = rap_lavoro_attivati[['CONTRATTO', 'PROVINCIAIMPRESA']]\n",
    "df = df[df['CONTRATTO'] == 'LAVORO A TEMPO INDETERMINATO']\n",
    "df = df.groupby(['PROVINCIAIMPRESA']).count()\n",
    "df.plot(kind='bar', legend=False)\n",
    "plt.ylabel('Tempo indeterminato')"
   ]
  },
  {
   "cell_type": "markdown",
   "id": "4b4f71c0",
   "metadata": {},
   "source": [
    "They seem to be correlated, BUT we should pay attention to what we have just plotted. Indeed, we have counted the **total** number of activated contracts in each province and this information could introduce an error in evaluation. This error bears in the fact that different provinces have different populations. To clarify, the population of Milan (province) sums to roughly 3.2 million people, while in province of Lodi live 230 thousands people. So, despite considering the total number of contracts, we will consider the *percentage* over the total number of newly started contracts.  "
   ]
  },
  {
   "cell_type": "code",
   "execution_count": null,
   "id": "df166820",
   "metadata": {},
   "outputs": [],
   "source": [
    "df = rap_lavoro_attivati[['CONTRATTO', 'PROVINCIAIMPRESA']]\n",
    "df = df[df['CONTRATTO'] == 'LAVORO A TEMPO INDETERMINATO']\n",
    "df = df.groupby(['PROVINCIAIMPRESA']).count()\n",
    "df.loc[:, 'CONTRATTO'] = 100*df[\"CONTRATTO\"]/rap_lavoro_attivati.groupby(['PROVINCIAIMPRESA']).count()['CONTRATTO']\n",
    "df.plot(kind='bar', legend=False)\n",
    "plt.ylabel('% Tempo indeterminato')\n",
    "################################################\n",
    "df = rap_lavoro_attivati[['CONTRATTO', 'PROVINCIAIMPRESA']]\n",
    "df = df[df['CONTRATTO'] == 'LAVORO A TEMPO DETERMINATO']\n",
    "df = df.groupby(['PROVINCIAIMPRESA']).count()\n",
    "df.loc[:, 'CONTRATTO'] = 100*df[\"CONTRATTO\"]/rap_lavoro_attivati.groupby(['PROVINCIAIMPRESA']).count()['CONTRATTO']\n",
    "df.plot(kind='bar', legend=False)\n",
    "plt.ylabel('% Tempo determinato')\n",
    "################################################\n",
    "df = rap_lavoro_attivati[['CONTRATTO', 'PROVINCIAIMPRESA']]\n",
    "df = df[df['CONTRATTO'] == 'TIROCINIO']\n",
    "df = df.groupby(['PROVINCIAIMPRESA']).count()\n",
    "df.loc[:, 'CONTRATTO'] = 100*df[\"CONTRATTO\"]/rap_lavoro_attivati.groupby(['PROVINCIAIMPRESA']).count()['CONTRATTO']\n",
    "df.plot(kind='bar', legend=False)\n",
    "plt.ylabel('% Tirocinio')\n",
    "################################################\n",
    "df = rap_lavoro_attivati[['CONTRATTO', 'PROVINCIAIMPRESA']]\n",
    "df = df[df['CONTRATTO'] == 'LAVORO DOMESTICO']\n",
    "df = df.groupby(['PROVINCIAIMPRESA']).count()\n",
    "df.loc[:, 'CONTRATTO'] = 100*df[\"CONTRATTO\"]/rap_lavoro_attivati.groupby(['PROVINCIAIMPRESA']).count()['CONTRATTO']\n",
    "df.plot(kind='bar', legend=False)\n",
    "plt.ylabel('% Tempo determinato')"
   ]
  },
  {
   "cell_type": "markdown",
   "id": "12efed80",
   "metadata": {},
   "source": [
    "From the plots we can tell that the type of contract and the province in which people work are related. \n",
    "\n",
    "We can note that for example `MONZA E BRIANZA` has the highest percetage in both open-ended contracts and internships, while it got the lowest percentage in fixed-term contracts. This could probably means that people in Monza e Brianza are more frequently hired in an internship and then their contract directly change to an open-ended contract. "
   ]
  },
  {
   "cell_type": "code",
   "execution_count": null,
   "id": "453a8c6a",
   "metadata": {},
   "outputs": [],
   "source": [
    "rap_lavoro_attivati.groupby(['PROVINCIAIMPRESA']).count()"
   ]
  },
  {
   "cell_type": "markdown",
   "id": "afc71f80",
   "metadata": {},
   "source": [
    "<a id='set_ec_cl'></a>\n",
    "### column SETTOREECONOMICODETTAGLIO"
   ]
  },
  {
   "cell_type": "code",
   "execution_count": null,
   "id": "d783c720",
   "metadata": {
    "scrolled": true
   },
   "outputs": [],
   "source": [
    "settore_economico = series_to_set('SETTOREECONOMICODETTAGLIO', rap_lavoro_attivati)\n",
    "len(settore_economico)"
   ]
  },
  {
   "cell_type": "markdown",
   "id": "d1479d81",
   "metadata": {},
   "source": [
    "Let's plot the data of `SETTOREECONOMICODETTAGLIO` and their 'weight' in the dataset."
   ]
  },
  {
   "cell_type": "code",
   "execution_count": null,
   "id": "bcea1e0f",
   "metadata": {},
   "outputs": [],
   "source": [
    "fig, axis = plt.subplots()\n",
    "\n",
    "axis.pie(rap_lavoro_attivati.groupby(['SETTOREECONOMICODETTAGLIO']).count()['GENERE'])\n",
    "\n",
    "plt.show()"
   ]
  },
  {
   "cell_type": "markdown",
   "id": "42096970",
   "metadata": {},
   "source": [
    "We believe that the pieplot well describes the problem about this column. Taken as is, it cannot be used for analysis; the amount of different data is huge. \n",
    "\n",
    "Fortunately, it seems that the captions match with the Ateco Codes! Hence, we can map them into wider categories."
   ]
  },
  {
   "cell_type": "code",
   "execution_count": null,
   "id": "9f6ec4a8",
   "metadata": {},
   "outputs": [],
   "source": [
    "sett_eco_codes = pd.read_excel(PurePath('dataset', 'CodiceAteco.xlsx'))\n",
    "sett_eco_codes.head()"
   ]
  },
  {
   "cell_type": "code",
   "execution_count": null,
   "id": "cc337797",
   "metadata": {},
   "outputs": [],
   "source": [
    "sett_eco_codes['Descrizione'] = sett_eco_codes['Descrizione'].str.lower()\n",
    "sett_eco_codes = sett_eco_codes[['Lettera', 'Descrizione']]\n",
    "ateco = sett_eco_codes.set_index('Descrizione').to_dict().get('Lettera')"
   ]
  },
  {
   "cell_type": "code",
   "execution_count": null,
   "id": "8860d4b5",
   "metadata": {},
   "outputs": [],
   "source": [
    "rap_lavoro_attivati[\"SETTOREECONOMICODETTAGLIO\"] = rap_lavoro_attivati[\"SETTOREECONOMICODETTAGLIO\"].str.lower()\n",
    "rap_lavoro_attivati.head()"
   ]
  },
  {
   "cell_type": "code",
   "execution_count": null,
   "id": "b77d2fa0",
   "metadata": {
    "scrolled": true
   },
   "outputs": [],
   "source": [
    "rap_lavoro_attivati[\"SETTOREECONOMICODETTAGLIO\"] = rap_lavoro_attivati[\"SETTOREECONOMICODETTAGLIO\"].map(ateco)\n",
    "rap_lavoro_attivati.head()"
   ]
  },
  {
   "cell_type": "code",
   "execution_count": null,
   "id": "d432f485",
   "metadata": {},
   "outputs": [],
   "source": [
    "rap_lavoro_attivati['SETTOREECONOMICODETTAGLIO'].isna().sum()"
   ]
  },
  {
   "cell_type": "code",
   "execution_count": null,
   "id": "05d918d3",
   "metadata": {},
   "outputs": [],
   "source": [
    "rap_lavoro_attivati = rap_lavoro_attivati[rap_lavoro_attivati['SETTOREECONOMICODETTAGLIO'].notna()]"
   ]
  },
  {
   "cell_type": "code",
   "execution_count": null,
   "id": "568ffa6b",
   "metadata": {},
   "outputs": [],
   "source": [
    "rap_lavoro_attivati['SETTOREECONOMICODETTAGLIO'].isna().sum()"
   ]
  },
  {
   "cell_type": "markdown",
   "id": "c6becbe8",
   "metadata": {},
   "source": [
    "Now we can visualize the column after the mapping."
   ]
  },
  {
   "cell_type": "code",
   "execution_count": null,
   "id": "e48084d0",
   "metadata": {},
   "outputs": [],
   "source": [
    "fig, axis = plt.subplots()\n",
    "\n",
    "axis.pie(rap_lavoro_attivati.groupby(['SETTOREECONOMICODETTAGLIO']).count()['GENERE'])\n",
    "\n",
    "plt.show()"
   ]
  },
  {
   "cell_type": "markdown",
   "id": "5555a067",
   "metadata": {},
   "source": [
    "So much better, now we don't have too much different values and so the column can be used for analisys."
   ]
  },
  {
   "cell_type": "code",
   "execution_count": null,
   "id": "5047ae09",
   "metadata": {},
   "outputs": [],
   "source": [
    "df = rap_lavoro_attivati[['CONTRATTO', 'SETTOREECONOMICODETTAGLIO']]\n",
    "df = df[df['CONTRATTO'] == 'LAVORO A TEMPO INDETERMINATO']\n",
    "df = df.groupby(['SETTOREECONOMICODETTAGLIO']).count()\n",
    "df.loc[:, 'CONTRATTO'] = 100*df[\"CONTRATTO\"]/rap_lavoro_attivati.groupby(['SETTOREECONOMICODETTAGLIO']).count()['CONTRATTO']\n",
    "df.plot(kind='bar', legend=False)\n",
    "plt.ylabel('% Tempo indeterminato')"
   ]
  },
  {
   "cell_type": "markdown",
   "id": "293e2de7",
   "metadata": {},
   "source": [
    "To correctly interpret the above bar plot, we should be aware of the meaning of the different characters, so:\n",
    "- A: AGRICOLTURA, SILVICOLTURA E PESCA;\n",
    "- B: ESTRAZIONE DI MINERALI DA CAVE E MINIERE;\n",
    "- C: ATTIVITÀ MANIFATTURIERE;\n",
    "- D: FORNITURA DI ENERGIA ELETTRICA, GAS, VAPORE E ARIA CONDIZIONATA;\n",
    "- E: FORNITURA DI ACQUA; RETI FOGNARIE, ATTIVITÀ DI GESTIONE DEI RIFIUTI E RISANAMENTO;\n",
    "- F: COSTRUZIONI;\n",
    "- G: COMMERCIO ALL'INGROSSO E AL DETTAGLIO; RIPARAZIONE DI AUTOVEICOLI E MOTOCICLI;\n",
    "- H: TRASPORTO E MAGAZZINAGGIO;\n",
    "- I: ATTIVITÀ DEI SERVIZI DI ALLOGGIO E DI RISTORAZIONE;\n",
    "- J: SERVIZI DI INFORMAZIONE E COMUNICAZIONE;\n",
    "- K: ATTIVITÀ FINANZIARIE E ASSICURATIVE;\n",
    "- L: ATTIVITA' IMMOBILIARI;\n",
    "- M: ATTIVITÀ PROFESSIONALI, SCIENTIFICHE E TECNICHE;\n",
    "- N: NOLEGGIO, AGENZIE DI VIAGGIO, SERVIZI DI SUPPORTO ALLE IMPRESE;\n",
    "- O: AMMINISTRAZIONE PUBBLICA E DIFESA; ASSICURAZIONE SOCIALE OBBLIGATORIA;\n",
    "- P: ISTRUZIONE;\n",
    "- Q: SANITA' E ASSISTENZA SOCIALE;\n",
    "- R: ATTIVITÀ ARTISTICHE, SPORTIVE, DI INTRATTENIMENTO E DIVERTIMENTO;\n",
    "- S: ALTRE ATTIVITÀ DI SERVIZI;\n",
    "- T: ATTIVITÀ DI FAMIGLIE E CONVIVENZE COME DATORI DI LAVORO PER PERSONALE DOMESTICO; PRODUZIONE DI BENI E SERVIZI INDIFFERENZIATI PER USO PROPRIO DA PARTE DI FAMIGLIE E CONVIVENZE;\n",
    "- U: ORGANIZZAZIONI ED ORGANISMI EXTRATERRITORIALI;"
   ]
  },
  {
   "cell_type": "code",
   "execution_count": null,
   "id": "f720cc63",
   "metadata": {},
   "outputs": [],
   "source": [
    "rap_lavoro_attivati['CONTRATTO'].value_counts()"
   ]
  },
  {
   "cell_type": "markdown",
   "id": "be521cbb",
   "metadata": {},
   "source": [
    "As we can see there are categories with just few entries. Since these have a low impact on the dataset we can delete them with the following function. It groups data by `CONTRATTO`, create a group of indexes containing only the elements that satisfy a condition and then it keeps only the values that are inside those indexes."
   ]
  },
  {
   "cell_type": "code",
   "execution_count": null,
   "id": "3307f0bd",
   "metadata": {},
   "outputs": [],
   "source": [
    "#delete low number contracts\n",
    "byContract = rap_lavoro_attivati.groupby('CONTRATTO').aggregate(np.count_nonzero)\n",
    "tags = byContract[byContract.GENERE >= 2000].index\n",
    "rap_lavoro_attivati = rap_lavoro_attivati[rap_lavoro_attivati['CONTRATTO'].isin(tags)]"
   ]
  },
  {
   "cell_type": "markdown",
   "id": "7b4f4b45",
   "metadata": {},
   "source": [
    "<a id='mod_work_cl'></a>\n",
    "### Column MODALITALAVORO"
   ]
  },
  {
   "cell_type": "markdown",
   "id": "03d32ffc",
   "metadata": {},
   "source": [
    "In the `rap_lavoro_attivati` there are a lot of null values for the column `MODALITALAVORO`, removing the rows would reduce the set of data we are analysing. Hence, we'd rather prefer to fill those null values with a suitable values. \n",
    "\n",
    "The value `NON DEFINITO` can be used to fill the na, since that won't introduce much bias, differently from the other available values. "
   ]
  },
  {
   "cell_type": "code",
   "execution_count": null,
   "id": "9e6fb2ba",
   "metadata": {},
   "outputs": [],
   "source": [
    "def clean(df):\n",
    "    df['MODALITALAVORO'] = df['MODALITALAVORO'].fillna('NON DEFINITO')\n",
    "    df.dropna(axis = 0, inplace = True)\n",
    "    \n",
    "\n",
    "clean(rap_lavoro_attivati)\n",
    "rap_lavoro_attivati.isnull().sum()"
   ]
  },
  {
   "cell_type": "markdown",
   "id": "4586495e",
   "metadata": {},
   "source": [
    "### Column GENERE\n",
    "Now we will try to understand if the gender and the contract type are related"
   ]
  },
  {
   "cell_type": "code",
   "execution_count": null,
   "id": "0ab868f9",
   "metadata": {},
   "outputs": [],
   "source": [
    "gender_df = rap_lavoro_attivati[['GENERE', \"CONTRATTO\"]]\n",
    "gender_df = gender_df[gender_df['CONTRATTO'] == 'LAVORO A TEMPO INDETERMINATO']\n",
    "group_gender = gender_df.groupby(['GENERE']).count()\n",
    "\n",
    "group_gender.loc[:, 'CONTRATTO'] = 100*group_gender[\"CONTRATTO\"]/rap_lavoro_attivati.groupby(['GENERE']).count()['CONTRATTO']\n",
    "\n",
    "fig, ax = plt.subplots()\n",
    "colors = ['green', 'blue']\n",
    "ax.bar(group_gender.index, group_gender['CONTRATTO'], color=colors)\n",
    "ax.set_ylabel('Contratti tempo indeterminato')\n",
    "plt.show()\n",
    "################\n",
    "gender_df = rap_lavoro_attivati[['GENERE', \"CONTRATTO\"]]\n",
    "gender_df = gender_df[gender_df['CONTRATTO'] == 'LAVORO A TEMPO DETERMINATO']\n",
    "group_gender = gender_df.groupby(['GENERE']).count()\n",
    "group_gender.loc[:, 'CONTRATTO'] = 100*group_gender[\"CONTRATTO\"]/rap_lavoro_attivati.groupby(['GENERE']).count()['CONTRATTO']\n",
    "\n",
    "fig, ax = plt.subplots()\n",
    "colors = ['green', 'blue']\n",
    "ax.bar(group_gender.index, group_gender['CONTRATTO'], color=colors)\n",
    "ax.set_ylabel('Contratti tempo determinato')\n",
    "plt.show()\n",
    "#################\n",
    "gender_df = rap_lavoro_attivati[['GENERE', \"CONTRATTO\"]]\n",
    "gender_df = gender_df[gender_df['CONTRATTO'] == 'TIROCINIO']\n",
    "group_gender = gender_df.groupby(['GENERE']).count()\n",
    "group_gender.loc[:, 'CONTRATTO'] = 100*group_gender[\"CONTRATTO\"]/rap_lavoro_attivati.groupby(['GENERE']).count()['CONTRATTO']\n",
    "\n",
    "fig, ax = plt.subplots()\n",
    "colors = ['green', 'blue']\n",
    "ax.bar(group_gender.index, group_gender['CONTRATTO'], color=colors)\n",
    "ax.set_ylabel('Tirocinio')\n",
    "plt.show()"
   ]
  },
  {
   "cell_type": "markdown",
   "id": "05024658",
   "metadata": {},
   "source": [
    "They seem to be highly correlated. We notice that over all the started contracts, women are hired in an open-ended contract in $\\sim{10}\\%$ of the number of contracts, while men get a $\\sim14\\%$ over the total number. The same (but opposite) happens for internships, indeed women are on $\\sim 4\\%$, while men are at $\\sim 3\\%$. "
   ]
  },
  {
   "cell_type": "code",
   "execution_count": null,
   "id": "005fea46",
   "metadata": {},
   "outputs": [],
   "source": [
    "set(rap_lavoro_attivati['CONTRATTO'])"
   ]
  },
  {
   "cell_type": "markdown",
   "id": "50396697",
   "metadata": {},
   "source": [
    "### Dividing by age group\n",
    "For a better reading of the data we create a new column for the age group"
   ]
  },
  {
   "cell_type": "code",
   "execution_count": null,
   "id": "7c16e240",
   "metadata": {},
   "outputs": [],
   "source": [
    "bins = np.arange(14, 68, 3).tolist()\n",
    "bins"
   ]
  },
  {
   "cell_type": "code",
   "execution_count": null,
   "id": "53d85a65",
   "metadata": {},
   "outputs": [],
   "source": [
    "bins = np.arange(14, 68, 3).tolist()\n",
    "rap_lavoro_attivati['agerange'] = pd.cut(rap_lavoro_attivati['ETA'], bins)\n",
    "rap_lavoro_attivati"
   ]
  },
  {
   "cell_type": "code",
   "execution_count": null,
   "id": "f1de71f5",
   "metadata": {},
   "outputs": [],
   "source": [
    "rap_lavoro_attivati.dropna(axis = 0, inplace = True)"
   ]
  },
  {
   "cell_type": "code",
   "execution_count": null,
   "id": "27731091",
   "metadata": {},
   "outputs": [],
   "source": [
    "testAge = rap_lavoro_attivati.agerange.value_counts()\n",
    "\n",
    "labels = testAge.index\n",
    "newContract = np.log(testAge.values)\n",
    "\n",
    "x = np.arange(len(labels))  # the label locations\n",
    "width = 0.35  # the width of the bars\n",
    "\n",
    "fig, ax = plt.subplots()\n",
    "rects1 = ax.bar(x - width/2, newContract, width, label='New Contract')\n",
    "\n",
    "# Add some text for labels, title and custom x-axis tick labels, etc.\n",
    "ax.set_ylabel('number')\n",
    "ax.set_title('number of contract divided by age group')\n",
    "ax.set_xticks(x)\n",
    "ax.set_xticklabels(labels=labels,rotation=45,\n",
    "    horizontalalignment='right');\n",
    "ax.legend()\n",
    "\n",
    "\n",
    "\n",
    "fig.tight_layout()\n",
    "\n",
    "plt.show()"
   ]
  },
  {
   "cell_type": "code",
   "execution_count": null,
   "id": "fc6848f3",
   "metadata": {},
   "outputs": [],
   "source": []
  },
  {
   "cell_type": "markdown",
   "id": "96bcfec9",
   "metadata": {},
   "source": [
    "## Introducing another dataset\n",
    "This dataset contains the level of education for age referred to the region Lombardy from the year 2018 to 2020.The educational levels  are encoded in the following way:\n",
    "- NED = nessun titolo di studio\n",
    "- IL =  analfabeti\n",
    "- LBNA = analfabeti privi di titolo di studio\n",
    "- PSE = licenza di scuola elementare\n",
    "- LSE = licenza media o avviamento professionale (conseguito non oltre l'anno 1965)/ Diploma di istruzione secondaria di I grado\n",
    "- USE_IF = Diploma di istruzione secondaria di II grado o di qualifica professionale (corso di 3-4 anni) compresi IFTS\n",
    "- BL = Diploma tecnico superiore ITS o titolo di studio terziario di primo livello\n",
    "- ML_RDD = titolo di studio terziario di secondo livello e dottorato di ricerca\n",
    "- ML = Titolo di studio terziario di secondo livello\n",
    "- RDD = Dottorato di ricerca/diploma accademico di formazione alla ricerca\n",
    "- ALL = totale"
   ]
  },
  {
   "cell_type": "code",
   "execution_count": null,
   "id": "e329278f",
   "metadata": {
    "scrolled": true
   },
   "outputs": [],
   "source": [
    "grado_istruzione_age  = pd.read_csv(PurePath('dataset', 'Grado_istruzione_per_età_Lombardia_IT1,DF_DCSS_ISTR_LAV_PEN_2_REG.csv'),low_memory=False)\n",
    "grado_istruzione_age.head()"
   ]
  },
  {
   "cell_type": "code",
   "execution_count": null,
   "id": "85603b4f",
   "metadata": {},
   "outputs": [],
   "source": [
    "print([grado_istruzione_age.isnull().sum()])"
   ]
  },
  {
   "cell_type": "markdown",
   "id": "04619744",
   "metadata": {},
   "source": [
    "There are some columns with null values that can be deleted"
   ]
  },
  {
   "cell_type": "code",
   "execution_count": null,
   "id": "ee685ec1",
   "metadata": {},
   "outputs": [],
   "source": [
    "grado_istruzione_age = grado_istruzione_age[['REF_AREA', 'GENDER', 'AGE_NOCLASS', 'EDU_ATTAIN', 'TIME_PERIOD', 'OBS_VALUE']]"
   ]
  },
  {
   "cell_type": "code",
   "execution_count": null,
   "id": "f920616d",
   "metadata": {},
   "outputs": [],
   "source": [
    "grado_istruzione_age ['AGE_NOCLASS'].value_counts()"
   ]
  },
  {
   "cell_type": "markdown",
   "id": "ae02915b",
   "metadata": {},
   "source": [
    "Those values represent age ranges, in particular:\n",
    "- Y_GE9: all people with age greater than 9, in this case all the people in the dataset\n",
    "- Y25-49: people with an age between 25 and 49\n",
    "- Y50-64: people with an age between 50 and 64\n",
    "- Y_GE65: people with more than 65 years\n",
    "- Y9-24: people with an age between 9 and 24\n",
    "\n",
    "In the following part we will add a column with the same age range of the dataset *Grado_istruzione_per_età_Lombardia*"
   ]
  },
  {
   "cell_type": "markdown",
   "id": "d3615cb0",
   "metadata": {},
   "source": [
    "Since in the dataset `rap_lavoro_attivati` the minimum age is 16 while in `Grado_istruzione_per_età_Lombardia` is 9 we will delete all the illiterate and the people with only elementary school license with the age between 9 and 24, we have chosen to do so because the majority of the people in that age range with only elementary school license are the ones under 16 years old."
   ]
  },
  {
   "cell_type": "code",
   "execution_count": null,
   "id": "4be7ed41",
   "metadata": {},
   "outputs": [],
   "source": [
    "grado_istruzione_age = grado_istruzione_age [~((grado_istruzione_age ['EDU_ATTAIN']== 'IL')|(grado_istruzione_age ['EDU_ATTAIN']== 'LBNA')|((grado_istruzione_age ['EDU_ATTAIN']== 'PSE')&(grado_istruzione_age ['AGE_NOCLASS']== 'Y9_24')))]\n",
    "grado_istruzione_age"
   ]
  },
  {
   "cell_type": "code",
   "execution_count": null,
   "id": "78a53744",
   "metadata": {},
   "outputs": [],
   "source": [
    "print(rap_lavoro_attivati['TITOLOSTUDIO'].head())\n",
    "grado_istruzione_age['EDU_ATTAIN'].head()"
   ]
  },
  {
   "cell_type": "code",
   "execution_count": null,
   "id": "8891fa3e",
   "metadata": {
    "scrolled": true
   },
   "outputs": [],
   "source": [
    "print(series_to_set('TITOLOSTUDIO', rap_lavoro_attivati))\n",
    "print(series_to_set('EDU_ATTAIN', grado_istruzione_age))"
   ]
  },
  {
   "cell_type": "code",
   "execution_count": null,
   "id": "c32a5e9a",
   "metadata": {},
   "outputs": [],
   "source": [
    "grado_istruzione_age.loc[(grado_istruzione_age.EDU_ATTAIN.isin(['ML_RDD'])) & ~(grado_istruzione_age.AGE_NOCLASS == 'Y_GE9')]"
   ]
  },
  {
   "cell_type": "code",
   "execution_count": null,
   "id": "b1ecab84",
   "metadata": {},
   "outputs": [],
   "source": [
    "grado_istruzione_age = grado_istruzione_age[grado_istruzione_age['TIME_PERIOD'] != 2020]\n",
    "grado_istruzione_age = grado_istruzione_age[~grado_istruzione_age.EDU_ATTAIN.isin(['ALL', 'ML', 'RDD'])]\n",
    "grado_istruzione_age = grado_istruzione_age[grado_istruzione_age.AGE_NOCLASS != 'Y_GE9']\n",
    "grado_istruzione_age = grado_istruzione_age[grado_istruzione_age.GENDER != 'T']\n",
    "grado_istruzione_age.head()"
   ]
  },
  {
   "cell_type": "markdown",
   "id": "32b75dca",
   "metadata": {},
   "source": [
    "Unfortunately the educational levels of the two datasets don't match easily, but we can try to generalize a bit and to map the different values to the same set. In this way we can then unify the two datasets, or at least analyze the first dataset exploiting the second. "
   ]
  },
  {
   "cell_type": "code",
   "execution_count": null,
   "id": "71222e80",
   "metadata": {},
   "outputs": [],
   "source": [
    "edu_map = {\n",
    "    'IL': 'NESSUN TITOLO DI STUDIO',\n",
    "    'NED': 'NESSUN TITOLO DI STUDIO',\n",
    "    'LBNA': 'NESSUN TITOLO DI STUDIO',\n",
    "    'PSE': 'LICENZA ELEMENTARE',\n",
    "    'LSE': 'LICENZA MEDIA',\n",
    "    'USE_IF': 'DIPLOMA DI ISTRUZIONE SECONDARIA SUPERIORE',\n",
    "    \"TITOLO DI ISTRUZIONE SECONDARIA SUPERIORE (SCOLASTICA ED EXTRA-SCOLASTICA) CHE NON PERMETTE L'ACCESSO ALL'UNIVERSITÀ ()\": 'DIPLOMA DI ISTRUZIONE SECONDARIA SUPERIORE',\n",
    "    \"DIPLOMA DI ISTRUZIONE SECONDARIA SUPERIORE  CHE PERMETTE L'ACCESSO ALL'UNIVERSITA\": 'DIPLOMA DI ISTRUZIONE SECONDARIA SUPERIORE',\n",
    "    'BL': 'LAUREA',\n",
    "    'ML_RDD': 'TITOLO DI STUDIO TERZIARIO DI SECONDO LIVELLO O DOTTORATO',\n",
    "    'DIPLOMA TERZIARIO EXTRA-UNIVERSITARIO': 'TITOLO DI STUDIO TERZIARIO DI SECONDO LIVELLO O DOTTORATO',\n",
    "    'MASTER UNIVERSITARIO DI PRIMO LIVELLO': 'TITOLO DI STUDIO TERZIARIO DI SECONDO LIVELLO O DOTTORATO',\n",
    "    'LAUREA - Vecchio o nuovo ordinamento': 'LAUREA',\n",
    "    'DIPLOMA DI SPECIALIZZAZIONE': 'TITOLO DI STUDIO TERZIARIO DI SECONDO LIVELLO O DOTTORATO',\n",
    "    'DIPLOMA UNIVERSITARIO': 'LAUREA',\n",
    "    'TITOLO DI STUDIO POST-LAUREA': 'TITOLO DI STUDIO TERZIARIO DI SECONDO LIVELLO O DOTTORATO',\n",
    "    'TITOLO DI DOTTORE DI RICERCA': 'TITOLO DI STUDIO TERZIARIO DI SECONDO LIVELLO O DOTTORATO'\n",
    "}\n"
   ]
  },
  {
   "cell_type": "code",
   "execution_count": null,
   "id": "8a10bcd9",
   "metadata": {},
   "outputs": [],
   "source": [
    "def mapping(series, mapp): \n",
    "    series = series.apply(lambda x: mapp.get(x) if mapp.get(x) != None else x)\n",
    "    return series\n",
    "\n",
    "rap_lavoro_attivati['TITOLOSTUDIO'] = mapping(rap_lavoro_attivati['TITOLOSTUDIO'], edu_map)\n",
    "\n",
    "grado_istruzione_age['EDU_ATTAIN'] = mapping(grado_istruzione_age['EDU_ATTAIN'], edu_map)\n",
    "\n",
    "grado_istruzione_age['EDU_ATTAIN']\n"
   ]
  },
  {
   "cell_type": "code",
   "execution_count": null,
   "id": "2ebe4d16",
   "metadata": {
    "scrolled": false
   },
   "outputs": [],
   "source": [
    "city_codes = pd.read_excel(PurePath('dataset', 'Elenco-comuni-italiani.xls'))\n",
    "city_codes = city_codes[['Codice Comune formato alfanumerico', \n",
    "                        'Denominazione in italiano',\n",
    "                        'Denominazione Regione',\n",
    "                        'Provincia',\n",
    "                        'Codice NUTS3 2021',\n",
    "                        'Codice NUTS2 2021 (3) '\n",
    "                        ]]\n",
    "city_codes = city_codes[city_codes['Denominazione Regione'] == 'Lombardia']\n",
    "city_codes = city_codes.set_index('Codice Comune formato alfanumerico')\n",
    "city_codes.loc[1] = ['','','Milano','ITC45','']   #The code in the dataset does not match with the code of Milano, \n",
    "                                                  #manually added\n",
    "city_codes.head()"
   ]
  },
  {
   "cell_type": "code",
   "execution_count": null,
   "id": "09098ee6",
   "metadata": {
    "scrolled": true
   },
   "outputs": [],
   "source": [
    "def get_provincia_by_code(code):\n",
    "    try:\n",
    "        return city_codes[city_codes['Codice NUTS3 2021'] == code]['Provincia'].iloc[0]\n",
    "    except: \n",
    "        if code == 'IT108':\n",
    "            return 'MONZA E BRIANZA'\n",
    "                    "
   ]
  },
  {
   "cell_type": "code",
   "execution_count": null,
   "id": "1fca0f7d",
   "metadata": {},
   "outputs": [],
   "source": [
    "area_codes = set(city_codes['Codice NUTS3 2021'])\n",
    "area_codes.add('IT108')\n",
    "grado_istruzione_age = grado_istruzione_age[grado_istruzione_age.REF_AREA.isin(area_codes)]"
   ]
  },
  {
   "cell_type": "code",
   "execution_count": null,
   "id": "bfc82299",
   "metadata": {},
   "outputs": [],
   "source": [
    "grado_istruzione_age['REF_AREA'] = grado_istruzione_age['REF_AREA'].apply(lambda x: get_provincia_by_code(x)) \n",
    "grado_istruzione_age"
   ]
  },
  {
   "cell_type": "code",
   "execution_count": null,
   "id": "b8a92f6c",
   "metadata": {},
   "outputs": [],
   "source": [
    "titoli = set(rap_lavoro_attivati['TITOLOSTUDIO'])"
   ]
  },
  {
   "cell_type": "markdown",
   "id": "c828afc1",
   "metadata": {},
   "source": [
    "Now we will see how the education levels are distributed among the started contracts. Then we will see how they are distributed in the population."
   ]
  },
  {
   "cell_type": "code",
   "execution_count": null,
   "id": "89264421",
   "metadata": {},
   "outputs": [],
   "source": [
    "istruction_df = rap_lavoro_attivati[['DATA', 'TITOLOSTUDIO', \"CONTRATTO\"]]\n",
    "istruction_df = istruction_df[(istruction_df['TITOLOSTUDIO'].isin(titoli))]\n",
    "group_ist = istruction_df.groupby(['TITOLOSTUDIO', 'DATA']).count()\n",
    "group_ist['CONTRATTO']\n",
    "\n",
    "group_ist.unstack().plot(kind='bar', stacked=False)\n",
    "plt.legend([2018,2019])\n",
    "plt.xticks(rotation=90)\n",
    "plt.show()"
   ]
  },
  {
   "cell_type": "code",
   "execution_count": null,
   "id": "8fec592c",
   "metadata": {},
   "outputs": [],
   "source": [
    "len(rap_lavoro_attivati)"
   ]
  },
  {
   "cell_type": "code",
   "execution_count": null,
   "id": "2614c63c",
   "metadata": {},
   "outputs": [],
   "source": [
    "test = group_ist\n",
    "test['TITOLOSTUDIO'] = test.index.get_level_values(0)\n",
    "test.head()"
   ]
  },
  {
   "cell_type": "code",
   "execution_count": null,
   "id": "b95123c5",
   "metadata": {},
   "outputs": [],
   "source": [
    "test_ist = grado_istruzione_age[grado_istruzione_age['EDU_ATTAIN'].isin(titoli)]\n",
    "test['OBS_VALUE'] = test_ist.groupby(['EDU_ATTAIN', 'TIME_PERIOD']).sum()['OBS_VALUE']"
   ]
  },
  {
   "cell_type": "code",
   "execution_count": null,
   "id": "277cb505",
   "metadata": {},
   "outputs": [],
   "source": [
    "test.loc[:, 'CONTRATTO'] = test['CONTRATTO']/test['OBS_VALUE']"
   ]
  },
  {
   "cell_type": "markdown",
   "id": "5ddf003c",
   "metadata": {},
   "source": [
    "In the following plot, we will see the percentage of all the educational levels of the started contracts over the total population with the same educational level."
   ]
  },
  {
   "cell_type": "code",
   "execution_count": null,
   "id": "0c32e0b4",
   "metadata": {},
   "outputs": [],
   "source": [
    "test = test[['CONTRATTO', 'TITOLOSTUDIO']]\n",
    "test.unstack().plot(kind='bar', stacked=False)\n",
    "plt.xticks(rotation=90)\n",
    "plt.show()"
   ]
  },
  {
   "cell_type": "markdown",
   "id": "3d97636e",
   "metadata": {},
   "source": [
    "Surprisingly, people without a qualification are the most hired in comparison to their total number. We can further analyze the dataset and in particular the values about people that don't have any qualification. \n",
    "\n",
    "First, let's see which are their most frequent type of contracts."
   ]
  },
  {
   "cell_type": "code",
   "execution_count": null,
   "id": "ede00b2a",
   "metadata": {},
   "outputs": [],
   "source": [
    "df = rap_lavoro_attivati[['CONTRATTO', 'TITOLOSTUDIO']]\n",
    "df = df[df['TITOLOSTUDIO'] == 'NESSUN TITOLO DI STUDIO']\n",
    "df = df.groupby(['CONTRATTO']).count()\n",
    "df.plot(kind='bar', legend=False)\n",
    "plt.xlabel('Contratti Nessun titolo di studio')\n",
    "plt.title('Numero di persone senza titolo di studio divise per tipo di contratto')\n",
    "plt.show()"
   ]
  },
  {
   "cell_type": "code",
   "execution_count": null,
   "id": "6b2bc066",
   "metadata": {
    "scrolled": true
   },
   "outputs": [],
   "source": [
    "#delete this cell\n",
    "df"
   ]
  },
  {
   "cell_type": "markdown",
   "id": "ad7f1fe8",
   "metadata": {},
   "source": [
    "The vast majority of the contracts are fixed-term contracts, this could mean that probably many people start more than one contract per year. As a consequence it happens more often that multiple contracts belong to the same person. \n",
    "\n",
    "We can also try to understand at which age people without an educational qualification are hired compared to the others."
   ]
  },
  {
   "cell_type": "code",
   "execution_count": null,
   "id": "16893165",
   "metadata": {},
   "outputs": [],
   "source": [
    "df = rap_lavoro_attivati[['CONTRATTO', 'ETA', 'TITOLOSTUDIO']]\n",
    "df = df[df['TITOLOSTUDIO'] == 'NESSUN TITOLO DI STUDIO']\n",
    "df = df[['ETA', 'CONTRATTO']]\n",
    "df = df.groupby(['ETA']).count()\n",
    "\n",
    "df.plot(kind='bar', legend=False, stacked=False, figsize=(12,3))\n",
    "plt.ylabel('Contratti')\n",
    "plt.xlabel('Età senza titolo di studio')\n",
    "plt.show()\n",
    "###########################################################################\n",
    "df = rap_lavoro_attivati[['CONTRATTO', 'ETA', 'TITOLOSTUDIO']]\n",
    "df = df[df['TITOLOSTUDIO'] != 'NESSUN TITOLO DI STUDIO']\n",
    "df = df[['ETA', 'CONTRATTO']]\n",
    "df = df.groupby(['ETA']).count()\n",
    "\n",
    "df.plot(kind='bar', legend=False, stacked=False, figsize=(12,3))\n",
    "plt.ylabel('Contratti')\n",
    "plt.xlabel('Età con titolo di studio')\n",
    "plt.show()"
   ]
  },
  {
   "cell_type": "markdown",
   "id": "a57f452f",
   "metadata": {},
   "source": [
    "It can be noted that the plot of people *with* a qualification have a maximum at age 25, then it quickly decrease until 30 and at that point it starts decreasing more slowly. Instead, the plot of people *without* a qualification is  a lot different. It keeps really high until 43 and then it starts slowly decreasing. This means that people without schooling are hired in a much wider range, and this means a lot more people are hired.\n",
    "\n",
    "Now we can plot the number of people hired with an open-ended contract divided per age and educational qualification to stress once again the importance of this two features."
   ]
  },
  {
   "cell_type": "code",
   "execution_count": null,
   "id": "22d51fb9",
   "metadata": {},
   "outputs": [],
   "source": [
    "df = rap_lavoro_attivati[['CONTRATTO', 'ETA', 'TITOLOSTUDIO']]\n",
    "df = df[df['TITOLOSTUDIO'] == 'NESSUN TITOLO DI STUDIO']\n",
    "df = df[df['CONTRATTO'] == 'LAVORO A TEMPO INDETERMINATO'][['ETA', 'CONTRATTO']]\n",
    "df = df.groupby(['ETA']).count()\n",
    "\n",
    "df.plot(kind='bar', legend=False, stacked=False, figsize=(12,3))\n",
    "plt.ylabel('Contratti tempo indeterminato')\n",
    "plt.xlabel('Età senza titolo di studio')\n",
    "plt.show()\n",
    "###########################################################################\n",
    "df = rap_lavoro_attivati[['CONTRATTO', 'ETA', 'TITOLOSTUDIO']]\n",
    "df = df[df['TITOLOSTUDIO'] == 'LAUREA']\n",
    "df = df[df['CONTRATTO'] == 'LAVORO A TEMPO INDETERMINATO'][['ETA', 'CONTRATTO']]\n",
    "df = df.groupby(['ETA']).count()\n",
    "\n",
    "df.plot(kind='bar', legend=False, stacked=False, figsize=(12,3))\n",
    "plt.ylabel('Contratti tempo indeterminato')\n",
    "plt.xlabel('Età laureati')\n",
    "plt.show()\n",
    "###########################################################################\n",
    "df = rap_lavoro_attivati[['CONTRATTO', 'ETA', 'TITOLOSTUDIO']]\n",
    "df = df[df['TITOLOSTUDIO'] == 'DIPLOMA DI ISTRUZIONE SECONDARIA SUPERIORE']\n",
    "df = df[df['CONTRATTO'] == 'LAVORO A TEMPO INDETERMINATO'][['ETA', 'CONTRATTO']]\n",
    "df = df.groupby(['ETA']).count()\n",
    "\n",
    "df.plot(kind='bar', legend=False, stacked=False, figsize=(12,3))\n",
    "plt.ylabel('Contratti tempo indeterminato')\n",
    "plt.xlabel('Età diplomati')\n",
    "plt.show()"
   ]
  },
  {
   "cell_type": "markdown",
   "id": "67d04b01",
   "metadata": {},
   "source": [
    "In general we can say that lower is the schooling level, higher is the possibility to get an open-ended contract *after* you are 30 years old. While higher the educational qualification is, higher is the chance to obtain an open-ended contract *before* 30 years old."
   ]
  },
  {
   "cell_type": "markdown",
   "id": "c3dfd7e9",
   "metadata": {},
   "source": [
    "In the next section we'll see a graph comparing the number of contracts activated and the total population in 2018"
   ]
  },
  {
   "cell_type": "code",
   "execution_count": null,
   "id": "e93063e5",
   "metadata": {},
   "outputs": [],
   "source": [
    "import datetime as dt\n",
    "\n",
    "activate2018 = rap_lavoro_attivati[rap_lavoro_attivati['DATA'] == 2018]\n",
    "bins = [0,25, 50, 65, 200]\n",
    "labels = ['Y9-24', 'Y25-49', 'Y50-64','Y_GE65' ]\n",
    "activate2018.loc[:,'agerange'] = pd.cut(activate2018['ETA'], bins, labels = labels,include_lowest = True)\n",
    "\n",
    "\n",
    "\n",
    "istr2018 = grado_istruzione_age[(grado_istruzione_age['TIME_PERIOD']== 2018)]\n",
    "total = istr2018.groupby(['AGE_NOCLASS']).sum()\n",
    "\n",
    "\n",
    "testAge = activate2018['agerange'].value_counts()\n",
    "\n",
    "labels = testAge.index\n",
    "newContract = np.log(testAge.values)\n",
    "totalPopulation = np.log(total['OBS_VALUE'].values)\n",
    "\n",
    "x = np.arange(len(labels))  # the label locations\n",
    "width = 0.35  # the width of the bars\n",
    "\n",
    "fig, ax = plt.subplots()\n",
    "rects1 = ax.bar(x - width/2, newContract, width, label='New Contract')\n",
    "rects2 = ax.bar(x + width/2, totalPopulation, width, label='Total Population')\n",
    "\n",
    "# Add some text for labels, title and custom x-axis tick labels, etc.\n",
    "ax.set_ylabel('log number')\n",
    "ax.set_title('number by attivati vs total number')\n",
    "ax.set_xticks(x)\n",
    "ax.set_xticklabels(labels=labels,rotation=45,\n",
    "    horizontalalignment='right');\n",
    "ax.legend()\n",
    "\n",
    "\n",
    "\n",
    "fig.tight_layout()\n",
    "\n",
    "plt.show()"
   ]
  },
  {
   "cell_type": "markdown",
   "id": "85ef6d60",
   "metadata": {},
   "source": [
    "In the next plots we will see the relevance of the age (exclusively) on the type of contract.  "
   ]
  },
  {
   "cell_type": "code",
   "execution_count": null,
   "id": "c74ee0fb",
   "metadata": {},
   "outputs": [],
   "source": [
    "df = rap_lavoro_attivati[['ETA', 'CONTRATTO']]\n",
    "df = df[df['CONTRATTO'] == 'TIROCINIO']\n",
    "df = df.groupby(['ETA']).count()\n",
    "plt.figure(figsize=(12, 3))\n",
    "plt.xticks(ticks=range(15,66), rotation=90)\n",
    "plt.ylabel('Tirocinio')\n",
    "plt.bar(df.index, df[\"CONTRATTO\"], width=0.4)\n",
    "plt.show()\n",
    "###########################\n",
    "df = rap_lavoro_attivati[['ETA', 'CONTRATTO']]\n",
    "df = df[df['CONTRATTO'] == 'LAVORO A TEMPO INDETERMINATO']\n",
    "df = df.groupby(['ETA']).count()\n",
    "plt.figure(figsize=(12, 3))\n",
    "plt.xticks(ticks=range(15,66), rotation=90)\n",
    "plt.ylabel('Tempo indeterminato')\n",
    "plt.bar(df.index, df[\"CONTRATTO\"], width=0.4)\n",
    "plt.show()\n",
    "###########################\n",
    "df = rap_lavoro_attivati[['ETA', 'CONTRATTO']]\n",
    "df = df[df['CONTRATTO'] == 'LAVORO A TEMPO DETERMINATO']\n",
    "df = df.groupby(['ETA']).count()\n",
    "plt.figure(figsize=(12, 3))\n",
    "plt.xticks(ticks=range(15,66), rotation=90)\n",
    "plt.ylabel('Tempo determinato')\n",
    "plt.bar(df.index, df[\"CONTRATTO\"], width=0.4)\n",
    "plt.show()\n",
    "\n",
    "###########################\n",
    "df = rap_lavoro_attivati[['ETA', 'CONTRATTO']]\n",
    "df = df[df['CONTRATTO'] == 'LAVORO INTERMITTENTE']\n",
    "df = df.groupby(['ETA']).count()\n",
    "plt.figure(figsize=(12, 3))\n",
    "plt.xticks(ticks=range(15,66), rotation=90)\n",
    "plt.ylabel('Lavoro intermittente')\n",
    "plt.bar(df.index, df[\"CONTRATTO\"], width=0.4)\n",
    "plt.show()"
   ]
  },
  {
   "cell_type": "markdown",
   "id": "0100195b",
   "metadata": {},
   "source": [
    "As expected, better job contracts are gained around 30s. Interestingly, internship has two peaks at 19 and 24, that are the ages at which people usually finish high school and university, respectively."
   ]
  },
  {
   "cell_type": "code",
   "execution_count": null,
   "id": "cde12fe5",
   "metadata": {},
   "outputs": [],
   "source": [
    "#TODO description of condizione professionale"
   ]
  },
  {
   "cell_type": "code",
   "execution_count": null,
   "id": "ed2c28d8",
   "metadata": {},
   "outputs": [],
   "source": [
    "condizione_professionale_age = pd.read_csv(PurePath('dataset', 'Condizione professionale per età - Lombardia.csv'),low_memory=False)\n",
    "condizione_professionale_age.head()"
   ]
  },
  {
   "cell_type": "code",
   "execution_count": null,
   "id": "fa73b691",
   "metadata": {},
   "outputs": [],
   "source": [
    "condizione_professionale_age = condizione_professionale_age[['REF_AREA', 'GENDER', 'AGE_NOCLASS', 'CUR_ACT_STAT', 'TIME_PERIOD', 'OBS_VALUE']]\n",
    "condizione_professionale_age.head()"
   ]
  },
  {
   "cell_type": "code",
   "execution_count": null,
   "id": "7ece9f46",
   "metadata": {},
   "outputs": [],
   "source": [
    "condizione_professionale_age = condizione_professionale_age[condizione_professionale_age.REF_AREA.isin(area_codes)]\n",
    "\n",
    "condizione_professionale_age.loc[:, 'REF_AREA'] = condizione_professionale_age['REF_AREA'].apply(lambda x: get_provincia_by_code(x)) \n",
    "condizione_professionale_age.head()"
   ]
  },
  {
   "cell_type": "markdown",
   "id": "5a1fbde3",
   "metadata": {},
   "source": [
    "Regarding the meaning of the values in `CUR_ACT_STAT`:\n",
    "- $22$: labor force;\n",
    " - $1$ : employed;\n",
    " - $12$: unemployed;\n",
    "- $23$: non-labor force.\n",
    "\n",
    "Thus, for our analysis, we can keep the labor force only. "
   ]
  },
  {
   "cell_type": "code",
   "execution_count": null,
   "id": "3586eeb8",
   "metadata": {},
   "outputs": [],
   "source": [
    "condizione_professionale_age = condizione_professionale_age[condizione_professionale_age['CUR_ACT_STAT'] == 22]\n",
    "condizione_professionale_age.head()"
   ]
  },
  {
   "cell_type": "markdown",
   "id": "80495682",
   "metadata": {},
   "source": [
    "For now, we can consider only the overall number and not the age range."
   ]
  },
  {
   "cell_type": "code",
   "execution_count": null,
   "id": "567334c3",
   "metadata": {},
   "outputs": [],
   "source": [
    "condizione_professionale_age = condizione_professionale_age[condizione_professionale_age['AGE_NOCLASS'] == 'Y_GE15']\n",
    "condizione_professionale_age.head()"
   ]
  },
  {
   "cell_type": "code",
   "execution_count": null,
   "id": "ba843a7f",
   "metadata": {},
   "outputs": [],
   "source": [
    "df = condizione_professionale_age[['GENDER', 'TIME_PERIOD', 'OBS_VALUE']].copy()\n",
    "df = df[df['GENDER'] != 'T']\n",
    "df = df.groupby(['GENDER', 'TIME_PERIOD']).sum()\n",
    "df.unstack().plot(kind='pie', subplots=True, autopct='%1.1f%%', startangle=90)"
   ]
  },
  {
   "cell_type": "markdown",
   "id": "5869e25f",
   "metadata": {},
   "source": [
    "The same holds for the `GENDER`, we can consider the total number of people that could potentially work."
   ]
  },
  {
   "cell_type": "code",
   "execution_count": null,
   "id": "4218218f",
   "metadata": {},
   "outputs": [],
   "source": [
    "condizione_professionale_age = condizione_professionale_age[condizione_professionale_age['GENDER'] == 'T']\n",
    "condizione_professionale_age.head()"
   ]
  },
  {
   "cell_type": "markdown",
   "id": "247b2f01",
   "metadata": {},
   "source": [
    "<a id='ml_model'></a>\n",
    "# Building a machine learning model\n",
    "In this section we will see three different machine learning algorithms and decide which is the best for our goal.\n",
    "Before creating the training and test set we must encode the data before feeding it to the algorithm. To do this we will use two approach: the first approach is a simple encoding, so a number will be assigned to every distinct value of a feature; the second approach try to assign a numeric value with some meaning, when possible, to each different value of a feature."
   ]
  },
  {
   "cell_type": "code",
   "execution_count": null,
   "id": "c913ac45",
   "metadata": {},
   "outputs": [],
   "source": [
    "import matplotlib as mtl\n",
    "import matplotlib.pyplot as plt\n",
    "import matplotlib.figure as fig\n",
    "from sklearn.metrics import confusion_matrix, accuracy_score, classification_report\n",
    "from sklearn.neural_network import MLPClassifier\n",
    "from sklearn.model_selection import train_test_split\n",
    "from sklearn.metrics import accuracy_score"
   ]
  },
  {
   "cell_type": "markdown",
   "id": "b14b88e3",
   "metadata": {},
   "source": [
    "<a id='feature_encoding'></a>\n",
    "## Feature encoding"
   ]
  },
  {
   "cell_type": "markdown",
   "id": "31e206f5",
   "metadata": {},
   "source": [
    "The first step is to create a new dataset in which we will apply all the needed changes. Here we will add new columns for every encoding we perform, so in the end this dataset will contain the original value plus the encoded ones, this choice has been made to recognize the original values from their encoding."
   ]
  },
  {
   "cell_type": "code",
   "execution_count": null,
   "id": "461ec9b3",
   "metadata": {},
   "outputs": [],
   "source": [
    "model_dt= rap_lavoro_attivati[['DATA', 'GENERE', 'ETA', 'agerange', 'TITOLOSTUDIO', 'CONTRATTO', 'MODALITALAVORO','PROVINCIAIMPRESA','SETTOREECONOMICODETTAGLIO']].copy(deep=True)"
   ]
  },
  {
   "cell_type": "markdown",
   "id": "2dc4f02a",
   "metadata": {},
   "source": [
    "<a id='simp_encoding'></a>\n",
    "### Simple encoding\n",
    "In this case we simply assign a numeric value to each unique value. We convert all field to float except `CONTRATTO` that we have converted to int starting from zero. This is done to avoid using deprecated method."
   ]
  },
  {
   "cell_type": "code",
   "execution_count": null,
   "id": "3d647003",
   "metadata": {},
   "outputs": [],
   "source": [
    "model_dt['RANKGENERE'] = model_dt['GENERE'].rank(method='dense', ascending=False).astype('float')\n",
    "model_dt['RANKTITOLOSTUDIO'] = model_dt['TITOLOSTUDIO'].rank(method='dense', ascending=False).astype('float')\n",
    "model_dt['RANKMODALITALAVORO'] = model_dt['MODALITALAVORO'].rank(method='dense', ascending=False).astype('float')\n",
    "model_dt['RANKPROVINCIAIMPRESA'] = model_dt['PROVINCIAIMPRESA'].rank(method='dense', ascending=False).astype('float')\n",
    "model_dt['RANKagerange'] = model_dt['agerange'].rank(method='dense', ascending=False).astype('float')\n",
    "model_dt['RANKSETTOREECONOMICODETTAGLIO'] = model_dt['SETTOREECONOMICODETTAGLIO'].rank(method='dense', ascending=False).astype('float')\n",
    "model_dt['RANKCONTRATTO'] = model_dt['CONTRATTO'].rank(method='dense', ascending=False).astype('int')\n",
    "model_dt['RANKCONTRATTO'] = model_dt['RANKCONTRATTO'].sub(1)"
   ]
  },
  {
   "cell_type": "markdown",
   "id": "8d82ded0",
   "metadata": {},
   "source": [
    "<a id='elab_encoding'></a>\n",
    "### Elaborate encoding\n",
    " For this encoding we will assign to the field `RANKPROVINCIAIMPRESA` the number of people that live in that area and in the same year, to the field `RANKTITOLOSTUDIO` the minimum age necessary to acquire that title and to the fields `RANKSETTOREECONOMICODETTAGLIO` and `RANKMODALITALAVORO` we will substitute values with their occurences."
   ]
  },
  {
   "cell_type": "markdown",
   "id": "3f361301",
   "metadata": {},
   "source": [
    "#### Province column"
   ]
  },
  {
   "cell_type": "markdown",
   "id": "14635104",
   "metadata": {},
   "source": [
    "For obtainig the number of people we will use the dataset `Grado_istruzione_per_età_Lombardia`, from which we will extrapolate the population for every Lombardy province, create a map and apply it to `model_dt`."
   ]
  },
  {
   "cell_type": "code",
   "execution_count": null,
   "id": "5a751759",
   "metadata": {},
   "outputs": [],
   "source": [
    "model_dt.index = range(0,len(model_dt))\n",
    "grado_istruzione_age.loc[:, 'REF_AREA'] = grado_istruzione_age['REF_AREA'].str.upper() \n",
    "to_zip = grado_istruzione_age[['REF_AREA', 'TIME_PERIOD', 'OBS_VALUE']].groupby(['REF_AREA', 'TIME_PERIOD']).sum().copy()\n",
    "province_map = to_zip.to_dict().get('OBS_VALUE')\n",
    "model_dt['MyENPROVINCIAIMPRESA'] = pd.Series(model_dt[['PROVINCIAIMPRESA','DATA']].itertuples(index=False, name=None)).map(province_map)"
   ]
  },
  {
   "cell_type": "code",
   "execution_count": null,
   "id": "adc2101e",
   "metadata": {},
   "outputs": [],
   "source": [
    "model_dt"
   ]
  },
  {
   "cell_type": "markdown",
   "id": "e49a71e7",
   "metadata": {},
   "source": [
    "#### Study title column\n",
    "Here we manually create a dictionary that assigns to a study title its minimum age, then we apply it to the dataset"
   ]
  },
  {
   "cell_type": "code",
   "execution_count": null,
   "id": "5fc0b804",
   "metadata": {},
   "outputs": [],
   "source": [
    "rank_edu_map = {\n",
    "    'NESSUN TITOLO DI STUDIO':0,\n",
    "    'LICENZA ELEMENTARE':11,\n",
    "    'LICENZA MEDIA':14,\n",
    "    'DIPLOMA DI ISTRUZIONE SECONDARIA SUPERIORE':19,\n",
    "    'LAUREA':22,\n",
    "    'TITOLO DI STUDIO TERZIARIO DI SECONDO LIVELLO O DOTTORATO':24    \n",
    "}\n"
   ]
  },
  {
   "cell_type": "code",
   "execution_count": null,
   "id": "54e62953",
   "metadata": {},
   "outputs": [],
   "source": [
    "model_dt['MyENTITOLOSTUDIO'] = mapping(model_dt['TITOLOSTUDIO'], rank_edu_map)"
   ]
  },
  {
   "cell_type": "markdown",
   "id": "43c274fc",
   "metadata": {},
   "source": [
    "####  Economic sector and work modality columns\n",
    "For these two columns we simply count the ocurrences and substitute them with the correct value"
   ]
  },
  {
   "cell_type": "code",
   "execution_count": null,
   "id": "bc7dea4f",
   "metadata": {},
   "outputs": [],
   "source": [
    "model_dt['MyENMODALITALAVORO'] = mapping(model_dt['MODALITALAVORO'], dict(model_dt['MODALITALAVORO'].value_counts()))\n",
    "model_dt['MyENSETTOREECONOMICODETTAGLIO'] =  mapping(model_dt['SETTOREECONOMICODETTAGLIO'], dict(model_dt['SETTOREECONOMICODETTAGLIO'].value_counts()))"
   ]
  },
  {
   "cell_type": "markdown",
   "id": "48e003e7",
   "metadata": {},
   "source": [
    "The remaining columns will use the previous encoding because age group and gender do not need to preserve information."
   ]
  },
  {
   "cell_type": "markdown",
   "id": "4097f87c",
   "metadata": {},
   "source": [
    "<a id='models_trainig'></a>\n",
    "# Training the models\n",
    "In this section we divide our data into training and testing data through the specific function and take a first look at the model performances.This work will be repeated for the two different encoding."
   ]
  },
  {
   "cell_type": "code",
   "execution_count": null,
   "id": "85edaf09",
   "metadata": {},
   "outputs": [],
   "source": [
    "X = model_dt[['RANKGENERE', 'RANKTITOLOSTUDIO', 'ETA', 'RANKPROVINCIAIMPRESA','RANKSETTOREECONOMICODETTAGLIO', 'RANKMODALITALAVORO']]\n",
    "y = model_dt['RANKCONTRATTO']\n",
    "X_train, X_test, y_train, y_test = train_test_split(X, y, random_state=100)"
   ]
  },
  {
   "cell_type": "markdown",
   "id": "da99f5b3",
   "metadata": {},
   "source": [
    "## Simple encoding"
   ]
  },
  {
   "cell_type": "markdown",
   "id": "f5d8fea6",
   "metadata": {},
   "source": [
    "### Multi layer perceptron"
   ]
  },
  {
   "cell_type": "code",
   "execution_count": null,
   "id": "b58f7112",
   "metadata": {},
   "outputs": [],
   "source": [
    "mlpSimpModel = MLPClassifier(random_state=1, max_iter=20, hidden_layer_sizes=(24,24), early_stopping = True)\n",
    "mlpSimpModel = mlpSimpModel.fit(X_train, y_train)\n",
    "\n",
    "#prediction and probability\n",
    "mlpSimpPred = mlpSimpModel.predict(X_test)\n",
    "mlp_proba = mlpSimpModel.predict_proba(X_test)\n",
    "\n",
    "#Report metrix\n",
    "simpReportMLP = classification_report(y_test, mlpSimpPred,output_dict= True, zero_division=0)\n",
    "accMlp = accuracy_score(y_test, mlpSimpPred)\n",
    "print('Accuracy:')\n",
    "print(accMlp)"
   ]
  },
  {
   "cell_type": "markdown",
   "id": "48ffa21a",
   "metadata": {},
   "source": [
    "### Random forest"
   ]
  },
  {
   "cell_type": "code",
   "execution_count": null,
   "id": "c419fa8b",
   "metadata": {},
   "outputs": [],
   "source": [
    "from sklearn.ensemble import RandomForestClassifier\n",
    "\n",
    "simpForest = RandomForestClassifier(n_estimators=24, max_depth=6, random_state=0,max_features = None,n_jobs = -1)\n",
    "simpForest.fit(X_train, y_train)\n",
    "    \n",
    "forestSimpPred = simpForest.predict(X_test)\n",
    "reportSimpForest = classification_report(y_test, forestSimpPred,output_dict= True, zero_division=0)\n",
    "\n",
    "score = simpForest.score(X_test, y_test)\n",
    "\n",
    "print('Accuracy:')\n",
    "print(score)"
   ]
  },
  {
   "cell_type": "markdown",
   "id": "f7b3d3e4",
   "metadata": {},
   "source": [
    "### XGboost"
   ]
  },
  {
   "cell_type": "code",
   "execution_count": null,
   "id": "173a0d64",
   "metadata": {},
   "outputs": [],
   "source": [
    "# import warnings filter\n",
    "from warnings import simplefilter\n",
    "# ignore all future warnings\n",
    "simplefilter(action='ignore', category=FutureWarning)\n",
    "\n",
    "import xgboost as xgb\n",
    "\n",
    "xgSimp = xgb.XGBClassifier(learning_rate = 0.3,\n",
    "                max_depth =4, alpha = 2, n_estimators = 35, eval_metric='mlogloss',use_label_encoder=False)\n",
    "#Fit the model\n",
    "xgSimp.fit(X_train,y_train)\n",
    "#xg_reg.save_model(\"categorical-model.json\")\n",
    "\n",
    "#Make predictions\n",
    "xgSimpPred = xgSimp.predict(X_test)\n",
    "xgSimpReport = classification_report(y_test, xgSimpPred,output_dict= True)"
   ]
  },
  {
   "cell_type": "code",
   "execution_count": null,
   "id": "29fe7737",
   "metadata": {},
   "outputs": [],
   "source": [
    "accuracy_score(y_test, xgSimpPred)"
   ]
  },
  {
   "cell_type": "markdown",
   "id": "b80ab546",
   "metadata": {},
   "source": [
    "## Elaborate encoding"
   ]
  },
  {
   "cell_type": "code",
   "execution_count": null,
   "id": "18fbc027",
   "metadata": {},
   "outputs": [],
   "source": [
    "X = model_dt[['RANKGENERE', 'MyENTITOLOSTUDIO', 'ETA', 'MyENPROVINCIAIMPRESA','MyENSETTOREECONOMICODETTAGLIO', 'MyENMODALITALAVORO']]\n",
    "y = model_dt['RANKCONTRATTO']\n",
    "X_train, X_test, y_train, y_test = train_test_split(X, y, random_state=100)"
   ]
  },
  {
   "cell_type": "markdown",
   "id": "d394bdff",
   "metadata": {},
   "source": [
    "### Multi Layer Perceptron"
   ]
  },
  {
   "cell_type": "code",
   "execution_count": null,
   "id": "6934bdc1",
   "metadata": {},
   "outputs": [],
   "source": [
    "mlpModel = MLPClassifier(random_state=1, max_iter=20, hidden_layer_sizes=(24,24), early_stopping = True)\n",
    "mlpModel = mlpModel.fit(X_train, y_train)\n",
    "\n",
    "#prediction and probability\n",
    "mlp_pred = mlpModel.predict(X_test)\n",
    "mlp_proba = mlpModel.predict_proba(X_test)\n",
    "\n",
    "#Report metrix\n",
    "reportMLP = classification_report(y_test, mlp_pred,output_dict= True, zero_division=0)\n",
    "accMlp = accuracy_score(y_test, mlp_pred)\n",
    "print('Accuracy:')\n",
    "print(accMlp)"
   ]
  },
  {
   "cell_type": "markdown",
   "id": "2bf38f8d",
   "metadata": {},
   "source": [
    "### Random Forest\n"
   ]
  },
  {
   "cell_type": "code",
   "execution_count": null,
   "id": "dd8687cc",
   "metadata": {},
   "outputs": [],
   "source": [
    "from sklearn.ensemble import RandomForestClassifier\n",
    "\n",
    "model = RandomForestClassifier(n_estimators=15, max_depth=5, random_state=0,max_features = None,n_jobs = -1)\n",
    "model.fit(X_train, y_train)\n",
    "\n",
    "forestPred = model.predict(X_test)\n",
    "reportForest = classification_report(y_test, forestPred,output_dict= True, zero_division=0)\n",
    "score = model.score(X_test, y_test)"
   ]
  },
  {
   "cell_type": "code",
   "execution_count": null,
   "id": "beecb618",
   "metadata": {},
   "outputs": [],
   "source": [
    "print('Accuracy:')\n",
    "print(score)"
   ]
  },
  {
   "cell_type": "markdown",
   "id": "4ebd0355",
   "metadata": {},
   "source": [
    "### XGboost"
   ]
  },
  {
   "cell_type": "code",
   "execution_count": null,
   "id": "6995b7dd",
   "metadata": {},
   "outputs": [],
   "source": [
    "import xgboost as xgb\n",
    "xg_class = xgb.XGBClassifier(learning_rate = 0.3,\n",
    "                max_depth =4, alpha = 2, n_estimators = 35, eval_metric='mlogloss',use_label_encoder =False)\n",
    "#Fit the model\n",
    "xg_class.fit(X_train,y_train)\n",
    "#xg_reg.save_model(\"categorical-model.json\")\n",
    "\n",
    "#Make predictions\n",
    "preds = xg_class.predict(X_test)\n",
    "\n",
    "xbreport = classification_report(y_test, preds,output_dict= True)"
   ]
  },
  {
   "cell_type": "code",
   "execution_count": null,
   "id": "f5c50ecd",
   "metadata": {},
   "outputs": [],
   "source": [
    "print('Accuracy:')\n",
    "print(accuracy_score(y_test, preds))"
   ]
  },
  {
   "cell_type": "markdown",
   "id": "5b000d6d",
   "metadata": {},
   "source": [
    "<a id='model_evaluation'></a>\n",
    "## Model Evaluation"
   ]
  },
  {
   "cell_type": "markdown",
   "id": "c5309b84",
   "metadata": {},
   "source": [
    "### Accuracy Comparison\n",
    "A first measure for evaluate machine learning models is the accuracy, that is the number of correct predictions divided by the number of predictions made. "
   ]
  },
  {
   "cell_type": "code",
   "execution_count": null,
   "id": "7cce286e",
   "metadata": {},
   "outputs": [],
   "source": [
    "modelsAccuracy =[simpReportMLP['accuracy'],\n",
    "reportSimpForest['accuracy'],\n",
    "xgSimpReport['accuracy'],\n",
    "reportMLP['accuracy'],\n",
    "reportForest['accuracy'],\n",
    "xbreport['accuracy']]\n",
    "\n",
    "modelName = ['simple MLP', 'simple Forest', 'simple xgboost', 'mlp', 'Forest', 'xgboost']\n",
    "\n",
    "\n",
    "x = np.arange(len(modelName))\n",
    "width = 0.35\n",
    "\n",
    "accuracyGraph, axis = plt.subplots()\n",
    "accuracyGraph.dpi = 100\n",
    "accuracyGraph.set_figheight(8)\n",
    "bars = axis.bar(x - width/2, modelsAccuracy, width)\n",
    "\n",
    "axis.bar_label(bars, padding=3)\n",
    "\n",
    "#Precison red an white wine graph\n",
    "axis.bar(modelName,modelsAccuracy, label ='Accuracy', color= 'cornflowerblue')\n",
    "axis.legend(loc = 'upper left')\n",
    "axis.set_title(\"Accuracy Comparison\")\n",
    "axis.set_xticks(x)\n",
    "axis.set_xticklabels(labels=modelName,rotation=45,horizontalalignment='right');\n",
    "axis.set( ylabel='Accuracy')\n",
    "axis.get_legend().remove()\n",
    "\n",
    "plt.show()"
   ]
  },
  {
   "cell_type": "markdown",
   "id": "8bb0cc80",
   "metadata": {},
   "source": [
    "As it is possible to see from the graph the accuracy is almost the same with the exception of the multi layer perceptron with the custom encoding. This could be due to the fact that for these type of models is easier to work with small data or the other encoding create false relations, assigning the same value for different features."
   ]
  },
  {
   "cell_type": "markdown",
   "id": "28d985f5",
   "metadata": {},
   "source": [
    "### Precision Comparison\n",
    "Because the accuracy alone is not enough to evaluate a model, we now see the precision that is the correctly classified samples divided by the sum of true and false positive. Considering these two metrics together is possible to analyze better the performace of the different models."
   ]
  },
  {
   "cell_type": "code",
   "execution_count": null,
   "id": "81063220",
   "metadata": {},
   "outputs": [],
   "source": [
    "modelsPrecision =[simpReportMLP['macro avg']['precision'],\n",
    "reportSimpForest['macro avg']['precision'],\n",
    "xgSimpReport['macro avg']['precision'],\n",
    "reportMLP['macro avg']['precision'],\n",
    "reportForest['macro avg']['precision'],\n",
    "xbreport['macro avg']['precision']]\n",
    "\n",
    "x = np.arange(len(modelName))\n",
    "width = 0.35\n",
    "\n",
    "precisonGraph, axis = plt.subplots()\n",
    "precisonGraph.dpi = 100\n",
    "precisonGraph.set_figheight(8)\n",
    "rects1 = axis.bar(x - width/2, modelsPrecision, width)\n",
    "\n",
    "axis.bar_label(rects1, padding=3)\n",
    "\n",
    "#Precison red an white wine graph\n",
    "axis.bar(modelName,modelsPrecision, label='Precison')\n",
    "axis.legend(loc = 'upper left')\n",
    "axis.get_legend().remove()\n",
    "axis.set_title(\"Precison Comparison\")\n",
    "axis.set_xticks(x)\n",
    "axis.set_xticklabels(labels=modelName,rotation=45,horizontalalignment='right');\n",
    "axis.set( ylabel='Precision')\n",
    "plt.show()"
   ]
  },
  {
   "cell_type": "markdown",
   "id": "31736827",
   "metadata": {},
   "source": [
    "From this comparison is clear that XGboost has the best performance and that there are some problems with the multi layer perceptron with custom encoding, while the models that use random forest have similar performance.\n",
    "As previously said there is the possibility that the low variance of value in the simple encoding cause the multi layer perceptron to make wrong assumption on the relation between feature bringing to better result when compared to the model that uses our encoding.\n",
    "\n",
    "Because the difference between the two models that uses XGboost is minimal, for bulding an example of application we will use the one with the custom encoding."
   ]
  },
  {
   "cell_type": "markdown",
   "id": "fd05c998",
   "metadata": {},
   "source": [
    "<a id='model_usage'></a>\n",
    "## Possible application\n",
    "In the following part is shown how the trained model can be used to predict a type of contract when given all the necessary information.\n",
    "Here we feed the data directly in the code, but in more realistic scenario the model could be implemented in the backend of a website and a user from the front end could choose the parameter through, for example, a drop down list; doing so would simplify the choice for the user and prevent spelling error."
   ]
  },
  {
   "cell_type": "code",
   "execution_count": null,
   "id": "f96004e2",
   "metadata": {},
   "outputs": [],
   "source": [
    "contrattoMap=dict(zip(model_dt.RANKCONTRATTO, model_dt.CONTRATTO))\n",
    "modlavoroMap=dict(zip(model_dt.MODALITALAVORO, model_dt.MyENMODALITALAVORO))\n",
    "settoreEcoMap=dict(zip(model_dt.SETTOREECONOMICODETTAGLIO, model_dt.MyENSETTOREECONOMICODETTAGLIO))\n",
    "provinciaMap=dict(zip(model_dt.PROVINCIAIMPRESA, model_dt.MyENPROVINCIAIMPRESA))\n",
    "agerangeMap=dict(zip(model_dt.agerange, model_dt.RANKagerange))\n",
    "titoloStudioMap=dict(zip(model_dt.TITOLOSTUDIO, model_dt.MyENTITOLOSTUDIO))\n",
    "genereMap=dict(zip(model_dt.GENERE, model_dt.RANKGENERE))"
   ]
  },
  {
   "cell_type": "code",
   "execution_count": null,
   "id": "259ee61b",
   "metadata": {},
   "outputs": [],
   "source": [
    "def findContract(genere, studyTitle,age,provincia,settoreEco,modLavoro):\n",
    "    myJob = { \n",
    "    'RANKGENERE': [genereMap[genere]],\n",
    "    'MyENTITOLOSTUDIO': [titoloStudioMap[studyTitle]],\n",
    "    'ETA':[age],\n",
    "    'MyENPROVINCIAIMPRESA':[provinciaMap[provincia]],\n",
    "    'MyENSETTOREECONOMICODETTAGLIO':[settoreEcoMap[settoreEco]],\n",
    "    'MyENMODALITALAVORO':[modlavoroMap[modLavoro]]};\n",
    "    contract = contrattoMap[xg_class.predict(pd.DataFrame(myJob))[0]]\n",
    "    return contract"
   ]
  },
  {
   "cell_type": "markdown",
   "id": "b04644c5",
   "metadata": {},
   "source": [
    "### Testing the method"
   ]
  },
  {
   "cell_type": "code",
   "execution_count": null,
   "id": "8c9673e7",
   "metadata": {},
   "outputs": [],
   "source": [
    "findContract('M','DIPLOMA DI ISTRUZIONE SECONDARIA SUPERIORE', 18, 'BERGAMO', 'I', 'TEMPO PIENO')"
   ]
  },
  {
   "cell_type": "markdown",
   "id": "c1a9b46e",
   "metadata": {},
   "source": [
    "# Conclusion\n",
    "In this project we have seen how data is imported analyzed and cleaned. Then we created a question based on the data that we had, and tried to answer that question building a machine learning model.\n",
    "\n",
    "Because of the categorical nature of the data used, we needed to encode it before feeding it to the machine learning algorithm. So we implemented two different encodings to see if a simple encoding will perform better than a custom encoding in which we tried to give meaningful value to the features.\n",
    "\n",
    "After training, testing and evaluating different algorithms we have discovered that the simple encoding performs better than the custom one in most cases but is possible that create false connections between features.\n",
    "\n",
    "At last, we implemented an example of application that use the model trained for answering the question."
   ]
  }
 ],
 "metadata": {
  "kernelspec": {
   "display_name": "Python 3 (ipykernel)",
   "language": "python",
   "name": "python3"
  },
  "language_info": {
   "codemirror_mode": {
    "name": "ipython",
    "version": 3
   },
   "file_extension": ".py",
   "mimetype": "text/x-python",
   "name": "python",
   "nbconvert_exporter": "python",
   "pygments_lexer": "ipython3",
   "version": "3.8.10"
  }
 },
 "nbformat": 4,
 "nbformat_minor": 5
}
