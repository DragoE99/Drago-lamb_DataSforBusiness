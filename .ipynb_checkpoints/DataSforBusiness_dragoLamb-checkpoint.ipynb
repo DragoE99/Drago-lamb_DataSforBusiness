{
 "cells": [
  {
   "cell_type": "markdown",
   "id": "da7b2d39",
   "metadata": {},
   "source": [
    "# Data science for business project\n",
<<<<<<< HEAD
    "This project is made by \n",
=======
    "This project is developed by \n",
>>>>>>> achille
    "- Drago Emanuele\n",
    "- Lambrughi Achille"
   ]
  },
  {
   "cell_type": "markdown",
   "id": "11829e63",
   "metadata": {},
   "source": [
    "# Index\n",
    "\n",
    "\n",
<<<<<<< HEAD
    "The dataset considered are available at the following link:\n",
    "- https://www.dati.lombardia.it/Attivit-Produttive/Rapporti-di-lavoro-attivati/qbau-cyuc\n"
=======
    "- [Introduction](#Introduction)<a href='#Introduction'></a><br>\n",
    "- [Resources](#res)<a href='res'></a><br>\n",
    "- [Configuration](#config)<a href='config'></a><br>\n",
    "- [Library](#lib)<a href='lib'></a><br>\n",
    "- [Function defined](#my_fun)<a href='my_fun'></a><br>\n",
    "\n",
    "[**Dataset analysis**](#cap1)<a href='cap1'></a><br>\n",
    "- [Dataset Import](#dt_import)<a href='dt_import'></a><br>\n",
    "- [Outlier detection](#dec_outlier)<a href='dec_outlier'></a><br>\n",
    "    - [DATA column](#data_cl)<a href='data_cl'></a><br>\n",
    "    - [SETTOREECONOMICODETTAGLIO column](#set_ec_cl)<a href='linear_regression'></a><br>\n",
    "    - [MODALITALAVORO column](#mod_work_cl)<a href='mod_work_cl'></a><br>\n",
    "    \n",
    "[**Building machine learning models**](#ml_model)<a href='ml_model'></a><br>\n",
    "- [Feature encoding](#feature_encoding)<a href='feature_encoding'></a><br>\n",
    "    - [Direct Encoding](#simp_encoding)<a href='simp_encoding'></a><br>\n",
    "    - [Our Encoding](#elab_encoding)<a href='elab_encoding'></a><br>\n",
    "- [Models Traning](#models_trainig)<a href='models_trainig'></a><br>\n"
   ]
  },
  {
   "cell_type": "markdown",
   "id": "477bab42",
   "metadata": {},
   "source": [
    "<a id='Introduction'></a>\n",
    "## Introduction\n",
    "The aim of this project is to illustrates various fases of a data science project. In the first fase we will import and analyze a dataset, then based on the analysis result we clean up the data removing outlier and null value.\n",
    "Once the data is ready we will build a machine learning model able to respond to some question regarding the data."
   ]
  },
  {
   "cell_type": "markdown",
   "id": "6859c94f",
   "metadata": {},
   "source": [
    "<a id='res'></a>\n",
    "## Resources\n",
    "The datasets considered are available at the following link:\n",
    "- https://www.dati.lombardia.it/Attivit-Produttive/Rapporti-di-lavoro-attivati/qbau-cyuc\n",
    "- https://esploradati.censimentopopolazione.istat.it/databrowser/#/it/censtest/ITC4\n",
    "\n",
    "other resources:\n",
    "https://www.google.it/url?sa=t&rct=j&q=&esrc=s&source=web&cd=&ved=2ahUKEwiamPWll5T4AhUSG-wKHYxBBooQFnoECAcQAQ&url=https%3A%2F%2Fwww.istat.it%2Fstorage%2Fcodici-unita-amministrative%2FElenco-comuni-italiani.xls&usg=AOvVaw1grUzCb-YznlY1XTyzCUJE\n",
    "\n",
    "in this file the column *Denominazione dell'Unità territoriale sovracomunale \n",
    "(valida a fini statistici)* has been renamed in *Provincia*\n",
    "\n"
   ]
  },
  {
   "cell_type": "markdown",
   "id": "37a8f5e4",
   "metadata": {},
   "source": [
    "# Objective\n",
    "Since the main dataset we have chosen it's a feature rich dataset representing all the new started working contracts, our goal is to predict the type of contract a person could be most probably hired"
   ]
  },
  {
   "cell_type": "markdown",
   "id": "e9cfe044",
   "metadata": {},
   "source": [
    "<a id='config'></a>\n",
    "### Configuration\n",
    "For this project will be used the module xgboost so for a correct compiling of the code is necessary to install it."
   ]
  },
  {
   "cell_type": "markdown",
   "id": "e00eab7d",
   "metadata": {},
   "source": [
    "<a id='lib'></a>\n",
    "### Library used\n",
    "The following cell contain the main library used for the project, some library are imported right after used"
>>>>>>> achille
   ]
  },
  {
   "cell_type": "code",
   "execution_count": null,
   "id": "6c90a1fd",
   "metadata": {},
   "outputs": [],
   "source": [
    "import numpy as np\n",
    "import pandas as pd\n",
    "import matplotlib as mpl, matplotlib.pyplot as plt\n",
    "from pathlib import PurePath\n",
<<<<<<< HEAD
    "from datetime import datetime, timedelta"
=======
    "from datetime import datetime, timedelta\n",
    "import seaborn as sns\n",
    "mpl.rcParams['figure.dpi'] = 150"
>>>>>>> achille
   ]
  },
  {
   "cell_type": "markdown",
   "id": "26bcf874",
   "metadata": {},
<<<<<<< HEAD
   "outputs": [
    {
     "name": "stdout",
     "output_type": "stream",
     "text": [
      "<class 'pandas.core.frame.DataFrame'>\n",
      "RangeIndex: 9579794 entries, 0 to 9579793\n",
      "Data columns (total 9 columns):\n",
      " #   Column                     Dtype         \n",
      "---  ------                     -----         \n",
      " 0   DATA                       datetime64[ns]\n",
      " 1   GENERE                     object        \n",
      " 2   ETA                        int64         \n",
      " 3   SETTOREECONOMICODETTAGLIO  object        \n",
      " 4   TITOLOSTUDIO               object        \n",
      " 5   CONTRATTO                  object        \n",
      " 6   MODALITALAVORO             object        \n",
      " 7   PROVINCIAIMPRESA           object        \n",
      " 8   ITALIANO                   object        \n",
      "dtypes: datetime64[ns](1), int64(1), object(7)\n",
      "memory usage: 657.8+ MB\n",
      "[None]\n"
     ]
    }
   ],
   "source": [
    "rap_lavoro_attivati = pd.read_csv(PurePath('dataset', 'Rapporti_di_lavoro_attivati.csv'),parse_dates=['DATA'])\n",
    "print([rap_lavoro_attivati.info()])"
=======
   "source": [
    "<a id='my_fun'></a>\n",
    "### Defining some function\n",
    "Before proceding with the dataset we define the following function:\n",
    "- `series_to_set`: this function take as input a column and a dataframe and returs a set containing the column value\n",
    "- `mapping`: this function takes as input a series and a mapping dictionary,returns the series mapped to the dictionary"
>>>>>>> achille
   ]
  },
  {
   "cell_type": "code",
<<<<<<< HEAD
   "execution_count": 3,
   "id": "8427bb8b",
   "metadata": {},
   "outputs": [
    {
     "data": {
      "text/plain": [
       "{'NON DEFINITO',\n",
       " 'TEMPO PARZIALE MISTO',\n",
       " 'TEMPO PARZIALE ORIZZONTALE',\n",
       " 'TEMPO PARZIALE VERTICALE',\n",
       " 'TEMPO PIENO',\n",
       " nan}"
      ]
     },
     "execution_count": 3,
     "metadata": {},
     "output_type": "execute_result"
    }
   ],
=======
   "execution_count": null,
   "id": "54a7a9a6",
   "metadata": {},
   "outputs": [],
>>>>>>> achille
   "source": [
    "def series_to_set(column, source_df):\n",
    "    SET = set()\n",
    "    for elem in source_df[column]:\n",
    "        SET.add(elem)\n",
    "    return SET\n",
    "\n",
    "def mapping(series, mapp): \n",
    "    series = series.apply(lambda x: mapp.get(x) if mapp.get(x) != None else x)\n",
    "    return series"
   ]
  },
  {
   "cell_type": "markdown",
   "id": "d6d65ae3",
   "metadata": {},
   "source": [
    "<a id='cap1'></a>\n",
    "# Dataset analysis\n",
    "In this section will be analyzed the content of the dataset. The choosen dataset contains the new work contract activated in Lombardy. The dataset contains the following column:\n",
    "- DATA: date of the contract\n",
    "- GENERE: sex of the person\n",
    "- ETA: age of the person\n",
    "- SETTOREECONOMICODETTAGLIO: category of work\n",
    "- TITOLOSTUDIO: level of education of the person\n",
    "- CONTRATTO: type of contract\n",
    "- MODALITALAVORO: work mode\n",
    "- PROVINCIAIMPRESA: province of the place of work\n",
    "- ITALIANO: nationality of the person\n"
   ]
  },
  {
   "cell_type": "markdown",
   "id": "95a101a3",
   "metadata": {},
   "source": [
    "<a id='dt_import'></a>\n",
    "### Dataset import\n",
    " Here we import the dataset, parse the field `DATA` to datetime and take a first look at the column and their type."
   ]
  },
  {
   "cell_type": "code",
   "execution_count": null,
   "id": "5bf6a9a4",
   "metadata": {
    "scrolled": true
   },
   "outputs": [],
   "source": [
    "source_df = pd.read_csv(PurePath('dataset', 'Rapporti_di_lavoro_attivati.csv'),parse_dates=['DATA'])"
   ]
  },
  {
   "cell_type": "code",
   "execution_count": null,
   "id": "1c751ead",
   "metadata": {},
   "outputs": [],
   "source": [
    "rap_lavoro_attivati = source_df.copy()"
   ]
  },
  {
   "cell_type": "code",
   "execution_count": null,
   "id": "791c90f0",
   "metadata": {},
   "outputs": [],
   "source": [
    "print([rap_lavoro_attivati.info()])\n",
    "rap_lavoro_attivati.head(10)"
   ]
  },
  {
   "cell_type": "markdown",
   "id": "ad777886",
   "metadata": {},
   "source": [
    "### Changing data type\n",
    "As we can see almost all columns of the dataset have type object and contains strings, this  means that the machine learning model will be fed with catagorical data or a numerical rapresentation of it. Before proceding with the analysis we change the type from object to string.\n",
    "\n",
    "Since categorical data are difficult to use for training a machine learning model, we already know that those value should be replaced with numerical values. So, during the analysis we will try to understand which values are more suitable for this task."
   ]
  },
  {
   "cell_type": "code",
<<<<<<< HEAD
   "execution_count": 4,
=======
   "execution_count": null,
>>>>>>> achille
   "id": "35689fda",
   "metadata": {},
   "outputs": [],
   "source": [
    "rap_lavoro_attivati[['GENERE','SETTOREECONOMICODETTAGLIO','TITOLOSTUDIO','CONTRATTO', 'MODALITALAVORO','PROVINCIAIMPRESA','ITALIANO']]=rap_lavoro_attivati[['GENERE','SETTOREECONOMICODETTAGLIO','TITOLOSTUDIO','CONTRATTO', 'MODALITALAVORO','PROVINCIAIMPRESA','ITALIANO']].astype('string')"
<<<<<<< HEAD
   ]
  },
  {
   "cell_type": "markdown",
   "id": "b274a6e8",
   "metadata": {},
   "source": [
    "as is possible to see now all the column have a specific data type"
   ]
  },
  {
   "cell_type": "code",
   "execution_count": 5,
   "id": "5a2881a0",
   "metadata": {},
   "outputs": [
    {
     "name": "stdout",
     "output_type": "stream",
     "text": [
      "<class 'pandas.core.frame.DataFrame'>\n",
      "RangeIndex: 9579794 entries, 0 to 9579793\n",
      "Data columns (total 9 columns):\n",
      " #   Column                     Dtype         \n",
      "---  ------                     -----         \n",
      " 0   DATA                       datetime64[ns]\n",
      " 1   GENERE                     string        \n",
      " 2   ETA                        int64         \n",
      " 3   SETTOREECONOMICODETTAGLIO  string        \n",
      " 4   TITOLOSTUDIO               string        \n",
      " 5   CONTRATTO                  string        \n",
      " 6   MODALITALAVORO             string        \n",
      " 7   PROVINCIAIMPRESA           string        \n",
      " 8   ITALIANO                   string        \n",
      "dtypes: datetime64[ns](1), int64(1), string(7)\n",
      "memory usage: 657.8 MB\n"
     ]
    }
   ],
   "source": [
    "rap_lavoro_attivati.info()"
=======
>>>>>>> achille
   ]
  },
  {
   "cell_type": "markdown",
   "id": "92c18e84",
   "metadata": {},
   "source": [
    "### Searching wrong and null data\n",
    "Now we will look inside the data checking null or possibly wrong value, after those data will be corrected or deleted.\n",
    "First off we will find out how many null value there are in each column"
   ]
  },
  {
   "cell_type": "code",
<<<<<<< HEAD
   "execution_count": 6,
   "id": "a121c0a9",
   "metadata": {},
   "outputs": [
    {
     "name": "stdout",
     "output_type": "stream",
     "text": [
      "[DATA                              0\n",
      "GENERE                            0\n",
      "ETA                               0\n",
      "SETTOREECONOMICODETTAGLIO      2888\n",
      "TITOLOSTUDIO                    580\n",
      "CONTRATTO                         0\n",
      "MODALITALAVORO               440779\n",
      "PROVINCIAIMPRESA                  0\n",
      "ITALIANO                          0\n",
      "dtype: int64]\n"
     ]
    }
   ],
=======
   "execution_count": null,
   "id": "a121c0a9",
   "metadata": {},
   "outputs": [],
>>>>>>> achille
   "source": [
    "print([rap_lavoro_attivati.isnull().sum()])"
   ]
  },
  {
   "cell_type": "markdown",
   "id": "a83ebd6a",
   "metadata": {},
   "source": [
    "From this first look is possible to see that a big part of value is missing from the column `MODALITALAVORO` of the dataset `Rapporti_di_lavoro_attivati` these value needs to be replaced while the other could be simply deleted because they represent a small part of the dataset.\n",
    "\n",
    "But before proceding now will be checked the actual value of some columnn to see if there are some non plausible data.\n",
    "Starting from the column `DATA`"
   ]
  },
  {
<<<<<<< HEAD
   "cell_type": "code",
   "execution_count": 7,
   "id": "f68a6b25",
   "metadata": {},
   "outputs": [
    {
     "data": {
      "text/plain": [
       "count                          9579794\n",
       "mean     2015-08-22 08:39:17.195402496\n",
       "min                1973-02-01 00:00:00\n",
       "25%                2012-06-07 00:00:00\n",
       "50%                2015-10-08 00:00:00\n",
       "75%                2018-09-07 00:00:00\n",
       "max                2201-06-09 00:00:00\n",
       "Name: DATA, dtype: object"
      ]
     },
     "execution_count": 7,
     "metadata": {},
     "output_type": "execute_result"
    }
   ],
=======
   "cell_type": "markdown",
   "id": "d9ed4085",
   "metadata": {},
>>>>>>> achille
   "source": [
    "<a id='dec_outlier'></a>\n",
    "## Identifying outliers"
   ]
  },
  {
   "cell_type": "markdown",
   "id": "f717fcaa",
   "metadata": {},
   "source": [
    "<a id='data_cl'></a>\n",
    "### column DATA\n",
    "\n",
    "At first, we extract the year from the date, so that the column `DATA` easier to analyze"
   ]
  },
  {
   "cell_type": "code",
<<<<<<< HEAD
   "execution_count": 8,
   "id": "3a7b113b",
=======
   "execution_count": null,
   "id": "d66a94ee",
>>>>>>> achille
   "metadata": {},
   "outputs": [],
   "source": [
    "rap_lavoro_attivati['DATA'] = rap_lavoro_attivati['DATA'].apply(lambda x: x.year)"
   ]
  },
  {
   "cell_type": "code",
<<<<<<< HEAD
   "execution_count": 9,
   "id": "61904765",
   "metadata": {},
   "outputs": [
    {
     "data": {
      "text/plain": [
       "count                          9579793\n",
       "mean     2015-08-22 08:29:05.161381888\n",
       "min                1973-02-01 00:00:00\n",
       "25%                2012-06-07 00:00:00\n",
       "50%                2015-10-08 00:00:00\n",
       "75%                2018-09-07 00:00:00\n",
       "max                2021-10-06 00:00:00\n",
       "Name: DATA, dtype: object"
      ]
     },
     "execution_count": 9,
     "metadata": {},
     "output_type": "execute_result"
    }
   ],
=======
   "execution_count": null,
   "id": "c8b7e81d",
   "metadata": {},
   "outputs": [],
   "source": [
    "rap_lavoro_attivati = rap_lavoro_attivati[rap_lavoro_attivati['DATA'] < 2022]"
   ]
  },
  {
   "cell_type": "code",
   "execution_count": null,
   "id": "5b51f7ff",
   "metadata": {
    "scrolled": true
   },
   "outputs": [],
   "source": [
    "fig, ax = plt.subplots()\n",
    "ax.boxplot(rap_lavoro_attivati['DATA'])\n",
    "plt.show()"
   ]
  },
  {
   "cell_type": "markdown",
   "id": "7ceef16c",
   "metadata": {},
   "source": [
    "How can be seen from the above boxplot, we have many outliers in the years before 2000, so we should at least restrict the dataset to the last 20 years. Moreover, we will combine this dataset with other datasets that have values only for years 2018 and 2019. But this is not a problem, since those two years represents a quite recent job situation (differently from the early 2000s), while we don't analyze data from 2020 onwards because they are altered by the consequences of the COVID-19 pandemic."
   ]
  },
  {
   "cell_type": "code",
   "execution_count": null,
   "id": "e00c9779",
   "metadata": {},
   "outputs": [],
   "source": [
    "rap_lavoro_attivati['DATA'].head()"
   ]
  },
  {
   "cell_type": "markdown",
   "id": "b2536b2d",
   "metadata": {},
   "source": [
    "\n",
    "## Working on column `DATA`\n",
    "In this section we will analyze in more detail the column `DATA` and adjust the data accordingly.\n",
    "The first step is to group the column by year and count how many contract are activated per year"
   ]
  },
  {
   "cell_type": "code",
   "execution_count": null,
   "id": "6dec156b",
   "metadata": {},
   "outputs": [],
   "source": [
    "rap_lavoro_attivati = rap_lavoro_attivati[(rap_lavoro_attivati.DATA >= 2018) & (rap_lavoro_attivati.DATA < 2020)]\n",
    "print(rap_lavoro_attivati.groupby(['DATA']).count())"
   ]
  },
  {
   "cell_type": "markdown",
   "id": "a5b9d260",
   "metadata": {},
   "source": [
    "With this we can see how many contract have been activated in the last few years in the Lombardy region."
   ]
  },
  {
   "cell_type": "code",
   "execution_count": null,
   "id": "1f28038e",
   "metadata": {},
   "outputs": [],
   "source": [
    "rap_lavoro_attivati.groupby(pd.Grouper(key='DATA'))['DATA'].count().plot(label=\"attivati\", kind='bar')\n",
    "\n",
    "plt.legend()\n",
    "plt.show()"
   ]
  },
  {
   "cell_type": "markdown",
   "id": "224f3489",
   "metadata": {},
   "source": [
    "As we can see there isn't so much difference between the two years. The next graph show the percentrage difference between male and female "
   ]
  },
  {
   "cell_type": "code",
   "execution_count": null,
   "id": "a8ae6432",
   "metadata": {},
   "outputs": [],
   "source": [
    "m_to_f_rationA = rap_lavoro_attivati.GENERE.value_counts()\n",
    "\n",
    "xaxisA = m_to_f_rationA.index\n",
    "valueA = m_to_f_rationA.values\n",
    "\n",
    "fig1, axis = plt.subplots(1)\n",
    "fig1.dpi = 100\n",
    "\n",
    "#Attivati male to female Graph\n",
    "axis.pie(valueA, labels=xaxisA, autopct='%1.1f%%', startangle=90)\n",
    "axis.axis('equal')  # Equal aspect ratio ensures that pie is drawn as a circle.\n"
   ]
  },
  {
   "cell_type": "markdown",
   "id": "b59945ac",
   "metadata": {},
   "source": [
    "from these graphs we can say that probably there are more male than female in the popoulation, but this information should be verified plotting data from a dataset that involves the whole population, not only the newly hired."
   ]
  },
  {
   "cell_type": "code",
   "execution_count": null,
   "id": "f68a6b25",
   "metadata": {
    "scrolled": true
   },
   "outputs": [],
   "source": [
    "rap_lavoro_attivati['DATA'].describe(datetime_is_numeric=True)"
   ]
  },
  {
   "cell_type": "markdown",
   "id": "c9637d28",
   "metadata": {},
   "source": [
    "from this we can see that there is at least one date impossible so we restrain the data to only feasible one"
   ]
  },
  {
   "cell_type": "code",
   "execution_count": null,
   "id": "61904765",
   "metadata": {},
   "outputs": [],
>>>>>>> achille
   "source": [
    "rap_lavoro_attivati['DATA'].describe(datetime_is_numeric=True)"
   ]
  },
  {
   "cell_type": "code",
<<<<<<< HEAD
   "execution_count": 10,
   "id": "65366447",
   "metadata": {},
   "outputs": [
    {
     "data": {
      "text/plain": [
       "<bound method NDFrame._add_numeric_operations.<locals>.max of 0         2020-09-05\n",
       "1         2019-12-07\n",
       "2         2013-05-06\n",
       "3         2010-12-03\n",
       "4         2021-06-04\n",
       "             ...    \n",
       "9579789   2020-01-03\n",
       "9579790   2010-06-09\n",
       "9579791   2021-06-11\n",
       "9579792   2010-02-02\n",
       "9579793   2012-05-07\n",
       "Name: DATA, Length: 9579793, dtype: datetime64[ns]>"
      ]
     },
     "execution_count": 10,
     "metadata": {},
     "output_type": "execute_result"
    }
   ],
=======
   "execution_count": null,
   "id": "65366447",
   "metadata": {},
   "outputs": [],
>>>>>>> achille
   "source": [
    "rap_lavoro_attivati['DATA'].max"
   ]
  },
  {
   "cell_type": "code",
<<<<<<< HEAD
   "execution_count": 11,
   "id": "a086ef0f",
   "metadata": {},
   "outputs": [],
   "source": [
    "rap_lavoro_attivati = rap_lavoro_attivati[(rap_lavoro_attivati.DATA > '2017') & (rap_lavoro_attivati.DATA < '2020')]"
   ]
  },
  {
   "cell_type": "code",
   "execution_count": 12,
   "id": "e8ea2365",
   "metadata": {},
   "outputs": [
    {
     "data": {
      "text/html": [
       "<div>\n",
       "<style scoped>\n",
       "    .dataframe tbody tr th:only-of-type {\n",
       "        vertical-align: middle;\n",
       "    }\n",
       "\n",
       "    .dataframe tbody tr th {\n",
       "        vertical-align: top;\n",
       "    }\n",
       "\n",
       "    .dataframe thead th {\n",
       "        text-align: right;\n",
       "    }\n",
       "</style>\n",
       "<table border=\"1\" class=\"dataframe\">\n",
       "  <thead>\n",
       "    <tr style=\"text-align: right;\">\n",
       "      <th></th>\n",
       "      <th>DATA</th>\n",
       "      <th>GENERE</th>\n",
       "      <th>ETA</th>\n",
       "      <th>SETTOREECONOMICODETTAGLIO</th>\n",
       "      <th>TITOLOSTUDIO</th>\n",
       "      <th>CONTRATTO</th>\n",
       "      <th>MODALITALAVORO</th>\n",
       "      <th>PROVINCIAIMPRESA</th>\n",
       "      <th>ITALIANO</th>\n",
       "    </tr>\n",
       "  </thead>\n",
       "  <tbody>\n",
       "    <tr>\n",
       "      <th>1</th>\n",
       "      <td>2019-12-07</td>\n",
       "      <td>M</td>\n",
       "      <td>43</td>\n",
       "      <td>Gestioni di funicolari, ski-lift e seggiovie s...</td>\n",
       "      <td>LICENZA MEDIA</td>\n",
       "      <td>LAVORO A TEMPO DETERMINATO</td>\n",
       "      <td>TEMPO PIENO</td>\n",
       "      <td>BERGAMO</td>\n",
       "      <td>ITALIA</td>\n",
       "    </tr>\n",
       "    <tr>\n",
       "      <th>6</th>\n",
       "      <td>2018-04-03</td>\n",
       "      <td>F</td>\n",
       "      <td>56</td>\n",
       "      <td>Confezioni di abbigliamento sportivo o di altr...</td>\n",
       "      <td>LICENZA MEDIA</td>\n",
       "      <td>LAVORO A TEMPO DETERMINATO</td>\n",
       "      <td>TEMPO PARZIALE ORIZZONTALE</td>\n",
       "      <td>BERGAMO</td>\n",
       "      <td>ITALIA</td>\n",
       "    </tr>\n",
       "    <tr>\n",
       "      <th>12</th>\n",
       "      <td>2019-09-05</td>\n",
       "      <td>F</td>\n",
       "      <td>34</td>\n",
       "      <td>Istruzione di grado preparatorio: scuole dell'...</td>\n",
       "      <td>LAUREA - Vecchio o nuovo ordinamento</td>\n",
       "      <td>LAVORO A TEMPO INDETERMINATO</td>\n",
       "      <td>TEMPO PARZIALE ORIZZONTALE</td>\n",
       "      <td>BERGAMO</td>\n",
       "      <td>ITALIA</td>\n",
       "    </tr>\n",
       "    <tr>\n",
       "      <th>21</th>\n",
       "      <td>2017-07-12</td>\n",
       "      <td>M</td>\n",
       "      <td>34</td>\n",
       "      <td>Rifugi di montagna</td>\n",
       "      <td>LICENZA MEDIA</td>\n",
       "      <td>LAVORO A TEMPO DETERMINATO</td>\n",
       "      <td>TEMPO PARZIALE ORIZZONTALE</td>\n",
       "      <td>BERGAMO</td>\n",
       "      <td>ITALIA</td>\n",
       "    </tr>\n",
       "    <tr>\n",
       "      <th>23</th>\n",
       "      <td>2018-05-07</td>\n",
       "      <td>M</td>\n",
       "      <td>54</td>\n",
       "      <td>Allevamento di bovini e bufalini da carne</td>\n",
       "      <td>NESSUN TITOLO DI STUDIO</td>\n",
       "      <td>LAVORO A TEMPO DETERMINATO</td>\n",
       "      <td>TEMPO PARZIALE MISTO</td>\n",
       "      <td>BERGAMO</td>\n",
       "      <td>MAROCCO</td>\n",
       "    </tr>\n",
       "  </tbody>\n",
       "</table>\n",
       "</div>"
      ],
      "text/plain": [
       "         DATA GENERE  ETA                          SETTOREECONOMICODETTAGLIO  \\\n",
       "1  2019-12-07      M   43  Gestioni di funicolari, ski-lift e seggiovie s...   \n",
       "6  2018-04-03      F   56  Confezioni di abbigliamento sportivo o di altr...   \n",
       "12 2019-09-05      F   34  Istruzione di grado preparatorio: scuole dell'...   \n",
       "21 2017-07-12      M   34                                 Rifugi di montagna   \n",
       "23 2018-05-07      M   54          Allevamento di bovini e bufalini da carne   \n",
       "\n",
       "                            TITOLOSTUDIO                     CONTRATTO  \\\n",
       "1                          LICENZA MEDIA    LAVORO A TEMPO DETERMINATO   \n",
       "6                          LICENZA MEDIA    LAVORO A TEMPO DETERMINATO   \n",
       "12  LAUREA - Vecchio o nuovo ordinamento  LAVORO A TEMPO INDETERMINATO   \n",
       "21                         LICENZA MEDIA    LAVORO A TEMPO DETERMINATO   \n",
       "23               NESSUN TITOLO DI STUDIO    LAVORO A TEMPO DETERMINATO   \n",
       "\n",
       "                MODALITALAVORO PROVINCIAIMPRESA ITALIANO  \n",
       "1                  TEMPO PIENO          BERGAMO   ITALIA  \n",
       "6   TEMPO PARZIALE ORIZZONTALE          BERGAMO   ITALIA  \n",
       "12  TEMPO PARZIALE ORIZZONTALE          BERGAMO   ITALIA  \n",
       "21  TEMPO PARZIALE ORIZZONTALE          BERGAMO   ITALIA  \n",
       "23        TEMPO PARZIALE MISTO          BERGAMO  MAROCCO  "
      ]
     },
     "execution_count": 12,
     "metadata": {},
     "output_type": "execute_result"
    }
   ],
   "source": [
    "rap_lavoro_attivati.head()"
   ]
  },
  {
   "cell_type": "code",
   "execution_count": 13,
   "id": "31a307a5",
   "metadata": {},
   "outputs": [
    {
     "name": "stdout",
     "output_type": "stream",
     "text": [
      "<class 'pandas.core.frame.DataFrame'>\n",
      "Int64Index: 2620014 entries, 1 to 9579788\n",
      "Data columns (total 9 columns):\n",
      " #   Column                     Dtype         \n",
      "---  ------                     -----         \n",
      " 0   DATA                       datetime64[ns]\n",
      " 1   GENERE                     string        \n",
      " 2   ETA                        int64         \n",
      " 3   SETTOREECONOMICODETTAGLIO  string        \n",
      " 4   TITOLOSTUDIO               string        \n",
      " 5   CONTRATTO                  string        \n",
      " 6   MODALITALAVORO             string        \n",
      " 7   PROVINCIAIMPRESA           string        \n",
      " 8   ITALIANO                   string        \n",
      "dtypes: datetime64[ns](1), int64(1), string(7)\n",
      "memory usage: 199.9 MB\n"
     ]
    }
   ],
   "source": [
    "rap_lavoro_attivati.info()"
   ]
  },
  {
   "cell_type": "code",
   "execution_count": 14,
   "id": "d783c720",
   "metadata": {},
   "outputs": [
    {
     "data": {
      "text/plain": [
       "1196"
      ]
     },
     "execution_count": 14,
     "metadata": {},
     "output_type": "execute_result"
    }
   ],
   "source": [
    "settore_economico = series_to_set('SETTOREECONOMICODETTAGLIO', rap_lavoro_attivati)\n",
    "len(settore_economico)"
   ]
  },
  {
   "cell_type": "markdown",
   "id": "438adf09",
   "metadata": {},
   "source": [
    "Since the `SETTOREECONOMICODETTAGLIO` column has `1125` different values belonging to it, it cannot be easily exploited to analyze data (e.g. dividing them into categories). Furthermore, there are `2888` null values in this column that can make the analysis of this feature even tougher. Considering this two facts, we can derive that dropping the whole column is more convenient than keeping it, since it introduce noise. "
=======
   "execution_count": null,
   "id": "e8ea2365",
   "metadata": {
    "scrolled": false
   },
   "outputs": [],
   "source": [
    "rap_lavoro_attivati.head()"
   ]
  },
  {
   "cell_type": "markdown",
   "id": "40ed0a00",
   "metadata": {},
   "source": [
    "The next plot represents the number of contracts `== LAVORO A TEMPO INDETERMINATO` in relation with the working time: full-time or part-time (and its derivations)"
   ]
  },
  {
   "cell_type": "code",
   "execution_count": null,
   "id": "9ec2e8b2",
   "metadata": {},
   "outputs": [],
   "source": [
    "df = rap_lavoro_attivati[['CONTRATTO', 'MODALITALAVORO']]\n",
    "df = df[df['CONTRATTO'] == 'LAVORO A TEMPO INDETERMINATO']\n",
    "df = df.groupby(['MODALITALAVORO']).count()\n",
    "df.plot(kind='bar')"
   ]
  },
  {
   "cell_type": "markdown",
   "id": "fbf624e8",
   "metadata": {},
   "source": [
    "The result shows that the working hours and the contract type are highly correlated, hence the feature `MODALITALAVORO` must be exploited for our model.\n",
    "\n",
    "Next, we will see if there is a correlation amongst province and contracts. "
   ]
  },
  {
   "cell_type": "code",
   "execution_count": null,
   "id": "420fdf7b",
   "metadata": {},
   "outputs": [],
   "source": [
    "df = rap_lavoro_attivati[['CONTRATTO', 'PROVINCIAIMPRESA']]\n",
    "df = df[df['CONTRATTO'] == 'LAVORO A TEMPO INDETERMINATO']\n",
    "df = df.groupby(['PROVINCIAIMPRESA']).count()\n",
    "df.plot(kind='bar', legend=False)\n",
    "plt.ylabel('Tempo indeterminato')"
   ]
  },
  {
   "cell_type": "markdown",
   "id": "4b4f71c0",
   "metadata": {},
   "source": [
    "They seem to be correlated, BUT we should pay attention to what we have just plotted. Indeed, we have counted the **total** number of activated contracts in each province and this information could introduce errors in evaluation. This error bears in the fact that different provinces have different populations. To clarify, the population of Milan (province) sums to roughly 3.2 million people, while in province of Lodi live 230 thousands people. So, despite considering the total number of contract, we will consider the *percentage* over the total number of newly started contracts.  "
   ]
  },
  {
   "cell_type": "code",
   "execution_count": null,
   "id": "df166820",
   "metadata": {},
   "outputs": [],
   "source": [
    "df = rap_lavoro_attivati[['CONTRATTO', 'PROVINCIAIMPRESA']]\n",
    "df = df[df['CONTRATTO'] == 'LAVORO A TEMPO INDETERMINATO']\n",
    "df = df.groupby(['PROVINCIAIMPRESA']).count()\n",
    "df.loc[:, 'CONTRATTO'] = 100*df[\"CONTRATTO\"]/rap_lavoro_attivati.groupby(['PROVINCIAIMPRESA']).count()['CONTRATTO']\n",
    "df.plot(kind='bar', legend=False)\n",
    "plt.ylabel('% Tempo indeterminato')\n",
    "################################################\n",
    "df = rap_lavoro_attivati[['CONTRATTO', 'PROVINCIAIMPRESA']]\n",
    "df = df[df['CONTRATTO'] == 'LAVORO A TEMPO DETERMINATO']\n",
    "df = df.groupby(['PROVINCIAIMPRESA']).count()\n",
    "df.loc[:, 'CONTRATTO'] = 100*df[\"CONTRATTO\"]/rap_lavoro_attivati.groupby(['PROVINCIAIMPRESA']).count()['CONTRATTO']\n",
    "df.plot(kind='bar', legend=False)\n",
    "plt.ylabel('% Tempo determinato')\n",
    "################################################\n",
    "df = rap_lavoro_attivati[['CONTRATTO', 'PROVINCIAIMPRESA']]\n",
    "df = df[df['CONTRATTO'] == 'TIROCINIO']\n",
    "df = df.groupby(['PROVINCIAIMPRESA']).count()\n",
    "df.loc[:, 'CONTRATTO'] = 100*df[\"CONTRATTO\"]/rap_lavoro_attivati.groupby(['PROVINCIAIMPRESA']).count()['CONTRATTO']\n",
    "df.plot(kind='bar', legend=False)\n",
    "plt.ylabel('% Tirocinio')\n",
    "################################################\n",
    "df = rap_lavoro_attivati[['CONTRATTO', 'PROVINCIAIMPRESA']]\n",
    "df = df[df['CONTRATTO'] == 'LAVORO DOMESTICO']\n",
    "df = df.groupby(['PROVINCIAIMPRESA']).count()\n",
    "df.loc[:, 'CONTRATTO'] = 100*df[\"CONTRATTO\"]/rap_lavoro_attivati.groupby(['PROVINCIAIMPRESA']).count()['CONTRATTO']\n",
    "df.plot(kind='bar', legend=False)\n",
    "plt.ylabel('% Tempo determinato')"
   ]
  },
  {
   "cell_type": "markdown",
   "id": "12efed80",
   "metadata": {},
   "source": [
    "From the plots we can tell that the type of contract and the province in which people work are related. \n",
    "\n",
    "We can note that for example `MONZA E BRIANZA` has the highest percetage in both open-ended contracts and internships, while it got the lowest percentage in fixed-term contracts. This could probably means that people in Monza e Brianza are more frequently hired in an internship and then their contract directly change to an open-ended contract. "
   ]
  },
  {
   "cell_type": "code",
   "execution_count": null,
   "id": "453a8c6a",
   "metadata": {},
   "outputs": [],
   "source": [
    "rap_lavoro_attivati.groupby(['PROVINCIAIMPRESA']).count()"
   ]
  },
  {
   "cell_type": "markdown",
   "id": "afc71f80",
   "metadata": {},
   "source": [
    "<a id='set_ec_cl'></a>\n",
    "### column SETTOREECONOMICODETTAGLIO"
   ]
  },
  {
   "cell_type": "code",
   "execution_count": null,
   "id": "d783c720",
   "metadata": {
    "scrolled": true
   },
   "outputs": [],
   "source": [
    "settore_economico = series_to_set('SETTOREECONOMICODETTAGLIO', rap_lavoro_attivati)\n",
    "len(settore_economico)"
   ]
  },
  {
   "cell_type": "markdown",
   "id": "d1479d81",
   "metadata": {},
   "source": [
    "Let's plot the data of `SETTOREECONOMICODETTAGLIO` and their 'weight' in the dataset."
   ]
  },
  {
   "cell_type": "code",
   "execution_count": null,
   "id": "bcea1e0f",
   "metadata": {},
   "outputs": [],
   "source": [
    "fig, axis = plt.subplots()\n",
    "\n",
    "axis.pie(rap_lavoro_attivati.groupby(['SETTOREECONOMICODETTAGLIO']).count()['GENERE'])\n",
    "\n",
    "plt.show()"
>>>>>>> achille
   ]
  },
  {
   "cell_type": "markdown",
   "id": "42096970",
   "metadata": {},
   "source": [
    "It's a mess **!!!** This column, taken as it is, cannot be used for analysis; the amount of different data is frightening. \n",
    "\n",
    "There is a good news: it seems that the captions match with the Ateco Codes! Hence, we can map them into wider categories."
   ]
  },
  {
   "cell_type": "code",
   "execution_count": null,
   "id": "9f6ec4a8",
   "metadata": {},
<<<<<<< HEAD
   "outputs": [
    {
     "data": {
      "text/plain": [
       "{'NON DEFINITO',\n",
       " 'TEMPO PARZIALE MISTO',\n",
       " 'TEMPO PARZIALE ORIZZONTALE',\n",
       " 'TEMPO PARZIALE VERTICALE',\n",
       " 'TEMPO PIENO'}"
      ]
     },
     "execution_count": 15,
     "metadata": {},
     "output_type": "execute_result"
    }
   ],
=======
   "outputs": [],
>>>>>>> achille
   "source": [
    "sett_eco_codes = pd.read_excel(PurePath('dataset', 'CodiceAteco.xlsx'))\n",
    "sett_eco_codes.head()"
   ]
  },
  {
   "cell_type": "code",
   "execution_count": null,
   "id": "cc337797",
   "metadata": {},
   "outputs": [],
   "source": [
    "sett_eco_codes['Descrizione'] = sett_eco_codes['Descrizione'].str.lower()\n",
    "sett_eco_codes = sett_eco_codes[['Lettera', 'Descrizione']]\n",
    "ateco = sett_eco_codes.set_index('Descrizione').to_dict().get('Lettera')"
   ]
  },
  {
   "cell_type": "code",
   "execution_count": null,
   "id": "8860d4b5",
   "metadata": {},
   "outputs": [],
   "source": [
    "rap_lavoro_attivati[\"SETTOREECONOMICODETTAGLIO\"] = rap_lavoro_attivati[\"SETTOREECONOMICODETTAGLIO\"].str.lower()\n",
    "rap_lavoro_attivati.head()"
   ]
  },
  {
   "cell_type": "code",
   "execution_count": null,
   "id": "b77d2fa0",
   "metadata": {
    "scrolled": true
   },
   "outputs": [],
   "source": [
    "rap_lavoro_attivati[\"SETTOREECONOMICODETTAGLIO\"] = rap_lavoro_attivati[\"SETTOREECONOMICODETTAGLIO\"].map(ateco)\n",
    "rap_lavoro_attivati.head()"
   ]
  },
  {
   "cell_type": "code",
   "execution_count": null,
   "id": "d432f485",
   "metadata": {},
   "outputs": [],
   "source": [
    "rap_lavoro_attivati['SETTOREECONOMICODETTAGLIO'].isna().sum()"
   ]
  },
  {
   "cell_type": "code",
   "execution_count": null,
   "id": "05d918d3",
   "metadata": {},
   "outputs": [],
   "source": [
    "rap_lavoro_attivati = rap_lavoro_attivati[rap_lavoro_attivati['SETTOREECONOMICODETTAGLIO'].notna()]"
   ]
  },
  {
   "cell_type": "code",
   "execution_count": null,
   "id": "568ffa6b",
   "metadata": {},
   "outputs": [],
   "source": [
    "rap_lavoro_attivati['SETTOREECONOMICODETTAGLIO'].isna().sum()"
   ]
  },
  {
   "cell_type": "markdown",
   "id": "c6becbe8",
   "metadata": {},
   "source": [
    "Now we can visualize the column after the mapping."
   ]
  },
  {
   "cell_type": "code",
   "execution_count": null,
   "id": "e48084d0",
   "metadata": {},
   "outputs": [],
   "source": [
    "fig, axis = plt.subplots()\n",
    "\n",
    "axis.pie(rap_lavoro_attivati.groupby(['SETTOREECONOMICODETTAGLIO']).count()['GENERE'])\n",
    "\n",
    "plt.show()"
   ]
  },
  {
   "cell_type": "markdown",
   "id": "5555a067",
   "metadata": {},
   "source": [
    "So much better, now we don't have too much different values and so the column can be used for analisys."
   ]
  },
  {
   "cell_type": "code",
   "execution_count": null,
   "id": "5047ae09",
   "metadata": {},
   "outputs": [],
   "source": [
    "df = rap_lavoro_attivati[['CONTRATTO', 'SETTOREECONOMICODETTAGLIO']]\n",
    "df = df[df['CONTRATTO'] == 'LAVORO A TEMPO INDETERMINATO']\n",
    "df = df.groupby(['SETTOREECONOMICODETTAGLIO']).count()\n",
    "df.loc[:, 'CONTRATTO'] = 100*df[\"CONTRATTO\"]/rap_lavoro_attivati.groupby(['SETTOREECONOMICODETTAGLIO']).count()['CONTRATTO']\n",
    "df.plot(kind='bar', legend=False)\n",
    "plt.ylabel('% Tempo indeterminato')"
   ]
  },
  {
   "cell_type": "markdown",
   "id": "293e2de7",
   "metadata": {},
   "source": [
    "To correctly interpret the above bar plot, we should be aware of the meaning of the different character, so:\n",
    "- A: AGRICOLTURA, SILVICOLTURA E PESCA;\n",
    "- B: ESTRAZIONE DI MINERALI DA CAVE E MINIERE;\n",
    "- C: ATTIVITÀ MANIFATTURIERE;\n",
    "- D: FORNITURA DI ENERGIA ELETTRICA, GAS, VAPORE E ARIA CONDIZIONATA;\n",
    "- E: FORNITURA DI ACQUA; RETI FOGNARIE, ATTIVITÀ DI GESTIONE DEI RIFIUTI E RISANAMENTO;\n",
    "- F: COSTRUZIONI;\n",
    "- G: COMMERCIO ALL'INGROSSO E AL DETTAGLIO; RIPARAZIONE DI AUTOVEICOLI E MOTOCICLI;\n",
    "- H: TRASPORTO E MAGAZZINAGGIO;\n",
    "- I: ATTIVITÀ DEI SERVIZI DI ALLOGGIO E DI RISTORAZIONE;\n",
    "- J: SERVIZI DI INFORMAZIONE E COMUNICAZIONE;\n",
    "- K: ATTIVITÀ FINANZIARIE E ASSICURATIVE;\n",
    "- L: ATTIVITA' IMMOBILIARI;\n",
    "- M: ATTIVITÀ PROFESSIONALI, SCIENTIFICHE E TECNICHE;\n",
    "- N: NOLEGGIO, AGENZIE DI VIAGGIO, SERVIZI DI SUPPORTO ALLE IMPRESE;\n",
    "- O: AMMINISTRAZIONE PUBBLICA E DIFESA; ASSICURAZIONE SOCIALE OBBLIGATORIA;\n",
    "- P: ISTRUZIONE;\n",
    "- Q: SANITA' E ASSISTENZA SOCIALE;\n",
    "- R: ATTIVITÀ ARTISTICHE, SPORTIVE, DI INTRATTENIMENTO E DIVERTIMENTO;\n",
    "- S: ALTRE ATTIVITÀ DI SERVIZI;\n",
    "- T: ATTIVITÀ DI FAMIGLIE E CONVIVENZE COME DATORI DI LAVORO PER PERSONALE DOMESTICO; PRODUZIONE DI BENI E SERVIZI INDIFFERENZIATI PER USO PROPRIO DA PARTE DI FAMIGLIE E CONVIVENZE;\n",
    "- U: ORGANIZZAZIONI ED ORGANISMI EXTRATERRITORIALI;"
   ]
  },
  {
   "cell_type": "markdown",
   "id": "438adf09",
   "metadata": {},
   "source": [
    "Since the `SETTOREECONOMICODETTAGLIO` column has more than a thousand unique values belonging to it, it cannot be easily exploited to analyze data (e.g. dividing them into categories). Furthermore, the majority of the value belongs to some feature, considering these facts we will keep 50 of the most common category."
   ]
  },
  {
   "cell_type": "code",
   "execution_count": null,
   "id": "f720cc63",
   "metadata": {},
   "outputs": [],
   "source": [
    "rap_lavoro_attivati['CONTRATTO'].value_counts()"
   ]
  },
  {
   "cell_type": "markdown",
   "id": "be521cbb",
   "metadata": {},
   "source": [
    "As we can see there are category with just a few entries, because these have a low impact on the dataset we can delete them with the following function that group the data by `CONTRATTO`, create a group of indexes containing only the elements that satisfy a condition, in this case the value must be greater than 2000, and then we keep only the value that are inside those indexes."
   ]
  },
  {
   "cell_type": "code",
   "execution_count": null,
   "id": "3307f0bd",
   "metadata": {},
   "outputs": [],
   "source": [
    "#delete low number contracts\n",
    "byContract = rap_lavoro_attivati.groupby('CONTRATTO').aggregate(np.count_nonzero)\n",
    "tags = byContract[byContract.GENERE >= 2000].index\n",
    "rap_lavoro_attivati = rap_lavoro_attivati[rap_lavoro_attivati['CONTRATTO'].isin(tags)]"
   ]
  },
  {
   "cell_type": "markdown",
   "id": "7b4f4b45",
   "metadata": {},
   "source": [
    "<a id='mod_work_cl'></a>\n",
    "### Column MODALITALAVORO"
   ]
  },
  {
   "cell_type": "code",
   "execution_count": 16,
   "id": "2b75d62d",
   "metadata": {},
   "outputs": [],
   "source": [
    "settori_eco = rap_lavoro_attivati['SETTOREECONOMICODETTAGLIO'].fillna('')\n",
    "sett_occur = dict()\n",
    "settori_eco = list(settori_eco)\n",
    "settori = set(settori_eco)\n",
    "for settore in settori:\n",
    "    sett_occur[settore] = settori_eco.count(settore)"
   ]
  },
  {
   "cell_type": "code",
   "execution_count": 17,
   "id": "3ee33f58",
   "metadata": {},
   "outputs": [],
   "source": [
    "common = {k: v for k, v in reversed(sorted(sett_occur.items(), key=lambda item: item[1]))}\n",
    "common = list(common)[:50]"
   ]
  },
  {
   "cell_type": "code",
   "execution_count": 18,
   "id": "6be6383a",
   "metadata": {},
   "outputs": [
    {
     "data": {
      "text/plain": [
       "['Ristorazione con somministrazione',\n",
       " 'Alberghi',\n",
       " 'Attività di produzione cinematografica, di video e di programmi televisivi',\n",
       " 'Pulizia generale (non specializzata) di edifici',\n",
       " 'Attività di famiglie e convivenze come datori di lavoro per personale domestico']"
      ]
     },
     "execution_count": 18,
     "metadata": {},
     "output_type": "execute_result"
    }
   ],
   "source": [
    "common[:5]"
   ]
  },
  {
   "cell_type": "code",
   "execution_count": 19,
   "id": "011e14a9",
   "metadata": {},
   "outputs": [
    {
     "data": {
      "text/html": [
       "<div>\n",
       "<style scoped>\n",
       "    .dataframe tbody tr th:only-of-type {\n",
       "        vertical-align: middle;\n",
       "    }\n",
       "\n",
       "    .dataframe tbody tr th {\n",
       "        vertical-align: top;\n",
       "    }\n",
       "\n",
       "    .dataframe thead th {\n",
       "        text-align: right;\n",
       "    }\n",
       "</style>\n",
       "<table border=\"1\" class=\"dataframe\">\n",
       "  <thead>\n",
       "    <tr style=\"text-align: right;\">\n",
       "      <th></th>\n",
       "      <th>DATA</th>\n",
       "      <th>GENERE</th>\n",
       "      <th>ETA</th>\n",
       "      <th>SETTOREECONOMICODETTAGLIO</th>\n",
       "      <th>TITOLOSTUDIO</th>\n",
       "      <th>CONTRATTO</th>\n",
       "      <th>MODALITALAVORO</th>\n",
       "      <th>PROVINCIAIMPRESA</th>\n",
       "      <th>ITALIANO</th>\n",
       "    </tr>\n",
       "  </thead>\n",
       "  <tbody>\n",
       "    <tr>\n",
       "      <th>12</th>\n",
       "      <td>2019-09-05</td>\n",
       "      <td>F</td>\n",
       "      <td>34</td>\n",
       "      <td>Istruzione di grado preparatorio: scuole dell'...</td>\n",
       "      <td>LAUREA - Vecchio o nuovo ordinamento</td>\n",
       "      <td>LAVORO A TEMPO INDETERMINATO</td>\n",
       "      <td>TEMPO PARZIALE ORIZZONTALE</td>\n",
       "      <td>BERGAMO</td>\n",
       "      <td>ITALIA</td>\n",
       "    </tr>\n",
       "    <tr>\n",
       "      <th>26</th>\n",
       "      <td>2017-12-06</td>\n",
       "      <td>F</td>\n",
       "      <td>26</td>\n",
       "      <td>Bar e altri esercizi simili senza cucina</td>\n",
       "      <td>NESSUN TITOLO DI STUDIO</td>\n",
       "      <td>LAVORO INTERMITTENTE</td>\n",
       "      <td>NON DEFINITO</td>\n",
       "      <td>BERGAMO</td>\n",
       "      <td>ITALIA</td>\n",
       "    </tr>\n",
       "    <tr>\n",
       "      <th>28</th>\n",
       "      <td>2019-08-04</td>\n",
       "      <td>F</td>\n",
       "      <td>45</td>\n",
       "      <td>Attività di famiglie e convivenze come datori ...</td>\n",
       "      <td>NESSUN TITOLO DI STUDIO</td>\n",
       "      <td>LAVORO DOMESTICO</td>\n",
       "      <td>TEMPO PIENO</td>\n",
       "      <td>BERGAMO</td>\n",
       "      <td>ITALIA</td>\n",
       "    </tr>\n",
       "    <tr>\n",
       "      <th>42</th>\n",
       "      <td>2018-10-12</td>\n",
       "      <td>F</td>\n",
       "      <td>24</td>\n",
       "      <td>Ristorazione con somministrazione</td>\n",
       "      <td>DIPLOMA DI ISTRUZIONE SECONDARIA SUPERIORE  CH...</td>\n",
       "      <td>LAVORO INTERMITTENTE</td>\n",
       "      <td>NON DEFINITO</td>\n",
       "      <td>BERGAMO</td>\n",
       "      <td>ITALIA</td>\n",
       "    </tr>\n",
       "    <tr>\n",
       "      <th>51</th>\n",
       "      <td>2019-09-09</td>\n",
       "      <td>M</td>\n",
       "      <td>47</td>\n",
       "      <td>Fabbricazione di strutture metalliche e parti ...</td>\n",
       "      <td>NESSUN TITOLO DI STUDIO</td>\n",
       "      <td>LAVORO A TEMPO INDETERMINATO</td>\n",
       "      <td>TEMPO PIENO</td>\n",
       "      <td>LECCO</td>\n",
       "      <td>ITALIA</td>\n",
       "    </tr>\n",
       "    <tr>\n",
       "      <th>...</th>\n",
       "      <td>...</td>\n",
       "      <td>...</td>\n",
       "      <td>...</td>\n",
       "      <td>...</td>\n",
       "      <td>...</td>\n",
       "      <td>...</td>\n",
       "      <td>...</td>\n",
       "      <td>...</td>\n",
       "      <td>...</td>\n",
       "    </tr>\n",
       "    <tr>\n",
       "      <th>9579758</th>\n",
       "      <td>2018-03-09</td>\n",
       "      <td>M</td>\n",
       "      <td>29</td>\n",
       "      <td>Ristorazione con somministrazione</td>\n",
       "      <td>NESSUN TITOLO DI STUDIO</td>\n",
       "      <td>LAVORO INTERMITTENTE</td>\n",
       "      <td>NON DEFINITO</td>\n",
       "      <td>MONZA E BRIANZA</td>\n",
       "      <td>ITALIA</td>\n",
       "    </tr>\n",
       "    <tr>\n",
       "      <th>9579764</th>\n",
       "      <td>2018-03-01</td>\n",
       "      <td>F</td>\n",
       "      <td>41</td>\n",
       "      <td>Bar e altri esercizi simili senza cucina</td>\n",
       "      <td>TITOLO DI ISTRUZIONE SECONDARIA SUPERIORE (SCO...</td>\n",
       "      <td>LAVORO A TEMPO INDETERMINATO</td>\n",
       "      <td>TEMPO PARZIALE ORIZZONTALE</td>\n",
       "      <td>MONZA E BRIANZA</td>\n",
       "      <td>ITALIA</td>\n",
       "    </tr>\n",
       "    <tr>\n",
       "      <th>9579766</th>\n",
       "      <td>2017-03-02</td>\n",
       "      <td>M</td>\n",
       "      <td>45</td>\n",
       "      <td>Costruzione di edifici residenziali e non resi...</td>\n",
       "      <td>NESSUN TITOLO DI STUDIO</td>\n",
       "      <td>LAVORO A TEMPO DETERMINATO</td>\n",
       "      <td>TEMPO PIENO</td>\n",
       "      <td>MONZA E BRIANZA</td>\n",
       "      <td>EGITTO</td>\n",
       "    </tr>\n",
       "    <tr>\n",
       "      <th>9579777</th>\n",
       "      <td>2018-04-05</td>\n",
       "      <td>F</td>\n",
       "      <td>35</td>\n",
       "      <td>Mense</td>\n",
       "      <td>LICENZA MEDIA</td>\n",
       "      <td>LAVORO A TEMPO DETERMINATO</td>\n",
       "      <td>TEMPO PARZIALE ORIZZONTALE</td>\n",
       "      <td>MONZA E BRIANZA</td>\n",
       "      <td>ITALIA</td>\n",
       "    </tr>\n",
       "    <tr>\n",
       "      <th>9579788</th>\n",
       "      <td>2019-07-08</td>\n",
       "      <td>M</td>\n",
       "      <td>40</td>\n",
       "      <td>Lavori di meccanica generale</td>\n",
       "      <td>LICENZA MEDIA</td>\n",
       "      <td>LAVORO A TEMPO DETERMINATO</td>\n",
       "      <td>TEMPO PIENO</td>\n",
       "      <td>BERGAMO</td>\n",
       "      <td>ALGERIA</td>\n",
       "    </tr>\n",
       "  </tbody>\n",
       "</table>\n",
       "<p>1566041 rows × 9 columns</p>\n",
       "</div>"
      ],
      "text/plain": [
       "              DATA GENERE  ETA  \\\n",
       "12      2019-09-05      F   34   \n",
       "26      2017-12-06      F   26   \n",
       "28      2019-08-04      F   45   \n",
       "42      2018-10-12      F   24   \n",
       "51      2019-09-09      M   47   \n",
       "...            ...    ...  ...   \n",
       "9579758 2018-03-09      M   29   \n",
       "9579764 2018-03-01      F   41   \n",
       "9579766 2017-03-02      M   45   \n",
       "9579777 2018-04-05      F   35   \n",
       "9579788 2019-07-08      M   40   \n",
       "\n",
       "                                 SETTOREECONOMICODETTAGLIO  \\\n",
       "12       Istruzione di grado preparatorio: scuole dell'...   \n",
       "26                Bar e altri esercizi simili senza cucina   \n",
       "28       Attività di famiglie e convivenze come datori ...   \n",
       "42                       Ristorazione con somministrazione   \n",
       "51       Fabbricazione di strutture metalliche e parti ...   \n",
       "...                                                    ...   \n",
       "9579758                  Ristorazione con somministrazione   \n",
       "9579764           Bar e altri esercizi simili senza cucina   \n",
       "9579766  Costruzione di edifici residenziali e non resi...   \n",
       "9579777                                              Mense   \n",
       "9579788                       Lavori di meccanica generale   \n",
       "\n",
       "                                              TITOLOSTUDIO  \\\n",
       "12                    LAUREA - Vecchio o nuovo ordinamento   \n",
       "26                                 NESSUN TITOLO DI STUDIO   \n",
       "28                                 NESSUN TITOLO DI STUDIO   \n",
       "42       DIPLOMA DI ISTRUZIONE SECONDARIA SUPERIORE  CH...   \n",
       "51                                 NESSUN TITOLO DI STUDIO   \n",
       "...                                                    ...   \n",
       "9579758                            NESSUN TITOLO DI STUDIO   \n",
       "9579764  TITOLO DI ISTRUZIONE SECONDARIA SUPERIORE (SCO...   \n",
       "9579766                            NESSUN TITOLO DI STUDIO   \n",
       "9579777                                      LICENZA MEDIA   \n",
       "9579788                                      LICENZA MEDIA   \n",
       "\n",
       "                            CONTRATTO              MODALITALAVORO  \\\n",
       "12       LAVORO A TEMPO INDETERMINATO  TEMPO PARZIALE ORIZZONTALE   \n",
       "26               LAVORO INTERMITTENTE                NON DEFINITO   \n",
       "28                   LAVORO DOMESTICO                 TEMPO PIENO   \n",
       "42               LAVORO INTERMITTENTE                NON DEFINITO   \n",
       "51       LAVORO A TEMPO INDETERMINATO                 TEMPO PIENO   \n",
       "...                               ...                         ...   \n",
       "9579758          LAVORO INTERMITTENTE                NON DEFINITO   \n",
       "9579764  LAVORO A TEMPO INDETERMINATO  TEMPO PARZIALE ORIZZONTALE   \n",
       "9579766    LAVORO A TEMPO DETERMINATO                 TEMPO PIENO   \n",
       "9579777    LAVORO A TEMPO DETERMINATO  TEMPO PARZIALE ORIZZONTALE   \n",
       "9579788    LAVORO A TEMPO DETERMINATO                 TEMPO PIENO   \n",
       "\n",
       "        PROVINCIAIMPRESA ITALIANO  \n",
       "12               BERGAMO   ITALIA  \n",
       "26               BERGAMO   ITALIA  \n",
       "28               BERGAMO   ITALIA  \n",
       "42               BERGAMO   ITALIA  \n",
       "51                 LECCO   ITALIA  \n",
       "...                  ...      ...  \n",
       "9579758  MONZA E BRIANZA   ITALIA  \n",
       "9579764  MONZA E BRIANZA   ITALIA  \n",
       "9579766  MONZA E BRIANZA   EGITTO  \n",
       "9579777  MONZA E BRIANZA   ITALIA  \n",
       "9579788          BERGAMO  ALGERIA  \n",
       "\n",
       "[1566041 rows x 9 columns]"
      ]
     },
     "execution_count": 19,
     "metadata": {},
     "output_type": "execute_result"
    }
   ],
   "source": [
    "rap_lavoro_attivati = rap_lavoro_attivati[\n",
    "    rap_lavoro_attivati.SETTOREECONOMICODETTAGLIO.isin(common)]\n",
    "rap_lavoro_attivati"
   ]
  },
  {
   "cell_type": "code",
   "execution_count": 20,
   "id": "8c23f4ad",
   "metadata": {},
   "outputs": [
    {
     "data": {
      "text/plain": [
       "[14, 17, 20, 23, 26, 29, 32, 35, 38, 41, 44, 47, 50, 53, 56, 59, 62, 65]"
      ]
     },
     "execution_count": 20,
     "metadata": {},
     "output_type": "execute_result"
    }
   ],
   "source": [
    "bins = np.arange(14, 68, 3).tolist()\n",
    "bins"
   ]
  },
  {
   "cell_type": "code",
   "execution_count": 21,
   "id": "8194ae2c",
   "metadata": {},
   "outputs": [
    {
     "data": {
      "text/html": [
       "<div>\n",
       "<style scoped>\n",
       "    .dataframe tbody tr th:only-of-type {\n",
       "        vertical-align: middle;\n",
       "    }\n",
       "\n",
       "    .dataframe tbody tr th {\n",
       "        vertical-align: top;\n",
       "    }\n",
       "\n",
       "    .dataframe thead th {\n",
       "        text-align: right;\n",
       "    }\n",
       "</style>\n",
       "<table border=\"1\" class=\"dataframe\">\n",
       "  <thead>\n",
       "    <tr style=\"text-align: right;\">\n",
       "      <th></th>\n",
       "      <th>DATA</th>\n",
       "      <th>GENERE</th>\n",
       "      <th>ETA</th>\n",
       "      <th>SETTOREECONOMICODETTAGLIO</th>\n",
       "      <th>TITOLOSTUDIO</th>\n",
       "      <th>CONTRATTO</th>\n",
       "      <th>MODALITALAVORO</th>\n",
       "      <th>PROVINCIAIMPRESA</th>\n",
       "      <th>ITALIANO</th>\n",
       "      <th>agerange</th>\n",
       "    </tr>\n",
       "  </thead>\n",
       "  <tbody>\n",
       "    <tr>\n",
       "      <th>12</th>\n",
       "      <td>2019-09-05</td>\n",
       "      <td>F</td>\n",
       "      <td>34</td>\n",
       "      <td>Istruzione di grado preparatorio: scuole dell'...</td>\n",
       "      <td>LAUREA - Vecchio o nuovo ordinamento</td>\n",
       "      <td>LAVORO A TEMPO INDETERMINATO</td>\n",
       "      <td>TEMPO PARZIALE ORIZZONTALE</td>\n",
       "      <td>BERGAMO</td>\n",
       "      <td>ITALIA</td>\n",
       "      <td>(32, 35]</td>\n",
       "    </tr>\n",
       "    <tr>\n",
       "      <th>26</th>\n",
       "      <td>2017-12-06</td>\n",
       "      <td>F</td>\n",
       "      <td>26</td>\n",
       "      <td>Bar e altri esercizi simili senza cucina</td>\n",
       "      <td>NESSUN TITOLO DI STUDIO</td>\n",
       "      <td>LAVORO INTERMITTENTE</td>\n",
       "      <td>NON DEFINITO</td>\n",
       "      <td>BERGAMO</td>\n",
       "      <td>ITALIA</td>\n",
       "      <td>(23, 26]</td>\n",
       "    </tr>\n",
       "    <tr>\n",
       "      <th>28</th>\n",
       "      <td>2019-08-04</td>\n",
       "      <td>F</td>\n",
       "      <td>45</td>\n",
       "      <td>Attività di famiglie e convivenze come datori ...</td>\n",
       "      <td>NESSUN TITOLO DI STUDIO</td>\n",
       "      <td>LAVORO DOMESTICO</td>\n",
       "      <td>TEMPO PIENO</td>\n",
       "      <td>BERGAMO</td>\n",
       "      <td>ITALIA</td>\n",
       "      <td>(44, 47]</td>\n",
       "    </tr>\n",
       "    <tr>\n",
       "      <th>42</th>\n",
       "      <td>2018-10-12</td>\n",
       "      <td>F</td>\n",
       "      <td>24</td>\n",
       "      <td>Ristorazione con somministrazione</td>\n",
       "      <td>DIPLOMA DI ISTRUZIONE SECONDARIA SUPERIORE  CH...</td>\n",
       "      <td>LAVORO INTERMITTENTE</td>\n",
       "      <td>NON DEFINITO</td>\n",
       "      <td>BERGAMO</td>\n",
       "      <td>ITALIA</td>\n",
       "      <td>(23, 26]</td>\n",
       "    </tr>\n",
       "    <tr>\n",
       "      <th>51</th>\n",
       "      <td>2019-09-09</td>\n",
       "      <td>M</td>\n",
       "      <td>47</td>\n",
       "      <td>Fabbricazione di strutture metalliche e parti ...</td>\n",
       "      <td>NESSUN TITOLO DI STUDIO</td>\n",
       "      <td>LAVORO A TEMPO INDETERMINATO</td>\n",
       "      <td>TEMPO PIENO</td>\n",
       "      <td>LECCO</td>\n",
       "      <td>ITALIA</td>\n",
       "      <td>(44, 47]</td>\n",
       "    </tr>\n",
       "    <tr>\n",
       "      <th>...</th>\n",
       "      <td>...</td>\n",
       "      <td>...</td>\n",
       "      <td>...</td>\n",
       "      <td>...</td>\n",
       "      <td>...</td>\n",
       "      <td>...</td>\n",
       "      <td>...</td>\n",
       "      <td>...</td>\n",
       "      <td>...</td>\n",
       "      <td>...</td>\n",
       "    </tr>\n",
       "    <tr>\n",
       "      <th>9579758</th>\n",
       "      <td>2018-03-09</td>\n",
       "      <td>M</td>\n",
       "      <td>29</td>\n",
       "      <td>Ristorazione con somministrazione</td>\n",
       "      <td>NESSUN TITOLO DI STUDIO</td>\n",
       "      <td>LAVORO INTERMITTENTE</td>\n",
       "      <td>NON DEFINITO</td>\n",
       "      <td>MONZA E BRIANZA</td>\n",
       "      <td>ITALIA</td>\n",
       "      <td>(26, 29]</td>\n",
       "    </tr>\n",
       "    <tr>\n",
       "      <th>9579764</th>\n",
       "      <td>2018-03-01</td>\n",
       "      <td>F</td>\n",
       "      <td>41</td>\n",
       "      <td>Bar e altri esercizi simili senza cucina</td>\n",
       "      <td>TITOLO DI ISTRUZIONE SECONDARIA SUPERIORE (SCO...</td>\n",
       "      <td>LAVORO A TEMPO INDETERMINATO</td>\n",
       "      <td>TEMPO PARZIALE ORIZZONTALE</td>\n",
       "      <td>MONZA E BRIANZA</td>\n",
       "      <td>ITALIA</td>\n",
       "      <td>(38, 41]</td>\n",
       "    </tr>\n",
       "    <tr>\n",
       "      <th>9579766</th>\n",
       "      <td>2017-03-02</td>\n",
       "      <td>M</td>\n",
       "      <td>45</td>\n",
       "      <td>Costruzione di edifici residenziali e non resi...</td>\n",
       "      <td>NESSUN TITOLO DI STUDIO</td>\n",
       "      <td>LAVORO A TEMPO DETERMINATO</td>\n",
       "      <td>TEMPO PIENO</td>\n",
       "      <td>MONZA E BRIANZA</td>\n",
       "      <td>EGITTO</td>\n",
       "      <td>(44, 47]</td>\n",
       "    </tr>\n",
       "    <tr>\n",
       "      <th>9579777</th>\n",
       "      <td>2018-04-05</td>\n",
       "      <td>F</td>\n",
       "      <td>35</td>\n",
       "      <td>Mense</td>\n",
       "      <td>LICENZA MEDIA</td>\n",
       "      <td>LAVORO A TEMPO DETERMINATO</td>\n",
       "      <td>TEMPO PARZIALE ORIZZONTALE</td>\n",
       "      <td>MONZA E BRIANZA</td>\n",
       "      <td>ITALIA</td>\n",
       "      <td>(32, 35]</td>\n",
       "    </tr>\n",
       "    <tr>\n",
       "      <th>9579788</th>\n",
       "      <td>2019-07-08</td>\n",
       "      <td>M</td>\n",
       "      <td>40</td>\n",
       "      <td>Lavori di meccanica generale</td>\n",
       "      <td>LICENZA MEDIA</td>\n",
       "      <td>LAVORO A TEMPO DETERMINATO</td>\n",
       "      <td>TEMPO PIENO</td>\n",
       "      <td>BERGAMO</td>\n",
       "      <td>ALGERIA</td>\n",
       "      <td>(38, 41]</td>\n",
       "    </tr>\n",
       "  </tbody>\n",
       "</table>\n",
       "<p>1566041 rows × 10 columns</p>\n",
       "</div>"
      ],
      "text/plain": [
       "              DATA GENERE  ETA  \\\n",
       "12      2019-09-05      F   34   \n",
       "26      2017-12-06      F   26   \n",
       "28      2019-08-04      F   45   \n",
       "42      2018-10-12      F   24   \n",
       "51      2019-09-09      M   47   \n",
       "...            ...    ...  ...   \n",
       "9579758 2018-03-09      M   29   \n",
       "9579764 2018-03-01      F   41   \n",
       "9579766 2017-03-02      M   45   \n",
       "9579777 2018-04-05      F   35   \n",
       "9579788 2019-07-08      M   40   \n",
       "\n",
       "                                 SETTOREECONOMICODETTAGLIO  \\\n",
       "12       Istruzione di grado preparatorio: scuole dell'...   \n",
       "26                Bar e altri esercizi simili senza cucina   \n",
       "28       Attività di famiglie e convivenze come datori ...   \n",
       "42                       Ristorazione con somministrazione   \n",
       "51       Fabbricazione di strutture metalliche e parti ...   \n",
       "...                                                    ...   \n",
       "9579758                  Ristorazione con somministrazione   \n",
       "9579764           Bar e altri esercizi simili senza cucina   \n",
       "9579766  Costruzione di edifici residenziali e non resi...   \n",
       "9579777                                              Mense   \n",
       "9579788                       Lavori di meccanica generale   \n",
       "\n",
       "                                              TITOLOSTUDIO  \\\n",
       "12                    LAUREA - Vecchio o nuovo ordinamento   \n",
       "26                                 NESSUN TITOLO DI STUDIO   \n",
       "28                                 NESSUN TITOLO DI STUDIO   \n",
       "42       DIPLOMA DI ISTRUZIONE SECONDARIA SUPERIORE  CH...   \n",
       "51                                 NESSUN TITOLO DI STUDIO   \n",
       "...                                                    ...   \n",
       "9579758                            NESSUN TITOLO DI STUDIO   \n",
       "9579764  TITOLO DI ISTRUZIONE SECONDARIA SUPERIORE (SCO...   \n",
       "9579766                            NESSUN TITOLO DI STUDIO   \n",
       "9579777                                      LICENZA MEDIA   \n",
       "9579788                                      LICENZA MEDIA   \n",
       "\n",
       "                            CONTRATTO              MODALITALAVORO  \\\n",
       "12       LAVORO A TEMPO INDETERMINATO  TEMPO PARZIALE ORIZZONTALE   \n",
       "26               LAVORO INTERMITTENTE                NON DEFINITO   \n",
       "28                   LAVORO DOMESTICO                 TEMPO PIENO   \n",
       "42               LAVORO INTERMITTENTE                NON DEFINITO   \n",
       "51       LAVORO A TEMPO INDETERMINATO                 TEMPO PIENO   \n",
       "...                               ...                         ...   \n",
       "9579758          LAVORO INTERMITTENTE                NON DEFINITO   \n",
       "9579764  LAVORO A TEMPO INDETERMINATO  TEMPO PARZIALE ORIZZONTALE   \n",
       "9579766    LAVORO A TEMPO DETERMINATO                 TEMPO PIENO   \n",
       "9579777    LAVORO A TEMPO DETERMINATO  TEMPO PARZIALE ORIZZONTALE   \n",
       "9579788    LAVORO A TEMPO DETERMINATO                 TEMPO PIENO   \n",
       "\n",
       "        PROVINCIAIMPRESA ITALIANO  agerange  \n",
       "12               BERGAMO   ITALIA  (32, 35]  \n",
       "26               BERGAMO   ITALIA  (23, 26]  \n",
       "28               BERGAMO   ITALIA  (44, 47]  \n",
       "42               BERGAMO   ITALIA  (23, 26]  \n",
       "51                 LECCO   ITALIA  (44, 47]  \n",
       "...                  ...      ...       ...  \n",
       "9579758  MONZA E BRIANZA   ITALIA  (26, 29]  \n",
       "9579764  MONZA E BRIANZA   ITALIA  (38, 41]  \n",
       "9579766  MONZA E BRIANZA   EGITTO  (44, 47]  \n",
       "9579777  MONZA E BRIANZA   ITALIA  (32, 35]  \n",
       "9579788          BERGAMO  ALGERIA  (38, 41]  \n",
       "\n",
       "[1566041 rows x 10 columns]"
      ]
     },
     "execution_count": 21,
     "metadata": {},
     "output_type": "execute_result"
    }
   ],
   "source": [
    "rap_lavoro_attivati['agerange'] = pd.cut(rap_lavoro_attivati['ETA'], bins)\n",
    "rap_lavoro_attivati"
   ]
  },
  {
   "cell_type": "markdown",
   "id": "03d32ffc",
   "metadata": {},
   "source": [
    "In the `rap_lavoro_attivati` there are a lot of null values for the column `MODALITALAVORO`, removing the rows would reduce the set of data we are analysing. Hence, we'd rather prefer to fill those null values with a suitable values. \n",
    "\n",
    "The value `NON DEFINITO` can be used to fill the na, since that won't introduce much bias, differently from the other available values. "
   ]
  },
  {
   "cell_type": "code",
<<<<<<< HEAD
   "execution_count": 22,
   "id": "9e6fb2ba",
   "metadata": {},
   "outputs": [
    {
     "data": {
      "text/plain": [
       "DATA                         0\n",
       "GENERE                       0\n",
       "ETA                          0\n",
       "SETTOREECONOMICODETTAGLIO    0\n",
       "TITOLOSTUDIO                 0\n",
       "CONTRATTO                    0\n",
       "MODALITALAVORO               0\n",
       "PROVINCIAIMPRESA             0\n",
       "ITALIANO                     0\n",
       "agerange                     0\n",
       "dtype: int64"
      ]
     },
     "execution_count": 22,
     "metadata": {},
     "output_type": "execute_result"
    }
   ],
=======
   "execution_count": null,
   "id": "9e6fb2ba",
   "metadata": {},
   "outputs": [],
>>>>>>> achille
   "source": [
    "def clean(df):\n",
    "    df['MODALITALAVORO'] = df['MODALITALAVORO'].fillna('NON DEFINITO')\n",
    "    df.dropna(axis = 0, inplace = True)\n",
    "    \n",
    "\n",
    "clean(rap_lavoro_attivati)\n",
    "rap_lavoro_attivati.isnull().sum()"
   ]
  },
  {
   "cell_type": "markdown",
<<<<<<< HEAD
   "id": "b2536b2d",
   "metadata": {},
   "source": [
    "#### Working on column `DATA`\n",
    "In this section we will analyze in more detail the column `DATA` and adjust the data accordingly.\n",
    "The first step is to group the column by year and count how many contract are activated per year"
=======
   "id": "4586495e",
   "metadata": {},
   "source": [
    "### Column GENERE\n",
    "Now we will try to understand if the gender and the contract type are related"
>>>>>>> achille
   ]
  },
  {
   "cell_type": "code",
<<<<<<< HEAD
   "execution_count": 23,
   "id": "6dec156b",
   "metadata": {},
   "outputs": [
    {
     "name": "stdout",
     "output_type": "stream",
     "text": [
      "DATA\n",
      "2017-12-31    495618\n",
      "2018-12-31    527916\n",
      "2019-12-31    526889\n",
      "Freq: A-DEC, Name: DATA, dtype: int64\n"
     ]
    }
   ],
   "source": [
    "print(rap_lavoro_attivati.groupby(pd.Grouper(key='DATA', freq='Y'))['DATA'].count())"
   ]
  },
  {
   "cell_type": "markdown",
   "id": "197ea8d6",
   "metadata": {},
   "source": [
    "as is possible to see meany of the value have date between 2009 and 2022, so to have a more significant set of data we will remove all the row with date previous to 2009"
   ]
  },
  {
   "cell_type": "code",
   "execution_count": 24,
   "id": "63eb301e",
   "metadata": {},
   "outputs": [],
   "source": [
    "rap_lavoro_attivati = rap_lavoro_attivati[(rap_lavoro_attivati[\"DATA\"] >= '2009')]\n",
    "attivatiTemp = rap_lavoro_attivati[(rap_lavoro_attivati[\"DATA\"] >= '2009')]"
   ]
  },
  {
   "cell_type": "code",
   "execution_count": 25,
   "id": "99ef8b4a",
   "metadata": {},
   "outputs": [
    {
     "name": "stdout",
     "output_type": "stream",
     "text": [
      "DATA\n",
      "2017-12-31    495618\n",
      "2018-12-31    527916\n",
      "2019-12-31    526889\n",
      "Freq: A-DEC, Name: DATA, dtype: int64\n"
     ]
    }
   ],
   "source": [
    "print(attivatiTemp.groupby(pd.Grouper(key='DATA', freq='Y'))['DATA'].count())"
   ]
  },
  {
   "cell_type": "markdown",
   "id": "a5b9d260",
   "metadata": {},
   "source": [
    "With this we can see how many contract have been activated in the last few years in the Lombardy region."
   ]
  },
  {
   "cell_type": "code",
   "execution_count": 26,
   "id": "1f28038e",
   "metadata": {},
   "outputs": [
    {
     "data": {
      "image/png": "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\n",
      "text/plain": [
       "<Figure size 432x288 with 1 Axes>"
      ]
     },
     "metadata": {
      "needs_background": "light"
     },
     "output_type": "display_data"
    }
   ],
   "source": [
    "attivatiTemp.groupby(pd.Grouper(key='DATA', freq='Y'))['DATA'].count().plot(label=\"attivati\", kind='bar')\n",
    "\n",
    "plt.legend()\n",
=======
   "execution_count": null,
   "id": "0ab868f9",
   "metadata": {},
   "outputs": [],
   "source": [
    "gender_df = rap_lavoro_attivati[['GENERE', \"CONTRATTO\"]]\n",
    "gender_df = gender_df[gender_df['CONTRATTO'] == 'LAVORO A TEMPO INDETERMINATO']\n",
    "group_gender = gender_df.groupby(['GENERE']).count()\n",
    "\n",
    "group_gender.loc[:, 'CONTRATTO'] = 100*group_gender[\"CONTRATTO\"]/rap_lavoro_attivati.groupby(['GENERE']).count()['CONTRATTO']\n",
    "\n",
    "fig, ax = plt.subplots()\n",
    "colors = ['green', 'blue']\n",
    "ax.bar(group_gender.index, group_gender['CONTRATTO'], color=colors)\n",
    "ax.set_ylabel('Contratti tempo indeterminato')\n",
    "plt.show()\n",
    "################\n",
    "gender_df = rap_lavoro_attivati[['GENERE', \"CONTRATTO\"]]\n",
    "gender_df = gender_df[gender_df['CONTRATTO'] == 'LAVORO A TEMPO DETERMINATO']\n",
    "group_gender = gender_df.groupby(['GENERE']).count()\n",
    "group_gender.loc[:, 'CONTRATTO'] = 100*group_gender[\"CONTRATTO\"]/rap_lavoro_attivati.groupby(['GENERE']).count()['CONTRATTO']\n",
    "\n",
    "fig, ax = plt.subplots()\n",
    "colors = ['green', 'blue']\n",
    "ax.bar(group_gender.index, group_gender['CONTRATTO'], color=colors)\n",
    "ax.set_ylabel('Contratti tempo determinato')\n",
    "plt.show()\n",
    "#################\n",
    "gender_df = rap_lavoro_attivati[['GENERE', \"CONTRATTO\"]]\n",
    "gender_df = gender_df[gender_df['CONTRATTO'] == 'TIROCINIO']\n",
    "group_gender = gender_df.groupby(['GENERE']).count()\n",
    "group_gender.loc[:, 'CONTRATTO'] = 100*group_gender[\"CONTRATTO\"]/rap_lavoro_attivati.groupby(['GENERE']).count()['CONTRATTO']\n",
    "\n",
    "fig, ax = plt.subplots()\n",
    "colors = ['green', 'blue']\n",
    "ax.bar(group_gender.index, group_gender['CONTRATTO'], color=colors)\n",
    "ax.set_ylabel('Tirocinio')\n",
>>>>>>> achille
    "plt.show()"
   ]
  },
  {
   "cell_type": "markdown",
   "id": "05024658",
   "metadata": {},
   "source": [
<<<<<<< HEAD
    "the next graph show the percentrage difference between male and female "
=======
    "They seem to be highly correlated. Sadly we notice that over all the started contracts, women are hired in an open-ended contract in $\\sim{10}\\%$ of the number of contracts, while men get a $\\sim14\\%$ over the total number. This is a *huge* inequality. The same (but opposite) happens for internships, indeed women are on $\\sim 4\\%$, while men are at $\\sim 3\\%$. "
>>>>>>> achille
   ]
  },
  {
   "cell_type": "code",
<<<<<<< HEAD
   "execution_count": 27,
   "id": "a8ae6432",
   "metadata": {},
   "outputs": [
    {
     "data": {
      "text/plain": [
       "(-1.1055715593848623,\n",
       " 1.1107916016555455,\n",
       " -1.1082334257017286,\n",
       " 1.1003920678905585)"
      ]
     },
     "execution_count": 27,
     "metadata": {},
     "output_type": "execute_result"
    },
    {
     "data": {
      "image/png": "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\n",
      "text/plain": [
       "<Figure size 600x400 with 1 Axes>"
      ]
     },
     "metadata": {},
     "output_type": "display_data"
    }
   ],
   "source": [
    "m_to_f_rationA = rap_lavoro_attivati.GENERE.value_counts()\n",
    "\n",
    "xaxisA = m_to_f_rationA.index\n",
    "valueA = m_to_f_rationA.values\n",
    "\n",
    "fig1, axis = plt.subplots(1)\n",
    "fig1.dpi = 100\n",
    "\n",
    "#Attivati male to female Graph\n",
    "axis.pie(valueA, labels=xaxisA, autopct='%1.1f%%', startangle=90)\n",
    "axis.axis('equal')  # Equal aspect ratio ensures that pie is drawn as a circle.\n"
=======
   "execution_count": null,
   "id": "005fea46",
   "metadata": {},
   "outputs": [],
   "source": [
    "set(rap_lavoro_attivati['CONTRATTO'])"
>>>>>>> achille
   ]
  },
  {
   "cell_type": "markdown",
   "id": "50396697",
   "metadata": {},
   "source": [
    "### Dividing by age group\n",
    "For a better reading of the data we create a new column for the age group"
   ]
  },
  {
   "cell_type": "code",
   "execution_count": null,
   "id": "7c16e240",
   "metadata": {},
   "outputs": [],
   "source": [
    "bins = np.arange(14, 68, 3).tolist()\n",
    "bins"
   ]
  },
  {
   "cell_type": "code",
   "execution_count": null,
   "id": "53d85a65",
   "metadata": {},
   "outputs": [],
   "source": [
    "bins = np.arange(14, 68, 3).tolist()\n",
    "rap_lavoro_attivati['agerange'] = pd.cut(rap_lavoro_attivati['ETA'], bins)\n",
    "rap_lavoro_attivati"
   ]
  },
  {
   "cell_type": "code",
   "execution_count": null,
   "id": "f1de71f5",
   "metadata": {},
   "outputs": [],
   "source": [
    "rap_lavoro_attivati.dropna(axis = 0, inplace = True)"
   ]
  },
  {
   "cell_type": "code",
   "execution_count": null,
   "id": "27731091",
   "metadata": {},
   "outputs": [],
   "source": [
    "testAge = rap_lavoro_attivati.agerange.value_counts()\n",
    "\n",
    "labels = testAge.index\n",
    "newContract = np.log(testAge.values)\n",
    "\n",
    "x = np.arange(len(labels))  # the label locations\n",
    "width = 0.35  # the width of the bars\n",
    "\n",
    "fig, ax = plt.subplots()\n",
    "rects1 = ax.bar(x - width/2, newContract, width, label='New Contract')\n",
    "\n",
    "# Add some text for labels, title and custom x-axis tick labels, etc.\n",
    "ax.set_ylabel('number')\n",
    "ax.set_title('number of contract divided by age group')\n",
    "ax.set_xticks(x)\n",
    "ax.set_xticklabels(labels=labels,rotation=45,\n",
    "    horizontalalignment='right');\n",
    "ax.legend()\n",
    "\n",
    "\n",
    "\n",
    "fig.tight_layout()\n",
    "\n",
    "plt.show()"
   ]
  },
  {
   "cell_type": "code",
   "execution_count": null,
   "id": "fc6848f3",
   "metadata": {},
   "outputs": [],
   "source": []
  },
  {
   "cell_type": "markdown",
   "id": "96bcfec9",
   "metadata": {},
   "source": [
    "## Introducing another dataset\n",
    "This dataset contain the level of education for age referred to the region lombardy from the year 2018 to 2020.The educational levels  are encoded in the following way:\n",
    "- NED = nessun titolo di studio\n",
    "- IL =  analfabeti\n",
    "- LBNA = analfabeti privi di titolo di studio\n",
    "- PSE = licenza di scuola elementare\n",
    "- LSE = licenza media o avviamento professionale (conseguito non oltre l'anno 1965)/ Diploma di istruzione secondaria di I grado\n",
    "- USE_IF = Diploma di istruzione secondaria di II grado o di qualifica professionale (corso di 3-4 anni) compresi IFTS\n",
    "- BL = Diploma tecnico superiore ITS o titolo di studio terziario di primo livello\n",
    "- ML_RDD = titolo di studio terziario di secondo livello e dottorato di ricerca\n",
    "- ML = Titolo di studio terziario di secondo livello\n",
    "- RDD = Dottorato di ricerca/diploma accademico di formazione alla ricerca\n",
    "- ALL = totale"
   ]
  },
  {
   "cell_type": "code",
   "execution_count": 28,
   "id": "27731091",
   "metadata": {},
   "outputs": [
    {
     "data": {
      "image/png": "iVBORw0KGgoAAAANSUhEUgAAAagAAAEYCAYAAAAJeGK1AAAAOXRFWHRTb2Z0d2FyZQBNYXRwbG90bGliIHZlcnNpb24zLjMuNCwgaHR0cHM6Ly9tYXRwbG90bGliLm9yZy8QVMy6AAAACXBIWXMAAAsTAAALEwEAmpwYAAAxk0lEQVR4nO3dd7wU1f3/8deHXgSUEhsIdpQiIMQGipqoEY2JJhI7moTYUCxRMfkpMZroN2rsBRt2saWIURO+0djQgIoV5ZsoKmLBChZE4PP745y9zF323ju7d/fuXHg/H4/7uDuzs585OzNnPzNnzsyYuyMiIpI1LapdABERkUKUoEREJJOUoEREJJOUoEREJJOUoEREJJOUoEREJJOUoGQlZjbXzL5TpXmvbWaPmtkiM7ugGmXIAjObbGZnx9cjzOy1lJ97wMwOq+O9PmbmZtaqhPLU+9lqbjOy6ip6QxWpsLHAh0Bnb6KL9MxsJHCLu/esUPyJwCbufnApn3f3x4DNU077vVLmIZJFOoKSiillTx3oDbzSVMkprRK/i6witP6rQwmqmYhNKCeb2Qtm9pmZTTGzdvG9MWb2eN70bmabxNeTzeyK2PzzuZk9YWbrmNlFZvaJmb1qZoPzZjnMzF6J79+Qm1eMt5eZzTKzT83sSTMbmFfOU83sBeCLQhXbzLY3sxnxe8wws+1z5QQOA06J5VypycjM2pvZBWb2Zvz842bWPr73fTN7OZbrETPboqHlZ2YdgQeA9eI8Pzez9cxsopndbWa3mNlCYIyZfdvMpsf475rZZWbWJjGPfmb2DzP72MzeN7PTzWwP4HRgdIz9fB3rd7CZPRubNqcAyeU90szmxdenmdndeZ+92Mwuia8fMbOfxdctzex8M/vQzF4HRuV9rouZXRe/yztmdraZtUzz2ToU3GbM7CUz2zsx39Yx7qACy2EtM5tqZgtinKlm1jPx/oa2ogl4mpldbma3JN7fNm6Tn5rZ8xaOjgsysyFm9lyMdVfcJnLNqiPNbF7clt8DbjCzthbqzPz4d5GZtY3Tp6mDV8XtY5GZ/cvMeqdYpqs3d9dfM/gD5gL/BtYDugKzgSPje2OAx/Omd0KzEsBkQrPZ1oQfvn8CbwCHAi2Bs4GH8+b1EtArzusJ4Oz43hDgA2Cb+NnD4vRtE5+dFT/bvsD36Ap8AhxCaGI+IA53S5T17HqWw+XAI8D6cf7bA22BzYAvgO8CrYFTgP8AbVIsv5HAvLz5TAS+AX5A2JFrH5fftrHcfWKM8XH6TsC7wElxGXcCtknEuqWe79QGeBM4IZb9R3HeZ+eXj3CE+SWhCZS4DN4Fto3DjwA/i6+PBF5NrMeHCdtFq/j+n4GrgY7At+Ly+UWaz9axfda1zZwCTElMuw/wYh1xugH7AR3iMrwL+HPi/enA+XGZDQcW5pZt3CY+AvaM6+y7cbhHPcv8+LjM9wWW5C3zpcB5hO2rPXAW8FRcVj2AJ4HfFlEHFwE7xngX50+vvwLbQ7ULoL+UKyr8ABycGP4f4Kr4Ok3luCbx3jhgdmJ4APBp3ryOTAzvCfw3vr4yVykT778G7JT47BH1fI9DgH/njZsOjEmUtWCCij86XwFbFXjv/wF35k37DjAyxfIbSeEE9WgD62Q88Kf4+gDguTqmm0j9CWpHYD5giXFPUiBBxeHHgUPj6+/m1k0cfoQVCeqfeetxt7hdtALWBr4msRMRv8PDDX22nu2zrm1mPcKPcy6p3g2cknK7HwR8El9vQEgaHRLv38KKBHUqcHPe5x8CDqtjmb+Tt8wfz1vmS4B2iff/C+yZGN4dmFtEHbwj8d4awDKgV5rlsLr+qYmveXkv8fpLwkae1vuJ118VGM6P9Xbi9ZuEHxkIe/AnxSaUT83sU8Je83p1fDbfejFe0puEvd+GdCccnfy3objuvjyWIxm32OVX63uY2Waxyem92Oz3u1gmCMugULnSWA94x+MvV5S/jJJuIyQTgAPjcF1x89djTm/CkcO7ifV4NeHooKHP1qXgNuPu8wlHVPuZ2ZrA94BbCwUwsw5mdrWFJtyFwKPAmrHpcT3gY3f/so559gZ+nLdtDgfWLTCrQss8f7td4O6L8z6TXA7JepFGTXx3/xz4uMjPr3aUoFYNXxCaRAAws3XKELNX4vUGhD18CJXsHHdfM/HXwd1vT0xfXweH+YQfkqQNCHuzDfkQWAxs3FBcM7P4HdLErau8+eOvJDR7berunQnnliy+93Yd5aovfs67wPqxzDkb1DP9XcDIeG7mh9SdoN5l5fWY8zbhCKp7Yj12dvd+KT5bl7q2GYAbgYOBHwPT3b2u9XISocfiNnEZ7xjHWyxTVzPrkJg+Oc+3CUdQyW2zo7ufW2A+hZZ5r7xp8tdb/rab/I5p6mCvxPtrEJpC5xeYTiIlqFXD80A/MxsUT0xPLEPMY8ysp5l1JfwQT4njrwGONLNtLOhoZqPMrFPKuH8DNjOzA82slZmNBrYEpjb0wXhUdD1woYWODC3NbLt4ovpOYJSZ7WpmrQk/dF8Tmsoa8j7Qzcy6NDBdJ8I5j8/NrC9wVOK9qcA6ZjY+nkzvZGbbJOL3MbO66tt0QtPVcXGZ7At8u65CuPsCQlPeDcAb7j67jknvjDF7mtlawGmJGO8CfwcuMLPOZtbCzDY2s50a+mw96tpmIJzvGkI453NTPTE6EY7oP41xzkyU+U1gJjDRzNqY2XbA3onP3gLsbWa7x22jXezsUOjygemEJrZj4zLfh3qWeXQ78Gsz62Fm3YEz4jwhXR3c08yGW+hY81vgaXevr7VhtacEtQpw9zmEE7jTgP8jtKU31m2EH7DX49/ZcV4zgZ8DlxE6N/yH0P6etqwfAXsREshHhBPoe7n7hylDnAy8CMwgNJGcB7Rw99cIe+iXEo609gb2dvclKcr0KuHH5/XYNFRXs8vJhCa1RYREXfMD7O6LCOeD9iY0Jf4fsHN8+674/yMze7bA/JcQTtKPISzT0cC9DRT7NuA71H30RCzjQ4Qfz2cLxDyU0FnglTjfu1nRHNbQZ+sq00rbDIC7fwXcA2zYQKyLCB0SPiR0SHgw7/2DgO0I287ZhHXwdZzH24QOGKcDCwhHVL+kwO9cYpn/FPiUsO1MzcWqw9mEBPkCYRt8lhX1Ik0dvI2QcD8mdLg5qJ55CfEEoYhIpZnZGcBmXuIFy3XEnAK86u5nNjhxw7GeJnScuaHxJVsp9mRCR5dflzv2qkxHUCJScbG57qfApEbGGRabIltYuMZsH0LzYSmxdrJwPWArC7eHGsjKR2xSRUpQIlJRZvZzQnPbA+7+aCPDrUM4//Y5cAlwlLs/V2KszQlNmJ8Rmpx/FM/NSUaoiU9ERDJJR1AiIpJJzeIGiN27d/c+ffpUuxgiIlIBzzzzzIfu3iN/fLNIUH369GHmzJnVLoaIiFSAmRW8U4ma+EREJJOUoEREJJOUoEREJJOaxTkoEZG0vvnmG+bNm8fixYsbnliaVLt27ejZsyetW7dONb0SlIisUubNm0enTp3o06cPtW9WLtXk7nz00UfMmzePDTfcMNVn1MQnIquUxYsX061bNyWnjDEzunXrVtSRbcUSlJldb2YfmNlLiXF/MLNXzewFM/tTfHiZiEhZKTllU7HrpZJHUJOBPfLG/QPo7+4DgTnAhArOX0REmrGKnYNy90fNrE/euL8nBp8CflSp+efrc9r9db4399xRTVUMEWli9dX9UqT5vTAzTjzxRC644AIAzj//fD7//HMmTpxYtnLMmTOH8ePHM2fOHFq3bs2AAQO49NJLWXvttYuO9bvf/Y7TTz+9LOWaNWsW8+fPZ88992x0rGp2kjiC2k/crMXMxgJjATbYIM3Tppuekp6IFNK2bVvuvfdeJkyYQPfu3csef/HixYwaNYoLL7yQvfcODxV++OGHWbBgQVkTlLvj7rRokb6xbdasWcycObMsCaoqnSTM7FeER1zfWtc07j7J3Ye6+9AePVa6RZOISGa1atWKsWPH8sc//nGl9xYsWMB+++3HsGHDGDZsGE888QQAAwYM4NNPP8Xd6datGzfddBMAhxxyCNOmTasV47bbbmO77barSU4AO++8M/3792fx4sUcfvjhDBgwgMGDB/Pwww8DMHnyZPbdd1/22GMPNt10U0455RQATjvtNL766isGDRrEQQcdxNy5c9liiy04+uijGTJkCG+//TZHHXUUQ4cOpV+/fpx55opnQ86YMYPtt9+erbbaim9/+9t89tlnnHHGGUyZMoVBgwYxZUqdxyDplmOjPl2C+GCwvYBdXc/6WImOykRWDccccwwDBw6sSQQ5xx9/PCeccALDhw/nrbfeYvfdd2f27NnssMMOPPHEE/Tu3ZuNNtqIxx57jEMPPZSnnnqKK6+8slaMl156ia233rrgfC+//HIAXnzxRV599VV222035syZA4Sjm+eee462bduy+eabM27cOM4991wuu+wyZs2aBcDcuXN57bXXuOGGG7jiiisAOOecc+jatSvLli1j11135YUXXqBv376MHj2aKVOmMGzYMBYuXEiHDh0466yzmDlzJpdddlmjl2GTJqj4BMxTgZ3c/cumnLeISFPq3Lkzhx56KJdccgnt27evGT9t2jReeeWVmuGFCxeyaNEiRowYwaOPPkrv3r056qijmDRpEu+88w5du3ZljTXWSD3fxx9/nHHjxgHQt29fevfuXZOgdt11V7p06QLAlltuyZtvvkmvXr1WitG7d2+23XbbmuE777yTSZMmsXTpUt59911eeeUVzIx1112XYcOG1XzfcqtYgjKz24GRQHczmwecSei11xb4R+xu+JS7H1mpMkigozKR6hg/fjxDhgzh8MMPrxm3fPlypk+fXitpAey4445cfvnlvPXWW5xzzjn86U9/4u6772bEiBErxe3Xrx//+te/Cs6zvoaptm3b1rxu2bIlS5cuLThdx44da16/8cYbnH/++cyYMYO11lqLMWPGsHjxYty94t35K9mL74ACo6+r1PykaVUi6SmRyqqma9eu7L///lx33XUcccQRAOy2225cdtll/PKXvwRCs9ugQYPo1asXH374IUuWLGGjjTZi+PDhnH/++QWbyg488EB+//vfc//99zNqVKgbDz74IOuvvz477rgjt956K7vssgtz5szhrbfeYvPNN+fZZ5+ts5ytW7fmm2++KXgLooULF9KxY0e6dOnC+++/zwMPPMDIkSPp27cv8+fPZ8aMGQwbNoxFixbRvn17OnXqxKJFi8qx+HSrI1m1KelJtdfzSSedVCvJXHLJJTXnp5YuXcqOO+7IVVddBcA222zDsmXLABgxYgQTJkxg+PDhK8Vs3749U6dOZfz48YwfP57WrVszcOBALr74Yo4++miOPPJIBgwYQKtWrZg8eXKtI6dCxo4dy8CBAxkyZAjnnHNOrfe22morBg8eTL9+/dhoo43YYYcdAGjTpg1Tpkxh3LhxfPXVV7Rv355p06ax8847c+655zJo0CAmTJjA6NGjS152SlAiRdLRozTk888/r3m99tpr8+WXK065d+/evc7ebTfffHPN6+23357ly5fXOY++ffvy4IMPFnxv8uTJK40bM2YMY8aMqRmeOnVqzevzzjuP8847r2b4pZdeSn60YDyAYcOG8dRTT600fsaMGXWWuxhKUCKrKCU9ae50s1gREckkHUGJSCoN3TIoS0dlTdHDTIpX7KWvOoISkVVKu3bt+Oijj4r+MZTKyj0Pql27dqk/oyMoEVml9OzZk3nz5rFgwYJqF0Xy5J6om5YSlIhUTSWaDVu3bp36ia2SbWriExGRTFKCEhGRTFKCEhGRTNI5KBFZpTSn7vBSPx1BiYhIJilBiYhIJilBiYhIJilBiYhIJilBiYhIJqkXn4hIA9QzsDp0BCUiIpmkBCUiIpmkBCUiIpmkBCUiIpmkBCUiIpmkBCUiIplUsW7mZnY9sBfwgbv3j+O6AlOAPsBcYH93/6RSZRARySp1XW9YJY+gJgN75I07Dfhfd98U+N84LCIispKKJSh3fxT4OG/0PsCN8fWNwA8qNX8REWnemvoc1Nru/i5A/P+tuiY0s7FmNtPMZi5YsKDJCigiItmQ2U4S7j7J3Ye6+9AePXpUuzgiItLEmjpBvW9m6wLE/x808fxFRKSZaOoE9VfgsPj6MOAvTTx/ERFpJiqWoMzsdmA6sLmZzTOznwLnAt81s/8DvhuHRUREVlKx66Dc/YA63tq1UvMUEZFVR2Y7SYiIyOpNDywUEVlFrGp3p9ARlIiIZJISlIiIZJISlIiIZJISlIiIZJISlIiIZJISlIiIZJISlIiIZJISlIiIZJISlIiIZJISlIiIZJISlIiIZJISlIiIZJJuFisiInWq7wa0lb75rI6gREQkk5SgREQkk5SgREQkk5SgREQkk5SgREQkk5SgREQkk5SgREQkk5SgREQkk5SgREQkk6qSoMzsBDN72cxeMrPbzaxdNcohIiLZ1eQJyszWB44Dhrp7f6Al8JOmLoeIiGRbtZr4WgHtzawV0AGYX6VyiIhIRjV5gnL3d4DzgbeAd4HP3P3v+dOZ2Vgzm2lmMxcsWNDUxRQRkSqrRhPfWsA+wIbAekBHMzs4fzp3n+TuQ919aI8ePZq6mCIiUmXVaOL7DvCGuy9w92+Ae4Htq1AOERHJsGokqLeAbc2sg5kZsCswuwrlEBGRDKvGOaingbuBZ4EXYxkmNXU5REQk26ryRF13PxM4sxrzFhGR5kF3khARkUxSghIRkUxSghIRkUxSghIRkUxSghIRkUxqMEGZWUszm9YUhREREclpMEG5+zLgSzPr0gTlERERAdJfB7UYeNHM/gF8kRvp7sdVpFQiIrLaS5ug7o9/IiIiTSJVgnL3G82sPbCBu79W4TKJiIik68VnZnsDs4AH4/AgM/trBcslIiKrubTdzCcC3wY+BXD3WYTnOYmIiFRE2gS11N0/yxvn5S6MiIhITtpOEi+Z2YFASzPbFDgOeLJyxRIRkdVd2iOocUA/4GvgdmAhML5CZRIREUndi+9L4Fdmdl4Y9EWVLZaIiKzu0vbiG2ZmLwIvEC7Yfd7Mtq5s0UREZHWW9hzUdcDR7v4YgJkNB24ABlaqYCIisnpLew5qUS45Abj744Ca+UREpGLqPYIysyHx5b/N7GpCBwkHRgOPVLZoIiKyOmuoie+CvOEzE691HZSIiFRMvQnK3XduqoKIiIgkpeokYWZrAocCfZKf0eM2RESkUtL24vsb8BTwIrC8csUREREJ0iaodu5+YrlmGo/IrgX6E85lHeHu08sVX0REmr+0CepmM/s5MJVwuyMA3P3jEud7MfCgu//IzNoAHUqMIyIiq6i0CWoJ8AfgV6zovefARsXO0Mw6AzsCYwDcfUmMLyIiUiNtgjoR2MTdPyzDPDcCFgA3mNlWwDPA8e7+RXIiMxsLjAXYYIMNyjBbERFpTtLeSeJl4MsyzbMVMAS40t0HA18Ap+VP5O6T3H2ouw/t0aNHmWYtIiLNRdojqGXALDN7mNrnoErpZj4PmOfuT8fhuymQoEREZPWWNkH9Of41mru/Z2Zvm9nm7v4asCvwSjlii4jIqiPt86BuLPN8xwG3xh58rwOHlzm+iIg0c2nvJPEGBe695+5F9+KLn5sFDC3lsyIisnpI28SXTCbtgB8DXctfHBERkSBVLz53/yjx9467XwTsUtmiiYjI6ixtE9+QxGALwhFVp4qUSEREhPRNfBew4hzUUmAuoZlPRESkItImqO8B+1H7cRs/Ac6qQJlERESKug7qU+BZYHGlCiMiIpKTNkH1dPc9KloSERGRhLT34nvSzAZUtCQiIiIJaY+ghgNj4gW7XwMGuLsPrFjJRERktVZMJwkREZEmk/ZefG9WuiAiIiJJac9BiYiINCklKBERySQlKBERySQlKBERySQlKBERySQlKBERySQlKBERySQlKBERySQlKBERySQlKBERySQlKBERySQlKBERySQlKBERyaSqJSgza2lmz5nZ1GqVQUREsquaR1DHA7OrOH8REcmwqiQoM+sJjAKurcb8RUQk+6p1BHURcAqwvK4JzGysmc00s5kLFixosoKJiEg2NHmCMrO9gA/c/Zn6pnP3Se4+1N2H9ujRo4lKJyIiWVGNI6gdgO+b2VzgDmAXM7ulCuUQEZEMa/IE5e4T3L2nu/cBfgL8090PbupyiIhItuk6KBERyaRW1Zy5uz8CPFLNMoiISDbpCEpERDJJCUpERDJJCUpERDJJCUpERDJJCUpERDJJCUpERDJJCUpERDJJCUpERDJJCUpERDJJCUpERDJJCUpERDJJCUpERDJJCUpERDJJCUpERDJJCUpERDJJCUpERDJJCUpERDJJCUpERDJJCUpERDJJCUpERDJJCUpERDJJCUpERDJJCUpERDJJCUpERDKpyROUmfUys4fNbLaZvWxmxzd1GUREJPtaVWGeS4GT3P1ZM+sEPGNm/3D3V6pQFhERyagmP4Jy93fd/dn4ehEwG1i/qcshIiLZVtVzUGbWBxgMPF3gvbFmNtPMZi5YsKDJyyYiItVVtQRlZmsA9wDj3X1h/vvuPsndh7r70B49ejR9AUVEpKqqkqDMrDUhOd3q7vdWowwiIpJt1ejFZ8B1wGx3v7Cp5y8iIs1DNY6gdgAOAXYxs1nxb88qlENERDKsybuZu/vjgDX1fEVEpHnRnSRERCSTlKBERCSTlKBERCSTlKBERCSTlKBERCSTlKBERCSTlKBERCSTlKBERCSTlKBERCSTlKBERCSTlKBERCSTlKBERCSTlKBERCSTlKBERCSTlKBERCSTlKBERCSTlKBERCSTlKBERCSTlKBERCSTlKBERCSTlKBERCSTlKBERCSTlKBERCSTlKBERCSTqpKgzGwPM3vNzP5jZqdVowwiIpJtTZ6gzKwlcDnwPWBL4AAz27KpyyEiItlWjSOobwP/cffX3X0JcAewTxXKISIiGWbu3rQzNPsRsIe7/ywOHwJs4+7H5k03FhgbBzcHXqtgsboDHyqmYiqmYipmVeL1dvce+SNblSFwsazAuJWypLtPAiZVvjhgZjPdfahiKqZiKqZiVi9evmo08c0DeiWGewLzq1AOERHJsGokqBnApma2oZm1AX4C/LUK5RARkQxr8iY+d19qZscCDwEtgevd/eWmLkeeSjQlKqZiKqZiruoxK3oapsk7SYiIiKShO0mIiEgmKUGJiEgmKUGJiEgmrRYJysx2VEzFVEzFVMzqxiuau6/Sf8BVwJvA6YqpmIqpmIpZvTIW+7dKH0GZWTfgReAAYAszm1CGmOsDLyhm2WKuU4GY61H+9b4u8HyZY/asQMwuwMtljtlctqXVub6XtR5VYjsqSbUyY6X/gOFAq8TwToQb05Zzj0UxGxET6N4cytlcYgKHA52yXs4KfffVtr6Xux41xXaU9m+VvA7KzG4DFgK/cveP4rg2hDupHwu84O6/KzLmWcA3wAfA7e6+0MxaA9s0IuavgC8It396xN0/NLP2wNaNiHkK4dzi68BD7v5ZGb77mYTv/jowrUzlnAzMdvfzEuMauzwvIVz8/Q1wlrt/XIaYA939hbxxjY15LdDC3Y8oY8wrCU8FONzdHypTzEqs90rUo0rU9+ZSNydTxnpUie2oMVa5Jr54l4ou7n5kYmNt4eHRHs8ClwEDizlkNbNJQH/gI2AXYEMAd/8GmFlizBuBIcBnwEDgJjNb292/Ap5pRMxtgQ6EvZ5RsZxLgKdLjHkdoVJ+SdhI7zCzno0s5yRgjWSliuVszPK8Hlgf+DPQEeidiFlqOe8FZpnZ9wuUs9TluSawLnBoTFQ5Syn9u19GuKv0zcBBZSpnpdZ7uetRJep7c6mbZa1HldiOGq2pD9kq/QccD5wUXx8F/Ba4hnA7d4D2hA3kZmBCinhjgTsSw3cCxwDbA13juHZFxuwCTEkMb01oP54GrBPHtSky5s+ABxPDJwA35U3TupiY8TPXAhvF1x2As4AngfXiuLZFlvMAQtt2vzg8CjgEGA10K3F5rkXYG88N3wpMBMYnylnset+JcBuXMcAcYJ8C0xS9POPnfgiMAKYDk+O4NUqJGbfv+xLDzwEHZXC9l70exc+Uu76vSWXq5kPlrJuxHr1SrnpUqe2osX8Vn0FT/8UVdAZhD+hxYE/gD8A7ucoVp/se8BLQo4F4PYCO8fVPgTeAC4ALCe2ynUuIuRbhMP/wONwzxvxj/CFoWULM9YHvJobXAe4j7F3mT5s2Ztu4MZ6cN34i4ce7fQkxewJXAicCFwFPxf+TgFsasTxfBs4Efk94dti4RPzuJcRcExgYX/8grq996pg2bcyW8f/JwK/j6+cJzUg3xeEWxS7PvOFxhObNmlgllLNdBdb7t4AO5axHcdrRwP+jfPV9LeC/wJgy1s11KX/dXB+4gpDsctv5RZRYj4B1y70dleOvosGb6g/YgBV7NxsSfqD+BoxKTHM5sFdi+GRgeAMx18sb9xNW7J1sAtwG9Cky5rrx9U7A24TD5mcJe5PbEveoi4jZL1eG5IYUN+CnWPGjuB/QroRyDoiV/dA43IrQTHM9sGaJ5ewF3AA8XGB5blBkzN7x9WBCgroXGBrHGeFIYNsiYu6b2JZaJ8bvQ/hR/U4cPpoVOy5pYn4rMdyLFQnqKuBj4JYi1/u+JH5UEut5KKFr8IgCn2ko5mmJ796/TOv9NMpfj5LlLFd9P43y181LcuuBeN/TMtTNZMz1CfXokQLLM3U9itPkdowavR2V86/iM6j4F4DJwF/iBrVfHLcV8B5wRWK6h4B9E8MdUsb8QT3T/RPYusiY83LlALYEdgN2icOtgHuovcffUMz7CHv3P4zjjHBusTtwe3x9G/C7Esr5ozjuO4TmhCMS0z1Z5He/j/ADn4u5NtC3wPIcUkLMH8dxLQl7kYcnpnsE2DNlzF8Ai4DzgPUTMXOVd1fC3vWrwDUlxMw1j60D3A88Bvwv4ZzZfODIRsRswYqbPx8bl0+XvM/VF/NS4M+5bSj+3yWu95+WuN5rYtb3R3H1aKWYhJ2o94ArE+OKqe+FYvYl1M1dS6ybVxOaBZNHmxb/elBa3SwU81vA5qXUI+B84o5SbhvKe7/o7ajcf00yk4oVPjQV3Rtf/4iwJ7VlYqN9FDgb+AdwbYkxXwU2zZtmDUITyDUlxPxxLOcWedO0IfzgXpcy5vXA3fH1AYR2946J9w34OzCrEd/9tdzGD2xHSAYXAk8ANzainJ3zpmlPaJZIuzwLxcydw9masOd/NuE5Y5OK2J62jD8Yp8bvuVITBiFB3dSImGvH8YcTzsO0j8Nty1VOwt7vP4nnkFLEu4vEDzTQlXiUBAwj7AD9scj1nh9zLVb+oetUZD0qVM7ckcMWwL+AcyiuvhcqZ9e8adoWWTfXA/7EiqORwcDGJJpjYxmLqZv5MYcAmxKPJOO4DmnrESEpzyGcrz0jMT7ZClPUdlSJv2o88r0szGwtwl7nbwDc/W4zG0HYO33F3V80sx8DnYEn3P2B+LkW7r68yJi9gP+L07QhHPovd/efx3HmcY2miHmXmQ0ntEvPjtO0JOwV/8fdT0gRsx2h6eGKOGoLQm+je83sdsJG9T7hcH+6u/+sEd99feA1d59uZiMJzX//dvc7GlHOu2I5p8V5XggsSbk864p5j5lNIfzo701oJ5/m7pc09N0TPif8aM4ldGQ5zsw+J+yNvxDj3ufu4xsR81gzW0joDXaAuy8zs7bu/nU5yunus9x9ppld6+6vNxAnZzHhiAEzG0M44b6ZmU1y98vjeu8DPOXuU+J0da6jBmJeSfix/4DwI7kszXqvJ+bmsTfbVYSdvy7AY+7+YJyuoeXZUDnfJXTwSFs3jXC0tUZct4cBPyf0CHzbzP7m7n8lJKwnU9bNhmJOdfephCOiVPWI0EHnnhjjVDM7w93PcvflubLE7ei6Iraj8qtWZmzsH+EIoTe1m2CuA05MTNMy7zMtGhszjvtWBWKukTZm8rsBmxGOFDcGdiacgzkwvte7XOUk0YZexnIeUOzyTBHz4PzypoyZa9Y6l9Dk1ofQgeF1Yns+iaaNRsR8IcbslTZOseUsNH19sRLrejmho0Evwg/1Pbl1lHa9p4h5N7B/fH+dMsW8B/hJBcvZOU3MvPhXEo5O7iK0EGxAOG/5+/h+nzLG/F18f+2GYuZvD4R6vz3hiHxiYnz+xb91bkeV/Gu210F58Ka7L0uMfh/4FGquO9gm7zP17pmmiWlmw939gzhsZYz5edqYMe6y+H8OsLu7/9fdHwamAlubWUt3fzPGbHCvvKFyApPNbPu8zzS2nENj2VIvzwZi3k9oTsFjrSqinLnpvyYcfZ1MuDbpLuBkM+vu7l+WIeY3MeYvzaxbmjhFlrNbHdMXjBWP3nH3nxK6Gp/o7m+7+/3Ag4SmpPzP1VnmFDEfAobF9f4eNLzeU5Zz6wqV09x9YZpyxmlyv6mXEurOFoTWlrcIR82bmVlHQgeEVHUzRczNY8wG61H+9hCHZxCSXx8z+5WZ3UNo0q/zc02l2TbxJSVWxmxgHQtXV7dy9ycrEPPxxDRFrbRKxIyf+SoxuAfwbDLRlPAjWPblWU85lyfeb+x3353Q/Fe0RHPIdEIz5+eEK/wHEs7DfViBmB9VO6aHJqOW7r7M3c/Me3t3wgWfRUkTs9j1XsVyJnd00pQz973mEHvTATeY2QmESyvedPcvCkxfzpjF/i59AzxmZosJPWsfdPf7iolRMV6Fw7ZK/RG6gy4HLkqMa9ShaXOISWiWW5PQZp66U8CqUM5yxyScszyW2MWc2ieNS/ruzSVm4vPtCUej5dyWVruYhOaz7oTm2D8Cl5VhvZc9ZuLz91H7gveimp8r8VfVmZf9y8RrYcq1woqNScrul+UuJ6G76iDguOS4eqbvnjJuVctZyZiFvkv+50jcfLQx5Ss1Zl3TlhqziPW+CXBMudZRFmIWUTfLXs78OE0ds4jtY6808ZryL/M3izWzXQm9lT7zOppZcs0eucP1OK6+XjEjCF2ol7j7p4WmLSHmOYS7Gdzp7kvLVM4dCN3clzVUzrxx9cW8lNA9d6wnmgUaWc5tCOtosbt/Vl/MIsp5EnCPu88t9H6JMQ8gnFd7w93fSBuzsYqNaWZHu/sV8XXNOmhkzNTrPW9cWepRETFT1/ciYqaum0XETFU3oXaTW33rLW09ShszzXZU6PNpzos1lUwnKDO7mtBT6w3CRbPnEE4yE39Au+RWZNoKG8+nbEK4nqUFcL67P59bgSXGnERoF97HY3fhOL6Fh26bpcS8htCr7gWgWyzny40s5xXAjoSLL3/h7p8kN8ZGlHNTYAGhwl7o7p8k3i+1nL3dfVTe+FziLCXmlYTrh54nNOMc4+5LCq2jtCx0lX/K3S+u4/1SYn6fcMPbu9x9dBzXKvfDWmLMSqz3yZS/HlWivle1bqZVTD1KGa/s21E1ZLYXn5ldSLgIL9d9uAuht1LbuLF2Ay4ys9xdgdNsWLsTTiQPJ9xX6ynCnYqHxA2rawkx1ydce7WXu39tZtua2VZmtkmsAKWUczThTga7Ee6MsJjQi65/opx/LDLmDYTusv2BJYTrRkj8SK1ZQsyLCBc1jiT0AupFuLI9934pMc8DBuWSk5ltaGZrxApV6no/gNAFeyfC9VNfAa0t3KF6pXWUhpmdSujpNM7Mjizwfpfkdy/CLMIdA9Y1s0cBEj8q3YqNWaH1Xol6VIn6XvW6mYaZXUwR9SilWZRxO6qWTCYoM2tLONTN3fK9H+FeaFcAF5hZXw+9lR4l3P69ZcrQHxCeuImHrsmXE1bipWa2sbt/XELMD2Pcbmb2C8IG9gtCr5jtYzkfKzJmO8IeJO4+D/g38BZwsYWnsC4qJqaZdQDedfeD46gzgaVmNjQx2RKK+O5xHX1FuFEn7v5PQq/Q7+XFfBzYKmXMNoSjm+lmto6ZjScszxsI62izEtd7C8LyA/g+4d5nFwN/MbPBxa4jM2tFOHIYTLgz+clmdlR8L1enllLEd4+fbUnolbccGAl8ZmYPmNnvzWxDwtFEMeuoI/BeOdd79AHh6KEs9cjCxddzgQPjqHLV9+ZQN9sSnjtVznrUgjJuR9WUuQRl4TD5a+DSuNezJeFpmSMJPyoLgMPi5C8TNhhrIGbu/deBbc1sYuLtawn3Q9ulxJhO6En2G8LdIb7v7kcDvyLspbQjJMViYv4dGG5m55rZAMJtca4hVIbeHrqFvpQmJoC7f+nup8d5tCRU3OXAzslpiihnm7iOJgJzExv5bMLtVmomJTxHpm3KmEuAXwPLgJuAgwk/KOcA/yE8TgDSr6PcZRR/B/Yws5uA0wlHPscQ7od2Wix/2u/ePe6J/gX42t1fJNz89CQzO9ZXtN23IXQFT/Pdu0Lo9hx/3JcA/d19b8KP9Unu/oaH63FeSVnOHu7+hbtPiMPlWO8bxpf/BbYrUz3a2N0Xu/slHppcy1Hfc+VcTqibE2l83czFfJAy1U0zGxHr0ZnAG2WqRy093AWiLNtR1XkGemrk/gg/Hv9D3tXr1H788P6E9tnc8BopYx4Sh/sQrpWZkJjmEOCCEmIeFId7ECrPbFbcZTl3X6y2RcbM3T16U8L9ui4Bxsdx51K7h1FDMfdOvM6/q8Y2hD2/bfPGNxTzt4QLBpM3js2dy/wFK27Rfz0rbuLaKWXMn+WmJ9xnbsvENAcUud5zMX8ehzsSzm/8ITHNIMLNMC1lzNyjDHL3JzRiDynC3a5nE26LMyW3nlJ891zMzRLjjgWOJCTrhwm3hJpRxHcvFDN3d5BS1/vVcXnmllVvGl+PribsiNZsQ/nLjOLre03MONyDkDBepfS6mfvuuWWYq5uXUnrdvJnQnX2NxDItuR5Ru663if+PITwjq6TtKAt/VS9AYmFNIuyVHhg3pkPqmO4O4JwSY46J4/sTLnq7kHBT2b8A55UYM/dMpx6EZo/fE/ZQ7wSub2Q585PKfSQSQwMxbyM0RVyUGNci7/9Ewo9hzZ2wG4h5FeH8wJ6Epoxt4/hcxRod5zuZvEcTFBFzeB3ffQpwdokxd4jj1yDcUDRX+W8HLi9iG70jfr+LWfGsqORdxAcR9tqT15LUu1zzYm4Vx21GSCJPJ6Y7rbHlTLxf7Hq/hsSNUhPbT/+4vV5UQj2qFbOB75K2vueXM3dLrB6EzjHnUnzdzI9pydiJ8cXUzeOB+xPDrfLe/0kx9YgCdT2O35jwVILppWxHWfiregHiQtsX+FtieDdC80j7xAbRk+LuUlxXzNxD03oQ9owuKUPMznG4K2HP/1fU3lOv79qpOsuZ+CFYK26st6Us51DCHtNIwo1tL0q8l3zg2rEkbrffQMwfUvuJm1fHirY7K+7QvSvhB/q8xHT1ffe6Yu5BvEN3XKb3F7GO6oq5J6HZbTPCzsmfSdyZu4Fy5i6G/Q3h4sjxhB/lDYh3pSccTZ1L6BrfmJi9Cee2vkOB61caW874/jFFrPc94jrNPdZjf8Ie/kGEJ6yuFZfxxUWso7piHsCKo5yehKbZxsY8lJCIu1B83azvu+eeHbUmRdTN+JkxwOj4+khCEjyTFY+iGUnKekT9db0DYbtvWeBzVbm3XrF/VS9AYiX3j6/bEG4tX/PDH8d3Bk5JDDd089M0MfNvnNjomAU+U45ytiXxNNeGYsZpNoifGxQrwEWs+AFbaYNNuZ5yTSI/I3SQOIrwSIsz4vhu1H4mT5py1hmTcP6gE/GR3mWIOTGOb098TEPamHG6gcAEQi+rUwlHzDck1tGIMsVMPmuq6IuF6ytniev9bMKR0lmEDgAnEs435ZZnUTdlbiBm7kGOawKnlilmrpxF1feGyknYKWlH4plxKWMeQUgqBxDu+TcqrqdrCAmnazH1iPrreou05criX3VnHtqsL4+v8w9z/55YuD9Mu2EVEXMf8h4mVqaYHcoc8wd57zUU8+q8cS0JP1jXseJOygeTeIZQiphX5o0bxIoH+vWNFXjrvGkaWkdpYg6pQMzBRS7P5A/FYOBP8fXNhBt+Xg5sUsaYb8WYG9cVoxHl3KjIciYT5dnAJ8CGcXhzwkW6AysQc1CR673ocqZYnmliblXkd78qMfwbQqLLPWS1M6Gpf980352G6/q5cdzBJHbGmttftXvxPQAsMLNO7r7Ugpaxu3FLoLeZ3UntLpd4/Vc5p405yhM3GvW4NssQM3nH63LE3DPvuzcUc76ZdYaaixGXEX6Yzwa6mtkXhBOqC4qI+X5ezFnu/k787KuEJrNaUqyjNDFr9TAqU8xa23yK7/5eLqa7Pwc8a2YPEo5O9gU+AnYoY8wfEnrbDa8nRqnlHFFkOedZeE4Y7v5roJ/HO3C4+2uE5Vmrm3KZYha73osuZwPSxix5WyI8on4RcKKZremhZ906hKOn5B0j6vruDdX1tSw8I2xvL+GmxFlR7QS1jND98UCoWcEtCf30jfBMlvnuPlYxU8fsT2g6wFc8fGxJrFyDCU+izV1ZnqaLaa6cNTFzb8SkOgX4xN2fKbKczSVmzfKMy6slYW965xjrBne/scwxJ1cgZqnl3D83wt3n517HnaePYzJUzHQx+xGv7XT3p4HTCE19D5nZvcCX7n5tfL++ZJcsY311/Z4i63r2VOKwrJg/YCtCD5QD88b/Bbg1MZy6DVUxa8ck7IjsTIGeWI2IuTahgk1OjEt94rUZxsw9CLElK3qHlXQH8WYYM7k8OxM6X9ykmI1bR4nxA4ABieG05y/LXtez9lf1AsQF+B3ChWNjEuM2SbwuegErZu2Yee+Xq5xFdzRo5jF/2tjl2IxjJpdnp8bEVkxeIV6ekh+LInvXVaKuZ+mv6gVILMjhhJtEHg/sVo4FrJi8ARxH7dvoN+Z5Tsly7rGaxhwH7FlqnGYe83jgexVYR6trzOPKsY4qUdez8pepu5mb2aaEPYKNgZfcfbJili3mi17cOYg0MZvLd1dMxVylY1airmdBphJUkpl19tCzRTEVUzEVUzGrFK+aMpugRERk9VbtbuYiIiIFKUGJiEgmKUGJiEgmKUGJiEgmKUGJiEgm/X/anpc7UhUq7QAAAABJRU5ErkJggg==\n",
      "text/plain": [
       "<Figure size 432x288 with 1 Axes>"
      ]
     },
     "metadata": {
      "needs_background": "light"
     },
     "output_type": "display_data"
    }
   ],
   "source": [
    "testAge = rap_lavoro_attivati.agerange.value_counts()\n",
    "\n",
    "labels = testAge.index\n",
    "newContract = np.log(testAge.values)\n",
    "\n",
    "x = np.arange(len(labels))  # the label locations\n",
    "width = 0.35  # the width of the bars\n",
    "\n",
    "fig, ax = plt.subplots()\n",
    "rects1 = ax.bar(x - width/2, newContract, width, label='New Contract')\n",
    "\n",
    "# Add some text for labels, title and custom x-axis tick labels, etc.\n",
    "ax.set_ylabel('number')\n",
    "ax.set_title('number of contract divided by age group')\n",
    "ax.set_xticks(x)\n",
    "ax.set_xticklabels(labels=labels,rotation=45,\n",
    "    horizontalalignment='right');\n",
    "ax.legend()\n",
    "\n",
    "\n",
    "\n",
    "fig.tight_layout()\n",
    "\n",
    "plt.show()"
   ]
  },
  {
   "cell_type": "markdown",
   "id": "96bcfec9",
   "metadata": {},
   "source": [
    "## Introducing another dataset\n",
    "This dataset contain the level of education for age referred to the region lombardy from the year 2018 to 2020.The educational level  are coded in teh following way:\n",
    "- NED = nessun titolo di studio\n",
    "- IL =  analfabeti\n",
    "- LBNA = analfabeti privi di titolo di studio\n",
    "- PSE = licenza di scuola elementare\n",
    "- LSE = licenza media o avviamento professionale (conseguito non oltre l'anno 1965)/ Diploma di istruzione secondaria di I grado\n",
    "- USE_IF = Diploma di istruzione secondaria di II grado o di qualifica professionale (corso di 3-4 anni) compresi IFTS\n",
    "- BL = Diploma tecnico superiore ITS o titolo di studio terziario di primo livello\n",
    "- ML_RDD = titolo di studio terziario di secondo livello e dottorato di ricerca\n",
    "- ML = Titolo di studio terziario di secondo livello\n",
    "- RDD = Dottorato di ricerca/diploma accademico di formazione alla ricerca\n",
    "- ALL = totale"
   ]
  },
  {
   "cell_type": "code",
   "execution_count": 29,
   "id": "e329278f",
   "metadata": {
    "scrolled": true
   },
<<<<<<< HEAD
   "outputs": [
    {
     "data": {
      "text/html": [
       "<div>\n",
       "<style scoped>\n",
       "    .dataframe tbody tr th:only-of-type {\n",
       "        vertical-align: middle;\n",
       "    }\n",
       "\n",
       "    .dataframe tbody tr th {\n",
       "        vertical-align: top;\n",
       "    }\n",
       "\n",
       "    .dataframe thead th {\n",
       "        text-align: right;\n",
       "    }\n",
       "</style>\n",
       "<table border=\"1\" class=\"dataframe\">\n",
       "  <thead>\n",
       "    <tr style=\"text-align: right;\">\n",
       "      <th></th>\n",
       "      <th>DATAFLOW</th>\n",
       "      <th>FREQ</th>\n",
       "      <th>REF_AREA</th>\n",
       "      <th>INDICATOR</th>\n",
       "      <th>GENDER</th>\n",
       "      <th>AGE_NOCLASS</th>\n",
       "      <th>EDU_ATTAIN</th>\n",
       "      <th>TIME_PERIOD</th>\n",
       "      <th>OBS_VALUE</th>\n",
       "      <th>OBS_STATUS</th>\n",
       "      <th>NOTE_DS</th>\n",
       "      <th>NOTE_REF_AREA</th>\n",
       "      <th>NOTE_INDICATOR</th>\n",
       "      <th>NOTE_GENDER</th>\n",
       "      <th>NOTE_AGE_NOCLASS</th>\n",
       "      <th>NOTE_CITIZENSHIP</th>\n",
       "      <th>NOTE_EDU_ATTAIN</th>\n",
       "      <th>NOTE_CUR_ACT_STAT</th>\n",
       "      <th>NOTE_LOC_DEST</th>\n",
       "      <th>NOTE_REAS_COMMUTING</th>\n",
       "    </tr>\n",
       "  </thead>\n",
       "  <tbody>\n",
       "    <tr>\n",
       "      <th>0</th>\n",
       "      <td>IT1:DF_DCSS_ISTR_LAV_PEN_2_REG_91_ITC4(1.0)</td>\n",
       "      <td>A</td>\n",
       "      <td>012001</td>\n",
       "      <td>RESPOP_AV</td>\n",
       "      <td>F</td>\n",
       "      <td>Y_GE65</td>\n",
       "      <td>ALL</td>\n",
       "      <td>2018</td>\n",
       "      <td>54</td>\n",
       "      <td>NaN</td>\n",
       "      <td>NaN</td>\n",
       "      <td>NaN</td>\n",
       "      <td>NaN</td>\n",
       "      <td>NaN</td>\n",
       "      <td>NaN</td>\n",
       "      <td>NaN</td>\n",
       "      <td>ALL_N1</td>\n",
       "      <td>99_N1</td>\n",
       "      <td>NaN</td>\n",
       "      <td>NaN</td>\n",
       "    </tr>\n",
       "    <tr>\n",
       "      <th>1</th>\n",
       "      <td>IT1:DF_DCSS_ISTR_LAV_PEN_2_REG_91_ITC4(1.0)</td>\n",
       "      <td>A</td>\n",
       "      <td>012001</td>\n",
       "      <td>RESPOP_AV</td>\n",
       "      <td>F</td>\n",
       "      <td>Y_GE65</td>\n",
       "      <td>ALL</td>\n",
       "      <td>2019</td>\n",
       "      <td>59</td>\n",
       "      <td>NaN</td>\n",
       "      <td>NaN</td>\n",
       "      <td>NaN</td>\n",
       "      <td>NaN</td>\n",
       "      <td>NaN</td>\n",
       "      <td>NaN</td>\n",
       "      <td>NaN</td>\n",
       "      <td>ALL_N1</td>\n",
       "      <td>99_N1</td>\n",
       "      <td>NaN</td>\n",
       "      <td>NaN</td>\n",
       "    </tr>\n",
       "    <tr>\n",
       "      <th>2</th>\n",
       "      <td>IT1:DF_DCSS_ISTR_LAV_PEN_2_REG_91_ITC4(1.0)</td>\n",
       "      <td>A</td>\n",
       "      <td>012001</td>\n",
       "      <td>RESPOP_AV</td>\n",
       "      <td>F</td>\n",
       "      <td>Y_GE65</td>\n",
       "      <td>ALL</td>\n",
       "      <td>2020</td>\n",
       "      <td>63</td>\n",
       "      <td>NaN</td>\n",
       "      <td>NaN</td>\n",
       "      <td>NaN</td>\n",
       "      <td>NaN</td>\n",
       "      <td>NaN</td>\n",
       "      <td>NaN</td>\n",
       "      <td>NaN</td>\n",
       "      <td>ALL_N1</td>\n",
       "      <td>99_N1</td>\n",
       "      <td>NaN</td>\n",
       "      <td>NaN</td>\n",
       "    </tr>\n",
       "    <tr>\n",
       "      <th>3</th>\n",
       "      <td>IT1:DF_DCSS_ISTR_LAV_PEN_2_REG_91_ITC4(1.0)</td>\n",
       "      <td>A</td>\n",
       "      <td>012001</td>\n",
       "      <td>RESPOP_AV</td>\n",
       "      <td>F</td>\n",
       "      <td>Y_GE65</td>\n",
       "      <td>BL</td>\n",
       "      <td>2018</td>\n",
       "      <td>3</td>\n",
       "      <td>NaN</td>\n",
       "      <td>NaN</td>\n",
       "      <td>NaN</td>\n",
       "      <td>NaN</td>\n",
       "      <td>NaN</td>\n",
       "      <td>NaN</td>\n",
       "      <td>NaN</td>\n",
       "      <td>BL_N1</td>\n",
       "      <td>99_N1</td>\n",
       "      <td>NaN</td>\n",
       "      <td>NaN</td>\n",
       "    </tr>\n",
       "    <tr>\n",
       "      <th>4</th>\n",
       "      <td>IT1:DF_DCSS_ISTR_LAV_PEN_2_REG_91_ITC4(1.0)</td>\n",
       "      <td>A</td>\n",
       "      <td>012001</td>\n",
       "      <td>RESPOP_AV</td>\n",
       "      <td>F</td>\n",
       "      <td>Y_GE65</td>\n",
       "      <td>BL</td>\n",
       "      <td>2019</td>\n",
       "      <td>3</td>\n",
       "      <td>NaN</td>\n",
       "      <td>NaN</td>\n",
       "      <td>NaN</td>\n",
       "      <td>NaN</td>\n",
       "      <td>NaN</td>\n",
       "      <td>NaN</td>\n",
       "      <td>NaN</td>\n",
       "      <td>BL_N1</td>\n",
       "      <td>99_N1</td>\n",
       "      <td>NaN</td>\n",
       "      <td>NaN</td>\n",
       "    </tr>\n",
       "  </tbody>\n",
       "</table>\n",
       "</div>"
      ],
      "text/plain": [
       "                                      DATAFLOW FREQ REF_AREA  INDICATOR  \\\n",
       "0  IT1:DF_DCSS_ISTR_LAV_PEN_2_REG_91_ITC4(1.0)    A   012001  RESPOP_AV   \n",
       "1  IT1:DF_DCSS_ISTR_LAV_PEN_2_REG_91_ITC4(1.0)    A   012001  RESPOP_AV   \n",
       "2  IT1:DF_DCSS_ISTR_LAV_PEN_2_REG_91_ITC4(1.0)    A   012001  RESPOP_AV   \n",
       "3  IT1:DF_DCSS_ISTR_LAV_PEN_2_REG_91_ITC4(1.0)    A   012001  RESPOP_AV   \n",
       "4  IT1:DF_DCSS_ISTR_LAV_PEN_2_REG_91_ITC4(1.0)    A   012001  RESPOP_AV   \n",
       "\n",
       "  GENDER AGE_NOCLASS EDU_ATTAIN  TIME_PERIOD  OBS_VALUE  OBS_STATUS  NOTE_DS  \\\n",
       "0      F      Y_GE65        ALL         2018         54         NaN      NaN   \n",
       "1      F      Y_GE65        ALL         2019         59         NaN      NaN   \n",
       "2      F      Y_GE65        ALL         2020         63         NaN      NaN   \n",
       "3      F      Y_GE65         BL         2018          3         NaN      NaN   \n",
       "4      F      Y_GE65         BL         2019          3         NaN      NaN   \n",
       "\n",
       "  NOTE_REF_AREA  NOTE_INDICATOR  NOTE_GENDER  NOTE_AGE_NOCLASS  \\\n",
       "0           NaN             NaN          NaN               NaN   \n",
       "1           NaN             NaN          NaN               NaN   \n",
       "2           NaN             NaN          NaN               NaN   \n",
       "3           NaN             NaN          NaN               NaN   \n",
       "4           NaN             NaN          NaN               NaN   \n",
       "\n",
       "   NOTE_CITIZENSHIP NOTE_EDU_ATTAIN NOTE_CUR_ACT_STAT  NOTE_LOC_DEST  \\\n",
       "0               NaN          ALL_N1             99_N1            NaN   \n",
       "1               NaN          ALL_N1             99_N1            NaN   \n",
       "2               NaN          ALL_N1             99_N1            NaN   \n",
       "3               NaN           BL_N1             99_N1            NaN   \n",
       "4               NaN           BL_N1             99_N1            NaN   \n",
       "\n",
       "   NOTE_REAS_COMMUTING  \n",
       "0                  NaN  \n",
       "1                  NaN  \n",
       "2                  NaN  \n",
       "3                  NaN  \n",
       "4                  NaN  "
      ]
     },
     "execution_count": 29,
     "metadata": {},
     "output_type": "execute_result"
    }
   ],
=======
   "outputs": [],
>>>>>>> achille
   "source": [
    "grado_istruzione_age  = pd.read_csv(PurePath('dataset', 'Grado_istruzione_per_età_Lombardia_IT1,DF_DCSS_ISTR_LAV_PEN_2_REG.csv'),low_memory=False)\n",
    "grado_istruzione_age.head()"
   ]
  },
  {
<<<<<<< HEAD
   "cell_type": "markdown",
   "id": "04619744",
   "metadata": {},
   "source": [
    "there are some column with null value that can be deleted"
   ]
  },
  {
   "cell_type": "code",
   "execution_count": 30,
   "id": "ee685ec1",
   "metadata": {},
   "outputs": [],
   "source": [
    "grado_istruzione_age = grado_istruzione_age[['REF_AREA', 'GENDER', 'AGE_NOCLASS', 'EDU_ATTAIN', 'TIME_PERIOD', 'OBS_VALUE']]"
   ]
  },
  {
   "cell_type": "code",
   "execution_count": 31,
   "id": "f920616d",
   "metadata": {},
   "outputs": [
    {
     "data": {
      "text/plain": [
       "Y_GE9     145979\n",
       "Y25-49     92357\n",
       "Y50-64     91652\n",
       "Y_GE65     90061\n",
       "Y9-24      88907\n",
       "Name: AGE_NOCLASS, dtype: int64"
      ]
     },
     "execution_count": 31,
     "metadata": {},
     "output_type": "execute_result"
    }
   ],
   "source": [
    "grado_istruzione_age ['AGE_NOCLASS'].value_counts()"
   ]
  },
  {
   "cell_type": "markdown",
   "id": "ae02915b",
   "metadata": {},
   "source": [
    "those value represet age range in specific:\n",
    "- Y_GE9: all people with age greater than 9, in this case all the people in the dataset\n",
    "- Y25-49: people with an age between 25 and 49\n",
    "- Y50-64: people with an age between 50 and 64\n",
    "- Y_GE65: people with more than 65 years\n",
    "- Y9-24: people with an age between 9 and 24\n",
    "\n",
    "In the following part we will add a column with the saem age range of the dataset *Grado_istruzione_per_età_Lombardia*"
   ]
  },
  {
   "cell_type": "code",
   "execution_count": null,
   "id": "593d0d32",
   "metadata": {},
   "outputs": [],
   "source": []
  },
  {
   "cell_type": "markdown",
   "id": "d3615cb0",
   "metadata": {},
   "source": [
    "because in the dataset *rapporti di lavoro* the minimum age is 16 while in *Grado_istruzione_per_età_Lombardia* is 9 we will delete all the illiterate and the people with only elementary school license with the age between 9 and 24  from the dataset, we have choose to do so because the majority of people in that age range with only elementary school license are the one under 16 year"
   ]
  },
  {
   "cell_type": "code",
   "execution_count": 32,
   "id": "4be7ed41",
   "metadata": {},
   "outputs": [
    {
     "data": {
      "text/html": [
       "<div>\n",
       "<style scoped>\n",
       "    .dataframe tbody tr th:only-of-type {\n",
       "        vertical-align: middle;\n",
       "    }\n",
       "\n",
       "    .dataframe tbody tr th {\n",
       "        vertical-align: top;\n",
       "    }\n",
       "\n",
       "    .dataframe thead th {\n",
       "        text-align: right;\n",
       "    }\n",
       "</style>\n",
       "<table border=\"1\" class=\"dataframe\">\n",
       "  <thead>\n",
       "    <tr style=\"text-align: right;\">\n",
       "      <th></th>\n",
       "      <th>REF_AREA</th>\n",
       "      <th>GENDER</th>\n",
       "      <th>AGE_NOCLASS</th>\n",
       "      <th>EDU_ATTAIN</th>\n",
       "      <th>TIME_PERIOD</th>\n",
       "      <th>OBS_VALUE</th>\n",
       "    </tr>\n",
       "  </thead>\n",
       "  <tbody>\n",
       "    <tr>\n",
       "      <th>0</th>\n",
       "      <td>012001</td>\n",
       "      <td>F</td>\n",
       "      <td>Y_GE65</td>\n",
       "      <td>ALL</td>\n",
       "      <td>2018</td>\n",
       "      <td>54</td>\n",
       "    </tr>\n",
       "    <tr>\n",
       "      <th>1</th>\n",
       "      <td>012001</td>\n",
       "      <td>F</td>\n",
       "      <td>Y_GE65</td>\n",
       "      <td>ALL</td>\n",
       "      <td>2019</td>\n",
       "      <td>59</td>\n",
       "    </tr>\n",
       "    <tr>\n",
       "      <th>2</th>\n",
       "      <td>012001</td>\n",
       "      <td>F</td>\n",
       "      <td>Y_GE65</td>\n",
       "      <td>ALL</td>\n",
       "      <td>2020</td>\n",
       "      <td>63</td>\n",
       "    </tr>\n",
       "    <tr>\n",
       "      <th>3</th>\n",
       "      <td>012001</td>\n",
       "      <td>F</td>\n",
       "      <td>Y_GE65</td>\n",
       "      <td>BL</td>\n",
       "      <td>2018</td>\n",
       "      <td>3</td>\n",
       "    </tr>\n",
       "    <tr>\n",
       "      <th>4</th>\n",
       "      <td>012001</td>\n",
       "      <td>F</td>\n",
       "      <td>Y_GE65</td>\n",
       "      <td>BL</td>\n",
       "      <td>2019</td>\n",
       "      <td>3</td>\n",
       "    </tr>\n",
       "    <tr>\n",
       "      <th>...</th>\n",
       "      <td>...</td>\n",
       "      <td>...</td>\n",
       "      <td>...</td>\n",
       "      <td>...</td>\n",
       "      <td>...</td>\n",
       "      <td>...</td>\n",
       "    </tr>\n",
       "    <tr>\n",
       "      <th>508951</th>\n",
       "      <td>ITC4B</td>\n",
       "      <td>T</td>\n",
       "      <td>Y9-24</td>\n",
       "      <td>PSE</td>\n",
       "      <td>2019</td>\n",
       "      <td>12282</td>\n",
       "    </tr>\n",
       "    <tr>\n",
       "      <th>508952</th>\n",
       "      <td>ITC4B</td>\n",
       "      <td>T</td>\n",
       "      <td>Y9-24</td>\n",
       "      <td>PSE</td>\n",
       "      <td>2020</td>\n",
       "      <td>12409</td>\n",
       "    </tr>\n",
       "    <tr>\n",
       "      <th>508953</th>\n",
       "      <td>ITC4B</td>\n",
       "      <td>T</td>\n",
       "      <td>Y9-24</td>\n",
       "      <td>USE_IF</td>\n",
       "      <td>2018</td>\n",
       "      <td>16491</td>\n",
       "    </tr>\n",
       "    <tr>\n",
       "      <th>508954</th>\n",
       "      <td>ITC4B</td>\n",
       "      <td>T</td>\n",
       "      <td>Y9-24</td>\n",
       "      <td>USE_IF</td>\n",
       "      <td>2019</td>\n",
       "      <td>16647</td>\n",
       "    </tr>\n",
       "    <tr>\n",
       "      <th>508955</th>\n",
       "      <td>ITC4B</td>\n",
       "      <td>T</td>\n",
       "      <td>Y9-24</td>\n",
       "      <td>USE_IF</td>\n",
       "      <td>2020</td>\n",
       "      <td>16637</td>\n",
       "    </tr>\n",
       "  </tbody>\n",
       "</table>\n",
       "<p>483510 rows × 6 columns</p>\n",
       "</div>"
      ],
      "text/plain": [
       "       REF_AREA GENDER AGE_NOCLASS EDU_ATTAIN  TIME_PERIOD  OBS_VALUE\n",
       "0        012001      F      Y_GE65        ALL         2018         54\n",
       "1        012001      F      Y_GE65        ALL         2019         59\n",
       "2        012001      F      Y_GE65        ALL         2020         63\n",
       "3        012001      F      Y_GE65         BL         2018          3\n",
       "4        012001      F      Y_GE65         BL         2019          3\n",
       "...         ...    ...         ...        ...          ...        ...\n",
       "508951    ITC4B      T       Y9-24        PSE         2019      12282\n",
       "508952    ITC4B      T       Y9-24        PSE         2020      12409\n",
       "508953    ITC4B      T       Y9-24     USE_IF         2018      16491\n",
       "508954    ITC4B      T       Y9-24     USE_IF         2019      16647\n",
       "508955    ITC4B      T       Y9-24     USE_IF         2020      16637\n",
       "\n",
       "[483510 rows x 6 columns]"
      ]
     },
     "execution_count": 32,
     "metadata": {},
     "output_type": "execute_result"
    }
   ],
   "source": [
    "grado_istruzione_age = grado_istruzione_age [~((grado_istruzione_age ['EDU_ATTAIN']== 'IL')|(grado_istruzione_age ['EDU_ATTAIN']== 'LBNA')|((grado_istruzione_age ['EDU_ATTAIN']== 'PSE')&(grado_istruzione_age ['AGE_NOCLASS']== 'Y9_24')))]\n",
    "grado_istruzione_age"
   ]
  },
  {
   "cell_type": "code",
   "execution_count": 33,
   "id": "78a53744",
   "metadata": {},
   "outputs": [
    {
     "name": "stdout",
     "output_type": "stream",
     "text": [
      "12                 LAUREA - Vecchio o nuovo ordinamento\n",
      "26                              NESSUN TITOLO DI STUDIO\n",
      "28                              NESSUN TITOLO DI STUDIO\n",
      "42    DIPLOMA DI ISTRUZIONE SECONDARIA SUPERIORE  CH...\n",
      "51                              NESSUN TITOLO DI STUDIO\n",
      "Name: TITOLOSTUDIO, dtype: string\n"
     ]
    },
    {
     "data": {
      "text/plain": [
       "0    ALL\n",
       "1    ALL\n",
       "2    ALL\n",
       "3     BL\n",
       "4     BL\n",
       "Name: EDU_ATTAIN, dtype: object"
      ]
     },
     "execution_count": 33,
     "metadata": {},
     "output_type": "execute_result"
    }
   ],
   "source": [
    "print(rap_lavoro_attivati['TITOLOSTUDIO'].head())\n",
    "grado_istruzione_age['EDU_ATTAIN'].head()"
   ]
  },
  {
   "cell_type": "markdown",
   "id": "3043c984",
   "metadata": {},
   "source": [
    "The series `TITOLO_STUDIO` and `EDU_ATTAIN` don't match easily, but we can map the values of `EDU_ATTAIN` into `TITOLO_STUDIO`."
   ]
  },
  {
   "cell_type": "code",
   "execution_count": 34,
   "id": "8891fa3e",
   "metadata": {
    "scrolled": true
   },
   "outputs": [
    {
     "name": "stdout",
     "output_type": "stream",
     "text": [
      "{'NESSUN TITOLO DI STUDIO', 'LICENZA ELEMENTARE', \"TITOLO DI ISTRUZIONE SECONDARIA SUPERIORE (SCOLASTICA ED EXTRA-SCOLASTICA) CHE NON PERMETTE L'ACCESSO ALL'UNIVERSITÀ ()\", 'DIPLOMA UNIVERSITARIO', 'LAUREA - Vecchio o nuovo ordinamento', \"DIPLOMA DI ISTRUZIONE SECONDARIA SUPERIORE  CHE PERMETTE L'ACCESSO ALL'UNIVERSITA\", 'TITOLO DI STUDIO POST-LAUREA', 'LICENZA MEDIA', 'TITOLO DI DOTTORE DI RICERCA', 'DIPLOMA DI SPECIALIZZAZIONE', 'DIPLOMA TERZIARIO EXTRA-UNIVERSITARIO', 'MASTER UNIVERSITARIO DI PRIMO LIVELLO'}\n",
      "{'ALL', 'RDD', 'PSE', 'USE_IF', 'LSE', 'BL', 'ML_RDD', 'NED', 'ML'}\n"
     ]
    }
   ],
   "source": [
    "print(series_to_set('TITOLOSTUDIO', rap_lavoro_attivati))\n",
    "print(series_to_set('EDU_ATTAIN', grado_istruzione_age))"
   ]
  },
  {
   "cell_type": "code",
   "execution_count": 35,
   "id": "c32a5e9a",
   "metadata": {},
   "outputs": [
    {
     "data": {
      "text/html": [
       "<div>\n",
       "<style scoped>\n",
       "    .dataframe tbody tr th:only-of-type {\n",
       "        vertical-align: middle;\n",
       "    }\n",
       "\n",
       "    .dataframe tbody tr th {\n",
       "        vertical-align: top;\n",
       "    }\n",
       "\n",
       "    .dataframe thead th {\n",
       "        text-align: right;\n",
       "    }\n",
       "</style>\n",
       "<table border=\"1\" class=\"dataframe\">\n",
       "  <thead>\n",
       "    <tr style=\"text-align: right;\">\n",
       "      <th></th>\n",
       "      <th>REF_AREA</th>\n",
       "      <th>GENDER</th>\n",
       "      <th>AGE_NOCLASS</th>\n",
       "      <th>EDU_ATTAIN</th>\n",
       "      <th>TIME_PERIOD</th>\n",
       "      <th>OBS_VALUE</th>\n",
       "    </tr>\n",
       "  </thead>\n",
       "  <tbody>\n",
       "    <tr>\n",
       "      <th>9</th>\n",
       "      <td>012001</td>\n",
       "      <td>F</td>\n",
       "      <td>Y_GE65</td>\n",
       "      <td>ML_RDD</td>\n",
       "      <td>2018</td>\n",
       "      <td>4</td>\n",
       "    </tr>\n",
       "    <tr>\n",
       "      <th>10</th>\n",
       "      <td>012001</td>\n",
       "      <td>F</td>\n",
       "      <td>Y_GE65</td>\n",
       "      <td>ML_RDD</td>\n",
       "      <td>2019</td>\n",
       "      <td>4</td>\n",
       "    </tr>\n",
       "    <tr>\n",
       "      <th>11</th>\n",
       "      <td>012001</td>\n",
       "      <td>F</td>\n",
       "      <td>Y_GE65</td>\n",
       "      <td>ML_RDD</td>\n",
       "      <td>2020</td>\n",
       "      <td>3</td>\n",
       "    </tr>\n",
       "    <tr>\n",
       "      <th>58</th>\n",
       "      <td>012001</td>\n",
       "      <td>F</td>\n",
       "      <td>Y25-49</td>\n",
       "      <td>ML_RDD</td>\n",
       "      <td>2018</td>\n",
       "      <td>16</td>\n",
       "    </tr>\n",
       "    <tr>\n",
       "      <th>59</th>\n",
       "      <td>012001</td>\n",
       "      <td>F</td>\n",
       "      <td>Y25-49</td>\n",
       "      <td>ML_RDD</td>\n",
       "      <td>2019</td>\n",
       "      <td>15</td>\n",
       "    </tr>\n",
       "    <tr>\n",
       "      <th>...</th>\n",
       "      <td>...</td>\n",
       "      <td>...</td>\n",
       "      <td>...</td>\n",
       "      <td>...</td>\n",
       "      <td>...</td>\n",
       "      <td>...</td>\n",
       "    </tr>\n",
       "    <tr>\n",
       "      <th>508924</th>\n",
       "      <td>ITC4B</td>\n",
       "      <td>T</td>\n",
       "      <td>Y50-64</td>\n",
       "      <td>ML_RDD</td>\n",
       "      <td>2019</td>\n",
       "      <td>7841</td>\n",
       "    </tr>\n",
       "    <tr>\n",
       "      <th>508925</th>\n",
       "      <td>ITC4B</td>\n",
       "      <td>T</td>\n",
       "      <td>Y50-64</td>\n",
       "      <td>ML_RDD</td>\n",
       "      <td>2020</td>\n",
       "      <td>8141</td>\n",
       "    </tr>\n",
       "    <tr>\n",
       "      <th>508944</th>\n",
       "      <td>ITC4B</td>\n",
       "      <td>T</td>\n",
       "      <td>Y9-24</td>\n",
       "      <td>ML_RDD</td>\n",
       "      <td>2018</td>\n",
       "      <td>302</td>\n",
       "    </tr>\n",
       "    <tr>\n",
       "      <th>508945</th>\n",
       "      <td>ITC4B</td>\n",
       "      <td>T</td>\n",
       "      <td>Y9-24</td>\n",
       "      <td>ML_RDD</td>\n",
       "      <td>2019</td>\n",
       "      <td>186</td>\n",
       "    </tr>\n",
       "    <tr>\n",
       "      <th>508946</th>\n",
       "      <td>ITC4B</td>\n",
       "      <td>T</td>\n",
       "      <td>Y9-24</td>\n",
       "      <td>ML_RDD</td>\n",
       "      <td>2020</td>\n",
       "      <td>242</td>\n",
       "    </tr>\n",
       "  </tbody>\n",
       "</table>\n",
       "<p>48332 rows × 6 columns</p>\n",
       "</div>"
      ],
      "text/plain": [
       "       REF_AREA GENDER AGE_NOCLASS EDU_ATTAIN  TIME_PERIOD  OBS_VALUE\n",
       "9        012001      F      Y_GE65     ML_RDD         2018          4\n",
       "10       012001      F      Y_GE65     ML_RDD         2019          4\n",
       "11       012001      F      Y_GE65     ML_RDD         2020          3\n",
       "58       012001      F      Y25-49     ML_RDD         2018         16\n",
       "59       012001      F      Y25-49     ML_RDD         2019         15\n",
       "...         ...    ...         ...        ...          ...        ...\n",
       "508924    ITC4B      T      Y50-64     ML_RDD         2019       7841\n",
       "508925    ITC4B      T      Y50-64     ML_RDD         2020       8141\n",
       "508944    ITC4B      T       Y9-24     ML_RDD         2018        302\n",
       "508945    ITC4B      T       Y9-24     ML_RDD         2019        186\n",
       "508946    ITC4B      T       Y9-24     ML_RDD         2020        242\n",
       "\n",
       "[48332 rows x 6 columns]"
      ]
     },
     "execution_count": 35,
     "metadata": {},
     "output_type": "execute_result"
    }
   ],
   "source": [
    "grado_istruzione_age.loc[(grado_istruzione_age.EDU_ATTAIN.isin(['ML_RDD'])) & ~(grado_istruzione_age.AGE_NOCLASS == 'Y_GE9')]"
   ]
  },
  {
   "cell_type": "code",
   "execution_count": 36,
   "id": "b1ecab84",
   "metadata": {},
   "outputs": [
    {
     "data": {
      "text/html": [
       "<div>\n",
       "<style scoped>\n",
       "    .dataframe tbody tr th:only-of-type {\n",
       "        vertical-align: middle;\n",
       "    }\n",
       "\n",
       "    .dataframe tbody tr th {\n",
       "        vertical-align: top;\n",
       "    }\n",
       "\n",
       "    .dataframe thead th {\n",
       "        text-align: right;\n",
       "    }\n",
       "</style>\n",
       "<table border=\"1\" class=\"dataframe\">\n",
       "  <thead>\n",
       "    <tr style=\"text-align: right;\">\n",
       "      <th></th>\n",
       "      <th>REF_AREA</th>\n",
       "      <th>GENDER</th>\n",
       "      <th>AGE_NOCLASS</th>\n",
       "      <th>EDU_ATTAIN</th>\n",
       "      <th>TIME_PERIOD</th>\n",
       "      <th>OBS_VALUE</th>\n",
       "    </tr>\n",
       "  </thead>\n",
       "  <tbody>\n",
       "    <tr>\n",
       "      <th>3</th>\n",
       "      <td>012001</td>\n",
       "      <td>F</td>\n",
       "      <td>Y_GE65</td>\n",
       "      <td>BL</td>\n",
       "      <td>2018</td>\n",
       "      <td>3</td>\n",
       "    </tr>\n",
       "    <tr>\n",
       "      <th>4</th>\n",
       "      <td>012001</td>\n",
       "      <td>F</td>\n",
       "      <td>Y_GE65</td>\n",
       "      <td>BL</td>\n",
       "      <td>2019</td>\n",
       "      <td>3</td>\n",
       "    </tr>\n",
       "    <tr>\n",
       "      <th>6</th>\n",
       "      <td>012001</td>\n",
       "      <td>F</td>\n",
       "      <td>Y_GE65</td>\n",
       "      <td>LSE</td>\n",
       "      <td>2018</td>\n",
       "      <td>11</td>\n",
       "    </tr>\n",
       "    <tr>\n",
       "      <th>7</th>\n",
       "      <td>012001</td>\n",
       "      <td>F</td>\n",
       "      <td>Y_GE65</td>\n",
       "      <td>LSE</td>\n",
       "      <td>2019</td>\n",
       "      <td>19</td>\n",
       "    </tr>\n",
       "    <tr>\n",
       "      <th>9</th>\n",
       "      <td>012001</td>\n",
       "      <td>F</td>\n",
       "      <td>Y_GE65</td>\n",
       "      <td>ML_RDD</td>\n",
       "      <td>2018</td>\n",
       "      <td>4</td>\n",
       "    </tr>\n",
       "  </tbody>\n",
       "</table>\n",
       "</div>"
      ],
      "text/plain": [
       "  REF_AREA GENDER AGE_NOCLASS EDU_ATTAIN  TIME_PERIOD  OBS_VALUE\n",
       "3   012001      F      Y_GE65         BL         2018          3\n",
       "4   012001      F      Y_GE65         BL         2019          3\n",
       "6   012001      F      Y_GE65        LSE         2018         11\n",
       "7   012001      F      Y_GE65        LSE         2019         19\n",
       "9   012001      F      Y_GE65     ML_RDD         2018          4"
      ]
     },
     "execution_count": 36,
     "metadata": {},
     "output_type": "execute_result"
    }
   ],
   "source": [
    "grado_istruzione_age = grado_istruzione_age[grado_istruzione_age['TIME_PERIOD'] != 2020]\n",
    "grado_istruzione_age = grado_istruzione_age[~grado_istruzione_age.EDU_ATTAIN.isin(['ALL', 'ML', 'RDD'])]\n",
    "grado_istruzione_age = grado_istruzione_age[grado_istruzione_age.AGE_NOCLASS != 'Y_GE9']\n",
    "grado_istruzione_age = grado_istruzione_age[grado_istruzione_age.GENDER != 'T']\n",
    "grado_istruzione_age.head()"
   ]
  },
  {
   "cell_type": "code",
   "execution_count": 37,
   "id": "71222e80",
   "metadata": {},
   "outputs": [],
   "source": [
    "edu_map = {\n",
    "    'IL': 'NESSUN TITOLO DI STUDIO',\n",
    "    'NED': 'NESSUN TITOLO DI STUDIO',\n",
    "    'LBNA': 'NESSUN TITOLO DI STUDIO',\n",
    "    'PSE': 'LICENZA ELEMENTARE',\n",
    "    'LSE': 'LICENZA MEDIA',\n",
    "    'USE_IF': 'DIPLOMA DI ISTRUZIONE SECONDARIA SUPERIORE',\n",
    "    \"TITOLO DI ISTRUZIONE SECONDARIA SUPERIORE (SCOLASTICA ED EXTRA-SCOLASTICA) CHE NON PERMETTE L'ACCESSO ALL'UNIVERSITÀ ()\": 'DIPLOMA DI ISTRUZIONE SECONDARIA SUPERIORE',\n",
    "    \"DIPLOMA DI ISTRUZIONE SECONDARIA SUPERIORE  CHE PERMETTE L'ACCESSO ALL'UNIVERSITA\": 'DIPLOMA DI ISTRUZIONE SECONDARIA SUPERIORE',\n",
    "    'BL': 'LAUREA',\n",
    "    'ML_RDD': 'TITOLO DI STUDIO TERZIARIO DI SECONDO LIVELLO O DOTTORATO',\n",
    "    'DIPLOMA TERZIARIO EXTRA-UNIVERSITARIO': 'TITOLO DI STUDIO TERZIARIO DI SECONDO LIVELLO O DOTTORATO',\n",
    "    'MASTER UNIVERSITARIO DI PRIMO LIVELLO': 'TITOLO DI STUDIO TERZIARIO DI SECONDO LIVELLO O DOTTORATO',\n",
    "    'LAUREA - Vecchio o nuovo ordinamento': 'LAUREA',\n",
    "    'DIPLOMA DI SPECIALIZZAZIONE': 'TITOLO DI STUDIO TERZIARIO DI SECONDO LIVELLO O DOTTORATO',\n",
    "    'DIPLOMA UNIVERSITARIO': 'LAUREA',\n",
    "    'TITOLO DI STUDIO POST-LAUREA': 'TITOLO DI STUDIO TERZIARIO DI SECONDO LIVELLO O DOTTORATO',\n",
    "    'TITOLO DI DOTTORE DI RICERCA': 'TITOLO DI STUDIO TERZIARIO DI SECONDO LIVELLO O DOTTORATO'\n",
    "}\n"
   ]
  },
  {
   "cell_type": "code",
   "execution_count": 38,
   "id": "8a10bcd9",
   "metadata": {},
   "outputs": [
    {
     "data": {
      "text/plain": [
       "3                                                    LAUREA\n",
       "4                                                    LAUREA\n",
       "6                                             LICENZA MEDIA\n",
       "7                                             LICENZA MEDIA\n",
       "9         TITOLO DI STUDIO TERZIARIO DI SECONDO LIVELLO ...\n",
       "                                ...                        \n",
       "508831                              NESSUN TITOLO DI STUDIO\n",
       "508833                                   LICENZA ELEMENTARE\n",
       "508834                                   LICENZA ELEMENTARE\n",
       "508836           DIPLOMA DI ISTRUZIONE SECONDARIA SUPERIORE\n",
       "508837           DIPLOMA DI ISTRUZIONE SECONDARIA SUPERIORE\n",
       "Name: EDU_ATTAIN, Length: 135309, dtype: object"
      ]
     },
     "execution_count": 38,
     "metadata": {},
     "output_type": "execute_result"
    }
   ],
   "source": [
    "def mapping(series, mapp): \n",
    "    series = series.apply(lambda x: mapp.get(x) if mapp.get(x) != None else x)\n",
    "    return series\n",
    "\n",
    "rap_lavoro_attivati['TITOLOSTUDIO'] = mapping(rap_lavoro_attivati['TITOLOSTUDIO'], edu_map)\n",
    "\n",
    "grado_istruzione_age['EDU_ATTAIN'] = mapping(grado_istruzione_age['EDU_ATTAIN'], edu_map)\n",
    "\n",
    "grado_istruzione_age['EDU_ATTAIN']\n"
   ]
  },
  {
   "cell_type": "code",
   "execution_count": 39,
   "id": "b8a92f6c",
   "metadata": {},
   "outputs": [
    {
     "data": {
      "text/plain": [
       "12                                             LAUREA\n",
       "26                            NESSUN TITOLO DI STUDIO\n",
       "28                            NESSUN TITOLO DI STUDIO\n",
       "42         DIPLOMA DI ISTRUZIONE SECONDARIA SUPERIORE\n",
       "51                            NESSUN TITOLO DI STUDIO\n",
       "                              ...                    \n",
       "9579758                       NESSUN TITOLO DI STUDIO\n",
       "9579764    DIPLOMA DI ISTRUZIONE SECONDARIA SUPERIORE\n",
       "9579766                       NESSUN TITOLO DI STUDIO\n",
       "9579777                                 LICENZA MEDIA\n",
       "9579788                                 LICENZA MEDIA\n",
       "Name: TITOLOSTUDIO, Length: 1550423, dtype: object"
      ]
     },
     "execution_count": 39,
     "metadata": {},
     "output_type": "execute_result"
    }
   ],
   "source": [
    "rap_lavoro_attivati['TITOLOSTUDIO']"
   ]
  },
  {
   "cell_type": "markdown",
   "id": "c3dfd7e9",
   "metadata": {},
   "source": [
    "In the next section we'll see a graph comparing the number of contract activated and the tota number of population in 2018"
   ]
  },
  {
   "cell_type": "code",
   "execution_count": 40,
   "id": "e93063e5",
   "metadata": {},
   "outputs": [
    {
     "name": "stderr",
     "output_type": "stream",
     "text": [
      "<ipython-input-40-db39d691b4f5>:6: SettingWithCopyWarning: \n",
      "A value is trying to be set on a copy of a slice from a DataFrame.\n",
      "Try using .loc[row_indexer,col_indexer] = value instead\n",
      "\n",
      "See the caveats in the documentation: https://pandas.pydata.org/pandas-docs/stable/user_guide/indexing.html#returning-a-view-versus-a-copy\n",
      "  activate2018['agerange'] = pd.cut(activate2018['ETA'], bins, labels = labels,include_lowest = True)\n",
      "<ipython-input-40-db39d691b4f5>:17: RuntimeWarning: divide by zero encountered in log\n",
      "  newContract = np.log(testAge.values)\n"
     ]
    },
    {
     "data": {
      "image/png": "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\n",
      "text/plain": [
       "<Figure size 432x288 with 1 Axes>"
      ]
     },
     "metadata": {
      "needs_background": "light"
     },
     "output_type": "display_data"
    }
   ],
   "source": [
    "import datetime as dt\n",
    "\n",
    "activate2018 = rap_lavoro_attivati[rap_lavoro_attivati['DATA'].dt.year == 2018]\n",
    "bins = [0,25, 50, 65, 200]\n",
    "labels = ['Y9-24', 'Y25-49', 'Y50-64','Y_GE65' ]\n",
    "activate2018['agerange'] = pd.cut(activate2018['ETA'], bins, labels = labels,include_lowest = True)\n",
    "\n",
    "\n",
    "\n",
    "istr2018 = grado_istruzione_age[(grado_istruzione_age['TIME_PERIOD']== 2018)]\n",
    "total = istr2018.groupby(['AGE_NOCLASS']).sum()\n",
    "\n",
    "\n",
    "testAge = activate2018['agerange'].value_counts()\n",
    "\n",
    "labels = testAge.index\n",
    "newContract = np.log(testAge.values)\n",
    "totalPopulation = np.log(total['OBS_VALUE'].values)\n",
    "\n",
    "x = np.arange(len(labels))  # the label locations\n",
    "width = 0.35  # the width of the bars\n",
    "\n",
    "fig, ax = plt.subplots()\n",
    "rects1 = ax.bar(x - width/2, newContract, width, label='New Contract')\n",
    "rects2 = ax.bar(x + width/2, totalPopulation, width, label='Total Population')\n",
    "\n",
    "# Add some text for labels, title and custom x-axis tick labels, etc.\n",
    "ax.set_ylabel('log number')\n",
    "ax.set_title('number by attivati vs total number')\n",
    "ax.set_xticks(x)\n",
    "ax.set_xticklabels(labels=labels,rotation=45,\n",
    "    horizontalalignment='right');\n",
    "ax.legend()\n",
    "\n",
    "\n",
    "\n",
    "fig.tight_layout()\n",
    "\n",
    "plt.show()"
   ]
  },
  {
   "cell_type": "code",
   "execution_count": 41,
   "id": "2ebe4d16",
   "metadata": {},
   "outputs": [
    {
     "data": {
      "text/html": [
       "<div>\n",
       "<style scoped>\n",
       "    .dataframe tbody tr th:only-of-type {\n",
       "        vertical-align: middle;\n",
       "    }\n",
       "\n",
       "    .dataframe tbody tr th {\n",
       "        vertical-align: top;\n",
       "    }\n",
       "\n",
       "    .dataframe thead th {\n",
       "        text-align: right;\n",
       "    }\n",
       "</style>\n",
       "<table border=\"1\" class=\"dataframe\">\n",
       "  <thead>\n",
       "    <tr style=\"text-align: right;\">\n",
       "      <th></th>\n",
       "      <th>Denominazione in italiano</th>\n",
       "      <th>Denominazione Regione</th>\n",
       "      <th>Provincia</th>\n",
       "      <th>Codice NUTS3 2021</th>\n",
       "      <th>Codice NUTS2 2021 (3)</th>\n",
       "    </tr>\n",
       "    <tr>\n",
       "      <th>Codice Comune formato alfanumerico</th>\n",
       "      <th></th>\n",
       "      <th></th>\n",
       "      <th></th>\n",
       "      <th></th>\n",
       "      <th></th>\n",
       "    </tr>\n",
       "  </thead>\n",
       "  <tbody>\n",
       "    <tr>\n",
       "      <th>12001</th>\n",
       "      <td>Agra</td>\n",
       "      <td>Lombardia</td>\n",
       "      <td>Varese</td>\n",
       "      <td>ITC41</td>\n",
       "      <td>ITC4</td>\n",
       "    </tr>\n",
       "    <tr>\n",
       "      <th>12002</th>\n",
       "      <td>Albizzate</td>\n",
       "      <td>Lombardia</td>\n",
       "      <td>Varese</td>\n",
       "      <td>ITC41</td>\n",
       "      <td>ITC4</td>\n",
       "    </tr>\n",
       "    <tr>\n",
       "      <th>12003</th>\n",
       "      <td>Angera</td>\n",
       "      <td>Lombardia</td>\n",
       "      <td>Varese</td>\n",
       "      <td>ITC41</td>\n",
       "      <td>ITC4</td>\n",
       "    </tr>\n",
       "    <tr>\n",
       "      <th>12004</th>\n",
       "      <td>Arcisate</td>\n",
       "      <td>Lombardia</td>\n",
       "      <td>Varese</td>\n",
       "      <td>ITC41</td>\n",
       "      <td>ITC4</td>\n",
       "    </tr>\n",
       "    <tr>\n",
       "      <th>12005</th>\n",
       "      <td>Arsago Seprio</td>\n",
       "      <td>Lombardia</td>\n",
       "      <td>Varese</td>\n",
       "      <td>ITC41</td>\n",
       "      <td>ITC4</td>\n",
       "    </tr>\n",
       "  </tbody>\n",
       "</table>\n",
       "</div>"
      ],
      "text/plain": [
       "                                   Denominazione in italiano  \\\n",
       "Codice Comune formato alfanumerico                             \n",
       "12001                                                   Agra   \n",
       "12002                                              Albizzate   \n",
       "12003                                                 Angera   \n",
       "12004                                               Arcisate   \n",
       "12005                                          Arsago Seprio   \n",
       "\n",
       "                                   Denominazione Regione Provincia  \\\n",
       "Codice Comune formato alfanumerico                                   \n",
       "12001                                          Lombardia    Varese   \n",
       "12002                                          Lombardia    Varese   \n",
       "12003                                          Lombardia    Varese   \n",
       "12004                                          Lombardia    Varese   \n",
       "12005                                          Lombardia    Varese   \n",
       "\n",
       "                                   Codice NUTS3 2021 Codice NUTS2 2021 (3)   \n",
       "Codice Comune formato alfanumerico                                           \n",
       "12001                                          ITC41                   ITC4  \n",
       "12002                                          ITC41                   ITC4  \n",
       "12003                                          ITC41                   ITC4  \n",
       "12004                                          ITC41                   ITC4  \n",
       "12005                                          ITC41                   ITC4  "
      ]
     },
     "execution_count": 41,
     "metadata": {},
     "output_type": "execute_result"
    }
   ],
   "source": [
    "city_codes = pd.read_excel(PurePath('dataset', 'Elenco-comuni-italiani.xls'))\n",
    "city_codes = city_codes[['Codice Comune formato alfanumerico', \n",
    "                        'Denominazione in italiano',\n",
    "                        'Denominazione Regione',\n",
    "                        'Provincia',\n",
    "                        'Codice NUTS3 2021',\n",
    "                        'Codice NUTS2 2021 (3) '\n",
    "                        ]]\n",
    "city_codes = city_codes[city_codes['Denominazione Regione'] == 'Lombardia']\n",
    "city_codes = city_codes.set_index('Codice Comune formato alfanumerico')\n",
    "city_codes.loc[1] = ['','','Milano','ITC45','']   #The code in the dataset does not match with the code of Milano, \n",
    "                                                  #manually added\n",
    "city_codes.head()"
   ]
  },
  {
   "cell_type": "code",
   "execution_count": 42,
   "id": "09098ee6",
   "metadata": {
    "scrolled": true
   },
   "outputs": [],
   "source": [
    "def get_provincia_by_code(code):\n",
    "    return city_codes[city_codes['Codice NUTS3 2021'] == code]['Provincia'].iloc[0]\n",
    "                    "
   ]
  },
  {
   "cell_type": "code",
   "execution_count": 43,
   "id": "e0a559cf",
   "metadata": {},
   "outputs": [],
   "source": [
    "grado_istruzione_age = grado_istruzione_age[grado_istruzione_age.REF_AREA.isin(city_codes['Codice NUTS3 2021'])]"
   ]
  },
  {
   "cell_type": "code",
   "execution_count": 44,
   "id": "bfc82299",
   "metadata": {},
   "outputs": [
    {
     "data": {
      "text/html": [
       "<div>\n",
       "<style scoped>\n",
       "    .dataframe tbody tr th:only-of-type {\n",
       "        vertical-align: middle;\n",
       "    }\n",
       "\n",
       "    .dataframe tbody tr th {\n",
       "        vertical-align: top;\n",
       "    }\n",
       "\n",
       "    .dataframe thead th {\n",
       "        text-align: right;\n",
       "    }\n",
       "</style>\n",
       "<table border=\"1\" class=\"dataframe\">\n",
       "  <thead>\n",
       "    <tr style=\"text-align: right;\">\n",
       "      <th></th>\n",
       "      <th>REF_AREA</th>\n",
       "      <th>GENDER</th>\n",
       "      <th>AGE_NOCLASS</th>\n",
       "      <th>EDU_ATTAIN</th>\n",
       "      <th>TIME_PERIOD</th>\n",
       "      <th>OBS_VALUE</th>\n",
       "    </tr>\n",
       "  </thead>\n",
       "  <tbody>\n",
       "    <tr>\n",
       "      <th>505098</th>\n",
       "      <td>Varese</td>\n",
       "      <td>F</td>\n",
       "      <td>Y_GE65</td>\n",
       "      <td>LAUREA</td>\n",
       "      <td>2018</td>\n",
       "      <td>713</td>\n",
       "    </tr>\n",
       "    <tr>\n",
       "      <th>505099</th>\n",
       "      <td>Varese</td>\n",
       "      <td>F</td>\n",
       "      <td>Y_GE65</td>\n",
       "      <td>LAUREA</td>\n",
       "      <td>2019</td>\n",
       "      <td>740</td>\n",
       "    </tr>\n",
       "    <tr>\n",
       "      <th>505101</th>\n",
       "      <td>Varese</td>\n",
       "      <td>F</td>\n",
       "      <td>Y_GE65</td>\n",
       "      <td>LICENZA MEDIA</td>\n",
       "      <td>2018</td>\n",
       "      <td>26254</td>\n",
       "    </tr>\n",
       "    <tr>\n",
       "      <th>505102</th>\n",
       "      <td>Varese</td>\n",
       "      <td>F</td>\n",
       "      <td>Y_GE65</td>\n",
       "      <td>LICENZA MEDIA</td>\n",
       "      <td>2019</td>\n",
       "      <td>27471</td>\n",
       "    </tr>\n",
       "    <tr>\n",
       "      <th>505104</th>\n",
       "      <td>Varese</td>\n",
       "      <td>F</td>\n",
       "      <td>Y_GE65</td>\n",
       "      <td>TITOLO DI STUDIO TERZIARIO DI SECONDO LIVELLO ...</td>\n",
       "      <td>2018</td>\n",
       "      <td>4324</td>\n",
       "    </tr>\n",
       "    <tr>\n",
       "      <th>...</th>\n",
       "      <td>...</td>\n",
       "      <td>...</td>\n",
       "      <td>...</td>\n",
       "      <td>...</td>\n",
       "      <td>...</td>\n",
       "      <td>...</td>\n",
       "    </tr>\n",
       "    <tr>\n",
       "      <th>508831</th>\n",
       "      <td>Mantova</td>\n",
       "      <td>M</td>\n",
       "      <td>Y9-24</td>\n",
       "      <td>NESSUN TITOLO DI STUDIO</td>\n",
       "      <td>2019</td>\n",
       "      <td>4294</td>\n",
       "    </tr>\n",
       "    <tr>\n",
       "      <th>508833</th>\n",
       "      <td>Mantova</td>\n",
       "      <td>M</td>\n",
       "      <td>Y9-24</td>\n",
       "      <td>LICENZA ELEMENTARE</td>\n",
       "      <td>2018</td>\n",
       "      <td>6457</td>\n",
       "    </tr>\n",
       "    <tr>\n",
       "      <th>508834</th>\n",
       "      <td>Mantova</td>\n",
       "      <td>M</td>\n",
       "      <td>Y9-24</td>\n",
       "      <td>LICENZA ELEMENTARE</td>\n",
       "      <td>2019</td>\n",
       "      <td>6478</td>\n",
       "    </tr>\n",
       "    <tr>\n",
       "      <th>508836</th>\n",
       "      <td>Mantova</td>\n",
       "      <td>M</td>\n",
       "      <td>Y9-24</td>\n",
       "      <td>DIPLOMA DI ISTRUZIONE SECONDARIA SUPERIORE</td>\n",
       "      <td>2018</td>\n",
       "      <td>8556</td>\n",
       "    </tr>\n",
       "    <tr>\n",
       "      <th>508837</th>\n",
       "      <td>Mantova</td>\n",
       "      <td>M</td>\n",
       "      <td>Y9-24</td>\n",
       "      <td>DIPLOMA DI ISTRUZIONE SECONDARIA SUPERIORE</td>\n",
       "      <td>2019</td>\n",
       "      <td>8625</td>\n",
       "    </tr>\n",
       "  </tbody>\n",
       "</table>\n",
       "<p>1056 rows × 6 columns</p>\n",
       "</div>"
      ],
      "text/plain": [
       "       REF_AREA GENDER AGE_NOCLASS  \\\n",
       "505098   Varese      F      Y_GE65   \n",
       "505099   Varese      F      Y_GE65   \n",
       "505101   Varese      F      Y_GE65   \n",
       "505102   Varese      F      Y_GE65   \n",
       "505104   Varese      F      Y_GE65   \n",
       "...         ...    ...         ...   \n",
       "508831  Mantova      M       Y9-24   \n",
       "508833  Mantova      M       Y9-24   \n",
       "508834  Mantova      M       Y9-24   \n",
       "508836  Mantova      M       Y9-24   \n",
       "508837  Mantova      M       Y9-24   \n",
       "\n",
       "                                               EDU_ATTAIN  TIME_PERIOD  \\\n",
       "505098                                             LAUREA         2018   \n",
       "505099                                             LAUREA         2019   \n",
       "505101                                      LICENZA MEDIA         2018   \n",
       "505102                                      LICENZA MEDIA         2019   \n",
       "505104  TITOLO DI STUDIO TERZIARIO DI SECONDO LIVELLO ...         2018   \n",
       "...                                                   ...          ...   \n",
       "508831                            NESSUN TITOLO DI STUDIO         2019   \n",
       "508833                                 LICENZA ELEMENTARE         2018   \n",
       "508834                                 LICENZA ELEMENTARE         2019   \n",
       "508836         DIPLOMA DI ISTRUZIONE SECONDARIA SUPERIORE         2018   \n",
       "508837         DIPLOMA DI ISTRUZIONE SECONDARIA SUPERIORE         2019   \n",
       "\n",
       "        OBS_VALUE  \n",
       "505098        713  \n",
       "505099        740  \n",
       "505101      26254  \n",
       "505102      27471  \n",
       "505104       4324  \n",
       "...           ...  \n",
       "508831       4294  \n",
       "508833       6457  \n",
       "508834       6478  \n",
       "508836       8556  \n",
       "508837       8625  \n",
       "\n",
       "[1056 rows x 6 columns]"
      ]
     },
     "execution_count": 44,
     "metadata": {},
     "output_type": "execute_result"
    }
   ],
   "source": [
    "grado_istruzione_age['REF_AREA'] = grado_istruzione_age['REF_AREA'].apply(lambda x: get_provincia_by_code(x)) \n",
    "grado_istruzione_age"
   ]
  },
  {
   "cell_type": "code",
   "execution_count": 45,
   "id": "79f4d559",
   "metadata": {},
   "outputs": [
    {
     "data": {
      "text/html": [
       "<div>\n",
       "<style scoped>\n",
       "    .dataframe tbody tr th:only-of-type {\n",
       "        vertical-align: middle;\n",
       "    }\n",
       "\n",
       "    .dataframe tbody tr th {\n",
       "        vertical-align: top;\n",
       "    }\n",
       "\n",
       "    .dataframe thead th {\n",
       "        text-align: right;\n",
       "    }\n",
       "</style>\n",
       "<table border=\"1\" class=\"dataframe\">\n",
       "  <thead>\n",
       "    <tr style=\"text-align: right;\">\n",
       "      <th></th>\n",
       "      <th></th>\n",
       "      <th></th>\n",
       "      <th></th>\n",
       "      <th></th>\n",
       "      <th>OBS_VALUE</th>\n",
       "    </tr>\n",
       "    <tr>\n",
       "      <th>REF_AREA</th>\n",
       "      <th>TIME_PERIOD</th>\n",
       "      <th>GENDER</th>\n",
       "      <th>EDU_ATTAIN</th>\n",
       "      <th>AGE_NOCLASS</th>\n",
       "      <th></th>\n",
       "    </tr>\n",
       "  </thead>\n",
       "  <tbody>\n",
       "    <tr>\n",
       "      <th rowspan=\"60\" valign=\"top\">Milano</th>\n",
       "      <th rowspan=\"48\" valign=\"top\">2018</th>\n",
       "      <th rowspan=\"24\" valign=\"top\">F</th>\n",
       "      <th rowspan=\"4\" valign=\"top\">DIPLOMA DI ISTRUZIONE SECONDARIA SUPERIORE</th>\n",
       "      <th>Y25-49</th>\n",
       "      <td>233709</td>\n",
       "    </tr>\n",
       "    <tr>\n",
       "      <th>Y50-64</th>\n",
       "      <td>168626</td>\n",
       "    </tr>\n",
       "    <tr>\n",
       "      <th>Y9-24</th>\n",
       "      <td>63168</td>\n",
       "    </tr>\n",
       "    <tr>\n",
       "      <th>Y_GE65</th>\n",
       "      <td>104197</td>\n",
       "    </tr>\n",
       "    <tr>\n",
       "      <th rowspan=\"4\" valign=\"top\">LAUREA</th>\n",
       "      <th>Y25-49</th>\n",
       "      <td>51061</td>\n",
       "    </tr>\n",
       "    <tr>\n",
       "      <th>Y50-64</th>\n",
       "      <td>9833</td>\n",
       "    </tr>\n",
       "    <tr>\n",
       "      <th>Y9-24</th>\n",
       "      <td>8967</td>\n",
       "    </tr>\n",
       "    <tr>\n",
       "      <th>Y_GE65</th>\n",
       "      <td>3910</td>\n",
       "    </tr>\n",
       "    <tr>\n",
       "      <th rowspan=\"4\" valign=\"top\">LICENZA ELEMENTARE</th>\n",
       "      <th>Y25-49</th>\n",
       "      <td>7233</td>\n",
       "    </tr>\n",
       "    <tr>\n",
       "      <th>Y50-64</th>\n",
       "      <td>21561</td>\n",
       "    </tr>\n",
       "    <tr>\n",
       "      <th>Y9-24</th>\n",
       "      <td>46433</td>\n",
       "    </tr>\n",
       "    <tr>\n",
       "      <th>Y_GE65</th>\n",
       "      <td>163230</td>\n",
       "    </tr>\n",
       "    <tr>\n",
       "      <th rowspan=\"4\" valign=\"top\">LICENZA MEDIA</th>\n",
       "      <th>Y25-49</th>\n",
       "      <td>86094</td>\n",
       "    </tr>\n",
       "    <tr>\n",
       "      <th>Y50-64</th>\n",
       "      <td>91406</td>\n",
       "    </tr>\n",
       "    <tr>\n",
       "      <th>Y9-24</th>\n",
       "      <td>79702</td>\n",
       "    </tr>\n",
       "    <tr>\n",
       "      <th>Y_GE65</th>\n",
       "      <td>103352</td>\n",
       "    </tr>\n",
       "    <tr>\n",
       "      <th rowspan=\"4\" valign=\"top\">NESSUN TITOLO DI STUDIO</th>\n",
       "      <th>Y25-49</th>\n",
       "      <td>6880</td>\n",
       "    </tr>\n",
       "    <tr>\n",
       "      <th>Y50-64</th>\n",
       "      <td>5384</td>\n",
       "    </tr>\n",
       "    <tr>\n",
       "      <th>Y9-24</th>\n",
       "      <td>31100</td>\n",
       "    </tr>\n",
       "    <tr>\n",
       "      <th>Y_GE65</th>\n",
       "      <td>23138</td>\n",
       "    </tr>\n",
       "    <tr>\n",
       "      <th rowspan=\"4\" valign=\"top\">TITOLO DI STUDIO TERZIARIO DI SECONDO LIVELLO O DOTTORATO</th>\n",
       "      <th>Y25-49</th>\n",
       "      <td>152014</td>\n",
       "    </tr>\n",
       "    <tr>\n",
       "      <th>Y50-64</th>\n",
       "      <td>58013</td>\n",
       "    </tr>\n",
       "    <tr>\n",
       "      <th>Y9-24</th>\n",
       "      <td>1643</td>\n",
       "    </tr>\n",
       "    <tr>\n",
       "      <th>Y_GE65</th>\n",
       "      <td>30184</td>\n",
       "    </tr>\n",
       "    <tr>\n",
       "      <th rowspan=\"24\" valign=\"top\">M</th>\n",
       "      <th rowspan=\"4\" valign=\"top\">DIPLOMA DI ISTRUZIONE SECONDARIA SUPERIORE</th>\n",
       "      <th>Y25-49</th>\n",
       "      <td>242692</td>\n",
       "    </tr>\n",
       "    <tr>\n",
       "      <th>Y50-64</th>\n",
       "      <td>143466</td>\n",
       "    </tr>\n",
       "    <tr>\n",
       "      <th>Y9-24</th>\n",
       "      <td>67853</td>\n",
       "    </tr>\n",
       "    <tr>\n",
       "      <th>Y_GE65</th>\n",
       "      <td>95673</td>\n",
       "    </tr>\n",
       "    <tr>\n",
       "      <th rowspan=\"4\" valign=\"top\">LAUREA</th>\n",
       "      <th>Y25-49</th>\n",
       "      <td>39849</td>\n",
       "    </tr>\n",
       "    <tr>\n",
       "      <th>Y50-64</th>\n",
       "      <td>5491</td>\n",
       "    </tr>\n",
       "    <tr>\n",
       "      <th>Y9-24</th>\n",
       "      <td>7584</td>\n",
       "    </tr>\n",
       "    <tr>\n",
       "      <th>Y_GE65</th>\n",
       "      <td>1639</td>\n",
       "    </tr>\n",
       "    <tr>\n",
       "      <th rowspan=\"4\" valign=\"top\">LICENZA ELEMENTARE</th>\n",
       "      <th>Y25-49</th>\n",
       "      <td>9894</td>\n",
       "    </tr>\n",
       "    <tr>\n",
       "      <th>Y50-64</th>\n",
       "      <td>18283</td>\n",
       "    </tr>\n",
       "    <tr>\n",
       "      <th>Y9-24</th>\n",
       "      <td>50984</td>\n",
       "    </tr>\n",
       "    <tr>\n",
       "      <th>Y_GE65</th>\n",
       "      <td>85049</td>\n",
       "    </tr>\n",
       "    <tr>\n",
       "      <th rowspan=\"4\" valign=\"top\">LICENZA MEDIA</th>\n",
       "      <th>Y25-49</th>\n",
       "      <td>124160</td>\n",
       "    </tr>\n",
       "    <tr>\n",
       "      <th>Y50-64</th>\n",
       "      <td>106011</td>\n",
       "    </tr>\n",
       "    <tr>\n",
       "      <th>Y9-24</th>\n",
       "      <td>89618</td>\n",
       "    </tr>\n",
       "    <tr>\n",
       "      <th>Y_GE65</th>\n",
       "      <td>80798</td>\n",
       "    </tr>\n",
       "    <tr>\n",
       "      <th rowspan=\"4\" valign=\"top\">NESSUN TITOLO DI STUDIO</th>\n",
       "      <th>Y25-49</th>\n",
       "      <td>7465</td>\n",
       "    </tr>\n",
       "    <tr>\n",
       "      <th>Y50-64</th>\n",
       "      <td>4857</td>\n",
       "    </tr>\n",
       "    <tr>\n",
       "      <th>Y9-24</th>\n",
       "      <td>33030</td>\n",
       "    </tr>\n",
       "    <tr>\n",
       "      <th>Y_GE65</th>\n",
       "      <td>8266</td>\n",
       "    </tr>\n",
       "    <tr>\n",
       "      <th rowspan=\"4\" valign=\"top\">TITOLO DI STUDIO TERZIARIO DI SECONDO LIVELLO O DOTTORATO</th>\n",
       "      <th>Y25-49</th>\n",
       "      <td>123399</td>\n",
       "    </tr>\n",
       "    <tr>\n",
       "      <th>Y50-64</th>\n",
       "      <td>58557</td>\n",
       "    </tr>\n",
       "    <tr>\n",
       "      <th>Y9-24</th>\n",
       "      <td>1459</td>\n",
       "    </tr>\n",
       "    <tr>\n",
       "      <th>Y_GE65</th>\n",
       "      <td>40341</td>\n",
       "    </tr>\n",
       "    <tr>\n",
       "      <th rowspan=\"12\" valign=\"top\">2019</th>\n",
       "      <th rowspan=\"12\" valign=\"top\">F</th>\n",
       "      <th rowspan=\"4\" valign=\"top\">DIPLOMA DI ISTRUZIONE SECONDARIA SUPERIORE</th>\n",
       "      <th>Y25-49</th>\n",
       "      <td>229123</td>\n",
       "    </tr>\n",
       "    <tr>\n",
       "      <th>Y50-64</th>\n",
       "      <td>173831</td>\n",
       "    </tr>\n",
       "    <tr>\n",
       "      <th>Y9-24</th>\n",
       "      <td>65287</td>\n",
       "    </tr>\n",
       "    <tr>\n",
       "      <th>Y_GE65</th>\n",
       "      <td>108783</td>\n",
       "    </tr>\n",
       "    <tr>\n",
       "      <th rowspan=\"4\" valign=\"top\">LAUREA</th>\n",
       "      <th>Y25-49</th>\n",
       "      <td>57723</td>\n",
       "    </tr>\n",
       "    <tr>\n",
       "      <th>Y50-64</th>\n",
       "      <td>9984</td>\n",
       "    </tr>\n",
       "    <tr>\n",
       "      <th>Y9-24</th>\n",
       "      <td>9213</td>\n",
       "    </tr>\n",
       "    <tr>\n",
       "      <th>Y_GE65</th>\n",
       "      <td>3518</td>\n",
       "    </tr>\n",
       "    <tr>\n",
       "      <th rowspan=\"4\" valign=\"top\">LICENZA ELEMENTARE</th>\n",
       "      <th>Y25-49</th>\n",
       "      <td>7475</td>\n",
       "    </tr>\n",
       "    <tr>\n",
       "      <th>Y50-64</th>\n",
       "      <td>18578</td>\n",
       "    </tr>\n",
       "    <tr>\n",
       "      <th>Y9-24</th>\n",
       "      <td>47090</td>\n",
       "    </tr>\n",
       "    <tr>\n",
       "      <th>Y_GE65</th>\n",
       "      <td>156143</td>\n",
       "    </tr>\n",
       "  </tbody>\n",
       "</table>\n",
       "</div>"
      ],
      "text/plain": [
       "                                                                                            OBS_VALUE\n",
       "REF_AREA TIME_PERIOD GENDER EDU_ATTAIN                                         AGE_NOCLASS           \n",
       "Milano   2018        F      DIPLOMA DI ISTRUZIONE SECONDARIA SUPERIORE         Y25-49          233709\n",
       "                                                                               Y50-64          168626\n",
       "                                                                               Y9-24            63168\n",
       "                                                                               Y_GE65          104197\n",
       "                            LAUREA                                             Y25-49           51061\n",
       "                                                                               Y50-64            9833\n",
       "                                                                               Y9-24             8967\n",
       "                                                                               Y_GE65            3910\n",
       "                            LICENZA ELEMENTARE                                 Y25-49            7233\n",
       "                                                                               Y50-64           21561\n",
       "                                                                               Y9-24            46433\n",
       "                                                                               Y_GE65          163230\n",
       "                            LICENZA MEDIA                                      Y25-49           86094\n",
       "                                                                               Y50-64           91406\n",
       "                                                                               Y9-24            79702\n",
       "                                                                               Y_GE65          103352\n",
       "                            NESSUN TITOLO DI STUDIO                            Y25-49            6880\n",
       "                                                                               Y50-64            5384\n",
       "                                                                               Y9-24            31100\n",
       "                                                                               Y_GE65           23138\n",
       "                            TITOLO DI STUDIO TERZIARIO DI SECONDO LIVELLO O... Y25-49          152014\n",
       "                                                                               Y50-64           58013\n",
       "                                                                               Y9-24             1643\n",
       "                                                                               Y_GE65           30184\n",
       "                     M      DIPLOMA DI ISTRUZIONE SECONDARIA SUPERIORE         Y25-49          242692\n",
       "                                                                               Y50-64          143466\n",
       "                                                                               Y9-24            67853\n",
       "                                                                               Y_GE65           95673\n",
       "                            LAUREA                                             Y25-49           39849\n",
       "                                                                               Y50-64            5491\n",
       "                                                                               Y9-24             7584\n",
       "                                                                               Y_GE65            1639\n",
       "                            LICENZA ELEMENTARE                                 Y25-49            9894\n",
       "                                                                               Y50-64           18283\n",
       "                                                                               Y9-24            50984\n",
       "                                                                               Y_GE65           85049\n",
       "                            LICENZA MEDIA                                      Y25-49          124160\n",
       "                                                                               Y50-64          106011\n",
       "                                                                               Y9-24            89618\n",
       "                                                                               Y_GE65           80798\n",
       "                            NESSUN TITOLO DI STUDIO                            Y25-49            7465\n",
       "                                                                               Y50-64            4857\n",
       "                                                                               Y9-24            33030\n",
       "                                                                               Y_GE65            8266\n",
       "                            TITOLO DI STUDIO TERZIARIO DI SECONDO LIVELLO O... Y25-49          123399\n",
       "                                                                               Y50-64           58557\n",
       "                                                                               Y9-24             1459\n",
       "                                                                               Y_GE65           40341\n",
       "         2019        F      DIPLOMA DI ISTRUZIONE SECONDARIA SUPERIORE         Y25-49          229123\n",
       "                                                                               Y50-64          173831\n",
       "                                                                               Y9-24            65287\n",
       "                                                                               Y_GE65          108783\n",
       "                            LAUREA                                             Y25-49           57723\n",
       "                                                                               Y50-64            9984\n",
       "                                                                               Y9-24             9213\n",
       "                                                                               Y_GE65            3518\n",
       "                            LICENZA ELEMENTARE                                 Y25-49            7475\n",
       "                                                                               Y50-64           18578\n",
       "                                                                               Y9-24            47090\n",
       "                                                                               Y_GE65          156143"
      ]
     },
     "execution_count": 45,
     "metadata": {},
     "output_type": "execute_result"
    }
   ],
   "source": [
    "grado_istruzione_age[grado_istruzione_age.REF_AREA == 'Milano'].groupby(['REF_AREA', 'TIME_PERIOD', 'GENDER', 'EDU_ATTAIN', 'AGE_NOCLASS']).sum().head(60)"
   ]
  },
  {
   "cell_type": "code",
   "execution_count": 46,
   "id": "0a10d783",
   "metadata": {},
   "outputs": [
    {
     "data": {
      "text/plain": [
       "{'Bergamo',\n",
       " 'Brescia',\n",
       " 'Como',\n",
       " 'Cremona',\n",
       " 'Lecco',\n",
       " 'Lodi',\n",
       " 'Mantova',\n",
       " 'Milano',\n",
       " 'Pavia',\n",
       " 'Sondrio',\n",
       " 'Varese'}"
      ]
     },
     "execution_count": 46,
     "metadata": {},
     "output_type": "execute_result"
    }
   ],
   "source": [
    "series_to_set('REF_AREA', grado_istruzione_age)"
   ]
  },
  {
   "cell_type": "markdown",
   "id": "247b2f01",
   "metadata": {},
   "source": [
    "# Building a machine learning model\n"
   ]
  },
  {
   "cell_type": "code",
   "execution_count": 47,
   "id": "c913ac45",
   "metadata": {},
   "outputs": [],
   "source": [
    "import pandas as pd\n",
    "import numpy as np\n",
    "\n",
    "import matplotlib as mtl\n",
    "import matplotlib.pyplot as plt\n",
    "import matplotlib.figure as fig\n",
    "from sklearn.metrics import confusion_matrix, accuracy_score, classification_report\n",
    "from sklearn.neural_network import MLPClassifier\n",
    "from sklearn.model_selection import train_test_split\n",
    "from sklearn.metrics import accuracy_score"
   ]
  },
  {
   "cell_type": "markdown",
   "id": "31e206f5",
   "metadata": {},
   "source": [
    "creating a dataset for the machin learning"
   ]
  },
  {
   "cell_type": "code",
   "execution_count": 54,
   "id": "461ec9b3",
   "metadata": {},
   "outputs": [],
   "source": [
    "testnum = rap_lavoro_attivati[['GENERE', 'ETA', 'agerange', 'TITOLOSTUDIO', 'CONTRATTO', 'MODALITALAVORO','PROVINCIAIMPRESA','SETTOREECONOMICODETTAGLIO']].copy(deep=True)"
   ]
  },
  {
   "cell_type": "markdown",
   "id": "9e9ce873",
   "metadata": {},
   "source": [
    "create the map for the field PROVINCIAIMPRESA"
   ]
  },
  {
   "cell_type": "code",
   "execution_count": 55,
   "id": "10d302e7",
   "metadata": {},
   "outputs": [
    {
     "data": {
      "text/plain": [
       "{'BERGAMO': 1020860,\n",
       " 'BRESCIA': 1157958,\n",
       " 'COMO': 553293,\n",
       " 'CREMONA': 330704,\n",
       " 'LECCO': 310393,\n",
       " 'LODI': 209679,\n",
       " 'MANTOVA': 377062,\n",
       " 'MILANO': 3017889,\n",
       " 'PAVIA': 503445,\n",
       " 'SONDRIO': 167189,\n",
       " 'VARESE': 818733,\n",
       " 'MONZA E BRIANZA': 802761}"
      ]
     },
     "execution_count": 55,
     "metadata": {},
     "output_type": "execute_result"
    }
   ],
   "source": [
    "to_zip = grado_istruzione_age[grado_istruzione_age['TIME_PERIOD'] == 2019].groupby(['REF_AREA']).sum().copy()\n",
    "to_zip['prov']= to_zip.index\n",
    "zipped = zip(to_zip['prov'].str.upper(), to_zip['OBS_VALUE'])\n",
    "province_map = dict(zipped)\n",
    "province_map.update({\"MONZA E BRIANZA\": 802761})\n",
    "province_map"
   ]
  },
  {
   "cell_type": "code",
   "execution_count": 56,
   "id": "409e2a06",
   "metadata": {},
   "outputs": [
    {
     "data": {
      "text/plain": [
       "12         1020860\n",
       "26         1020860\n",
       "28         1020860\n",
       "42         1020860\n",
       "51          310393\n",
       "            ...   \n",
       "9579758     802761\n",
       "9579764     802761\n",
       "9579766     802761\n",
       "9579777     802761\n",
       "9579788    1020860\n",
       "Name: RANKPROVINCIAIMPRESA, Length: 1550423, dtype: int64"
      ]
     },
     "execution_count": 56,
     "metadata": {},
     "output_type": "execute_result"
    }
   ],
   "source": [
    "testnum['RANKPROVINCIAIMPRESA'] = mapping(testnum['PROVINCIAIMPRESA'], province_map)\n",
    "testnum['RANKPROVINCIAIMPRESA']"
   ]
  },
  {
   "cell_type": "markdown",
   "id": "271ba66c",
   "metadata": {},
   "source": [
    "## mappa titoli di studio"
   ]
  },
  {
   "cell_type": "code",
   "execution_count": 57,
   "id": "56a4277d",
   "metadata": {},
   "outputs": [],
   "source": [
    "rank_edu_map = {\n",
    "    'NESSUN TITOLO DI STUDIO':0,\n",
    "    'LICENZA ELEMENTARE':11,\n",
    "    'LICENZA MEDIA':14,\n",
    "    'DIPLOMA DI ISTRUZIONE SECONDARIA SUPERIORE':19,\n",
    "    'LAUREA':22,\n",
    "    'TITOLO DI STUDIO TERZIARIO DI SECONDO LIVELLO O DOTTORATO':24    \n",
    "}"
   ]
  },
  {
   "cell_type": "code",
   "execution_count": 58,
   "id": "ac8e6300",
   "metadata": {},
   "outputs": [],
   "source": [
    "testnum['RANKTITOLOSTUDIO'] = mapping(testnum['TITOLOSTUDIO'], rank_edu_map)"
   ]
  },
  {
   "cell_type": "markdown",
   "id": "dae5a415",
   "metadata": {},
   "source": [
    "substitute the field with their occurrence"
   ]
  },
  {
   "cell_type": "code",
   "execution_count": 77,
   "id": "07752a2c",
   "metadata": {},
   "outputs": [],
   "source": [
    "testnum['RANKMODALITALAVORO'] = mapping(testnum['MODALITALAVORO'], dict(testnum['MODALITALAVORO'].value_counts()))\n",
    "testnum['RANKSETTOREECONOMICODETTAGLIO'] =  mapping(testnum['SETTOREECONOMICODETTAGLIO'], dict(testnum['SETTOREECONOMICODETTAGLIO'].value_counts()))\n",
    "testnum['RANKCONTRATTO'] = mapping(testnum['CONTRATTO'], dict(testnum['CONTRATTO'].value_counts()))"
   ]
  },
  {
   "cell_type": "code",
   "execution_count": 69,
   "id": "578bfadf",
   "metadata": {},
   "outputs": [
    {
     "data": {
      "text/html": [
       "<div>\n",
       "<style scoped>\n",
       "    .dataframe tbody tr th:only-of-type {\n",
       "        vertical-align: middle;\n",
       "    }\n",
       "\n",
       "    .dataframe tbody tr th {\n",
       "        vertical-align: top;\n",
       "    }\n",
       "\n",
       "    .dataframe thead th {\n",
       "        text-align: right;\n",
       "    }\n",
       "</style>\n",
       "<table border=\"1\" class=\"dataframe\">\n",
       "  <thead>\n",
       "    <tr style=\"text-align: right;\">\n",
       "      <th></th>\n",
       "      <th>GENERE</th>\n",
       "      <th>ETA</th>\n",
       "      <th>agerange</th>\n",
       "      <th>TITOLOSTUDIO</th>\n",
       "      <th>CONTRATTO</th>\n",
       "      <th>MODALITALAVORO</th>\n",
       "      <th>PROVINCIAIMPRESA</th>\n",
       "      <th>SETTOREECONOMICODETTAGLIO</th>\n",
       "      <th>RANKPROVINCIAIMPRESA</th>\n",
       "      <th>RANKTITOLOSTUDIO</th>\n",
       "      <th>RANKMODALITALAVORO</th>\n",
       "      <th>RANKSETTOREECONOMICODETTAGLIO</th>\n",
       "      <th>RANKCONTRATTO</th>\n",
       "      <th>RANKGENERE</th>\n",
       "      <th>RANKagerange</th>\n",
       "    </tr>\n",
       "  </thead>\n",
       "  <tbody>\n",
       "    <tr>\n",
       "      <th>12</th>\n",
       "      <td>F</td>\n",
       "      <td>34</td>\n",
       "      <td>(32, 35]</td>\n",
       "      <td>LAUREA</td>\n",
       "      <td>LAVORO A TEMPO INDETERMINATO</td>\n",
       "      <td>TEMPO PARZIALE ORIZZONTALE</td>\n",
       "      <td>BERGAMO</td>\n",
       "      <td>Istruzione di grado preparatorio: scuole dell'...</td>\n",
       "      <td>1020860</td>\n",
       "      <td>22</td>\n",
       "      <td>408794</td>\n",
       "      <td>25364</td>\n",
       "      <td>153314</td>\n",
       "      <td>2.0</td>\n",
       "      <td>11.0</td>\n",
       "    </tr>\n",
       "    <tr>\n",
       "      <th>26</th>\n",
       "      <td>F</td>\n",
       "      <td>26</td>\n",
       "      <td>(23, 26]</td>\n",
       "      <td>NESSUN TITOLO DI STUDIO</td>\n",
       "      <td>LAVORO INTERMITTENTE</td>\n",
       "      <td>NON DEFINITO</td>\n",
       "      <td>BERGAMO</td>\n",
       "      <td>Bar e altri esercizi simili senza cucina</td>\n",
       "      <td>1020860</td>\n",
       "      <td>0</td>\n",
       "      <td>173327</td>\n",
       "      <td>49030</td>\n",
       "      <td>116977</td>\n",
       "      <td>2.0</td>\n",
       "      <td>14.0</td>\n",
       "    </tr>\n",
       "    <tr>\n",
       "      <th>28</th>\n",
       "      <td>F</td>\n",
       "      <td>45</td>\n",
       "      <td>(44, 47]</td>\n",
       "      <td>NESSUN TITOLO DI STUDIO</td>\n",
       "      <td>LAVORO DOMESTICO</td>\n",
       "      <td>TEMPO PIENO</td>\n",
       "      <td>BERGAMO</td>\n",
       "      <td>Attività di famiglie e convivenze come datori ...</td>\n",
       "      <td>1020860</td>\n",
       "      <td>0</td>\n",
       "      <td>837678</td>\n",
       "      <td>70780</td>\n",
       "      <td>66839</td>\n",
       "      <td>2.0</td>\n",
       "      <td>7.0</td>\n",
       "    </tr>\n",
       "    <tr>\n",
       "      <th>42</th>\n",
       "      <td>F</td>\n",
       "      <td>24</td>\n",
       "      <td>(23, 26]</td>\n",
       "      <td>DIPLOMA DI ISTRUZIONE SECONDARIA SUPERIORE</td>\n",
       "      <td>LAVORO INTERMITTENTE</td>\n",
       "      <td>NON DEFINITO</td>\n",
       "      <td>BERGAMO</td>\n",
       "      <td>Ristorazione con somministrazione</td>\n",
       "      <td>1020860</td>\n",
       "      <td>19</td>\n",
       "      <td>173327</td>\n",
       "      <td>160493</td>\n",
       "      <td>116977</td>\n",
       "      <td>2.0</td>\n",
       "      <td>14.0</td>\n",
       "    </tr>\n",
       "    <tr>\n",
       "      <th>51</th>\n",
       "      <td>M</td>\n",
       "      <td>47</td>\n",
       "      <td>(44, 47]</td>\n",
       "      <td>NESSUN TITOLO DI STUDIO</td>\n",
       "      <td>LAVORO A TEMPO INDETERMINATO</td>\n",
       "      <td>TEMPO PIENO</td>\n",
       "      <td>LECCO</td>\n",
       "      <td>Fabbricazione di strutture metalliche e parti ...</td>\n",
       "      <td>310393</td>\n",
       "      <td>0</td>\n",
       "      <td>837678</td>\n",
       "      <td>15661</td>\n",
       "      <td>153314</td>\n",
       "      <td>1.0</td>\n",
       "      <td>7.0</td>\n",
       "    </tr>\n",
       "    <tr>\n",
       "      <th>...</th>\n",
       "      <td>...</td>\n",
       "      <td>...</td>\n",
       "      <td>...</td>\n",
       "      <td>...</td>\n",
       "      <td>...</td>\n",
       "      <td>...</td>\n",
       "      <td>...</td>\n",
       "      <td>...</td>\n",
       "      <td>...</td>\n",
       "      <td>...</td>\n",
       "      <td>...</td>\n",
       "      <td>...</td>\n",
       "      <td>...</td>\n",
       "      <td>...</td>\n",
       "      <td>...</td>\n",
       "    </tr>\n",
       "    <tr>\n",
       "      <th>9579758</th>\n",
       "      <td>M</td>\n",
       "      <td>29</td>\n",
       "      <td>(26, 29]</td>\n",
       "      <td>NESSUN TITOLO DI STUDIO</td>\n",
       "      <td>LAVORO INTERMITTENTE</td>\n",
       "      <td>NON DEFINITO</td>\n",
       "      <td>MONZA E BRIANZA</td>\n",
       "      <td>Ristorazione con somministrazione</td>\n",
       "      <td>802761</td>\n",
       "      <td>0</td>\n",
       "      <td>173327</td>\n",
       "      <td>160493</td>\n",
       "      <td>116977</td>\n",
       "      <td>1.0</td>\n",
       "      <td>13.0</td>\n",
       "    </tr>\n",
       "    <tr>\n",
       "      <th>9579764</th>\n",
       "      <td>F</td>\n",
       "      <td>41</td>\n",
       "      <td>(38, 41]</td>\n",
       "      <td>DIPLOMA DI ISTRUZIONE SECONDARIA SUPERIORE</td>\n",
       "      <td>LAVORO A TEMPO INDETERMINATO</td>\n",
       "      <td>TEMPO PARZIALE ORIZZONTALE</td>\n",
       "      <td>MONZA E BRIANZA</td>\n",
       "      <td>Bar e altri esercizi simili senza cucina</td>\n",
       "      <td>802761</td>\n",
       "      <td>19</td>\n",
       "      <td>408794</td>\n",
       "      <td>49030</td>\n",
       "      <td>153314</td>\n",
       "      <td>2.0</td>\n",
       "      <td>9.0</td>\n",
       "    </tr>\n",
       "    <tr>\n",
       "      <th>9579766</th>\n",
       "      <td>M</td>\n",
       "      <td>45</td>\n",
       "      <td>(44, 47]</td>\n",
       "      <td>NESSUN TITOLO DI STUDIO</td>\n",
       "      <td>LAVORO A TEMPO DETERMINATO</td>\n",
       "      <td>TEMPO PIENO</td>\n",
       "      <td>MONZA E BRIANZA</td>\n",
       "      <td>Costruzione di edifici residenziali e non resi...</td>\n",
       "      <td>802761</td>\n",
       "      <td>0</td>\n",
       "      <td>837678</td>\n",
       "      <td>57328</td>\n",
       "      <td>996382</td>\n",
       "      <td>1.0</td>\n",
       "      <td>7.0</td>\n",
       "    </tr>\n",
       "    <tr>\n",
       "      <th>9579777</th>\n",
       "      <td>F</td>\n",
       "      <td>35</td>\n",
       "      <td>(32, 35]</td>\n",
       "      <td>LICENZA MEDIA</td>\n",
       "      <td>LAVORO A TEMPO DETERMINATO</td>\n",
       "      <td>TEMPO PARZIALE ORIZZONTALE</td>\n",
       "      <td>MONZA E BRIANZA</td>\n",
       "      <td>Mense</td>\n",
       "      <td>802761</td>\n",
       "      <td>14</td>\n",
       "      <td>408794</td>\n",
       "      <td>21473</td>\n",
       "      <td>996382</td>\n",
       "      <td>2.0</td>\n",
       "      <td>11.0</td>\n",
       "    </tr>\n",
       "    <tr>\n",
       "      <th>9579788</th>\n",
       "      <td>M</td>\n",
       "      <td>40</td>\n",
       "      <td>(38, 41]</td>\n",
       "      <td>LICENZA MEDIA</td>\n",
       "      <td>LAVORO A TEMPO DETERMINATO</td>\n",
       "      <td>TEMPO PIENO</td>\n",
       "      <td>BERGAMO</td>\n",
       "      <td>Lavori di meccanica generale</td>\n",
       "      <td>1020860</td>\n",
       "      <td>14</td>\n",
       "      <td>837678</td>\n",
       "      <td>33676</td>\n",
       "      <td>996382</td>\n",
       "      <td>1.0</td>\n",
       "      <td>9.0</td>\n",
       "    </tr>\n",
       "  </tbody>\n",
       "</table>\n",
       "<p>1550423 rows × 15 columns</p>\n",
       "</div>"
      ],
      "text/plain": [
       "        GENERE  ETA  agerange                                TITOLOSTUDIO  \\\n",
       "12           F   34  (32, 35]                                      LAUREA   \n",
       "26           F   26  (23, 26]                     NESSUN TITOLO DI STUDIO   \n",
       "28           F   45  (44, 47]                     NESSUN TITOLO DI STUDIO   \n",
       "42           F   24  (23, 26]  DIPLOMA DI ISTRUZIONE SECONDARIA SUPERIORE   \n",
       "51           M   47  (44, 47]                     NESSUN TITOLO DI STUDIO   \n",
       "...        ...  ...       ...                                         ...   \n",
       "9579758      M   29  (26, 29]                     NESSUN TITOLO DI STUDIO   \n",
       "9579764      F   41  (38, 41]  DIPLOMA DI ISTRUZIONE SECONDARIA SUPERIORE   \n",
       "9579766      M   45  (44, 47]                     NESSUN TITOLO DI STUDIO   \n",
       "9579777      F   35  (32, 35]                               LICENZA MEDIA   \n",
       "9579788      M   40  (38, 41]                               LICENZA MEDIA   \n",
       "\n",
       "                            CONTRATTO              MODALITALAVORO  \\\n",
       "12       LAVORO A TEMPO INDETERMINATO  TEMPO PARZIALE ORIZZONTALE   \n",
       "26               LAVORO INTERMITTENTE                NON DEFINITO   \n",
       "28                   LAVORO DOMESTICO                 TEMPO PIENO   \n",
       "42               LAVORO INTERMITTENTE                NON DEFINITO   \n",
       "51       LAVORO A TEMPO INDETERMINATO                 TEMPO PIENO   \n",
       "...                               ...                         ...   \n",
       "9579758          LAVORO INTERMITTENTE                NON DEFINITO   \n",
       "9579764  LAVORO A TEMPO INDETERMINATO  TEMPO PARZIALE ORIZZONTALE   \n",
       "9579766    LAVORO A TEMPO DETERMINATO                 TEMPO PIENO   \n",
       "9579777    LAVORO A TEMPO DETERMINATO  TEMPO PARZIALE ORIZZONTALE   \n",
       "9579788    LAVORO A TEMPO DETERMINATO                 TEMPO PIENO   \n",
       "\n",
       "        PROVINCIAIMPRESA                          SETTOREECONOMICODETTAGLIO  \\\n",
       "12               BERGAMO  Istruzione di grado preparatorio: scuole dell'...   \n",
       "26               BERGAMO           Bar e altri esercizi simili senza cucina   \n",
       "28               BERGAMO  Attività di famiglie e convivenze come datori ...   \n",
       "42               BERGAMO                  Ristorazione con somministrazione   \n",
       "51                 LECCO  Fabbricazione di strutture metalliche e parti ...   \n",
       "...                  ...                                                ...   \n",
       "9579758  MONZA E BRIANZA                  Ristorazione con somministrazione   \n",
       "9579764  MONZA E BRIANZA           Bar e altri esercizi simili senza cucina   \n",
       "9579766  MONZA E BRIANZA  Costruzione di edifici residenziali e non resi...   \n",
       "9579777  MONZA E BRIANZA                                              Mense   \n",
       "9579788          BERGAMO                       Lavori di meccanica generale   \n",
       "\n",
       "         RANKPROVINCIAIMPRESA  RANKTITOLOSTUDIO  RANKMODALITALAVORO  \\\n",
       "12                    1020860                22              408794   \n",
       "26                    1020860                 0              173327   \n",
       "28                    1020860                 0              837678   \n",
       "42                    1020860                19              173327   \n",
       "51                     310393                 0              837678   \n",
       "...                       ...               ...                 ...   \n",
       "9579758                802761                 0              173327   \n",
       "9579764                802761                19              408794   \n",
       "9579766                802761                 0              837678   \n",
       "9579777                802761                14              408794   \n",
       "9579788               1020860                14              837678   \n",
       "\n",
       "         RANKSETTOREECONOMICODETTAGLIO  RANKCONTRATTO  RANKGENERE  \\\n",
       "12                               25364         153314         2.0   \n",
       "26                               49030         116977         2.0   \n",
       "28                               70780          66839         2.0   \n",
       "42                              160493         116977         2.0   \n",
       "51                               15661         153314         1.0   \n",
       "...                                ...            ...         ...   \n",
       "9579758                         160493         116977         1.0   \n",
       "9579764                          49030         153314         2.0   \n",
       "9579766                          57328         996382         1.0   \n",
       "9579777                          21473         996382         2.0   \n",
       "9579788                          33676         996382         1.0   \n",
       "\n",
       "         RANKagerange  \n",
       "12               11.0  \n",
       "26               14.0  \n",
       "28                7.0  \n",
       "42               14.0  \n",
       "51                7.0  \n",
       "...               ...  \n",
       "9579758          13.0  \n",
       "9579764           9.0  \n",
       "9579766           7.0  \n",
       "9579777          11.0  \n",
       "9579788           9.0  \n",
       "\n",
       "[1550423 rows x 15 columns]"
      ]
     },
     "execution_count": 69,
     "metadata": {},
     "output_type": "execute_result"
    }
   ],
   "source": [
    "testnum['RANKGENERE'] = testnum['GENERE'].rank(method='dense', ascending=False).astype('float')\n",
    "testnum['RANKagerange'] = testnum['agerange'].rank(method='dense', ascending=False).astype('float')\n",
    "testnum"
   ]
  },
  {
   "cell_type": "code",
   "execution_count": 70,
   "id": "18fbc027",
   "metadata": {},
   "outputs": [],
   "source": [
    "X = testnum[['RANKGENERE', 'RANKTITOLOSTUDIO', 'RANKCONTRATTO', 'RANKMODALITALAVORO','RANKPROVINCIAIMPRESA']]\n",
    "y = testnum['RANKagerange']\n",
    "X_train, X_test, y_train, y_test = train_test_split(X, y, random_state=100)"
   ]
  },
  {
   "cell_type": "markdown",
   "id": "bb9940e5",
   "metadata": {},
   "source": [
    "training the model"
   ]
  },
  {
   "cell_type": "code",
   "execution_count": 62,
   "id": "d53ba610",
   "metadata": {
    "scrolled": true
   },
   "outputs": [
    {
     "name": "stdout",
     "output_type": "stream",
     "text": [
      "<class 'pandas.core.frame.DataFrame'>\n",
      "Int64Index: 1550423 entries, 12 to 9579788\n",
      "Data columns (total 15 columns):\n",
      " #   Column                         Non-Null Count    Dtype   \n",
      "---  ------                         --------------    -----   \n",
      " 0   GENERE                         1550423 non-null  string  \n",
      " 1   ETA                            1550423 non-null  int64   \n",
      " 2   agerange                       1550423 non-null  category\n",
      " 3   TITOLOSTUDIO                   1550423 non-null  object  \n",
      " 4   CONTRATTO                      1550423 non-null  string  \n",
      " 5   MODALITALAVORO                 1550423 non-null  string  \n",
      " 6   PROVINCIAIMPRESA               1550423 non-null  string  \n",
      " 7   SETTOREECONOMICODETTAGLIO      1550423 non-null  string  \n",
      " 8   RANKPROVINCIAIMPRESA           1550423 non-null  int64   \n",
      " 9   RANKTITOLOSTUDIO               1550423 non-null  int64   \n",
      " 10  RANKMODALITALAVORO             1550423 non-null  int64   \n",
      " 11  RANKSETTOREECONOMICODETTAGLIO  1550423 non-null  int64   \n",
      " 12  RANKCONTRATTO                  1550423 non-null  int64   \n",
      " 13  RANKGENERE                     1550423 non-null  Int64   \n",
      " 14  RANKagerange                   1550423 non-null  float64 \n",
      "dtypes: Int64(1), category(1), float64(1), int64(6), object(1), string(5)\n",
      "memory usage: 180.4+ MB\n"
     ]
    }
   ],
   "source": [
    "testnum.info()"
   ]
  },
  {
   "cell_type": "code",
   "execution_count": 63,
   "id": "640931a3",
   "metadata": {},
   "outputs": [
    {
     "data": {
      "text/plain": [
       "[(32, 35], (23, 26], (44, 47], (26, 29], (29, 32], ..., (38, 41], (41, 44], (56, 59], (59, 62], (14, 17]]\n",
       "Length: 17\n",
       "Categories (17, interval[int64]): [(14, 17] < (17, 20] < (20, 23] < (23, 26] ... (53, 56] < (56, 59] < (59, 62] < (62, 65]]"
      ]
     },
     "execution_count": 63,
     "metadata": {},
     "output_type": "execute_result"
    }
   ],
   "source": [
    "testnum['agerange'].unique()"
   ]
  },
  {
   "cell_type": "code",
   "execution_count": 64,
   "id": "18a44442",
   "metadata": {
    "scrolled": false
   },
   "outputs": [
    {
     "name": "stderr",
     "output_type": "stream",
     "text": [
      "C:\\Users\\emanu\\anaconda3\\lib\\site-packages\\sklearn\\neural_network\\_multilayer_perceptron.py:614: ConvergenceWarning: Stochastic Optimizer: Maximum iterations (2) reached and the optimization hasn't converged yet.\n",
      "  warnings.warn(\n"
     ]
    }
   ],
   "source": [
    "mlpModel = MLPClassifier(random_state=1, max_iter=2, hidden_layer_sizes=(17,29,23))\n",
    "mlpModel = mlpModel.fit(X_train, y_train)"
   ]
  },
  {
   "cell_type": "markdown",
   "id": "dae33526",
   "metadata": {},
   "source": [
    "Check the model performance"
   ]
  },
  {
   "cell_type": "code",
   "execution_count": 65,
   "id": "6934bdc1",
   "metadata": {},
   "outputs": [
    {
     "name": "stderr",
     "output_type": "stream",
     "text": [
      "C:\\Users\\emanu\\anaconda3\\lib\\site-packages\\sklearn\\metrics\\_classification.py:1248: UndefinedMetricWarning: Precision and F-score are ill-defined and being set to 0.0 in labels with no predicted samples. Use `zero_division` parameter to control this behavior.\n",
      "  _warn_prf(average, modifier, msg_start, len(result))\n",
      "C:\\Users\\emanu\\anaconda3\\lib\\site-packages\\sklearn\\metrics\\_classification.py:1248: UndefinedMetricWarning: Precision and F-score are ill-defined and being set to 0.0 in labels with no predicted samples. Use `zero_division` parameter to control this behavior.\n",
      "  _warn_prf(average, modifier, msg_start, len(result))\n",
      "C:\\Users\\emanu\\anaconda3\\lib\\site-packages\\sklearn\\metrics\\_classification.py:1248: UndefinedMetricWarning: Precision and F-score are ill-defined and being set to 0.0 in labels with no predicted samples. Use `zero_division` parameter to control this behavior.\n",
      "  _warn_prf(average, modifier, msg_start, len(result))\n"
     ]
    },
    {
     "name": "stdout",
     "output_type": "stream",
     "text": [
      "Accuracy:\n",
      "0.10711392496504182\n",
      "\n",
      "Confusion matrix:\n"
     ]
    },
    {
     "data": {
      "text/plain": [
       "array([[    0,     0,     0,     0,     0,     0,     0,     0,     0,\n",
       "            0,     0,     0,     0,  3618,     0,     0,     0],\n",
       "       [    0,     0,     0,     0,     0,     0,     0,     0,     0,\n",
       "            0,     0,     0,     0,  6364,     0,     0,     0],\n",
       "       [    0,     0,     0,     0,     0,     0,     0,     0,     0,\n",
       "            0,     0,     0,     0,  9942,     0,     0,     0],\n",
       "       [    0,     0,     0,     0,     0,     0,     0,     0,     0,\n",
       "            0,     0,     0,     0, 14563,     0,     0,     0],\n",
       "       [    0,     0,     0,     0,     0,     0,     0,     0,     0,\n",
       "            0,     0,     0,     0, 18200,     0,     0,     0],\n",
       "       [    0,     0,     0,     0,     0,     0,     0,     0,     0,\n",
       "            0,     0,     0,     0, 21303,     0,     0,     0],\n",
       "       [    0,     0,     0,     0,     0,     0,     0,     0,     0,\n",
       "            0,     0,     0,     0, 23871,     0,     0,     0],\n",
       "       [    0,     0,     0,     0,     0,     0,     0,     0,     0,\n",
       "            0,     0,     0,     0, 26516,     0,     0,     0],\n",
       "       [    0,     0,     0,     0,     0,     0,     0,     0,     0,\n",
       "            0,     0,     0,     0, 26690,     0,     0,     0],\n",
       "       [    0,     0,     0,     0,     0,     0,     0,     0,     0,\n",
       "            0,     0,     0,     0, 27417,     0,     0,     0],\n",
       "       [    0,     0,     0,     0,     0,     0,     0,     0,     0,\n",
       "            0,     0,     0,     0, 29069,     0,     0,     0],\n",
       "       [    0,     0,     0,     0,     0,     0,     0,     0,     0,\n",
       "            0,     0,     0,     0, 30693,     0,     0,     0],\n",
       "       [    0,     0,     0,     0,     0,     0,     0,     0,     0,\n",
       "            0,     0,     0,     0, 36760,     0,     0,     0],\n",
       "       [    0,     0,     0,     0,     0,     0,     0,     0,     0,\n",
       "            0,     0,     0,     0, 41518,     0,     0,     0],\n",
       "       [    0,     0,     0,     0,     0,     0,     0,     0,     0,\n",
       "            0,     0,     0,     0, 39291,     0,     0,     0],\n",
       "       [    0,     0,     0,     0,     0,     0,     0,     0,     0,\n",
       "            0,     0,     0,     0, 30098,     0,     0,     0],\n",
       "       [    0,     0,     0,     0,     0,     0,     0,     0,     0,\n",
       "            0,     0,     0,     0,  1693,     0,     0,     0]],\n",
       "      dtype=int64)"
      ]
     },
     "execution_count": 65,
     "metadata": {},
     "output_type": "execute_result"
    }
   ],
   "source": [
    "#prediction and probability\n",
    "mlp_pred = mlpModel.predict(X_test)\n",
    "mlp_proba = mlpModel.predict_proba(X_test)\n",
    "\n",
    "#Report metrix\n",
    "reportMLP = classification_report(y_test, mlp_pred,output_dict= True)\n",
    "accMlp = accuracy_score(y_test, mlp_pred)\n",
    "print('Accuracy:')\n",
    "print(accMlp)\n",
    "print('\\nConfusion matrix:')\n",
    "confusion_matrix(y_test, mlp_pred)"
   ]
  },
  {
   "cell_type": "code",
   "execution_count": 66,
   "id": "d225ec3a",
   "metadata": {},
   "outputs": [
    {
     "data": {
      "text/plain": [
       "(23, 26]    166640\n",
       "(20, 23]    157453\n",
       "(26, 29]    145491\n",
       "(29, 32]    123054\n",
       "(17, 20]    120578\n",
       "(32, 35]    116171\n",
       "(35, 38]    109231\n",
       "(38, 41]    106998\n",
       "(41, 44]    105454\n",
       "(44, 47]     95668\n",
       "(47, 50]     85303\n",
       "(50, 53]     73727\n",
       "(53, 56]     58615\n",
       "(56, 59]     40062\n",
       "(59, 62]     25412\n",
       "(62, 65]     14030\n",
       "(14, 17]      6536\n",
       "Name: agerange, dtype: int64"
      ]
     },
     "execution_count": 66,
     "metadata": {},
     "output_type": "execute_result"
    }
   ],
   "source": [
    "rap_lavoro_attivati.agerange.value_counts()"
   ]
  },
  {
   "cell_type": "code",
   "execution_count": 67,
   "id": "dd8687cc",
   "metadata": {},
   "outputs": [
    {
     "name": "stderr",
     "output_type": "stream",
     "text": [
      "C:\\Users\\emanu\\anaconda3\\lib\\site-packages\\sklearn\\ensemble\\_forest.py:541: UserWarning: Some inputs do not have OOB scores. This probably means too few trees were used to compute any reliable oob estimates.\n",
      "  warn(\"Some inputs do not have OOB scores. \"\n",
      "C:\\Users\\emanu\\anaconda3\\lib\\site-packages\\sklearn\\ensemble\\_forest.py:545: RuntimeWarning: invalid value encountered in true_divide\n",
      "  decision = (predictions[k] /\n"
     ]
    },
    {
     "name": "stdout",
     "output_type": "stream",
     "text": [
      "Scoring...\n",
      "Score:  14.187\n"
     ]
    }
   ],
   "source": [
    "from sklearn.ensemble import RandomForestClassifier\n",
    "\n",
    "model = RandomForestClassifier(n_estimators=30, max_depth=10, oob_score=True, random_state=0)\n",
    "model.fit(X_train, y_train)\n",
    "    \n",
    "print(\"Scoring...\")\n",
    "\n",
    "# TODO: score your model on your test set\n",
    "\n",
    "score = model.score(X_test, y_test)\n",
    "\n",
    "print(\"Score: \", round(score*100, 3))"
   ]
  },
  {
   "cell_type": "code",
   "execution_count": 76,
   "id": "6995b7dd",
   "metadata": {},
   "outputs": [
    {
     "name": "stderr",
     "output_type": "stream",
     "text": [
      "C:\\Users\\emanu\\anaconda3\\lib\\site-packages\\xgboost\\sklearn.py:1224: UserWarning: The use of label encoder in XGBClassifier is deprecated and will be removed in a future release. To remove this warning, do the following: 1) Pass option use_label_encoder=False when constructing XGBClassifier object; and 2) Encode your labels (y) as integers starting with 0, i.e. 0, 1, 2, ..., [num_class - 1].\n",
      "  warnings.warn(label_encoder_deprecation_msg, UserWarning)\n"
     ]
    },
    {
     "data": {
      "text/plain": [
       "array([996382, 996382, 996382, ..., 996382, 996382, 996382], dtype=int64)"
      ]
     },
     "execution_count": 76,
     "metadata": {},
     "output_type": "execute_result"
    }
   ],
   "source": [
    "import xgboost as xgb\n",
    "\n",
    "X = testnum[['RANKGENERE', 'RANKTITOLOSTUDIO', 'RANKagerange', 'RANKMODALITALAVORO','RANKPROVINCIAIMPRESA']]\n",
    "y = testnum['RANKCONTRATTO']\n",
    "X_train, X_test, y_train, y_test = train_test_split(X, y, random_state=100)\n",
    "\n",
    "xg_reg = xgb.XGBClassifier(colsample_bytree = 0.3, learning_rate = 0.1,\n",
    "                max_depth = 7, alpha = 10, n_estimators = 30, eval_metric='mlogloss')\n",
    "#Fit the model\n",
    "xg_reg.fit(X_train,y_train)\n",
    "#xg_reg.save_model(\"categorical-model.json\")\n",
    "\n",
    "#Make predictions\n",
    "preds = xg_reg.predict(X_test)\n",
    "preds\n"
   ]
  },
  {
   "cell_type": "code",
   "execution_count": 78,
   "id": "f5c50ecd",
   "metadata": {},
   "outputs": [
    {
     "data": {
      "text/plain": [
       "0.6476189739064927"
      ]
     },
     "execution_count": 78,
     "metadata": {},
     "output_type": "execute_result"
    }
   ],
   "source": [
    "from sklearn.metrics import accuracy_score\n",
    "accuracy_score(y_test, preds)"
   ]
  },
  {
   "cell_type": "code",
   "execution_count": null,
   "id": "713d1edd",
=======
   "cell_type": "code",
   "execution_count": null,
   "id": "85603b4f",
>>>>>>> achille
   "metadata": {},
   "outputs": [],
   "source": [
    "print([grado_istruzione_age.isnull().sum()])"
   ]
  },
  {
   "cell_type": "markdown",
   "id": "04619744",
   "metadata": {},
   "source": [
    "there are some column with null value that can be deleted"
   ]
  },
  {
   "cell_type": "code",
   "execution_count": null,
   "id": "ee685ec1",
   "metadata": {},
   "outputs": [],
   "source": [
    "grado_istruzione_age = grado_istruzione_age[['REF_AREA', 'GENDER', 'AGE_NOCLASS', 'EDU_ATTAIN', 'TIME_PERIOD', 'OBS_VALUE']]"
   ]
  },
  {
   "cell_type": "code",
   "execution_count": null,
   "id": "f920616d",
   "metadata": {},
   "outputs": [],
   "source": [
    "grado_istruzione_age ['AGE_NOCLASS'].value_counts()"
   ]
  },
  {
   "cell_type": "markdown",
   "id": "ae02915b",
   "metadata": {},
   "source": [
    "those value represet age range in specific:\n",
    "- Y_GE9: all people with age greater than 9, in this case all the people in the dataset\n",
    "- Y25-49: people with an age between 25 and 49\n",
    "- Y50-64: people with an age between 50 and 64\n",
    "- Y_GE65: people with more than 65 years\n",
    "- Y9-24: people with an age between 9 and 24\n",
    "\n",
    "In the following part we will add a column with the saem age range of the dataset *Grado_istruzione_per_età_Lombardia*"
   ]
  },
  {
   "cell_type": "markdown",
   "id": "d3615cb0",
   "metadata": {},
   "source": [
    "Since in the dataset *rapporti di lavoro* the minimum age is 16 while in *Grado_istruzione_per_età_Lombardia* is 9 we will delete all the illiterate and the people with only elementary school license with the age between 9 and 24  from the dataset, we have chosen to do so because the majority of people in that age range with only elementary school license are the one under 16 year"
   ]
  },
  {
   "cell_type": "code",
   "execution_count": null,
   "id": "4be7ed41",
   "metadata": {},
   "outputs": [],
   "source": [
    "grado_istruzione_age = grado_istruzione_age [~((grado_istruzione_age ['EDU_ATTAIN']== 'IL')|(grado_istruzione_age ['EDU_ATTAIN']== 'LBNA')|((grado_istruzione_age ['EDU_ATTAIN']== 'PSE')&(grado_istruzione_age ['AGE_NOCLASS']== 'Y9_24')))]\n",
    "grado_istruzione_age"
   ]
  },
  {
   "cell_type": "code",
   "execution_count": null,
   "id": "78a53744",
   "metadata": {},
   "outputs": [],
   "source": [
    "print(rap_lavoro_attivati['TITOLOSTUDIO'].head())\n",
    "grado_istruzione_age['EDU_ATTAIN'].head()"
   ]
  },
  {
   "cell_type": "code",
   "execution_count": null,
   "id": "8891fa3e",
   "metadata": {
    "scrolled": true
   },
   "outputs": [],
   "source": [
    "print(series_to_set('TITOLOSTUDIO', rap_lavoro_attivati))\n",
    "print(series_to_set('EDU_ATTAIN', grado_istruzione_age))"
   ]
  },
  {
   "cell_type": "code",
   "execution_count": null,
   "id": "c32a5e9a",
   "metadata": {},
   "outputs": [],
   "source": [
    "grado_istruzione_age.loc[(grado_istruzione_age.EDU_ATTAIN.isin(['ML_RDD'])) & ~(grado_istruzione_age.AGE_NOCLASS == 'Y_GE9')]"
   ]
  },
  {
   "cell_type": "code",
   "execution_count": null,
   "id": "b1ecab84",
   "metadata": {},
   "outputs": [],
   "source": [
    "grado_istruzione_age = grado_istruzione_age[grado_istruzione_age['TIME_PERIOD'] != 2020]\n",
    "grado_istruzione_age = grado_istruzione_age[~grado_istruzione_age.EDU_ATTAIN.isin(['ALL', 'ML', 'RDD'])]\n",
    "grado_istruzione_age = grado_istruzione_age[grado_istruzione_age.AGE_NOCLASS != 'Y_GE9']\n",
    "grado_istruzione_age = grado_istruzione_age[grado_istruzione_age.GENDER != 'T']\n",
    "grado_istruzione_age.head()"
   ]
  },
  {
   "cell_type": "markdown",
   "id": "32b75dca",
   "metadata": {},
   "source": [
    "Unfortunately the educational levels of the two datasets don't match easily, but we can try to generalize a bit and to map the different values to the same set. In this way we can then unify the two dataset, or at least analyze the first dataset exploiting the second. "
   ]
  },
  {
   "cell_type": "code",
   "execution_count": null,
   "id": "71222e80",
   "metadata": {},
   "outputs": [],
   "source": [
    "edu_map = {\n",
    "    'IL': 'NESSUN TITOLO DI STUDIO',\n",
    "    'NED': 'NESSUN TITOLO DI STUDIO',\n",
    "    'LBNA': 'NESSUN TITOLO DI STUDIO',\n",
    "    'PSE': 'LICENZA ELEMENTARE',\n",
    "    'LSE': 'LICENZA MEDIA',\n",
    "    'USE_IF': 'DIPLOMA DI ISTRUZIONE SECONDARIA SUPERIORE',\n",
    "    \"TITOLO DI ISTRUZIONE SECONDARIA SUPERIORE (SCOLASTICA ED EXTRA-SCOLASTICA) CHE NON PERMETTE L'ACCESSO ALL'UNIVERSITÀ ()\": 'DIPLOMA DI ISTRUZIONE SECONDARIA SUPERIORE',\n",
    "    \"DIPLOMA DI ISTRUZIONE SECONDARIA SUPERIORE  CHE PERMETTE L'ACCESSO ALL'UNIVERSITA\": 'DIPLOMA DI ISTRUZIONE SECONDARIA SUPERIORE',\n",
    "    'BL': 'LAUREA',\n",
    "    'ML_RDD': 'TITOLO DI STUDIO TERZIARIO DI SECONDO LIVELLO O DOTTORATO',\n",
    "    'DIPLOMA TERZIARIO EXTRA-UNIVERSITARIO': 'TITOLO DI STUDIO TERZIARIO DI SECONDO LIVELLO O DOTTORATO',\n",
    "    'MASTER UNIVERSITARIO DI PRIMO LIVELLO': 'TITOLO DI STUDIO TERZIARIO DI SECONDO LIVELLO O DOTTORATO',\n",
    "    'LAUREA - Vecchio o nuovo ordinamento': 'LAUREA',\n",
    "    'DIPLOMA DI SPECIALIZZAZIONE': 'TITOLO DI STUDIO TERZIARIO DI SECONDO LIVELLO O DOTTORATO',\n",
    "    'DIPLOMA UNIVERSITARIO': 'LAUREA',\n",
    "    'TITOLO DI STUDIO POST-LAUREA': 'TITOLO DI STUDIO TERZIARIO DI SECONDO LIVELLO O DOTTORATO',\n",
    "    'TITOLO DI DOTTORE DI RICERCA': 'TITOLO DI STUDIO TERZIARIO DI SECONDO LIVELLO O DOTTORATO'\n",
    "}\n"
   ]
  },
  {
   "cell_type": "code",
   "execution_count": null,
   "id": "8a10bcd9",
   "metadata": {},
   "outputs": [],
   "source": [
    "def mapping(series, mapp): \n",
    "    series = series.apply(lambda x: mapp.get(x) if mapp.get(x) != None else x)\n",
    "    return series\n",
    "\n",
    "rap_lavoro_attivati['TITOLOSTUDIO'] = mapping(rap_lavoro_attivati['TITOLOSTUDIO'], edu_map)\n",
    "\n",
    "grado_istruzione_age['EDU_ATTAIN'] = mapping(grado_istruzione_age['EDU_ATTAIN'], edu_map)\n",
    "\n",
    "grado_istruzione_age['EDU_ATTAIN']\n"
   ]
  },
  {
   "cell_type": "code",
   "execution_count": null,
   "id": "2ebe4d16",
   "metadata": {
    "scrolled": false
   },
   "outputs": [],
   "source": [
    "city_codes = pd.read_excel(PurePath('dataset', 'Elenco-comuni-italiani.xls'))\n",
    "city_codes = city_codes[['Codice Comune formato alfanumerico', \n",
    "                        'Denominazione in italiano',\n",
    "                        'Denominazione Regione',\n",
    "                        'Provincia',\n",
    "                        'Codice NUTS3 2021',\n",
    "                        'Codice NUTS2 2021 (3) '\n",
    "                        ]]\n",
    "city_codes = city_codes[city_codes['Denominazione Regione'] == 'Lombardia']\n",
    "city_codes = city_codes.set_index('Codice Comune formato alfanumerico')\n",
    "city_codes.loc[1] = ['','','Milano','ITC45','']   #The code in the dataset does not match with the code of Milano, \n",
    "                                                  #manually added\n",
    "city_codes.head()"
   ]
  },
  {
   "cell_type": "code",
   "execution_count": null,
   "id": "09098ee6",
   "metadata": {
    "scrolled": true
   },
   "outputs": [],
   "source": [
    "def get_provincia_by_code(code):\n",
    "    try:\n",
    "        return city_codes[city_codes['Codice NUTS3 2021'] == code]['Provincia'].iloc[0]\n",
    "    except: \n",
    "        if code == 'IT108':\n",
    "            return 'MONZA E BRIANZA'\n",
    "                    "
   ]
  },
  {
   "cell_type": "code",
   "execution_count": null,
   "id": "1fca0f7d",
   "metadata": {},
   "outputs": [],
   "source": [
    "area_codes = set(city_codes['Codice NUTS3 2021'])\n",
    "area_codes.add('IT108')\n",
    "grado_istruzione_age = grado_istruzione_age[grado_istruzione_age.REF_AREA.isin(area_codes)]"
   ]
  },
  {
   "cell_type": "code",
   "execution_count": null,
   "id": "bfc82299",
   "metadata": {},
   "outputs": [],
   "source": [
    "grado_istruzione_age['REF_AREA'] = grado_istruzione_age['REF_AREA'].apply(lambda x: get_provincia_by_code(x)) \n",
    "grado_istruzione_age"
   ]
  },
  {
   "cell_type": "code",
   "execution_count": null,
   "id": "b8a92f6c",
   "metadata": {},
   "outputs": [],
   "source": [
    "titoli = set(rap_lavoro_attivati['TITOLOSTUDIO'])"
   ]
  },
  {
   "cell_type": "markdown",
   "id": "c828afc1",
   "metadata": {},
   "source": [
    "Now we will see how the education level are distributed among the started contracts. Then we will see how they are distributed in the population."
   ]
  },
  {
   "cell_type": "code",
   "execution_count": null,
   "id": "89264421",
   "metadata": {},
   "outputs": [],
   "source": [
    "istruction_df = rap_lavoro_attivati[['DATA', 'TITOLOSTUDIO', \"CONTRATTO\"]]\n",
    "istruction_df = istruction_df[(istruction_df['TITOLOSTUDIO'].isin(titoli))]\n",
    "group_ist = istruction_df.groupby(['TITOLOSTUDIO', 'DATA']).count()\n",
    "group_ist['CONTRATTO']\n",
    "\n",
    "group_ist.unstack().plot(kind='bar', stacked=False)\n",
    "plt.legend([2018,2019])\n",
    "plt.xticks(rotation=90)\n",
    "plt.show()"
   ]
  },
  {
   "cell_type": "code",
   "execution_count": null,
   "id": "8fec592c",
   "metadata": {},
   "outputs": [],
   "source": [
    "len(rap_lavoro_attivati)"
   ]
  },
  {
   "cell_type": "code",
   "execution_count": null,
   "id": "2614c63c",
   "metadata": {},
   "outputs": [],
   "source": [
    "test = group_ist\n",
    "test['TITOLOSTUDIO'] = test.index.get_level_values(0)\n",
    "test.head()"
   ]
  },
  {
   "cell_type": "code",
   "execution_count": null,
   "id": "b95123c5",
   "metadata": {},
   "outputs": [],
   "source": [
    "test_ist = grado_istruzione_age[grado_istruzione_age['EDU_ATTAIN'].isin(titoli)]\n",
    "test['OBS_VALUE'] = test_ist.groupby(['EDU_ATTAIN', 'TIME_PERIOD']).sum()['OBS_VALUE']"
   ]
  },
  {
   "cell_type": "code",
   "execution_count": null,
   "id": "277cb505",
   "metadata": {},
   "outputs": [],
   "source": [
    "test.loc[:, 'CONTRATTO'] = test['CONTRATTO']/test['OBS_VALUE']"
   ]
  },
  {
   "cell_type": "markdown",
   "id": "5ddf003c",
   "metadata": {},
   "source": [
    "In the following plot, we will see the percentage of all the education levels of the started contracts over the total population with the same education level."
   ]
  },
  {
   "cell_type": "code",
   "execution_count": null,
   "id": "0c32e0b4",
   "metadata": {},
   "outputs": [],
   "source": [
    "test = test[['CONTRATTO', 'TITOLOSTUDIO']]\n",
    "test.unstack().plot(kind='bar', stacked=False)\n",
    "plt.xticks(rotation=90)\n",
    "plt.show()"
   ]
  },
  {
   "cell_type": "markdown",
   "id": "3d97636e",
   "metadata": {},
   "source": [
    "Surprisingly, people without a qualification are the most hired in comparison with their total number. We can further analyze the dataset and in particular the values about people that doesn't have a qualification. \n",
    "\n",
    "First, let's see which are their most frequent type of contracts."
   ]
  },
  {
   "cell_type": "code",
   "execution_count": null,
   "id": "67c0702a",
   "metadata": {},
   "outputs": [],
   "source": [
    "#TODO delete\n",
    "df = grado_istruzione_age.copy()\n",
    "df = df.groupby(['EDU_ATTAIN']).sum()\n",
    "plt.figure(figsize=(12, 3))\n",
    "plt.bar(df.index, df[\"OBS_VALUE\"], width=0.4)\n",
    "plt.show()\n"
   ]
  },
  {
   "cell_type": "code",
   "execution_count": null,
   "id": "ede00b2a",
   "metadata": {},
   "outputs": [],
   "source": [
    "df = rap_lavoro_attivati[['CONTRATTO', 'TITOLOSTUDIO']]\n",
    "df = df[df['TITOLOSTUDIO'] == 'NESSUN TITOLO DI STUDIO']\n",
    "df = df.groupby(['CONTRATTO']).count()\n",
    "df.plot(kind='bar', legend=False)\n",
    "plt.xlabel('Contratti Nessun titolo di studio')\n",
    "plt.title('Numero di persone senza titolo di studio divise per tipo di contratto')\n",
    "plt.show()"
   ]
  },
  {
   "cell_type": "code",
   "execution_count": null,
   "id": "6b2bc066",
   "metadata": {
    "scrolled": true
   },
   "outputs": [],
   "source": [
    "#delete this cell\n",
    "df"
   ]
  },
  {
   "cell_type": "markdown",
   "id": "ad7f1fe8",
   "metadata": {},
   "source": [
    "So the vast majority of the contracts are fixed-term contracts, this could mean that probably many start more than one contract per year and so happens more often that multiple contracts belong to the same person. \n",
    "\n",
    "We can also try to understand at which age people without an educational qualification are hired compared to others."
   ]
  },
  {
   "cell_type": "code",
   "execution_count": null,
   "id": "16893165",
   "metadata": {},
   "outputs": [],
   "source": [
    "df = rap_lavoro_attivati[['CONTRATTO', 'ETA', 'TITOLOSTUDIO']]\n",
    "df = df[df['TITOLOSTUDIO'] == 'NESSUN TITOLO DI STUDIO']\n",
    "df = df[['ETA', 'CONTRATTO']]\n",
    "df = df.groupby(['ETA']).count()\n",
    "\n",
    "df.plot(kind='bar', legend=False, stacked=False, figsize=(12,3))\n",
    "plt.ylabel('Contratti')\n",
    "plt.xlabel('Età senza titolo di studio')\n",
    "plt.show()\n",
    "###########################################################################\n",
    "df = rap_lavoro_attivati[['CONTRATTO', 'ETA', 'TITOLOSTUDIO']]\n",
    "df = df[df['TITOLOSTUDIO'] != 'NESSUN TITOLO DI STUDIO']\n",
    "df = df[['ETA', 'CONTRATTO']]\n",
    "df = df.groupby(['ETA']).count()\n",
    "\n",
    "df.plot(kind='bar', legend=False, stacked=False, figsize=(12,3))\n",
    "plt.ylabel('Contratti')\n",
    "plt.xlabel('Età con titolo di studio')\n",
    "plt.show()"
   ]
  },
  {
   "cell_type": "markdown",
   "id": "a57f452f",
   "metadata": {},
   "source": [
    "Can be noted that the plot of people *with* a qualification have a maximum at age 25 then it quickly decrease until 30 and at that point it starts decreasing more slowly. Instead, the plot of people *without* a qualification is  a lot different. It keeps really high until 43 and then it starts slowly decreasing. This means that people without schooling are hired in a much wider range, and this means a lot more people.\n",
    "\n",
    "Now we can plot the number of people hired with an open-ended contract divided per age and educational qualification to stress once again the importance of this two features."
   ]
  },
  {
   "cell_type": "code",
   "execution_count": null,
   "id": "22d51fb9",
   "metadata": {},
   "outputs": [],
   "source": [
    "df = rap_lavoro_attivati[['CONTRATTO', 'ETA', 'TITOLOSTUDIO']]\n",
    "df = df[df['TITOLOSTUDIO'] == 'NESSUN TITOLO DI STUDIO']\n",
    "df = df[df['CONTRATTO'] == 'LAVORO A TEMPO INDETERMINATO'][['ETA', 'CONTRATTO']]\n",
    "df = df.groupby(['ETA']).count()\n",
    "\n",
    "df.plot(kind='bar', legend=False, stacked=False, figsize=(12,3))\n",
    "plt.ylabel('Contratti tempo indeterminato')\n",
    "plt.xlabel('Età senza titolo di studio')\n",
    "plt.show()\n",
    "###########################################################################\n",
    "df = rap_lavoro_attivati[['CONTRATTO', 'ETA', 'TITOLOSTUDIO']]\n",
    "df = df[df['TITOLOSTUDIO'] == 'LAUREA']\n",
    "df = df[df['CONTRATTO'] == 'LAVORO A TEMPO INDETERMINATO'][['ETA', 'CONTRATTO']]\n",
    "df = df.groupby(['ETA']).count()\n",
    "\n",
    "df.plot(kind='bar', legend=False, stacked=False, figsize=(12,3))\n",
    "plt.ylabel('Contratti tempo indeterminato')\n",
    "plt.xlabel('Età laureati')\n",
    "plt.show()\n",
    "###########################################################################\n",
    "df = rap_lavoro_attivati[['CONTRATTO', 'ETA', 'TITOLOSTUDIO']]\n",
    "df = df[df['TITOLOSTUDIO'] == 'DIPLOMA DI ISTRUZIONE SECONDARIA SUPERIORE']\n",
    "df = df[df['CONTRATTO'] == 'LAVORO A TEMPO INDETERMINATO'][['ETA', 'CONTRATTO']]\n",
    "df = df.groupby(['ETA']).count()\n",
    "\n",
    "df.plot(kind='bar', legend=False, stacked=False, figsize=(12,3))\n",
    "plt.ylabel('Contratti tempo indeterminato')\n",
    "plt.xlabel('Età diplomati')\n",
    "plt.show()"
   ]
  },
  {
   "cell_type": "markdown",
   "id": "67d04b01",
   "metadata": {},
   "source": [
    "In general we can say that lower is the schooling level, higher is the possibility to get an open-ended contract *after* you are 30 years old. While higher the educational qualification is, higher is the chance to obtain an open-ended contract *before* 30 years old."
   ]
  },
  {
   "cell_type": "code",
   "execution_count": null,
   "id": "46955d2d",
   "metadata": {},
   "outputs": [],
   "source": [
    "grado_istruzione_age[(grado_istruzione_age['EDU_ATTAIN'] == 'NESSUN TITOLO DI STUDIO') & (grado_istruzione_age['TIME_PERIOD'] == 2018)]['OBS_VALUE'].sum()"
   ]
  },
  {
   "cell_type": "code",
   "execution_count": null,
   "id": "48356c15",
   "metadata": {},
   "outputs": [],
   "source": [
    "rap_lavoro_attivati[(rap_lavoro_attivati['TITOLOSTUDIO'] == 'NESSUN TITOLO DI STUDIO') & (rap_lavoro_attivati['DATA'] == 2018)].count()"
   ]
  },
  {
   "cell_type": "code",
   "execution_count": null,
   "id": "f881736f",
   "metadata": {},
   "outputs": [],
   "source": [
    "grado_istruzione_age.head()"
   ]
  },
  {
   "cell_type": "markdown",
   "id": "c3dfd7e9",
   "metadata": {},
   "source": [
    "In the next section we'll see a graph comparing the number of contract activated and the tota number of population in 2018"
   ]
  },
  {
   "cell_type": "code",
   "execution_count": null,
   "id": "e93063e5",
   "metadata": {},
   "outputs": [],
   "source": [
    "import datetime as dt\n",
    "\n",
    "activate2018 = rap_lavoro_attivati[rap_lavoro_attivati['DATA'] == 2018]\n",
    "bins = [0,25, 50, 65, 200]\n",
    "labels = ['Y9-24', 'Y25-49', 'Y50-64','Y_GE65' ]\n",
    "activate2018.loc[:,'agerange'] = pd.cut(activate2018['ETA'], bins, labels = labels,include_lowest = True)\n",
    "\n",
    "\n",
    "\n",
    "istr2018 = grado_istruzione_age[(grado_istruzione_age['TIME_PERIOD']== 2018)]\n",
    "total = istr2018.groupby(['AGE_NOCLASS']).sum()\n",
    "\n",
    "\n",
    "testAge = activate2018['agerange'].value_counts()\n",
    "\n",
    "labels = testAge.index\n",
    "newContract = np.log(testAge.values)\n",
    "totalPopulation = np.log(total['OBS_VALUE'].values)\n",
    "\n",
    "x = np.arange(len(labels))  # the label locations\n",
    "width = 0.35  # the width of the bars\n",
    "\n",
    "fig, ax = plt.subplots()\n",
    "rects1 = ax.bar(x - width/2, newContract, width, label='New Contract')\n",
    "rects2 = ax.bar(x + width/2, totalPopulation, width, label='Total Population')\n",
    "\n",
    "# Add some text for labels, title and custom x-axis tick labels, etc.\n",
    "ax.set_ylabel('log number')\n",
    "ax.set_title('number by attivati vs total number')\n",
    "ax.set_xticks(x)\n",
    "ax.set_xticklabels(labels=labels,rotation=45,\n",
    "    horizontalalignment='right');\n",
    "ax.legend()\n",
    "\n",
    "\n",
    "\n",
    "fig.tight_layout()\n",
    "\n",
    "plt.show()"
   ]
  },
  {
   "cell_type": "markdown",
   "id": "85ef6d60",
   "metadata": {},
   "source": [
    "In the next plots we will see the relevance of the age (exclusively) on the type of contract.  "
   ]
  },
  {
   "cell_type": "code",
   "execution_count": null,
   "id": "c74ee0fb",
   "metadata": {},
   "outputs": [],
   "source": [
    "df = rap_lavoro_attivati[['ETA', 'CONTRATTO']]\n",
    "df = df[df['CONTRATTO'] == 'TIROCINIO']\n",
    "df = df.groupby(['ETA']).count()\n",
    "plt.figure(figsize=(12, 3))\n",
    "plt.xticks(ticks=range(15,66), rotation=90)\n",
    "plt.ylabel('Tirocinio')\n",
    "plt.bar(df.index, df[\"CONTRATTO\"], width=0.4)\n",
    "plt.show()\n",
    "###########################\n",
    "df = rap_lavoro_attivati[['ETA', 'CONTRATTO']]\n",
    "df = df[df['CONTRATTO'] == 'LAVORO A TEMPO INDETERMINATO']\n",
    "df = df.groupby(['ETA']).count()\n",
    "plt.figure(figsize=(12, 3))\n",
    "plt.xticks(ticks=range(15,66), rotation=90)\n",
    "plt.ylabel('Tempo indeterminato')\n",
    "plt.bar(df.index, df[\"CONTRATTO\"], width=0.4)\n",
    "plt.show()\n",
    "###########################\n",
    "df = rap_lavoro_attivati[['ETA', 'CONTRATTO']]\n",
    "df = df[df['CONTRATTO'] == 'LAVORO A TEMPO DETERMINATO']\n",
    "df = df.groupby(['ETA']).count()\n",
    "plt.figure(figsize=(12, 3))\n",
    "plt.xticks(ticks=range(15,66), rotation=90)\n",
    "plt.ylabel('Tempo determinato')\n",
    "plt.bar(df.index, df[\"CONTRATTO\"], width=0.4)\n",
    "plt.show()\n",
    "\n",
    "###########################\n",
    "df = rap_lavoro_attivati[['ETA', 'CONTRATTO']]\n",
    "df = df[df['CONTRATTO'] == 'LAVORO INTERMITTENTE']\n",
    "df = df.groupby(['ETA']).count()\n",
    "plt.figure(figsize=(12, 3))\n",
    "plt.xticks(ticks=range(15,66), rotation=90)\n",
    "plt.ylabel('Lavoro intermittente')\n",
    "plt.bar(df.index, df[\"CONTRATTO\"], width=0.4)\n",
    "plt.show()"
   ]
  },
  {
   "cell_type": "markdown",
   "id": "0100195b",
   "metadata": {},
   "source": [
    "As expected, better job contracts are gained around 30s. Interestingly, internship has two peaks at 19 and 24, that are the ages at which, usually, people finish, respectively, high school and university."
   ]
  },
  {
   "cell_type": "code",
   "execution_count": null,
   "id": "66a86722",
   "metadata": {},
   "outputs": [],
   "source": [
    "#TODO valuta se tenere o eliminare\n",
    "df = rap_lavoro_attivati[['TITOLOSTUDIO', 'CONTRATTO']]\n",
    "df = df[df['CONTRATTO'] == 'LAVORO AUTONOMO NELLO SPETTACOLO']\n",
    "df = df.groupby(['TITOLOSTUDIO']).count()\n",
    "plt.figure(figsize=(12, 3))\n",
    "plt.xticks(rotation=90)\n",
    "plt.ylabel('Lavoro domestico')\n",
    "plt.bar(df.index, df[\"CONTRATTO\"], width=0.4)\n",
    "plt.show()"
   ]
  },
  {
   "cell_type": "code",
   "execution_count": null,
   "id": "1b6bb5a8",
   "metadata": {},
   "outputs": [],
   "source": [
    "set(rap_lavoro_attivati['CONTRATTO'])"
   ]
  },
  {
   "cell_type": "code",
   "execution_count": null,
   "id": "79f4d559",
   "metadata": {},
   "outputs": [],
   "source": [
    "grado_istruzione_age[grado_istruzione_age.REF_AREA == 'Milano'].groupby(['REF_AREA', 'TIME_PERIOD', 'GENDER', 'EDU_ATTAIN', 'AGE_NOCLASS']).sum().head()"
   ]
  },
  {
   "cell_type": "code",
   "execution_count": null,
   "id": "0a10d783",
   "metadata": {
    "scrolled": true
   },
   "outputs": [],
   "source": [
    "series_to_set('REF_AREA', grado_istruzione_age)"
   ]
  },
  {
   "cell_type": "code",
   "execution_count": null,
   "id": "ed2c28d8",
   "metadata": {},
   "outputs": [],
   "source": [
    "condizione_professionale_age = pd.read_csv(PurePath('dataset', 'Condizione professionale per età - Lombardia.csv'),low_memory=False)\n",
    "condizione_professionale_age.head()"
   ]
  },
  {
   "cell_type": "code",
   "execution_count": null,
   "id": "fa73b691",
   "metadata": {},
   "outputs": [],
   "source": [
    "condizione_professionale_age = condizione_professionale_age[['REF_AREA', 'GENDER', 'AGE_NOCLASS', 'CUR_ACT_STAT', 'TIME_PERIOD', 'OBS_VALUE']]\n",
    "condizione_professionale_age.head()"
   ]
  },
  {
   "cell_type": "code",
   "execution_count": null,
   "id": "7ece9f46",
   "metadata": {},
   "outputs": [],
   "source": [
    "condizione_professionale_age = condizione_professionale_age[condizione_professionale_age.REF_AREA.isin(area_codes)]\n",
    "\n",
    "condizione_professionale_age.loc[:, 'REF_AREA'] = condizione_professionale_age['REF_AREA'].apply(lambda x: get_provincia_by_code(x)) \n",
    "condizione_professionale_age.head()"
   ]
  },
  {
   "cell_type": "markdown",
   "id": "5a1fbde3",
   "metadata": {},
   "source": [
    "Regarding the meaning of the values in `CUR_ACT_STAT`:\n",
    "- $22$: labor force;\n",
    " - $1$ : employed;\n",
    " - $12$: unemployed;\n",
    "- $23$: non-labor force.\n",
    "\n",
    "Thus, for our analysis, we can keep the labor force only. "
   ]
  },
  {
   "cell_type": "code",
   "execution_count": null,
   "id": "3586eeb8",
   "metadata": {},
   "outputs": [],
   "source": [
    "condizione_professionale_age = condizione_professionale_age[condizione_professionale_age['CUR_ACT_STAT'] == 22]\n",
    "condizione_professionale_age.head()"
   ]
  },
  {
   "cell_type": "markdown",
   "id": "80495682",
   "metadata": {},
   "source": [
    "For now, we can consider only the overall number and not the age range."
   ]
  },
  {
   "cell_type": "code",
   "execution_count": null,
   "id": "567334c3",
   "metadata": {},
   "outputs": [],
   "source": [
    "condizione_professionale_age = condizione_professionale_age[condizione_professionale_age['AGE_NOCLASS'] == 'Y_GE15']\n",
    "condizione_professionale_age.head()"
   ]
  },
  {
   "cell_type": "code",
   "execution_count": null,
   "id": "ba843a7f",
   "metadata": {},
   "outputs": [],
   "source": [
    "df = condizione_professionale_age[['GENDER', 'TIME_PERIOD', 'OBS_VALUE']].copy()\n",
    "df = df[df['GENDER'] != 'T']\n",
    "df = df.groupby(['GENDER', 'TIME_PERIOD']).sum()\n",
    "df.unstack().plot(kind='pie', subplots=True, autopct='%1.1f%%', startangle=90)"
   ]
  },
  {
   "cell_type": "markdown",
   "id": "5869e25f",
   "metadata": {},
   "source": [
    "The same holds for the `GENDER`, we can consider the total number of people that could potentially work."
   ]
  },
  {
   "cell_type": "code",
   "execution_count": null,
   "id": "4218218f",
   "metadata": {},
   "outputs": [],
   "source": [
    "condizione_professionale_age = condizione_professionale_age[condizione_professionale_age['GENDER'] == 'T']\n",
    "condizione_professionale_age.head()"
   ]
  },
  {
   "cell_type": "code",
   "execution_count": null,
   "id": "64cb99ac",
   "metadata": {},
   "outputs": [],
   "source": [
    "set(condizione_professionale_age['REF_AREA'])"
   ]
  },
  {
   "cell_type": "code",
   "execution_count": null,
   "id": "a04b9ef0",
   "metadata": {},
   "outputs": [],
   "source": [
    "set(rap_lavoro_attivati['PROVINCIAIMPRESA'])"
   ]
  },
  {
   "cell_type": "markdown",
   "id": "247b2f01",
   "metadata": {},
   "source": [
    "<a id='ml_model'></a>\n",
    "# Building a machine learning model\n",
    "In this section we will see three different machine learning algorithm and decide which is the best for our goal.\n",
    "Before creating the traing and test set we must encode the data before feeding it to the algorithm, to do this we will use two approach: the first approach is a simple encoding so for every distinct value of a feature will be assigned a number, the second approach try to assign to each different value of a feature a numeric value with some meaning when possible."
   ]
  },
  {
   "cell_type": "code",
   "execution_count": null,
   "id": "c913ac45",
   "metadata": {},
   "outputs": [],
   "source": [
    "import matplotlib as mtl\n",
    "import matplotlib.pyplot as plt\n",
    "import matplotlib.figure as fig\n",
    "from sklearn.metrics import confusion_matrix, accuracy_score, classification_report\n",
    "from sklearn.neural_network import MLPClassifier\n",
    "from sklearn.model_selection import train_test_split\n",
    "from sklearn.metrics import accuracy_score"
   ]
  },
  {
   "cell_type": "markdown",
   "id": "b14b88e3",
   "metadata": {},
   "source": [
    "<a id='feature_encoding'></a>\n",
    "## Feature encoding"
   ]
  },
  {
   "cell_type": "markdown",
   "id": "31e206f5",
   "metadata": {},
   "source": [
    "The first step is to create a new dataset in which we will apply all the needed changes. Here we will add new columns for every encoding we perform, so in the end this dataset will contain the original value plus the encoded one, this choice has been made to recognize the original value from its encoding."
   ]
  },
  {
   "cell_type": "code",
   "execution_count": null,
   "id": "461ec9b3",
   "metadata": {},
   "outputs": [],
   "source": [
    "model_dt= rap_lavoro_attivati[['DATA', 'GENERE', 'ETA', 'agerange', 'TITOLOSTUDIO', 'CONTRATTO', 'MODALITALAVORO','PROVINCIAIMPRESA','SETTOREECONOMICODETTAGLIO']].copy(deep=True)"
   ]
  },
  {
   "cell_type": "markdown",
   "id": "2dc4f02a",
   "metadata": {},
   "source": [
    "<a id='simp_encoding'></a>\n",
    "### Simple encoding\n",
    "In this case we simply assign a numeric value to each unique value. We convert all field to float except `CONTRATTO` that i converted to int and its values start from zero, this is done to avoid using deprecated method."
   ]
  },
  {
   "cell_type": "code",
   "execution_count": null,
   "id": "3d647003",
   "metadata": {},
   "outputs": [],
   "source": [
    "model_dt['RANKGENERE'] = model_dt['GENERE'].rank(method='dense', ascending=False).astype('float')\n",
    "model_dt['RANKTITOLOSTUDIO'] = model_dt['TITOLOSTUDIO'].rank(method='dense', ascending=False).astype('float')\n",
    "model_dt['RANKMODALITALAVORO'] = model_dt['MODALITALAVORO'].rank(method='dense', ascending=False).astype('float')\n",
    "model_dt['RANKPROVINCIAIMPRESA'] = model_dt['PROVINCIAIMPRESA'].rank(method='dense', ascending=False).astype('float')\n",
    "model_dt['RANKagerange'] = model_dt['agerange'].rank(method='dense', ascending=False).astype('float')\n",
    "model_dt['RANKSETTOREECONOMICODETTAGLIO'] = model_dt['SETTOREECONOMICODETTAGLIO'].rank(method='dense', ascending=False).astype('float')\n",
    "model_dt['RANKCONTRATTO'] = model_dt['CONTRATTO'].rank(method='dense', ascending=False).astype('int')\n",
    "model_dt['RANKCONTRATTO'] = model_dt['RANKCONTRATTO'].sub(1)"
   ]
  },
  {
   "cell_type": "markdown",
   "id": "8d82ded0",
   "metadata": {},
   "source": [
    "<a id='elab_encoding'></a>\n",
    "### Elaborate encoding\n",
    " For this encoding we will assign to the field `RANKPROVINCIAIMPRESA` the number of people that live in that area, for the field `RANKTITOLOSTUDIO` the minimum age necessary to acquire that title and for the fields `RANKSETTOREECONOMICODETTAGLIO` and `RANKMODALITALAVORO` we will substitute a value with its occurences."
   ]
  },
  {
   "cell_type": "markdown",
   "id": "3f361301",
   "metadata": {},
   "source": [
    "#### Province column"
   ]
  },
  {
   "cell_type": "markdown",
   "id": "14635104",
   "metadata": {},
   "source": [
    "For obtainig the number of people we will use the dataset `Grado_istruzione_per_età_Lombardia`, from this dataset we will extrapolate the population for every lombary province during 2019, create a map and apply it to `model_dt`."
   ]
  },
  {
   "cell_type": "code",
   "execution_count": null,
   "id": "5a751759",
   "metadata": {},
   "outputs": [],
   "source": [
    "model_dt.index = range(0,len(model_dt))\n",
    "grado_istruzione_age.loc[:, 'REF_AREA'] = grado_istruzione_age['REF_AREA'].str.upper() \n",
    "to_zip = grado_istruzione_age[['REF_AREA', 'TIME_PERIOD', 'OBS_VALUE']].groupby(['REF_AREA', 'TIME_PERIOD']).sum().copy()\n",
    "province_map = to_zip.to_dict().get('OBS_VALUE')\n",
    "model_dt['MyENPROVINCIAIMPRESA'] = pd.Series(model_dt[['PROVINCIAIMPRESA','DATA']].itertuples(index=False, name=None)).map(province_map)"
   ]
  },
  {
   "cell_type": "markdown",
   "id": "e49a71e7",
   "metadata": {},
   "source": [
    "#### Study title column\n",
    "Here we manually create a dictionary that assign to a study title its minimum age, then apply it to the dataset"
   ]
  },
  {
   "cell_type": "code",
   "execution_count": null,
   "id": "5fc0b804",
   "metadata": {},
   "outputs": [],
   "source": [
    "rank_edu_map = {\n",
    "    'NESSUN TITOLO DI STUDIO':0,\n",
    "    'LICENZA ELEMENTARE':11,\n",
    "    'LICENZA MEDIA':14,\n",
    "    'DIPLOMA DI ISTRUZIONE SECONDARIA SUPERIORE':19,\n",
    "    'LAUREA':22,\n",
    "    'TITOLO DI STUDIO TERZIARIO DI SECONDO LIVELLO O DOTTORATO':24    \n",
    "}\n"
   ]
  },
  {
   "cell_type": "code",
   "execution_count": null,
   "id": "54e62953",
   "metadata": {},
   "outputs": [],
   "source": [
    "model_dt['MyENTITOLOSTUDIO'] = mapping(model_dt['TITOLOSTUDIO'], rank_edu_map)"
   ]
  },
  {
   "cell_type": "markdown",
   "id": "43c274fc",
   "metadata": {},
   "source": [
    "####  Economic sector and work modality columns\n",
    "For these two columns we simply count the ocurrence and substittue them to the correct value"
   ]
  },
  {
   "cell_type": "code",
   "execution_count": null,
   "id": "bc7dea4f",
   "metadata": {},
   "outputs": [],
   "source": [
    "model_dt['MyENMODALITALAVORO'] = mapping(model_dt['MODALITALAVORO'], dict(model_dt['MODALITALAVORO'].value_counts()))\n",
    "model_dt['MyENSETTOREECONOMICODETTAGLIO'] =  mapping(model_dt['SETTOREECONOMICODETTAGLIO'], dict(model_dt['SETTOREECONOMICODETTAGLIO'].value_counts()))"
   ]
  },
  {
   "cell_type": "markdown",
   "id": "48e003e7",
   "metadata": {},
   "source": [
    "The remaining columns will use the previous encoding because age group and gender do not need to preserve information."
   ]
  },
  {
   "cell_type": "markdown",
   "id": "4097f87c",
   "metadata": {},
   "source": [
    "<a id='models_trainig'></a>\n",
    "# Training the models\n",
    "In this section we divide our data into training and testing data through the specific function and take a first look at the model performances.This work will be repeated for the two different encoding."
   ]
  },
  {
   "cell_type": "code",
   "execution_count": null,
   "id": "85edaf09",
   "metadata": {},
   "outputs": [],
   "source": [
    "X = model_dt[['RANKGENERE', 'RANKTITOLOSTUDIO', 'RANKagerange', 'RANKPROVINCIAIMPRESA','RANKSETTOREECONOMICODETTAGLIO', 'RANKMODALITALAVORO']]\n",
    "y = model_dt['RANKCONTRATTO']\n",
    "X_train, X_test, y_train, y_test = train_test_split(X, y, random_state=100)"
   ]
  },
  {
   "cell_type": "markdown",
   "id": "da99f5b3",
   "metadata": {},
   "source": [
    "## Simple encoding"
   ]
  },
  {
   "cell_type": "markdown",
   "id": "f5d8fea6",
   "metadata": {},
   "source": [
    "### Multi layer perceptron"
   ]
  },
  {
   "cell_type": "code",
   "execution_count": null,
   "id": "b58f7112",
   "metadata": {},
   "outputs": [],
   "source": [
    "mlpSimpModel = MLPClassifier(random_state=1, max_iter=20, hidden_layer_sizes=(24,24), early_stopping = True)\n",
    "mlpSimpModel = mlpSimpModel.fit(X_train, y_train)\n",
    "\n",
    "#prediction and probability\n",
    "mlpSimpPred = mlpSimpModel.predict(X_test)\n",
    "mlp_proba = mlpSimpModel.predict_proba(X_test)\n",
    "\n",
    "#Report metrix\n",
    "simpReportMLP = classification_report(y_test, mlpSimpPred,output_dict= True, zero_division=0)\n",
    "accMlp = accuracy_score(y_test, mlpSimpPred)\n",
    "print('Accuracy:')\n",
    "print(accMlp)"
   ]
  },
  {
   "cell_type": "markdown",
   "id": "48ffa21a",
   "metadata": {},
   "source": [
    "### Random forest"
   ]
  },
  {
   "cell_type": "code",
   "execution_count": null,
   "id": "c419fa8b",
   "metadata": {},
   "outputs": [],
   "source": [
    "from sklearn.ensemble import RandomForestClassifier\n",
    "\n",
    "simpForest = RandomForestClassifier(n_estimators=24, max_depth=6, random_state=0,max_features = None,n_jobs = -1)\n",
    "simpForest.fit(X_train, y_train)\n",
    "    \n",
    "forestSimpPred = simpForest.predict(X_test)\n",
    "reportSimpForest = classification_report(y_test, forestSimpPred,output_dict= True)\n",
    "\n",
    "score = simpForest.score(X_test, y_test)\n",
    "\n",
    "print(\"Score: \", round(score*100, 3))"
   ]
  },
  {
   "cell_type": "markdown",
   "id": "f7b3d3e4",
   "metadata": {},
   "source": [
    "### XGboost"
   ]
  },
  {
   "cell_type": "code",
   "execution_count": null,
   "id": "173a0d64",
   "metadata": {},
   "outputs": [],
   "source": [
    "# import warnings filter\n",
    "from warnings import simplefilter\n",
    "# ignore all future warnings\n",
    "simplefilter(action='ignore', category=FutureWarning)\n",
    "\n",
    "import xgboost as xgb\n",
    "\n",
    "xgSimp = xgb.XGBClassifier(learning_rate = 0.3,\n",
    "                max_depth =4, alpha = 2, n_estimators = 35, eval_metric='mlogloss',use_label_encoder=False)\n",
    "#Fit the model\n",
    "xgSimp.fit(X_train,y_train)\n",
    "#xg_reg.save_model(\"categorical-model.json\")\n",
    "\n",
    "#Make predictions\n",
    "xgSimpPred = xgSimp.predict(X_test)\n",
    "xgSimpReport = classification_report(y_test, xgSimpPred,output_dict= True)"
   ]
  },
  {
   "cell_type": "code",
   "execution_count": null,
   "id": "29fe7737",
   "metadata": {},
   "outputs": [],
   "source": [
    "accuracy_score(y_test, xgSimpPred)"
   ]
  },
  {
   "cell_type": "markdown",
   "id": "b80ab546",
   "metadata": {},
   "source": [
    "## Elaborate encoding"
   ]
  },
  {
   "cell_type": "code",
   "execution_count": null,
   "id": "18fbc027",
   "metadata": {},
   "outputs": [],
   "source": [
    "X = model_dt[['RANKGENERE', 'MyENTITOLOSTUDIO', 'ETA', 'MyENPROVINCIAIMPRESA','MyENSETTOREECONOMICODETTAGLIO', 'MyENMODALITALAVORO']]\n",
    "y = model_dt['RANKCONTRATTO']\n",
    "X_train, X_test, y_train, y_test = train_test_split(X, y, random_state=100)"
   ]
  },
  {
   "cell_type": "markdown",
   "id": "d394bdff",
   "metadata": {},
   "source": [
    "### Multi Layer Perceptron"
   ]
  },
  {
   "cell_type": "code",
   "execution_count": null,
   "id": "6934bdc1",
   "metadata": {},
   "outputs": [],
   "source": [
    "mlpModel = MLPClassifier(random_state=1, max_iter=20, hidden_layer_sizes=(24,24), early_stopping = True)\n",
    "mlpModel = mlpModel.fit(X_train, y_train)\n",
    "\n",
    "#prediction and probability\n",
    "mlp_pred = mlpModel.predict(X_test)\n",
    "mlp_proba = mlpModel.predict_proba(X_test)\n",
    "\n",
    "#Report metrix\n",
    "reportMLP = classification_report(y_test, mlp_pred,output_dict= True, zero_division=0)\n",
    "accMlp = accuracy_score(y_test, mlp_pred)\n",
    "print('Accuracy:')\n",
    "print(accMlp)"
   ]
  },
  {
   "cell_type": "markdown",
   "id": "2bf38f8d",
   "metadata": {},
   "source": [
    "### Random Forest\n"
   ]
  },
  {
   "cell_type": "code",
   "execution_count": null,
   "id": "dd8687cc",
   "metadata": {},
   "outputs": [],
   "source": [
    "from sklearn.ensemble import RandomForestClassifier\n",
    "\n",
    "model = RandomForestClassifier(n_estimators=15, max_depth=5, random_state=0,max_features = None,n_jobs = -1)\n",
    "model.fit(X_train, y_train)\n",
    "# TODO: score your model on your test set\n",
    "\n",
    "forestPred = model.predict(X_test)\n",
    "reportForest = classification_report(y_test, forestPred,output_dict= True, zero_division=0)\n",
    "score = model.score(X_test, y_test)"
   ]
  },
  {
   "cell_type": "code",
   "execution_count": null,
   "id": "beecb618",
   "metadata": {},
   "outputs": [],
   "source": [
    "print('Accuracy:')\n",
    "print(score)"
   ]
  },
  {
   "cell_type": "markdown",
   "id": "4ebd0355",
   "metadata": {},
   "source": [
    "### XGboost"
   ]
  },
  {
   "cell_type": "code",
   "execution_count": null,
   "id": "6995b7dd",
   "metadata": {},
   "outputs": [],
   "source": [
    "import xgboost as xgb\n",
    "xg_class = xgb.XGBClassifier(learning_rate = 0.3,\n",
    "                max_depth =4, alpha = 2, n_estimators = 35, eval_metric='mlogloss',use_label_encoder =False)\n",
    "#Fit the model\n",
    "xg_class.fit(X_train,y_train)\n",
    "#xg_reg.save_model(\"categorical-model.json\")\n",
    "\n",
    "#Make predictions\n",
    "preds = xg_class.predict(X_test)\n",
    "\n",
    "xbreport = classification_report(y_test, preds,output_dict= True)"
   ]
  },
  {
   "cell_type": "code",
   "execution_count": null,
   "id": "f5c50ecd",
   "metadata": {},
   "outputs": [],
   "source": [
    "print('Accuracy:')\n",
    "print(accuracy_score(y_test, preds))"
   ]
  },
  {
   "cell_type": "markdown",
   "id": "5b000d6d",
   "metadata": {},
   "source": [
    "## Model Evaluation"
   ]
  },
  {
   "cell_type": "markdown",
   "id": "c5309b84",
   "metadata": {},
   "source": [
    "### Accuracy Comparison"
   ]
  },
  {
   "cell_type": "code",
   "execution_count": null,
   "id": "7cce286e",
   "metadata": {},
   "outputs": [],
   "source": [
    "modelsAccuracy =[simpReportMLP['accuracy'],\n",
    "reportSimpForest['accuracy'],\n",
    "xgSimpReport['accuracy'],\n",
    "reportMLP['accuracy'],\n",
    "reportForest['accuracy'],\n",
    "xbreport['accuracy']]\n",
    "\n",
    "modelName = ['simple MLP', 'simple Forest', 'simple xgboost', 'mlp', 'Forest', 'xgboost']\n",
    "\n",
    "\n",
    "x = np.arange(len(modelName))\n",
    "width = 0.35\n",
    "\n",
    "accuracyGraph, axis = plt.subplots()\n",
    "accuracyGraph.dpi = 100\n",
    "accuracyGraph.set_figheight(8)\n",
    "bars = axis.bar(x - width/2, modelsAccuracy, width)\n",
    "\n",
    "axis.bar_label(bars, padding=3)\n",
    "\n",
    "#Precison red an white wine graph\n",
    "axis.bar(modelName,modelsAccuracy, label ='Accuracy', color= 'cornflowerblue')\n",
    "axis.legend(loc = 'upper left')\n",
    "axis.set_title(\"Accuracy Comparison\")\n",
    "axis.set_xticks(x)\n",
    "axis.set_xticklabels(labels=modelName,rotation=45,horizontalalignment='right');\n",
    "axis.set( ylabel='Accuracy')\n",
    "axis.get_legend().remove()\n",
    "\n",
    "plt.show()"
   ]
  },
  {
   "cell_type": "markdown",
   "id": "8bb0cc80",
   "metadata": {},
   "source": [
    "As is possible to see from the graph the accuracy is almost the same with the exeption of the multi layer perceptron with the custom encoding, this could be caused by the fact that for these type of models is easier to work with small data or the other encoding create false relation assigning the same value for different feature."
   ]
  },
  {
   "cell_type": "markdown",
   "id": "28d985f5",
   "metadata": {},
   "source": [
    "### Precision Comparison\n",
    "Because the accuracy alone is not enough to evaluate a model, we now see the precision that is the correctly classified sample divided by the sum of true and false positive. Considering these to metric together is possible to better analyze the performace of the different models."
   ]
  },
  {
   "cell_type": "code",
   "execution_count": null,
   "id": "81063220",
   "metadata": {},
   "outputs": [],
   "source": [
    "modelsPrecision =[simpReportMLP['macro avg']['precision'],\n",
    "reportSimpForest['macro avg']['precision'],\n",
    "xgSimpReport['macro avg']['precision'],\n",
    "reportMLP['macro avg']['precision'],\n",
    "reportForest['macro avg']['precision'],\n",
    "xbreport['macro avg']['precision']]\n",
    "\n",
    "x = np.arange(len(modelName))\n",
    "width = 0.35\n",
    "\n",
    "precisonGraph, axis = plt.subplots()\n",
    "precisonGraph.dpi = 100\n",
    "precisonGraph.set_figheight(8)\n",
    "rects1 = axis.bar(x - width/2, modelsPrecision, width)\n",
    "\n",
    "axis.bar_label(rects1, padding=3)\n",
    "\n",
    "#Precison red an white wine graph\n",
    "axis.bar(modelName,modelsPrecision, label='Precison')\n",
    "axis.legend(loc = 'upper left')\n",
    "axis.get_legend().remove()\n",
    "axis.set_title(\"Precison Comparison\")\n",
    "axis.set_xticks(x)\n",
    "axis.set_xticklabels(labels=modelName,rotation=45,horizontalalignment='right');\n",
    "axis.set( ylabel='Precision')\n",
    "plt.show()"
   ]
  },
  {
   "cell_type": "markdown",
   "id": "31736827",
   "metadata": {},
   "source": [
    "From this comparison is clear that XGboost have the better performance and that there are some problem with multi layer perceptron with custom encoding, wwhile the models that use random forest have similar performance.\n",
    "As said previously there is the possibility that the low varince of value in the simple encoding cause the multi layer perceptron to make wrong assumption on the relation between feature bringing to better result when compared to the model that uses our encoding.\n",
    "\n",
    "Because the difference between the two models that uses XGboost is minimal, for bulding an example of application we will use the one with the custom encoding."
   ]
  },
  {
   "cell_type": "markdown",
   "id": "fd05c998",
   "metadata": {},
   "source": [
    "<a id='model_usage'></a>\n",
    "## Possible application\n",
    "In the following part is shown how the tained model can be used to predict a type of contract when given all the necessary information.\n",
    "Here we feed the data directly in the code, but in more realistic scenario hte model could be implemented in the backend of a site and a user from the front end could choose the parameter through, for example, a drop downm list; doing so would simplify the choice for the user and prevent spelling error."
   ]
  },
  {
   "cell_type": "code",
   "execution_count": null,
   "id": "f96004e2",
   "metadata": {},
   "outputs": [],
   "source": [
    "contrattoMap=dict(zip(model_dt.RANKCONTRATTO, model_dt.CONTRATTO))\n",
    "modlavoroMap=dict(zip(model_dt.MODALITALAVORO, model_dt.MyENMODALITALAVORO))\n",
    "settoreEcoMap=dict(zip(model_dt.SETTOREECONOMICODETTAGLIO, model_dt.MyENSETTOREECONOMICODETTAGLIO))\n",
    "provinciaMap=dict(zip(model_dt.PROVINCIAIMPRESA, model_dt.MyENPROVINCIAIMPRESA))\n",
    "agerangeMap=dict(zip(model_dt.agerange, model_dt.RANKagerange))\n",
    "titoloStudioMap=dict(zip(model_dt.TITOLOSTUDIO, model_dt.MyENTITOLOSTUDIO))\n",
    "genereMap=dict(zip(model_dt.GENERE, model_dt.RANKGENERE))"
   ]
  },
  {
   "cell_type": "code",
   "execution_count": null,
   "id": "259ee61b",
   "metadata": {},
   "outputs": [],
   "source": [
    "def findContract(genere, studyTitle,age,provincia,settoreEco,modLavoro):\n",
    "    myJob = { \n",
    "    'RANKGENERE': [genereMap[genere]],\n",
    "    'MyENTITOLOSTUDIO': [titoloStudioMap[studyTitle]],\n",
    "    'ETA':[age],\n",
    "    'MyENPROVINCIAIMPRESA':[provinciaMap[provincia]],\n",
    "    'MyENSETTOREECONOMICODETTAGLIO':[settoreEcoMap[settoreEco]],\n",
    "    'MyENMODALITALAVORO':[modlavoroMap[modLavoro]]};\n",
    "    contract = contrattoMap[xg_class.predict(pd.DataFrame(myJob))[0]]\n",
    "    return contract"
   ]
  },
  {
   "cell_type": "markdown",
   "id": "b04644c5",
   "metadata": {},
   "source": [
    "### Testing the method"
   ]
  },
  {
   "cell_type": "code",
   "execution_count": null,
   "id": "8c9673e7",
   "metadata": {},
   "outputs": [],
   "source": [
    "findContract('M','DIPLOMA DI ISTRUZIONE SECONDARIA SUPERIORE', 18, 'BERGAMO', 'I', 'TEMPO PIENO')"
   ]
  },
  {
   "cell_type": "markdown",
   "id": "c1a9b46e",
   "metadata": {},
   "source": [
    "# Conclusion\n",
    "In this project we have seen how data is imported analyzed and clened. Then we created a question based on the data that we had, and tried to answer that question building a machine learnig model.\n",
    "\n",
    "Because of the categorical nature of the data used, we needed to encode it before feeding it to the machine learning algorithm, so we implemented two different encoding to see if a simple encoding will perform better than a custom encoding in which we tried to give meaningful value to the feature.\n",
    "\n",
    "After trainig, testing and evaluating differnt algorithm we discover that the simple encodig performs better than the custom one in most cases but is possible that create false connection between feature.\n",
    "\n",
    "In the end we implement an exaple of application that use the model trained for answering the previously created question."
   ]
  }
 ],
 "metadata": {
  "kernelspec": {
   "display_name": "Python 3 (ipykernel)",
   "language": "python",
   "name": "python3"
  },
  "language_info": {
   "codemirror_mode": {
    "name": "ipython",
    "version": 3
   },
   "file_extension": ".py",
   "mimetype": "text/x-python",
   "name": "python",
   "nbconvert_exporter": "python",
   "pygments_lexer": "ipython3",
   "version": "3.10.5"
  }
 },
 "nbformat": 4,
 "nbformat_minor": 5
}
